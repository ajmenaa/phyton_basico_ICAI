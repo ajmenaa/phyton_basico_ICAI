{
    "cells": [
        {
            "attachments": {},
            "cell_type": "markdown",
            "metadata": {
                "azdata_cell_guid": "e8712c6a-c36f-49fc-b66e-364ea0ddb912"
            },
            "source": [
                "### 1. Realizar un programa que conste de una clase llamada Alumno que tenga como atributos:\n",
                "- nombre del alumno\n",
                "- nota del alumno \n",
                "\n",
                "pedir estos atributos por la entrada estándar, definir los métodos:\n",
                "- constructor\n",
                "- imprimir un mensaje con el resultado de la nota y se ha aprobado o no.\n"
            ]
        },
        {
            "cell_type": "code",
            "execution_count": 1,
            "metadata": {
                "azdata_cell_guid": "d9f2b981-f17f-4809-ac06-54b76021d934",
                "language": "python",
                "tags": [
                    "hide_input"
                ]
            },
            "outputs": [
                {
                    "name": "stdout",
                    "output_type": "stream",
                    "text": [
                        "----------------------\n",
                        "Alumno:  Karol\n",
                        "Nota: 90\n",
                        "El alumno ha aprobado\n",
                        "\n",
                        "----------------------\n",
                        "Alumno: Juan\n",
                        "Nota: 4\n",
                        "El alumno ha reprobado\n",
                        "\n"
                    ]
                }
            ],
            "source": [
                "class Alumno:\n",
                "    def __init__(self):\n",
                "        self.nombre = input(\"Introduce nombre del alumno: \")\n",
                "        self.nota = int(input(\"Introduce nota del alumno: \"))\n",
                "\n",
                "    def imprimir(self):\n",
                "        print(\"-\"*len(\"El alumno ha reprobado\")) # Estetica\n",
                "        print(\"Alumno:\", self.nombre)\n",
                "        print(\"Nota:\", self.nota)\n",
                "        if self.nota < 5:\n",
                "            print(\"El alumno ha reprobado\")\n",
                "        else:\n",
                "            print(\"El alumno ha aprobado\")\n",
                "        print()\n",
                "\n",
                "alumno1 = Alumno()\n",
                "alumno2 = Alumno()\n",
                "\n",
                "alumno1.imprimir()\n",
                "alumno2.imprimir()"
            ]
        },
        {
            "attachments": {},
            "cell_type": "markdown",
            "metadata": {
                "azdata_cell_guid": "4bdcbc60-f2b7-404b-83ba-469015b1ba04",
                "language": "python"
            },
            "source": [
                "### 2. Crear una clase Producto con los siguientes atributos:\n",
                "- código\n",
                "- nombre\n",
                "- precio\n",
                "\n",
                "Crear, su constructor, getter y setter y con la siguiente funcionalidad:  \n",
                "- calcular_total  \n",
                "donde le pasaremos unas unidades y nos debe calcular el precio final."
            ]
        },
        {
            "cell_type": "code",
            "execution_count": 5,
            "metadata": {
                "azdata_cell_guid": "39c35cc3-3a6a-4a92-b436-88a96f4bcd7a",
                "language": "python"
            },
            "outputs": [
                {
                    "name": "stdout",
                    "output_type": "stream",
                    "text": [
                        "Retorno Código: 3, nombre: Producto 3, precio: 20\n",
                        "Retorno Código: 1, nombre: Producto 1, precio: 500, total con 10 unidades: 5000\n",
                        "Retorno Código: 2, nombre: Producto 2, precio: 10, total con 10 unidades: 100\n",
                        "Retorno Código: 3, nombre: Producto 3, precio: 20, total con 10 unidades: 200\n"
                    ]
                }
            ],
            "source": [
                "class Producto:\n",
                "    def __init__(self, codigo, nombre, precio):\n",
                "        self.__codigo = codigo\n",
                "        self.__nombre = nombre \n",
                "        self.__precio = precio\n",
                "\n",
                "    @property\n",
                "    def codigo(self):\n",
                "        return self.__codigo\n",
                "    @codigo.setter\n",
                "    def codigo(self, valor):\n",
                "        self.__codigo = valor\n",
                "\n",
                "    @property\n",
                "    def nombre(self):\n",
                "        return self.__nombre\n",
                "    @nombre.setter\n",
                "    def nombre(self, valor):\n",
                "        self.__nombre = valor\n",
                "\n",
                "    @property\n",
                "    def precio(self):\n",
                "        return self.__precio\n",
                "    @precio.setter\n",
                "    def precio(self, valor):\n",
                "        self.__precio = valor\n",
                "    \n",
                "    def __str__(self):\n",
                "        return 'Retorno Código: ' + str(self.__codigo) + ', nombre: ' + self.__nombre + ', precio: ' +str(self.__precio)\n",
                "\n",
                "    def calcular_total(self, unidades):\n",
                "        return self.__precio * unidades\n",
                "\n",
                "p1 = Producto(1, \"Producto 1\", 500)\n",
                "p2 = Producto(2, \"Producto 2\", 10)\n",
                "p3 = Producto(3, \"Producto 3\", 20)\n",
                "\n",
                "print(p3)\n",
                "for producto in (p1, p2, p3.):\n",
                "    print(producto, end=\", total con 10 unidades: \")\n",
                "    print(producto.calcular_total(10))\n",
                "    "
            ]
        },
        {
            "attachments": {},
            "cell_type": "markdown",
            "metadata": {
                "azdata_cell_guid": "471fe8a1-5540-48d2-848a-0058fd781b88",
                "language": "python"
            },
            "source": [
                "### 3. Añadir una clase pedido que tiene como atributos:\n",
                "- lista de precio\n",
                "- lista de cantidades  \n",
                "\n",
                "Añade las siguientes funcionalidades:\n",
                "- total_pedido: muestra el precio final del pedido\n",
                "- mostrar_producto: muestra los productos del pedido\n"
            ]
        },
        {
            "cell_type": "code",
            "execution_count": 13,
            "metadata": {
                "azdata_cell_guid": "9ca369cd-7479-4574-bf1f-58e1770efd74",
                "language": "python",
                "tags": []
            },
            "outputs": [
                {
                    "name": "stdout",
                    "output_type": "stream",
                    "text": [
                        "Total pedidos 220\n",
                        "Producto -> ( Producto 1 , Cantidad: 2 )\n",
                        "Producto -> ( Producto 1 , Cantidad: 10 )\n",
                        "Producto -> ( Producto 1 , Cantidad: 4 )\n",
                        "None\n"
                    ]
                }
            ],
            "source": [
                "class Pedido:\n",
                "    def __init__(self, productos, cantidades):\n",
                "        self.__productos = productos\n",
                "        self.__cantidades = cantidades\n",
                "    \n",
                "    def total_pedido(self):\n",
                "        total = 0\n",
                "        for (p, c) in zip(self.__productos, self.__cantidades):\n",
                "            total = total +p.calcular_total(c)\n",
                "        return total\n",
                "\n",
                "    def mostrar_pedido(self):\n",
                "        for (p, c) in zip(self.__productos, self.__cantidades):\n",
                "            print('Producto -> (', p.nombre, ', Cantidad:', str(c), ')')\n",
                "\n",
                "p1 = Producto(1, 'Producto 1', 5)\n",
                "p2 = Producto(2, 'Producto 1', 13)\n",
                "p3 = Producto(3, 'Producto 1', 20)\n",
                "\n",
                "productos = [p1, p2, p3]\n",
                "cantidades = [2, 10, 4]\n",
                "\n",
                "pedido = Pedido(productos, cantidades)\n",
                "print('Total pedidos', str(pedido.total_pedido()))\n",
                "print(pedido.mostrar_pedido())"
            ]
        }
    ],
    "metadata": {
        "kernelspec": {
            "display_name": "Python 3 (ipykernel)",
            "language": "python",
            "name": "python3"
        },
        "language_info": {
            "codemirror_mode": {
                "name": "ipython",
                "version": 3
            },
            "file_extension": ".py",
            "mimetype": "text/x-python",
            "name": "python",
            "nbconvert_exporter": "python",
            "pygments_lexer": "ipython3",
            "version": "3.12.2"
        }
    },
    "nbformat": 4,
    "nbformat_minor": 2
}
