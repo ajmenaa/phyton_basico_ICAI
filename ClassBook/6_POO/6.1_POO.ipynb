{
 "cells": [
  {
   "cell_type": "markdown",
   "metadata": {},
   "source": [
    "# Python 3: Programación Orientada a Objetos\n",
    "# 1. <font color=blue> Introducción </font>\n",
    "\n",
    "- En Python todo lo que se declara es un objeto.\n",
    "- El lenguaje tiene definidos objetos en su bibloteca estándar.\n",
    "- Los mayoría de las bibliotecas que componen el ecosistema de Python también definen objetos.\n",
    "\n",
    "#### Algunos ejemplos:"
   ]
  },
  {
   "cell_type": "code",
   "execution_count": 1,
   "metadata": {},
   "outputs": [
    {
     "data": {
      "text/plain": [
       "int"
      ]
     },
     "execution_count": 1,
     "metadata": {},
     "output_type": "execute_result"
    }
   ],
   "source": [
    "x = 25\n",
    "type(x)"
   ]
  },
  {
   "cell_type": "code",
   "execution_count": 2,
   "metadata": {},
   "outputs": [
    {
     "name": "stdout",
     "output_type": "stream",
     "text": [
      "<class 'int'>\n"
     ]
    }
   ],
   "source": [
    "print(type(x))"
   ]
  },
  {
   "cell_type": "code",
   "execution_count": 3,
   "metadata": {},
   "outputs": [
    {
     "name": "stdout",
     "output_type": "stream",
     "text": [
      "<class 'list'>\n"
     ]
    }
   ],
   "source": [
    "lista = ['a','b','c','d','e']\n",
    "print(type(lista))"
   ]
  },
  {
   "cell_type": "code",
   "execution_count": 5,
   "metadata": {},
   "outputs": [
    {
     "name": "stdout",
     "output_type": "stream",
     "text": [
      "1713572686.1309469\n",
      "<class 'float'>\n"
     ]
    }
   ],
   "source": [
    "import time\n",
    "\n",
    "clock = time.time()\n",
    "print(clock)\n",
    "print(type(clock))"
   ]
  },
  {
   "cell_type": "code",
   "execution_count": 7,
   "metadata": {},
   "outputs": [
    {
     "name": "stdout",
     "output_type": "stream",
     "text": [
      "['a', 'b', 'c', 'd', 'e']\n"
     ]
    },
    {
     "data": {
      "text/plain": [
       "'e'"
      ]
     },
     "execution_count": 7,
     "metadata": {},
     "output_type": "execute_result"
    }
   ],
   "source": [
    "print(lista)\n",
    "\n",
    "lista.pop()# método"
   ]
  },
  {
   "cell_type": "code",
   "execution_count": 8,
   "metadata": {},
   "outputs": [
    {
     "name": "stdout",
     "output_type": "stream",
     "text": [
      "['a', 'b', 'c', 'd']\n"
     ]
    }
   ],
   "source": [
    "print(lista)"
   ]
  },
  {
   "cell_type": "code",
   "execution_count": 11,
   "metadata": {},
   "outputs": [
    {
     "name": "stdout",
     "output_type": "stream",
     "text": [
      "1713573173.4593675\n",
      "time.struct_time(tm_year=2024, tm_mon=4, tm_mday=19, tm_hour=18, tm_min=32, tm_sec=53, tm_wday=4, tm_yday=110, tm_isdst=0)\n",
      "Año: 2024\n",
      "Mes: 4\n",
      "Día: 19\n",
      "Hora: 18\n"
     ]
    }
   ],
   "source": [
    "tiempo_actual = time.time()\n",
    "tiempo_local = time.localtime(tiempo_actual)\n",
    "\n",
    "print(tiempo_actual)\n",
    "print(tiempo_local)\n",
    "\n",
    "print(f'Año: {tiempo_local.tm_year}' )\n",
    "print(f'Mes: {tiempo_local.tm_mon}' )\n",
    "print(f'Día: {tiempo_local.tm_mday}' )\n",
    "print(f'Hora: {tiempo_local.tm_hour}' )"
   ]
  },
  {
   "cell_type": "markdown",
   "metadata": {},
   "source": []
  }
 ],
 "metadata": {
  "kernelspec": {
   "display_name": "Python 3",
   "language": "python",
   "name": "python3"
  },
  "language_info": {
   "codemirror_mode": {
    "name": "ipython",
    "version": 3
   },
   "file_extension": ".py",
   "mimetype": "text/x-python",
   "name": "python",
   "nbconvert_exporter": "python",
   "pygments_lexer": "ipython3",
   "version": "3.12.2"
  }
 },
 "nbformat": 4,
 "nbformat_minor": 2
}
