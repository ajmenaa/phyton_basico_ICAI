{
  "cells": [
    {
      "cell_type": "markdown",
      "metadata": {
        "id": "yob8kLEZeUzF"
      },
      "source": [
        "# Booleanos, Condiciones, Bucles, Operadores Lógicos y Relacionales\n",
        "\n",
        "## Introducción\n",
        "Este notebook presenta una introducción a los conceptos básicos de programación en Python, incluyendo:\n",
        "\n",
        "- **Valores Booleanos: True (1)** y False (0) representan valores lógicos.\n",
        "- **Operadores Lógicos:** Combinan expresiones booleanas (and, or, not).\n",
        "- **Condiciones:** Ejecutan bloques de código en base a condiciones booleanas (if, elif, else).\n",
        "- **Bucles while:** Repiten un bloque de código hasta que una condición sea False.\n",
        "- **Bucles for:** Recorren elementos de una colección (cadenas, listas, tuplas, diccionarios)."
      ]
    },
    {
      "cell_type": "markdown",
      "metadata": {
        "id": "RAI_91MmQRmr"
      },
      "source": [
        "## Valores Booleanos"
      ]
    },
    {
      "cell_type": "code",
      "execution_count": 1,
      "metadata": {
        "id": "GuuJ9NWeOkUG"
      },
      "outputs": [
        {
          "name": "stdout",
          "output_type": "stream",
          "text": [
            "Valor: False Tipo: <class 'bool'>\n"
          ]
        }
      ],
      "source": [
        "activo = False\n",
        "print('Valor:',activo,'Tipo:', type(activo)) #Imprime valor y tipo"
      ]
    },
    {
      "cell_type": "markdown",
      "metadata": {
        "id": "fpNOPzW-QWxF"
      },
      "source": [
        "## Operadores Relacionales"
      ]
    },
    {
      "cell_type": "code",
      "execution_count": 2,
      "metadata": {
        "id": "Lgxq4Sq9QaWm"
      },
      "outputs": [
        {
          "name": "stdout",
          "output_type": "stream",
          "text": [
            "True\n",
            "<class 'bool'>\n"
          ]
        }
      ],
      "source": [
        "numero_uno = 10\n",
        "numero_dos = 20\n",
        "\n",
        "resultado = numero_uno != numero_dos\n",
        "print(resultado)\n",
        "print(type(resultado))"
      ]
    },
    {
      "cell_type": "markdown",
      "metadata": {
        "id": "URl1u4IGQdS6"
      },
      "source": [
        "* Se definen dos variables numero_uno y numero_dos.\n",
        "* Se utiliza el operador relacional != (diferente) para comparar los valores.\n",
        "resultado almacena el resultado de la comparación (True en este caso).\n",
        "* Se muestra el valor y tipo de resultado: True y bool, respectivamente.\n",
        "\n",
        "|Operador|Resultado Booleano|\n",
        "|:----|:----|\n",
        "|>|Mayor|\n",
        "|<|Menor|\n",
        "|>=|Mayor o igual|\n",
        "|<=|Menor o igual|\n",
        "|==|Igual|\n",
        "|!=|Diferente|\n"
      ]
    },
    {
      "cell_type": "markdown",
      "metadata": {
        "id": "OkVK4dQEP65Z"
      },
      "source": [
        "## Operadores Lógicos"
      ]
    },
    {
      "cell_type": "code",
      "execution_count": 3,
      "metadata": {
        "id": "Ez0euKqWPF_p"
      },
      "outputs": [
        {
          "name": "stdout",
          "output_type": "stream",
          "text": [
            "False\n",
            "True\n",
            "True\n"
          ]
        }
      ],
      "source": [
        "# AND\n",
        "numero_uno = 10\n",
        "numero_dos = 20\n",
        "resultado = numero_uno > numero_dos and False\n",
        "print(resultado)\n",
        "\n",
        "# OR\n",
        "resultado = False or False or True\n",
        "print(resultado)\n",
        "\n",
        "# NOT\n",
        "numero_dos = 20\n",
        "resultado = not True\n",
        "resultado = not (numero_dos > 50)\n",
        "print(resultado)"
      ]
    },
    {
      "cell_type": "markdown",
      "metadata": {
        "id": "6KHc2nZePb-d"
      },
      "source": [
        "- **AND (y)**: Devuelve True solo si ambas expresiones son True.\n",
        "numero_uno > numero_dos es False, por lo que el resultado final es False.\n",
        "- **OR (o)**: Devuelve True si al menos una expresión es True.\n",
        "Todas las expresiones son False excepto la última, por lo que el resultado final es True.\n",
        "- **NOT (no)**: Invierte el valor de la expresión.\n",
        "not True es False.\n",
        "not (numero_dos > 50) es True porque la expresión original (numero_dos > 50) es False."
      ]
    },
    {
      "cell_type": "markdown",
      "metadata": {
        "id": "RGZoeMuuPsX-"
      },
      "source": [
        "## Condiciones"
      ]
    },
    {
      "cell_type": "code",
      "execution_count": 4,
      "metadata": {
        "id": "dCvNAQMoPvYz"
      },
      "outputs": [
        {
          "name": "stdout",
          "output_type": "stream",
          "text": [
            "Eres mayor edad\n",
            "<class 'str'>\n",
            "<class 'float'>\n",
            "Eres mayor edad\n",
            "Eres mayor edad\n"
          ]
        }
      ],
      "source": [
        "# Condición simple\n",
        "if True: #Valor Booleano\n",
        "    print('Eres mayor edad')\n",
        "6\n",
        "# Condición con variable\n",
        "edad = 15\n",
        "if edad >= 18:\n",
        "    print('Eres mayor edad')\n",
        "\n",
        "# Condición con input (entrada de usuario)\n",
        "edad = input(\"Ingresa tu edad: \") #Input retorna un String por defecto\n",
        "print(type(edad))\n",
        "edad = float(edad) #Conversión de String a Float\n",
        "print(type(edad))\n",
        "\n",
        "if edad >= 18:\n",
        "    print('Eres mayor edad')\n",
        "\n",
        "# Condición anidada (elif, else)\n",
        "edad = int(input('Ingresa tu edad: '))\n",
        "if edad >= 18 and edad <=59:\n",
        "    print('Eres mayor edad')\n",
        "elif edad >= 60:\n",
        "     print('Eres mayor edad y eres una persona adulta')\n",
        "else: #Bloque opcional\n",
        "    print('No eres mayor de edad')"
      ]
    },
    {
      "cell_type": "markdown",
      "metadata": {},
      "source": [
        "- Las condiciones utilizan la palabra clave if seguida de una expresión booleana.\n",
        "- El bloque de código indentado con 4 espacios se ejecuta si la condición es True.\n",
        "- elif permite evaluar otras condiciones si la primera falla."
      ]
    },
    {
      "cell_type": "markdown",
      "metadata": {
        "id": "T7szeyXuRm_n"
      },
      "source": [
        "## Ciclos while"
      ]
    },
    {
      "cell_type": "code",
      "execution_count": 5,
      "metadata": {
        "id": "_bISyi1WRtmB"
      },
      "outputs": [
        {
          "name": "stdout",
          "output_type": "stream",
          "text": [
            "0\n",
            "1\n",
            "2\n",
            "3\n",
            "4\n",
            "5\n",
            "6\n",
            "7\n",
            "8\n",
            "9\n",
            "10\n",
            "Contador no menor o igual a 10\n"
          ]
        }
      ],
      "source": [
        "contador = 0\n",
        "while contador <= 10:\n",
        "    print(contador)\n",
        "    contador +=1 #contador = contador + 1\n",
        "else: #Opcional\n",
        "    print ('Contador no menor o igual a 10')"
      ]
    },
    {
      "cell_type": "markdown",
      "metadata": {
        "id": "QrX-RKdERxlg"
      },
      "source": [
        "- El ciclo while repite un bloque de código hasta que la condición sea False.\n",
        "- Se inicializa un contador en 0.\n",
        "- El ciclo imprime el valor de contador y lo incrementa en 1.\n",
        "- La condición contador <= 10 se evalúa antes de cada iteración.\n",
        "- Cuando contador supera 10, el ciclo termina y se ejecuta el bloque else (opcional)."
      ]
    },
    {
      "cell_type": "markdown",
      "metadata": {
        "id": "qQxc-CJAR6BG"
      },
      "source": [
        "Ciclos for"
      ]
    },
    {
      "cell_type": "markdown",
      "metadata": {
        "id": "wBKa5IJ-SAlJ"
      },
      "source": []
    },
    {
      "cell_type": "code",
      "execution_count": 6,
      "metadata": {
        "id": "z_DTPszQR46Z"
      },
      "outputs": [
        {
          "name": "stdout",
          "output_type": "stream",
          "text": [
            "u\n",
            "n\n",
            " \n",
            "s\n",
            "t\n",
            "r\n",
            "i\n",
            "n\n",
            "g\n",
            " \n",
            "e\n",
            "s\n",
            " \n",
            "u\n",
            "n\n",
            " \n",
            "o\n",
            "b\n",
            "j\n",
            "e\n",
            "t\n",
            "o\n",
            " \n",
            "i\n",
            "n\n",
            "m\n",
            "u\n",
            "t\n",
            "a\n",
            "b\n",
            "l\n",
            "e\n",
            "1\n",
            "Andrés\n",
            "3.1\n",
            "False\n",
            "5\n",
            "nombre\n",
            "email\n",
            "pass\n",
            "Andrés\n",
            "ajmena92@gmail.com\n",
            "password\n",
            "nombre  -  Andrés\n",
            "email  -  ajmena92@gmail.com\n",
            "pass  -  password\n"
          ]
        }
      ],
      "source": [
        "# Recorriendo una cadena\n",
        "mensaje = \"un string es un objeto inmutable\" # No cambia durante la ejecución\n",
        "\n",
        "for caracter in mensaje: #Interar sobre string\n",
        "    print(caracter)\n",
        "\n",
        "# Recorriendo una lista\n",
        "numeros = [1,'Andrés',3.10,False,5]\n",
        "\n",
        "for x in numeros:\n",
        "    print(x)\n",
        "\n",
        "# Recorriendo un diccionario (claves)\n",
        "usuario = {\n",
        "    'nombre':'Andrés',\n",
        "    'email':'ajmena92@gmail.com',\n",
        "    'pass':'password'\n",
        "    }\n",
        "\n",
        "for key in usuario:\n",
        "    print(key)\n",
        "\n",
        "# Recorriendo un diccionario (valores)\n",
        "usuario = {\n",
        "    'nombre':'Andrés',\n",
        "    'email':'ajmena92@gmail.com',\n",
        "    'pass':'password'\n",
        "    }\n",
        "for key in usuario: #Interar con cada elemento por medio de llave para obtener el valor\n",
        "    valor = usuario[key]\n",
        "    print(valor)\n",
        "\n",
        "# Desempaquetado de clave y valor\n",
        "nombre, email = ('Andrés','ajmena92@gmail.com')\n",
        "\n",
        "usuario = {\n",
        "    'nombre':'Andrés',\n",
        "    'email':'ajmena92@gmail.com',\n",
        "    'pass':'password'\n",
        "    }\n",
        "for llave,valor in usuario.items(): # Desempaquetado de la clave y el valor\n",
        "    print(llave,' - ',valor)"
      ]
    },
    {
      "cell_type": "markdown",
      "metadata": {
        "id": "hbfAQON0SDNC"
      },
      "source": [
        "- Los ciclos for recorren colecciones de elementos.\n",
        "- Cadenas: Se itera sobre cada carácter del string.\n",
        "- Listas: Se itera sobre cada elemento de la lista.\n",
        "- Diccionarios:\n",
        " - Se itera sobre las claves del diccionario.\n",
        " - Se puede usar el desempaquetado para obtener tanto la clave como el valor."
      ]
    },
    {
      "cell_type": "markdown",
      "metadata": {
        "id": "VtNWFSbTSUZr"
      },
      "source": [
        "# Funciones en Python: Definición, Ejemplos y Documentación"
      ]
    },
    {
      "cell_type": "markdown",
      "metadata": {
        "id": "rLYvd-iKU-mn"
      },
      "source": [
        "## Introducción\n",
        "Las funciones en Python son bloques de código reutilizables que permiten modularizar el programa, mejorar la legibilidad y evitar la duplicación de código. Se definen utilizando la palabra clave **def** seguida del nombre de la función, paréntesis, parámetros opcionales y dos puntos. A continuación, se escribe el bloque de código indentado que representa el cuerpo de la función."
      ]
    },
    {
      "cell_type": "markdown",
      "metadata": {
        "id": "OBVAp-TnVU7B"
      },
      "source": [
        "## Estructura de una función"
      ]
    },
    {
      "cell_type": "code",
      "execution_count": 7,
      "metadata": {
        "id": "583UKkJwVeAt"
      },
      "outputs": [],
      "source": [
        "def nombre_funcion(parametro1, parametro2):\n",
        "  \"\"\"\n",
        "  Documentación de la función\n",
        "\n",
        "  Esta función realiza ...\n",
        "\n",
        "  Parámetros:\n",
        "    parametro1: Descripción del primer parámetro.\n",
        "    parametro2: Descripción del segundo parámetro.\n",
        "    ...\n",
        "\n",
        "  Retorno:\n",
        "    Valor de retorno de la función (opcional).\n",
        "  \"\"\"\n",
        "  # Bloque de código de la función"
      ]
    },
    {
      "cell_type": "markdown",
      "metadata": {
        "id": "r05M0uCdVqaa"
      },
      "source": [
        "### Características\n",
        "- **Reutilizables:** Las funciones se pueden llamar desde cualquier parte del programa.\n",
        "- **Modulares:** Permiten dividir el programa en secciones más pequeñas y manejables.\n",
        "- **Legibles:** Mejoran la comprensión del código al agru\n",
        "par funcionalidades relacionadas.\n",
        "- **Evitar duplicación:** Eliminan la necesidad de escribir el mismo código varias veces."
      ]
    },
    {
      "cell_type": "markdown",
      "metadata": {
        "id": "vzO_vd_IZlZ7"
      },
      "source": [
        "## Ejemplos"
      ]
    },
    {
      "cell_type": "markdown",
      "metadata": {
        "id": "9ONVsiXsIr1b"
      },
      "source": [
        "#### 1. Función para saludar:º"
      ]
    },
    {
      "cell_type": "code",
      "execution_count": 8,
      "metadata": {
        "colab": {
          "base_uri": "https://localhost:8080/"
        },
        "id": "vlNcCmM-G_vT",
        "outputId": "64aac918-947b-4a5d-fe25-278008b4b7bc"
      },
      "outputs": [
        {
          "name": "stdout",
          "output_type": "stream",
          "text": [
            "Hola Andrés! ¿Cómo estás?\n"
          ]
        }
      ],
      "source": [
        "def saludar(nombre):\n",
        "  \"\"\"\n",
        "  Función que saluda a una persona por su nombre.\n",
        "\n",
        "  Parámetro:\n",
        "    nombre: El nombre de la persona a saludar.\n",
        "\n",
        "  Retorno:\n",
        "    Un mensaje de saludo personalizado.\n",
        "  \"\"\"\n",
        "  mensaje = \"Hola \" + nombre + \"! ¿Cómo estás?\"\n",
        "  return mensaje\n",
        "\n",
        "# Llamada a la función\n",
        "persona = \"Andrés\"\n",
        "saludo = saludar(persona)\n",
        "print(saludo)"
      ]
    },
    {
      "cell_type": "markdown",
      "metadata": {
        "id": "c7JoYIwyHGd6"
      },
      "source": [
        "#### 2. Función con parámetros por defecto y valores de retorno múltiples:"
      ]
    },
    {
      "cell_type": "code",
      "execution_count": 9,
      "metadata": {
        "colab": {
          "base_uri": "https://localhost:8080/"
        },
        "id": "J1YUFshjHJZm",
        "outputId": "1a1c0307-94aa-481c-ec76-4f9a411d360a"
      },
      "outputs": [
        {
          "name": "stdout",
          "output_type": "stream",
          "text": [
            "Área: 15 cm\n",
            "Perímetro: 16 cm\n",
            "Área (en metros): 70 m\n",
            "Perímetro (en metros): 34 m\n"
          ]
        }
      ],
      "source": [
        "def calcular_area_y_perimetro_rectangulo(base, altura, unidad=\"cm\"):\n",
        "  \"\"\"\n",
        "  Función para calcular el área y perímetro de un rectángulo.\n",
        "\n",
        "  Parámetros:\n",
        "    base: La longitud de la base del rectángulo (obligatorio).\n",
        "    altura: La longitud de la altura del rectángulo (obligatorio).\n",
        "    unidad: La unidad de medida para el área y perímetro (opcional, por defecto \"cm\").\n",
        "\n",
        "  Retorno:\n",
        "    Una tupla con el área y perímetro del rectángulo, en la unidad especificada.\n",
        "  \"\"\"\n",
        "  area = base * altura\n",
        "  perimetro = 2 * (base + altura)\n",
        "  return area, perimetro, unidad\n",
        "\n",
        "# Llamada a la función con parámetros por defecto\n",
        "resultado = calcular_area_y_perimetro_rectangulo(5, 3)\n",
        "print(\"Área:\", resultado[0], resultado[2])  # Acceder al área y unidad\n",
        "print(\"Perímetro:\", resultado[1], resultado[2])  # Acceder al perímetro y unidad\n",
        "\n",
        "# Llamada a la función con todos los parámetros\n",
        "resultado = calcular_area_y_perimetro_rectangulo(10, 7, \"m\")\n",
        "print(\"Área (en metros):\", resultado[0], resultado[2])\n",
        "print(\"Perímetro (en metros):\", resultado[1], resultado[2])"
      ]
    },
    {
      "cell_type": "markdown",
      "metadata": {
        "id": "xSTEpJftH4QB"
      },
      "source": [
        "**Explicación:**\n",
        "\n",
        "1. La función calcular_area_y_perimetro_rectangulo toma dos parámetros obligatorios, base y altura, y un parámetro opcional unidad con valor por defecto \"cm\".\n",
        "2. La función calcula el área y perímetro del rectángulo utilizando las fórmulas:\n",
        "*área = base * altura y perímetro = 2 * (base + altura)*.\n",
        "3. La función retorna una tupla que contiene tres elementos: el área, el perímetro y la unidad de medida.\n",
        "4. Al llamar a la función, se pueden especificar los valores para todos los parámetros o solo para algunos. Si no se especifica un valor para un parámetro opcional, se utiliza el valor por defecto.\n",
        "5. En la tupla de retorno, cada elemento se puede acceder por su índice: resultado[0] para el área, resultado[1] para el perímetro y resultado[2] para la unidad."
      ]
    },
    {
      "cell_type": "markdown",
      "metadata": {
        "id": "dKRP1BOlHQAj"
      },
      "source": [
        "#### 3. Función para contar la cantidad de vocales en una cadena:"
      ]
    },
    {
      "cell_type": "code",
      "execution_count": 10,
      "metadata": {
        "id": "CgPG4RzgHXl3"
      },
      "outputs": [
        {
          "name": "stdout",
          "output_type": "stream",
          "text": [
            "La frase 56 contiene 0 vocales\n",
            "La frase 56 contiene 0 vocales\n",
            "La frase 56 contiene 0 vocales\n",
            "La frase 56 contiene 0 vocales\n",
            "La frase 56 contiene 0 vocales\n"
          ]
        }
      ],
      "source": [
        "#Programa contar vocales en 5 frases\n",
        "def contar_vocales(cadena,activa_mayus=False):\n",
        "  if activa_mayus:\n",
        "    vocales = 'aeiouAEIOU'\n",
        "  else:\n",
        "    vocales = 'aeiou'\n",
        "\n",
        "  contador_vocales = 0\n",
        "\n",
        "  for letra in cadena:\n",
        "    if letra in vocales:\n",
        "      contador_vocales += 1 # contador_vocales = contador_vocals + 1\n",
        "  return contador_vocales\n",
        "\n",
        "contador = 0\n",
        "while contador < 5:\n",
        "  frase = input('Ingrese la frase: ')\n",
        "  #contar_vocales\n",
        "  cantidad_vocales = contar_vocales(frase,True)\n",
        "  print(f'La frase {frase} contiene {cantidad_vocales} vocales')\n",
        "  contador += 1"
      ]
    },
    {
      "cell_type": "markdown",
      "metadata": {
        "id": "_X0WeRC3JEhG"
      },
      "source": [
        "### Calcular promedios de estudiantes\n",
        "**Descripción del problema:**\n",
        "\n",
        "Un profesor necesita calcular el promedio de calificaciones de sus estudiantes en un curso. Cada estudiante tiene una sola calificación. El profesor desea crear un programa que le permita:\n",
        "\n",
        "1. Ingresar las calificaciones de cada estudiante.\n",
        "2. Calcular el promedio general de la clase.\n",
        "3. Mostrar una tabla con los nombres de los estudiantes y sus calificaciones.\n",
        "\n",
        "\n",
        "**Solución utilizando ciclos y funciones:**"
      ]
    },
    {
      "cell_type": "code",
      "execution_count": 11,
      "metadata": {
        "id": "ur1gxH-QJQ_1"
      },
      "outputs": [
        {
          "ename": "ValueError",
          "evalue": "could not convert string to float: ''",
          "output_type": "error",
          "traceback": [
            "\u001b[1;31m---------------------------------------------------------------------------\u001b[0m",
            "\u001b[1;31mValueError\u001b[0m                                Traceback (most recent call last)",
            "Cell \u001b[1;32mIn[11], line 43\u001b[0m\n\u001b[0;32m     41\u001b[0m \u001b[38;5;28;01mfor\u001b[39;00m i \u001b[38;5;129;01min\u001b[39;00m \u001b[38;5;28mrange\u001b[39m(cantidad_estudiantes):\n\u001b[0;32m     42\u001b[0m   nombre \u001b[38;5;241m=\u001b[39m \u001b[38;5;28minput\u001b[39m(\u001b[38;5;124mf\u001b[39m\u001b[38;5;124m\"\u001b[39m\u001b[38;5;124mIngrese el nombre del estudiante \u001b[39m\u001b[38;5;132;01m{\u001b[39;00mi\u001b[38;5;250m \u001b[39m\u001b[38;5;241m+\u001b[39m\u001b[38;5;250m \u001b[39m\u001b[38;5;241m1\u001b[39m\u001b[38;5;132;01m}\u001b[39;00m\u001b[38;5;124m: \u001b[39m\u001b[38;5;124m\"\u001b[39m)\n\u001b[1;32m---> 43\u001b[0m   calificacion \u001b[38;5;241m=\u001b[39m \u001b[38;5;28;43mfloat\u001b[39;49m\u001b[43m(\u001b[49m\u001b[38;5;28;43minput\u001b[39;49m\u001b[43m(\u001b[49m\u001b[38;5;124;43mf\u001b[39;49m\u001b[38;5;124;43m\"\u001b[39;49m\u001b[38;5;124;43mIngrese la calificación de \u001b[39;49m\u001b[38;5;132;43;01m{\u001b[39;49;00m\u001b[43mnombre\u001b[49m\u001b[38;5;132;43;01m}\u001b[39;49;00m\u001b[38;5;124;43m: \u001b[39;49m\u001b[38;5;124;43m\"\u001b[39;49m\u001b[43m)\u001b[49m\u001b[43m)\u001b[49m\n\u001b[0;32m     45\u001b[0m   \u001b[38;5;66;03m# Almacenar datos en las listas\u001b[39;00m\n\u001b[0;32m     46\u001b[0m   estudiantes\u001b[38;5;241m.\u001b[39mappend(nombre)\n",
            "\u001b[1;31mValueError\u001b[0m: could not convert string to float: ''"
          ]
        }
      ],
      "source": [
        "def calcular_promedio(calificaciones):\n",
        "  \"\"\"\n",
        "  Función para calcular el promedio de una lista de calificaciones.\n",
        "\n",
        "  Parámetro:\n",
        "    calificaciones: Una lista de calificaciones numéricas.\n",
        "\n",
        "  Retorno:\n",
        "    El promedio de las calificaciones.\n",
        "  \"\"\"\n",
        "  suma_calificaciones = 0\n",
        "  for calificacion in calificaciones:\n",
        "    suma_calificaciones += calificacion\n",
        "  promedio = suma_calificaciones / len(calificaciones)\n",
        "  return promedio\n",
        "\n",
        "def mostrar_tabla_resultados(estudiantes, calificaciones):\n",
        "  \"\"\"\n",
        "  Función para mostrar una tabla con los nombres y calificaciones de los estudiantes.\n",
        "\n",
        "  Parámetros:\n",
        "    estudiantes: Una lista con los nombres de los estudiantes.\n",
        "    calificaciones: Una lista con las calificaciones de los estudiantes.\n",
        "  \"\"\"\n",
        "  print(\"-\" * 30)\n",
        "  print(\"| Nombre          | Calificación |\")\n",
        "  print(\"-\" * 30)\n",
        "  for i in range(len(estudiantes)):\n",
        "    nombre = estudiantes[i]\n",
        "    calificacion = calificaciones[i]\n",
        "    print(f\"| {nombre:<15} | {calificacion:>10} |\")\n",
        "  print(\"-\" * 30)\n",
        "\n",
        "# Programa principal\n",
        "estudiantes = []  # Lista para almacenar nombres de estudiantes\n",
        "calificaciones = []  # Lista para almacenar calificaciones\n",
        "\n",
        "cantidad_estudiantes = int(input(\"¿Cuántos estudiantes hay en la clase? \"))\n",
        "\n",
        "# Ingresar datos de los estudiantes\n",
        "for i in range(cantidad_estudiantes):\n",
        "  nombre = input(f\"Ingrese el nombre del estudiante {i + 1}: \")\n",
        "  calificacion = float(input(f\"Ingrese la calificación de {nombre}: \"))\n",
        "\n",
        "  # Almacenar datos en las listas\n",
        "  estudiantes.append(nombre)\n",
        "  calificaciones.append(calificacion)\n",
        "\n",
        "# Calcular promedio general\n",
        "promedio_general = calcular_promedio(calificaciones)\n",
        "\n",
        "# Mostrar tabla de resultados\n",
        "mostrar_tabla_resultados(estudiantes, calificaciones)\n",
        "\n",
        "# Mostrar promedio general\n",
        "print(f\"Promedio general de la clase: {promedio_general:.2f}\")"
      ]
    }
  ],
  "metadata": {
    "colab": {
      "provenance": []
    },
    "kernelspec": {
      "display_name": "Python 3",
      "name": "python3"
    },
    "language_info": {
      "codemirror_mode": {
        "name": "ipython",
        "version": 3
      },
      "file_extension": ".py",
      "mimetype": "text/x-python",
      "name": "python",
      "nbconvert_exporter": "python",
      "pygments_lexer": "ipython3",
      "version": "3.12.2"
    }
  },
  "nbformat": 4,
  "nbformat_minor": 0
}
