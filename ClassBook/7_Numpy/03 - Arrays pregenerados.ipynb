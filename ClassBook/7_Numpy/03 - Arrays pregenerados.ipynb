{
 "cells": [
  {
   "cell_type": "markdown",
   "id": "704c76b5",
   "metadata": {},
   "source": [
    "# Arrays pregenerados\n",
    "\n",
    "Crear arrays a partir de listas puede ser muy tedioso, por eso `numpy` integra varias funciones muy útiles para generar arrays de uso común en el álgebra de matrices.\n",
    "\n",
    "## Array de ceros\n",
    "\n",
    "Un array de ceros es cuando todos sus elementos son ceros. Podemos generarlos con el método `zeros`:"
   ]
  },
  {
   "cell_type": "code",
<<<<<<< HEAD
   "execution_count": 1,
   "id": "50059f89",
   "metadata": {},
   "outputs": [
    {
     "data": {
      "text/plain": [
       "array([0., 0., 0.])"
      ]
     },
     "execution_count": 1,
     "metadata": {},
     "output_type": "execute_result"
    }
   ],
   "source": [
    "import numpy as np\n",
    "\n",
=======
   "execution_count": null,
   "id": "50059f89",
   "metadata": {},
   "outputs": [],
   "source": [
    "import numpy as np\n",
>>>>>>> Jonathan_Matamoros
    "np.zeros(3)"
   ]
  },
  {
   "cell_type": "markdown",
   "id": "9d525dd5",
   "metadata": {},
   "source": [
    "\n",
    "Evidentemente podemos generar arrays multidimensionales, pero para ello tenemos que pasarle al método una lista o tupla con la longitud de sus dimensiones:"
   ]
  },
  {
   "cell_type": "code",
<<<<<<< HEAD
   "execution_count": 5,
   "id": "fadb2e4d",
   "metadata": {},
   "outputs": [
    {
     "data": {
      "text/plain": [
       "array([[0., 0.],\n",
       "       [0., 0.],\n",
       "       [0., 0.]])"
      ]
     },
     "execution_count": 5,
     "metadata": {},
     "output_type": "execute_result"
    }
   ],
   "source": [
    "#Escriba el código\n",
    "np.zeros([3,2])"
=======
   "execution_count": null,
   "id": "fadb2e4d",
   "metadata": {},
   "outputs": [],
   "source": [
    "#Escriba el código"
>>>>>>> Jonathan_Matamoros
   ]
  },
  {
   "cell_type": "markdown",
   "id": "40ddf419",
   "metadata": {},
   "source": [
    "## Array de unos\n",
    "\n",
    "Lo mismo podemos hacer pero utilizando el método `ones`:"
   ]
  },
  {
   "cell_type": "code",
<<<<<<< HEAD
   "execution_count": 14,
   "id": "8f31e367",
   "metadata": {},
   "outputs": [
    {
     "data": {
      "text/plain": [
       "array([[1., 1., 1.],\n",
       "       [1., 1., 1.],\n",
       "       [1., 1., 1.]])"
      ]
     },
     "execution_count": 14,
     "metadata": {},
     "output_type": "execute_result"
    }
   ],
   "source": [
    "np.ones([3,3])"
   ]
  },
  {
   "cell_type": "code",
   "execution_count": 13,
   "id": "7635e937",
   "metadata": {},
   "outputs": [
    {
     "data": {
      "text/plain": [
       "dtype('float64')"
      ]
     },
     "execution_count": 13,
     "metadata": {},
     "output_type": "execute_result"
    }
   ],
   "source": [
    "type(np.ones([3,3])) #Tipo de estructura \n",
    "np.ones([3,3]).dtype # Tipo de datos contenidos en el arreglo"
=======
   "execution_count": null,
   "id": "7635e937",
   "metadata": {},
   "outputs": [],
   "source": [
    "np.ones([3,3])"
>>>>>>> Jonathan_Matamoros
   ]
  },
  {
   "cell_type": "markdown",
   "id": "e402866e",
   "metadata": {},
   "source": [
    "## Array de identidad\n",
    "\n",
    "Los arrays de identidad son matrices cuadradas (con el mismo número de filas que de columnas) donde todos los valores son ceros a excepción de la diagonal donde son unos. Podemos generarlos con el método `eye`:"
   ]
  },
  {
   "cell_type": "code",
<<<<<<< HEAD
   "execution_count": 17,
   "id": "db8746d6",
   "metadata": {},
   "outputs": [
    {
     "data": {
      "text/plain": [
       "array([[1., 0., 0., 0., 0.],\n",
       "       [0., 1., 0., 0., 0.],\n",
       "       [0., 0., 1., 0., 0.],\n",
       "       [0., 0., 0., 1., 0.],\n",
       "       [0., 0., 0., 0., 1.]])"
      ]
     },
     "execution_count": 17,
     "metadata": {},
     "output_type": "execute_result"
    }
   ],
   "source": [
    "np.eye(5)"
=======
   "execution_count": null,
   "id": "db8746d6",
   "metadata": {},
   "outputs": [],
   "source": [
    "np.eye(3)"
>>>>>>> Jonathan_Matamoros
   ]
  },
  {
   "cell_type": "markdown",
   "id": "5563d342",
   "metadata": {},
   "source": [
    "De forma similar a como multiplicar un número por 1 da como resulta el mismo número, multiplicar una matriz por su matriz de identidad da como resultado la matriz original. Eso tiene muchas aplicaciones en el álgrebra de matrices, especialmente en el renderizado de gráficos.\n",
    "\n",
    "## Array de rangos\n",
    "\n",
    "Por último pero no por ello menos importante también es posible generar arrays a partir de un rango de valores. Para hacerlo utilizaríamos el método `arange`:\n"
   ]
  },
  {
   "cell_type": "code",
<<<<<<< HEAD
   "execution_count": 18,
   "id": "459ba61d",
   "metadata": {},
   "outputs": [
    {
     "data": {
      "text/plain": [
       "array([0, 1, 2, 3])"
      ]
     },
     "execution_count": 18,
     "metadata": {},
     "output_type": "execute_result"
    }
   ],
=======
   "execution_count": null,
   "id": "459ba61d",
   "metadata": {},
   "outputs": [],
>>>>>>> Jonathan_Matamoros
   "source": [
    "# Rango de 0 a 4\n",
    "np.arange(4)"
   ]
  },
  {
   "cell_type": "code",
<<<<<<< HEAD
   "execution_count": 20,
   "id": "49cfa0a0",
   "metadata": {},
   "outputs": [
    {
     "data": {
      "text/plain": [
       "array([0., 1., 2., 3., 4., 5., 6., 7., 8., 9.])"
      ]
     },
     "execution_count": 20,
     "metadata": {},
     "output_type": "execute_result"
    }
   ],
   "source": [
    "# Rango 0 a 4 decimal\n",
    "np.arange(10.)\n"
=======
   "execution_count": null,
   "id": "49cfa0a0",
   "metadata": {},
   "outputs": [],
   "source": [
    "# Rango 0 a 4 decimal\n",
    "np.arange(4.)"
>>>>>>> Jonathan_Matamoros
   ]
  },
  {
   "cell_type": "markdown",
   "id": "138474cd",
   "metadata": {},
   "source": [
    "### Practica"
   ]
  },
  {
   "cell_type": "code",
<<<<<<< HEAD
   "execution_count": 24,
   "id": "bcd3746e",
   "metadata": {},
   "outputs": [
    {
     "data": {
      "text/plain": [
       "array([-3, -2, -1,  0,  1,  2,  3,  4])"
      ]
     },
     "execution_count": 24,
     "metadata": {},
     "output_type": "execute_result"
    }
   ],
   "source": [
    "# Rango de -3 a 4  - Escriba el código\n",
    "np.arange(-3,5)"
=======
   "execution_count": null,
   "id": "bcd3746e",
   "metadata": {},
   "outputs": [],
   "source": [
    "# Rango de -3 a 4  - Escriba el código"
>>>>>>> Jonathan_Matamoros
   ]
  },
  {
   "cell_type": "code",
<<<<<<< HEAD
   "execution_count": 33,
   "id": "7d69e0e3",
   "metadata": {},
   "outputs": [
    {
     "data": {
      "text/plain": [
       "array([ 0,  2,  4,  6,  8, 10])"
      ]
     },
     "execution_count": 33,
     "metadata": {},
     "output_type": "execute_result"
    }
   ],
   "source": [
    "# Rango de 20 números a partir de 0 cada 5 números - Escriba el código\n",
    "np.arange(0,20,5)"
=======
   "execution_count": null,
   "id": "7d69e0e3",
   "metadata": {},
   "outputs": [],
   "source": [
    "# Rango de 20 números a partir de 0 cada 5 números - Escriba el código"
>>>>>>> Jonathan_Matamoros
   ]
  },
  {
   "cell_type": "code",
   "execution_count": null,
   "id": "9a9525f5",
   "metadata": {},
   "outputs": [],
   "source": []
  }
 ],
 "metadata": {
  "kernelspec": {
   "display_name": "Python 3 (ipykernel)",
   "language": "python",
   "name": "python3"
  },
  "language_info": {
   "codemirror_mode": {
    "name": "ipython",
    "version": 3
   },
   "file_extension": ".py",
   "mimetype": "text/x-python",
   "name": "python",
   "nbconvert_exporter": "python",
   "pygments_lexer": "ipython3",
<<<<<<< HEAD
   "version": "3.12.2"
=======
   "version": "3.10.5"
>>>>>>> Jonathan_Matamoros
  }
 },
 "nbformat": 4,
 "nbformat_minor": 5
}
