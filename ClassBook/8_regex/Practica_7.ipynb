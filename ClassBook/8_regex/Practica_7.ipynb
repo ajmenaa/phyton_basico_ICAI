{
 "cells": [
  {
   "cell_type": "markdown",
   "metadata": {},
   "source": [
    "\n",
    "# Ejercicio final: Extraer información de un archivo JSON usando expresiones regulares (regex)\n",
    "\n",
    "\n",
    "## Objetivo:\n",
    "\n",
    "El objetivo de este ejercicio es practicar la utilización de expresiones regulares (regex) para extraer información específica de un archivo JSON. El ejercicio se enfocará en la lectura y análisis de un archivo JSON que contiene información sobre clientes.\n",
    "\n",
    "## Descripción:\n",
    "\n",
    "### Obtener el archivo JSON:\n",
    "Lea archivo JSON 'clientes.json' que contiene la información sobre clientes. El archivo debe tener una estructura similar a la siguiente:"
   ]
  },
  {
   "cell_type": "code",
   "execution_count": null,
   "metadata": {},
   "outputs": [],
   "source": [
    "{\n",
    "  \"clientes\": [\n",
    "    {\n",
    "      \"nombre\": \"Juan Pérez\",\n",
    "      \"direccion\": \"Calle Mayor 123\",\n",
    "      \"ciudad\": \"San José\",\n",
    "      \"telefono\": \"+506 2222-3333\"\n",
    "    },\n",
    "    {\n",
    "      \"nombre\": \"María Gómez\",\n",
    "      \"direccion\": \"Avenida Central 456\",\n",
    "      \"ciudad\": \"Alajuela\",\n",
    "      \"telefono\": \"+506 8888-4444\"\n",
    "    },\n",
    "    {\n",
    "      \"nombre\": \"Pedro Ramírez\",\n",
    "      \"direccion\": \"Barrio Escalante 789\",\n",
    "      \"ciudad\": \"Heredia\",\n",
    "      \"telefono\": \"+506 5555-6666\"\n",
    "    },\n",
    "    {\n",
    "      \"nombre\": \"Ana Castro\",\n",
    "      \"direccion\": \"Avenida 10 Calle 5\",\n",
    "      \"ciudad\": \"Cartago\",\n",
    "      \"telefono\": \"+506 3333-4444\"\n",
    "    },\n",
    "    {\n",
    "      \"nombre\": \"Carlos Jiménez\",\n",
    "      \"direccion\": \"Calle Principal 12\",\n",
    "      \"ciudad\": \"Liberia\",\n",
    "      \"telefono\": \"+506 6666-7777\"\n",
    "    },\n",
    "    {\n",
    "      \"nombre\": \"Diana Solano\",\n",
    "      \"direccion\": \"Barrio La Unión 78\",\n",
    "      \"ciudad\": \"Puntarenas\",\n",
    "      \"telefono\": \"+506 9999-8888\"\n",
    "    }\n",
    "  ]\n",
    "}"
   ]
  },
  {
   "cell_type": "markdown",
   "metadata": {},
   "source": [
    "## Extraer información usando regex:\n",
    "### Utilice expresiones regulares para extraer la siguiente información de cada cliente:\n",
    "- Nombre completo: Juan Pérez, María Gómez, Pedro Ramírez\n",
    "- Dirección completa: Calle Mayor 123, Avenida Central 456, Barrio Escalante 789\n",
    "- Ciudad: San José, Alajuela, Heredia\n",
    "- Número de teléfono: +506 2222-3333, +506 8888-4444, +506 5555-6666\n",
    "\n",
    "### Imprima la información extraída para cada cliente en un formato claro y organizado.\n",
    "\n",
    "\n",
    "## Pistas:\n",
    "\n",
    "- Utilice la librería re de Python para trabajar con expresiones regulares.\n",
    "- Defina patrones de expresión regular específicos para cada tipo de información que desea extraer.\n",
    "- Recorra el archivo JSON y aplique los patrones regex a cada cliente.\n",
    "- Utilize métodos como findall() o search() para encontrar las coincidencias en el texto."
   ]
  },
  {
   "cell_type": "code",
   "execution_count": 1,
   "metadata": {},
   "outputs": [
    {
     "ename": "NameError",
     "evalue": "name 're' is not defined",
     "output_type": "error",
     "traceback": [
      "\u001b[1;31m---------------------------------------------------------------------------\u001b[0m",
      "\u001b[1;31mNameError\u001b[0m                                 Traceback (most recent call last)",
      "Cell \u001b[1;32mIn[1], line 14\u001b[0m\n\u001b[0;32m     11\u001b[0m datos \u001b[38;5;241m=\u001b[39m json\u001b[38;5;241m.\u001b[39mloads(contenido)\n\u001b[0;32m     13\u001b[0m \u001b[38;5;66;03m# Extraer números de teléfono usando expresiones regulares\u001b[39;00m\n\u001b[1;32m---> 14\u001b[0m numeros_telefono \u001b[38;5;241m=\u001b[39m \u001b[43mre\u001b[49m\u001b[38;5;241m.\u001b[39mfindall(\u001b[38;5;124mr\u001b[39m\u001b[38;5;124m'\u001b[39m\u001b[38;5;124m\\\u001b[39m\u001b[38;5;124m+\u001b[39m\u001b[38;5;124m\\\u001b[39m\u001b[38;5;124md\u001b[39m\u001b[38;5;132;01m{3}\u001b[39;00m\u001b[38;5;124m \u001b[39m\u001b[38;5;124m\\\u001b[39m\u001b[38;5;124md\u001b[39m\u001b[38;5;132;01m{4}\u001b[39;00m\u001b[38;5;124m-\u001b[39m\u001b[38;5;124m\\\u001b[39m\u001b[38;5;124md\u001b[39m\u001b[38;5;132;01m{4}\u001b[39;00m\u001b[38;5;124m'\u001b[39m, contenido)\n\u001b[0;32m     16\u001b[0m \u001b[38;5;66;03m# Mostrar los números de teléfono encontrados\u001b[39;00m\n\u001b[0;32m     17\u001b[0m \u001b[38;5;28mprint\u001b[39m(\u001b[38;5;124m\"\u001b[39m\u001b[38;5;124mNúmeros de teléfono encontrados:\u001b[39m\u001b[38;5;124m\"\u001b[39m)\n",
      "\u001b[1;31mNameError\u001b[0m: name 're' is not defined"
     ]
    }
   ],
   "source": [
    "# sOLUCION\n",
    "\n",
    "\n",
    "import json\n",
    "\n",
    "# Abrir el archivo JSON y cargar su contenido\n",
    "with open(\"clientes.json\", \"r\") as archivo:\n",
    "    contenido = archivo.read()\n",
    "\n",
    "# Parsear el contenido JSON\n",
    "datos = json.loads(contenido)\n",
    "\n",
    "# Extraer números de teléfono usando expresiones regulares\n",
    "numeros_telefono = re.findall(r'\\+\\d{3} \\d{4}-\\d{4}', contenido)\n",
    "\n",
    "# Mostrar los números de teléfono encontrados\n",
    "print(\"Números de teléfono encontrados:\")\n",
    "for telefono in numeros_telefono:\n",
    "    print(telefono)"
   ]
  },
  {
   "cell_type": "code",
   "execution_count": null,
   "metadata": {},
   "outputs": [],
   "source": [
    "import json\n",
    "import re\n",
    "\n",
    "# Cargar el archivo JSON\n",
    "try:\n",
    "    with open(\"clientes.json\", \"r\", encoding=\"utf-8\") as archivo:\n",
    "        datos_clientes = json.load(archivo)\n",
    "except FileNotFoundError as e:\n",
    "    print(f\"Error: El archivo JSON 'clientes.json' no se encontró.\")\n",
    "except json.JSONDecodeError as e:\n",
    "    print(f\"Error al decodificar el archivo JSON: {e}\")\n",
    "except Exception as e:\n",
    "    print(f\"Error inesperado: {e}\")\n",
    "\n",
    "# Definir patrones de regex\n",
    "patron_nombre = r'\"nombre\": \"(.*?)\"'\n",
    "patron_direccion = r'\"direccion\": \"(.*?)\"'\n",
    "patron_ciudad = r'\"ciudad\": \"(.*?)\"'\n",
    "patron_telefono = r'\"telefono\": \"(.*?)\"'\n",
    "\n",
    "# Recorrer los datos de clientes y extraer información\n",
    "for cliente in datos_clientes['clientes']:\n",
    "    nombre = re.search(patron_nombre, json.dumps(cliente)).group(1)\n",
    "    direccion = re.search(patron_direccion, json.dumps(cliente)).group(1)\n",
    "    ciudad = re.search(patron_ciudad, json.dumps(cliente)).group(1)\n",
    "    telefono = re.search(patron_telefono, json.dumps(cliente)).group(1)\n",
    "\n",
    "    # Imprimir la información extraída\n",
    "    print(f\"\\n**Cliente:** {nombre}\")\n",
    "    print(f\"Dirección: {direccion}\")\n",
    "    print(f\"Ciudad: {ciudad}\")\n",
    "    print(f\"Teléfono: {telefono}\")\n"
   ]
  }
 ],
 "metadata": {
  "kernelspec": {
   "display_name": "Python 3",
   "language": "python",
   "name": "python3"
  },
  "language_info": {
   "codemirror_mode": {
    "name": "ipython",
    "version": 3
   },
   "file_extension": ".py",
   "mimetype": "text/x-python",
   "name": "python",
   "nbconvert_exporter": "python",
   "pygments_lexer": "ipython3",
   "version": "3.12.2"
  }
 },
 "nbformat": 4,
 "nbformat_minor": 2
}
