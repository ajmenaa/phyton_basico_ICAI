{
 "cells": [
  {
   "cell_type": "markdown",
   "metadata": {},
   "source": [
    "\n",
    "# Ejemplos de expresiones regulares en Python\n",
    "\n",
    "## 1. Coincidir con una palabra específica:\n",
    "\n",
    "\n",
    "- Se importa el módulo `re` para trabajar con expresiones regulares.\n",
    "- Se define el patrón `frase` que queremos buscar.\n",
    "- La función `re.search()` busca el patrón en el texto."
   ]
  },
  {
   "cell_type": "code",
   "execution_count": null,
   "metadata": {},
   "outputs": [],
   "source": [
    "import re\n",
    "\n",
    "texto = \"Esta es una frase con varias palabras.\"\n",
    "\n",
    "# Buscar la palabra \"frase\"\n",
    "patron = \"frase\"\n",
    "\n",
    "if re.search(patron, texto):\n",
    "    print(\"Se encontró la palabra:\", patron)\n",
    "else:\n",
    "    print(\"No se encontró la palabra:\", patron)\n",
    "    \n",
    "#Salida esperada -> Se encontró la palabra: frase"
   ]
  },
  {
   "cell_type": "markdown",
   "metadata": {},
   "source": [
    "### Problema al buscar una frase en mayúscula con expresiones regulares\n",
    "\n",
    "Por defecto es que las expresiones regulares son sensibles a las mayúsculas y minúsculas. Esto significa que si defines un patrón en minúsculas, solo coincidirá con cadenas que también estén en minúsculas"
   ]
  },
  {
   "cell_type": "code",
   "execution_count": null,
   "metadata": {},
   "outputs": [],
   "source": []
  },
  {
   "cell_type": "code",
   "execution_count": null,
   "metadata": {},
   "outputs": [],
   "source": [
    "texto = \"ESTA ES UNA FRASE CON VARIAS PALABRAS.\" #FRASE en mayuscula != frase\n",
    "\n",
    "# Buscar la palabra \"frase\"\n",
    "patron = \"frase\"\n",
    "\n",
    "if re.search(patron, texto):\n",
    "    print(\"Se encontró la palabra:\", patron)\n",
    "else:\n",
    "    print(\"No se encontró la palabra:\", patron)\n",
    "    \n",
    "#Salida esperada -> No se encontró la palabra: frase"
   ]
  },
  {
   "cell_type": "code",
   "execution_count": 1,
   "metadata": {},
   "outputs": [
    {
     "name": "stdout",
     "output_type": "stream",
     "text": [
      "Frases en mayúscula encontradas: ['ESTA ES UNA FRASE CON VARIAS PALABRAS']\n"
     ]
    }
   ],
   "source": [
    "#SOLUCION\n",
    "\n",
    "import re\n",
    "\n",
    "texto = \"ESTA ES UNA FRASE CON VARIAS PALABRAS.\"\n",
    "\n",
    "# Buscar la frase en mayúscula\n",
    "patron = r'\\b[A-Z\\s]+\\b'\n",
    "\n",
    "frases_en_mayuscula = re.findall(patron, texto)\n",
    "\n",
    "if frases_en_mayuscula:\n",
    "    print(\"Frases en mayúscula encontradas:\", frases_en_mayuscula)\n",
    "else:\n",
    "    print(\"No se encontraron frases en mayúscula en el texto.\")\n"
   ]
  },
  {
   "cell_type": "markdown",
   "metadata": {},
   "source": [
    "### Reto modifica el código:\n",
    "Modifica el código para que encuentre la palabra “frase” sin importar mayúsculas o minúsculas\n",
    "\n",
    "`Pista -> re.IGNORECASE`"
   ]
  },
  {
   "cell_type": "code",
   "execution_count": null,
   "metadata": {},
   "outputs": [],
   "source": [
    "texto = \"ESTA ES UNA FRASE CON VARIAS PALABRAS.\"\n",
    "\n",
    "# Buscar lafrase palabra \"frase\"\n",
    "patron = \"\"\n",
    "\n",
    "if re.search(patron, texto):\n",
    "    print(\"Se encontró la palabra:\", patron)\n",
    "else:\n",
    "    print(\"No se encontró la palabra:\", patron)\n",
    "    \n",
    "#Salida esperada -> Se encontró la palabra: frase"
   ]
  },
  {
   "cell_type": "code",
   "execution_count": 3,
   "metadata": {},
   "outputs": [
    {
     "name": "stdout",
     "output_type": "stream",
     "text": [
      "Se encontró la palabra 'frase'.\n"
     ]
    }
   ],
   "source": [
    "#SOLUCION\n",
    "\n",
    "texto = \"ESTA ES UNA FRASE CON VARIAS PALABRAS.\"\n",
    "\n",
    "# Buscar la palabra \"frase\" sin importar mayúsculas o minúsculas\n",
    "patron = r'\\bfrase\\b'\n",
    "\n",
    "if re.search(patron, texto, re.IGNORECASE):\n",
    "    print(\"Se encontró la palabra 'frase'.\")\n",
    "else:\n",
    "    print(\"No se encontró la palabra 'frase'.\")\n"
   ]
  }
 ],
 "metadata": {
  "kernelspec": {
   "display_name": "Python 3",
   "language": "python",
   "name": "python3"
  },
  "language_info": {
   "codemirror_mode": {
    "name": "ipython",
    "version": 3
   },
   "file_extension": ".py",
   "mimetype": "text/x-python",
   "name": "python",
   "nbconvert_exporter": "python",
   "pygments_lexer": "ipython3",
   "version": "3.12.2"
  }
 },
 "nbformat": 4,
 "nbformat_minor": 2
}
