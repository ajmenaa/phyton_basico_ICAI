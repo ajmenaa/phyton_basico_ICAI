{
 "cells": [
  {
   "cell_type": "markdown",
   "metadata": {},
   "source": [
    "# Tipo cambio de compra y de venta del dólar de los Estados Unidos de América\n",
    "> Referencia del Banco Central de Costa Rica en colones costarricenses\n",
    "\n",
    "### Paso 1: Importar datos de un archivo CSV a un DataFrame de Pandas"
   ]
  },
  {
   "cell_type": "markdown",
   "metadata": {},
   "source": [
    "# Estudiante: "
   ]
  },
  {
   "cell_type": "code",
   "execution_count": 1,
   "metadata": {},
   "outputs": [
    {
     "data": {
      "text/html": [
       "<div>\n",
       "<style scoped>\n",
       "    .dataframe tbody tr th:only-of-type {\n",
       "        vertical-align: middle;\n",
       "    }\n",
       "\n",
       "    .dataframe tbody tr th {\n",
       "        vertical-align: top;\n",
       "    }\n",
       "\n",
       "    .dataframe thead th {\n",
       "        text-align: right;\n",
       "    }\n",
       "</style>\n",
       "<table border=\"1\" class=\"dataframe\">\n",
       "  <thead>\n",
       "    <tr style=\"text-align: right;\">\n",
       "      <th></th>\n",
       "      <th>DIA</th>\n",
       "      <th>COMPRA</th>\n",
       "      <th>VENTA</th>\n",
       "      <th>Unnamed: 3</th>\n",
       "      <th>Unnamed: 4</th>\n",
       "    </tr>\n",
       "  </thead>\n",
       "  <tbody>\n",
       "    <tr>\n",
       "      <th>0</th>\n",
       "      <td>1 Ene 1983</td>\n",
       "      <td>44.95</td>\n",
       "      <td>45.45</td>\n",
       "      <td>NaN</td>\n",
       "      <td>NaN</td>\n",
       "    </tr>\n",
       "    <tr>\n",
       "      <th>1</th>\n",
       "      <td>2 Ene 1983</td>\n",
       "      <td>44.95</td>\n",
       "      <td>45.45</td>\n",
       "      <td>NaN</td>\n",
       "      <td>NaN</td>\n",
       "    </tr>\n",
       "    <tr>\n",
       "      <th>2</th>\n",
       "      <td>3 Ene 1983</td>\n",
       "      <td>44.95</td>\n",
       "      <td>45.45</td>\n",
       "      <td>NaN</td>\n",
       "      <td>NaN</td>\n",
       "    </tr>\n",
       "    <tr>\n",
       "      <th>3</th>\n",
       "      <td>4 Ene 1983</td>\n",
       "      <td>44.95</td>\n",
       "      <td>45.45</td>\n",
       "      <td>NaN</td>\n",
       "      <td>NaN</td>\n",
       "    </tr>\n",
       "    <tr>\n",
       "      <th>4</th>\n",
       "      <td>5 Ene 1983</td>\n",
       "      <td>44.95</td>\n",
       "      <td>45.45</td>\n",
       "      <td>NaN</td>\n",
       "      <td>NaN</td>\n",
       "    </tr>\n",
       "    <tr>\n",
       "      <th>...</th>\n",
       "      <td>...</td>\n",
       "      <td>...</td>\n",
       "      <td>...</td>\n",
       "      <td>...</td>\n",
       "      <td>...</td>\n",
       "    </tr>\n",
       "    <tr>\n",
       "      <th>15130</th>\n",
       "      <td>4 May 2024</td>\n",
       "      <td>503.94</td>\n",
       "      <td>511.51</td>\n",
       "      <td>NaN</td>\n",
       "      <td>NaN</td>\n",
       "    </tr>\n",
       "    <tr>\n",
       "      <th>15131</th>\n",
       "      <td>5 May 2024</td>\n",
       "      <td>503.94</td>\n",
       "      <td>511.51</td>\n",
       "      <td>NaN</td>\n",
       "      <td>NaN</td>\n",
       "    </tr>\n",
       "    <tr>\n",
       "      <th>15132</th>\n",
       "      <td>6 May 2024</td>\n",
       "      <td>503.94</td>\n",
       "      <td>511.51</td>\n",
       "      <td>NaN</td>\n",
       "      <td>NaN</td>\n",
       "    </tr>\n",
       "    <tr>\n",
       "      <th>15133</th>\n",
       "      <td>7 May 2024</td>\n",
       "      <td>504.53</td>\n",
       "      <td>512.28</td>\n",
       "      <td>NaN</td>\n",
       "      <td>NaN</td>\n",
       "    </tr>\n",
       "    <tr>\n",
       "      <th>15134</th>\n",
       "      <td>8 May 2024</td>\n",
       "      <td>506.22</td>\n",
       "      <td>512.64</td>\n",
       "      <td>NaN</td>\n",
       "      <td>NaN</td>\n",
       "    </tr>\n",
       "  </tbody>\n",
       "</table>\n",
       "<p>15135 rows × 5 columns</p>\n",
       "</div>"
      ],
      "text/plain": [
       "              DIA  COMPRA   VENTA  Unnamed: 3  Unnamed: 4\n",
       "0      1 Ene 1983   44.95   45.45         NaN         NaN\n",
       "1      2 Ene 1983   44.95   45.45         NaN         NaN\n",
       "2      3 Ene 1983   44.95   45.45         NaN         NaN\n",
       "3      4 Ene 1983   44.95   45.45         NaN         NaN\n",
       "4      5 Ene 1983   44.95   45.45         NaN         NaN\n",
       "...           ...     ...     ...         ...         ...\n",
       "15130  4 May 2024  503.94  511.51         NaN         NaN\n",
       "15131  5 May 2024  503.94  511.51         NaN         NaN\n",
       "15132  6 May 2024  503.94  511.51         NaN         NaN\n",
       "15133  7 May 2024  504.53  512.28         NaN         NaN\n",
       "15134  8 May 2024  506.22  512.64         NaN         NaN\n",
       "\n",
       "[15135 rows x 5 columns]"
      ]
     },
     "execution_count": 1,
     "metadata": {},
     "output_type": "execute_result"
    }
   ],
   "source": [
    "import pandas as pd\n",
    "\n",
    "ruta_archivo_csv = \"historico_tipo_cambio.csv\"\n",
    "\n",
    "df = pd.read_csv(ruta_archivo_csv,delimiter=';')\n",
    "\n",
    "df"
   ]
  },
  {
   "cell_type": "markdown",
   "metadata": {},
   "source": [
    "## Limpiar y procesar el DataFrame\n",
    "El DataFrame df tiene las siguientes columnas:\n",
    "\n",
    "- DIA: Esta columna contiene las fechas del tipo de cmabio.\n",
    "- COMPRA: Esta columna contiene los precios de compra del dólar.\n",
    "- VENTA: Esta columna contiene los precios de venta del dólar.\n",
    "- Unnamed: 3: Esta columna contiene datos no deseados y se puede eliminar.\n",
    "- Unnamed: 4: Esta columna contiene datos no deseados y se puede eliminar."
   ]
  },
  {
   "cell_type": "code",
   "execution_count": 2,
   "metadata": {},
   "outputs": [
    {
     "name": "stdout",
     "output_type": "stream",
     "text": [
      "Shape:  (15135, 5)\n",
      "Columnas:  Index(['DIA', 'COMPRA', 'VENTA', 'Unnamed: 3', 'Unnamed: 4'], dtype='object')\n",
      "Tipado: \n",
      " DIA            object\n",
      "COMPRA        float64\n",
      "VENTA         float64\n",
      "Unnamed: 3    float64\n",
      "Unnamed: 4    float64\n",
      "dtype: object\n"
     ]
    }
   ],
   "source": [
    "print('Shape: ',df.shape)\n",
    "print('Columnas: ', df.columns)\n",
    "print('Tipado: \\n', df.dtypes)"
   ]
  },
  {
   "cell_type": "code",
   "execution_count": 3,
   "metadata": {},
   "outputs": [],
   "source": [
    "# Eliminar las columnas en los índices 2 y 3 (asumiendo que 'Unnamed: 3' está en el índice 2 y 'Unnamed: 4' en el índice 3)\n",
    "df.drop(columns=df.iloc[:, 3:], axis=1, inplace=True) # [3:] selecciona todas las columnas a partir del índice 3 (incluido)\n"
   ]
  },
  {
   "cell_type": "code",
   "execution_count": 4,
   "metadata": {},
   "outputs": [
    {
     "data": {
      "text/html": [
       "<div>\n",
       "<style scoped>\n",
       "    .dataframe tbody tr th:only-of-type {\n",
       "        vertical-align: middle;\n",
       "    }\n",
       "\n",
       "    .dataframe tbody tr th {\n",
       "        vertical-align: top;\n",
       "    }\n",
       "\n",
       "    .dataframe thead th {\n",
       "        text-align: right;\n",
       "    }\n",
       "</style>\n",
       "<table border=\"1\" class=\"dataframe\">\n",
       "  <thead>\n",
       "    <tr style=\"text-align: right;\">\n",
       "      <th></th>\n",
       "      <th>DIA</th>\n",
       "      <th>COMPRA</th>\n",
       "      <th>VENTA</th>\n",
       "    </tr>\n",
       "  </thead>\n",
       "  <tbody>\n",
       "    <tr>\n",
       "      <th>0</th>\n",
       "      <td>1 Ene 1983</td>\n",
       "      <td>44.95</td>\n",
       "      <td>45.45</td>\n",
       "    </tr>\n",
       "    <tr>\n",
       "      <th>1</th>\n",
       "      <td>2 Ene 1983</td>\n",
       "      <td>44.95</td>\n",
       "      <td>45.45</td>\n",
       "    </tr>\n",
       "    <tr>\n",
       "      <th>2</th>\n",
       "      <td>3 Ene 1983</td>\n",
       "      <td>44.95</td>\n",
       "      <td>45.45</td>\n",
       "    </tr>\n",
       "    <tr>\n",
       "      <th>3</th>\n",
       "      <td>4 Ene 1983</td>\n",
       "      <td>44.95</td>\n",
       "      <td>45.45</td>\n",
       "    </tr>\n",
       "    <tr>\n",
       "      <th>4</th>\n",
       "      <td>5 Ene 1983</td>\n",
       "      <td>44.95</td>\n",
       "      <td>45.45</td>\n",
       "    </tr>\n",
       "  </tbody>\n",
       "</table>\n",
       "</div>"
      ],
      "text/plain": [
       "          DIA  COMPRA  VENTA\n",
       "0  1 Ene 1983   44.95  45.45\n",
       "1  2 Ene 1983   44.95  45.45\n",
       "2  3 Ene 1983   44.95  45.45\n",
       "3  4 Ene 1983   44.95  45.45\n",
       "4  5 Ene 1983   44.95  45.45"
      ]
     },
     "execution_count": 4,
     "metadata": {},
     "output_type": "execute_result"
    }
   ],
   "source": [
    "# Eliminar filas con valores nulos en cualquier columna\n",
    "df.dropna(inplace=True)\n",
    "\n",
    "df.head()"
   ]
  },
  {
   "cell_type": "markdown",
   "metadata": {},
   "source": [
    "Convertir la columna 'DIA' a formato de fecha:"
   ]
  },
  {
   "cell_type": "code",
   "execution_count": 5,
   "metadata": {},
   "outputs": [],
   "source": [
    "# Diccionario de meses en español\n",
    "meses_español = {\n",
    "    \"ene\": \"Jan\",\n",
    "    \"feb\": \"Feb\",\n",
    "    \"mar\": \"Mar\",\n",
    "    \"abr\": \"Apr\",\n",
    "    \"may\": \"May\",\n",
    "    \"jun\": \"Jun\",\n",
    "    \"jul\": \"Jul\",\n",
    "    \"ago\": \"Aug\",\n",
    "    \"set\": \"Sep\",\n",
    "    \"oct\": \"Oct\",\n",
    "    \"nov\": \"Nov\",\n",
    "    \"dic\": \"Dec\"\n",
    "}\n",
    "\n",
    "# Columna 'DIA' con fechas de texto en formato \"27 marzo 2024\"\n",
    "\n",
    "# Recorrer cada fecha de texto en la columna 'DIA'\n",
    "for i in df.index:\n",
    "    fecha_texto = df.loc[i, 'DIA']\n",
    "\n",
    "    # Eliminar espacios en blanco antes de dividir\n",
    "    fecha_texto_sin_espacios = fecha_texto.strip()\n",
    "\n",
    "    # Dividir la fecha de texto en partes (día, mes, año)\n",
    "    partes_fecha = fecha_texto_sin_espacios.split()\n",
    "\n",
    "    # Convertir el mes a inglés usando el diccionario\n",
    "    mes_ingles = meses_español[partes_fecha[1].lower()]\n",
    "\n",
    "    # Reconstruir la fecha de texto con el mes en inglés\n",
    "    fecha_texto_ingles = f\"{partes_fecha[0]} {mes_ingles} {partes_fecha[2]}\"\n",
    "\n",
    "    # Convertir la fecha de texto en inglés a un objeto datetime\n",
    "    try:\n",
    "        fecha_datetime = pd.to_datetime(fecha_texto_ingles, format=\"%d %b %Y\")\n",
    "        df.loc[i, 'DIA'] = fecha_datetime\n",
    "    except ValueError:\n",
    "        print(f\"Error al convertir la fecha: {fecha_texto}\")"
   ]
  },
  {
   "cell_type": "code",
   "execution_count": 6,
   "metadata": {},
   "outputs": [],
   "source": [
    "# Definir el formato de la fecha de texto\n",
    "formato_fecha = \"%d %b %Y\"\n",
    "\n",
    "# Convertir la columna 'DIA' a un objeto datetime\n",
    "df['DIA'] = pd.to_datetime(df['DIA'], format=\"%d %b %Y\")"
   ]
  },
  {
   "cell_type": "code",
   "execution_count": 7,
   "metadata": {},
   "outputs": [],
   "source": [
    "# Definir series\n",
    "anios = df['DIA']\n",
    "compra = df['COMPRA']\n",
    "venta = df['VENTA']"
   ]
  },
  {
   "cell_type": "code",
   "execution_count": 8,
   "metadata": {},
   "outputs": [
    {
     "data": {
      "text/html": [
       "<div>\n",
       "<style scoped>\n",
       "    .dataframe tbody tr th:only-of-type {\n",
       "        vertical-align: middle;\n",
       "    }\n",
       "\n",
       "    .dataframe tbody tr th {\n",
       "        vertical-align: top;\n",
       "    }\n",
       "\n",
       "    .dataframe thead th {\n",
       "        text-align: right;\n",
       "    }\n",
       "</style>\n",
       "<table border=\"1\" class=\"dataframe\">\n",
       "  <thead>\n",
       "    <tr style=\"text-align: right;\">\n",
       "      <th></th>\n",
       "      <th>DIA</th>\n",
       "      <th>COMPRA</th>\n",
       "      <th>VENTA</th>\n",
       "    </tr>\n",
       "  </thead>\n",
       "  <tbody>\n",
       "    <tr>\n",
       "      <th>0</th>\n",
       "      <td>1983-01-01</td>\n",
       "      <td>44.95</td>\n",
       "      <td>45.45</td>\n",
       "    </tr>\n",
       "    <tr>\n",
       "      <th>1</th>\n",
       "      <td>1983-01-02</td>\n",
       "      <td>44.95</td>\n",
       "      <td>45.45</td>\n",
       "    </tr>\n",
       "    <tr>\n",
       "      <th>2</th>\n",
       "      <td>1983-01-03</td>\n",
       "      <td>44.95</td>\n",
       "      <td>45.45</td>\n",
       "    </tr>\n",
       "    <tr>\n",
       "      <th>3</th>\n",
       "      <td>1983-01-04</td>\n",
       "      <td>44.95</td>\n",
       "      <td>45.45</td>\n",
       "    </tr>\n",
       "    <tr>\n",
       "      <th>4</th>\n",
       "      <td>1983-01-05</td>\n",
       "      <td>44.95</td>\n",
       "      <td>45.45</td>\n",
       "    </tr>\n",
       "    <tr>\n",
       "      <th>...</th>\n",
       "      <td>...</td>\n",
       "      <td>...</td>\n",
       "      <td>...</td>\n",
       "    </tr>\n",
       "    <tr>\n",
       "      <th>15130</th>\n",
       "      <td>2024-05-04</td>\n",
       "      <td>503.94</td>\n",
       "      <td>511.51</td>\n",
       "    </tr>\n",
       "    <tr>\n",
       "      <th>15131</th>\n",
       "      <td>2024-05-05</td>\n",
       "      <td>503.94</td>\n",
       "      <td>511.51</td>\n",
       "    </tr>\n",
       "    <tr>\n",
       "      <th>15132</th>\n",
       "      <td>2024-05-06</td>\n",
       "      <td>503.94</td>\n",
       "      <td>511.51</td>\n",
       "    </tr>\n",
       "    <tr>\n",
       "      <th>15133</th>\n",
       "      <td>2024-05-07</td>\n",
       "      <td>504.53</td>\n",
       "      <td>512.28</td>\n",
       "    </tr>\n",
       "    <tr>\n",
       "      <th>15134</th>\n",
       "      <td>2024-05-08</td>\n",
       "      <td>506.22</td>\n",
       "      <td>512.64</td>\n",
       "    </tr>\n",
       "  </tbody>\n",
       "</table>\n",
       "<p>15104 rows × 3 columns</p>\n",
       "</div>"
      ],
      "text/plain": [
       "             DIA  COMPRA   VENTA\n",
       "0     1983-01-01   44.95   45.45\n",
       "1     1983-01-02   44.95   45.45\n",
       "2     1983-01-03   44.95   45.45\n",
       "3     1983-01-04   44.95   45.45\n",
       "4     1983-01-05   44.95   45.45\n",
       "...          ...     ...     ...\n",
       "15130 2024-05-04  503.94  511.51\n",
       "15131 2024-05-05  503.94  511.51\n",
       "15132 2024-05-06  503.94  511.51\n",
       "15133 2024-05-07  504.53  512.28\n",
       "15134 2024-05-08  506.22  512.64\n",
       "\n",
       "[15104 rows x 3 columns]"
      ]
     },
     "execution_count": 8,
     "metadata": {},
     "output_type": "execute_result"
    }
   ],
   "source": [
    "df"
   ]
  },
  {
   "cell_type": "markdown",
   "metadata": {},
   "source": [
    "### 1. Evolución del tipo de cambio de compra y venta a lo largo del tiempo:"
   ]
  },
  {
   "cell_type": "code",
   "execution_count": 9,
   "metadata": {},
   "outputs": [
    {
     "data": {
      "image/png": "[encoded data removed]",
      "text/plain": [
       "<Figure size 1000x600 with 1 Axes>"
      ]
     },
     "metadata": {},
     "output_type": "display_data"
    }
   ],
   "source": [
    "import pandas as pd\n",
    "import matplotlib.pyplot as plt\n",
    "\n",
    "# Carga de datos\n",
    "data = df.copy()\n",
    "\n",
    "# Selección de fechas\n",
    "fechas = data[\"DIA\"]\n",
    "\n",
    "# Tipo de cambio de compra\n",
    "tipo_cambio_compra = data[\"COMPRA\"]\n",
    "\n",
    "# Tipo de cambio de venta\n",
    "tipo_cambio_venta = data[\"VENTA\"]\n",
    "\n",
    "# Gráfico de líneas\n",
    "plt.figure(figsize=(10, 6))\n",
    "plt.plot(fechas, tipo_cambio_compra, label=\"Compra\")\n",
    "plt.plot(fechas, tipo_cambio_venta, label=\"Venta\")\n",
    "plt.xlabel(\"Fecha\")\n",
    "plt.ylabel(\"Tipo de cambio\")\n",
    "plt.title(\"Evolución del tipo de cambio de dólar en Costa Rica\")\n",
    "plt.legend()\n",
    "plt.grid(True)\n",
    "plt.show()\n"
   ]
  },
  {
   "cell_type": "markdown",
   "metadata": {},
   "source": [
    "### 2. Distribución del tipo de cambio de compra y venta 2020 2025 (Dos Graficos):"
   ]
  },
  {
   "cell_type": "markdown",
   "metadata": {},
   "source": [
    "### 3. Relación entre el tipo de cambio de compra y venta Anual:\n",
    "Leer año con un input"
   ]
  },
  {
   "cell_type": "markdown",
   "metadata": {},
   "source": [
    "### 4. Grafico adicional"
   ]
  }
 ],
 "metadata": {
  "kernelspec": {
   "display_name": "Python 3",
   "language": "python",
   "name": "python3"
  },
  "language_info": {
   "codemirror_mode": {
    "name": "ipython",
    "version": 3
   },
   "file_extension": ".py",
   "mimetype": "text/x-python",
   "name": "python",
   "nbconvert_exporter": "python",
   "pygments_lexer": "ipython3",
   "version": "3.12.2"
  }
 },
 "nbformat": 4,
 "nbformat_minor": 2
}
