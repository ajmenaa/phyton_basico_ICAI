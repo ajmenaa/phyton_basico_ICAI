{
 "cells": [
  {
   "cell_type": "markdown",
   "metadata": {},
   "source": [
    "# Módulos – Paquetes- Bibliotecas\n",
    "## 1.\tMódulo: \n",
    "Un módulo en Python es un archivo que contiene definiciones y declaraciones de código Python. Estas definiciones pueden incluir funciones, clases, variables y otros objetos relacionados. Los módulos se utilizan para organizar y reutilizar el código de manera eficiente. Puedes importar un módulo en otro archivo de Python para utilizar las funciones y objetos definidos en él.\n",
    "\n",
    "**Por ejemplo**, puedes tener un módulo llamado estadisticas.py que contiene funciones para calcular medias, medianas, modas, etc.:\n",
    "\n"
   ]
  },
  {
   "cell_type": "code",
   "execution_count": 1,
   "metadata": {},
   "outputs": [],
   "source": [
    "# estadisticas.py\n",
    "def media(datos):\n",
    "    return sum(datos) / len(datos)\n",
    "\n",
    "def mediana(datos):\n",
    "    datos_sorted = sorted(datos)\n",
    "    n = len(datos)\n",
    "    mid = n // 2\n",
    "    if n % 2 == 0:\n",
    "        return (datos_sorted[mid - 1] + datos_sorted[mid]) / 2.0\n",
    "    else:\n",
    "        return datos_sorted[mid]"
   ]
  },
  {
   "cell_type": "markdown",
   "metadata": {},
   "source": [
    "Para utilizar este módulo en otro archivo, simplemente importarías las funciones que necesitas:"
   ]
  },
  {
   "cell_type": "code",
   "execution_count": 2,
   "metadata": {},
   "outputs": [
    {
     "name": "stdout",
     "output_type": "stream",
     "text": [
      "Media: 3.0\n",
      "Mediana: 3\n"
     ]
    }
   ],
   "source": [
    "from estadisticas import media, mediana\n",
    "\n",
    "datos = [1, 2, 3, 4, 5]\n",
    "print(\"Media:\", media(datos))\n",
    "print(\"Mediana:\", mediana(datos))"
   ]
  },
  {
   "cell_type": "markdown",
   "metadata": {},
   "source": [
    "\n",
    "## 2.\tPaquete: \n",
    "Un paquete en Python es una forma de organizar un conjunto de módulos relacionados en una estructura jerárquica de directorios. Un paquete es simplemente una carpeta que contiene uno o más módulos, junto con un archivo especial llamado __init__.py. El archivo __init__.py indica que la carpeta es un paquete de Python y puede contener código de inicialización o importaciones adicionales. Los paquetes permiten organizar y agrupar módulos relacionados en una estructura lógica.\n",
    "\n",
    "**Por ejemplo**, podrías tener un paquete llamado analisis_datos que incluya varios módulos como estadisticas.py, carga_datos.py, etc. La estructura del directorio sería algo así:\n",
    "\n"
   ]
  },
  {
   "cell_type": "markdown",
   "metadata": {},
   "source": [
    "```\n",
    "analisis_datos/\n",
    "│\n",
    "├── init.py\n",
    "├── estadisticas.py\n",
    "└── carga_datos.py\n",
    "```"
   ]
  },
  {
   "cell_type": "markdown",
   "metadata": {},
   "source": [
    "Para utilizar un módulo dentro de este paquete, necesitarías importar de la siguiente manera:"
   ]
  },
  {
   "cell_type": "code",
   "execution_count": 3,
   "metadata": {},
   "outputs": [
    {
     "name": "stdout",
     "output_type": "stream",
     "text": [
      "Media: 30.0\n",
      "Mediana: 30\n"
     ]
    }
   ],
   "source": [
    "# Sin __init__\n",
    "from analisis_datos.estadisticas import calcular_media,calcular_mediana\n",
    "\n",
    "datos = [10, 20, 30, 40, 50]\n",
    "print(\"Media:\", calcular_media(datos))\n",
    "print(\"Mediana:\", calcular_mediana(datos))"
   ]
  },
  {
   "cell_type": "code",
   "execution_count": 4,
   "metadata": {},
   "outputs": [
    {
     "name": "stdout",
     "output_type": "stream",
     "text": [
      "Media: 30.0\n",
      "Mediana: 30\n"
     ]
    }
   ],
   "source": [
    "# Con  __init__\n",
    "from analisis_datos import calcular_media, calcular_mediana\n",
    "\n",
    "datos = [10, 20, 30, 40, 50]\n",
    "print(\"Media:\", calcular_media(datos))\n",
    "print(\"Mediana:\", calcular_mediana(datos))"
   ]
  },
  {
   "cell_type": "markdown",
   "metadata": {},
   "source": [
    "### Buenas Prácticas\n",
    "1. **Organización**: Mantén los módulos y paquetes bien organizados según la funcionalidad para facilitar el mantenimiento y la escalabilidad del proyecto.\n",
    "2. **Nombres Descriptivos**: Utiliza nombres claros y descriptivos tanto para módulos como para funciones y clases.\n",
    "3. **Documentación**: Documenta bien los módulos y funciones, especialmente en un contexto de ciencia de datos, donde la claridad en los procesos analíticos es crucial.#"
   ]
  },
  {
   "cell_type": "markdown",
   "metadata": {},
   "source": [
    "## 3.\tBiblioteca: \n",
    "En Python, el término \"biblioteca\" o \"librería\" se utiliza para referirse a un conjunto de módulos y/o paquetes que proporcionan funcionalidades específicas y están diseñados para ser reutilizados en diferentes proyectos. Una biblioteca puede incluir múltiples módulos y paquetes relacionados que se agrupan para facilitar su distribución y uso. Las bibliotecas pueden ser parte de la biblioteca estándar de Python o pueden ser bibliotecas de terceros que se han desarrollado para resolver problemas específicos.\n",
    "\n",
    "\n",
    "> En resumen: Un módulo es un archivo que contiene código Python, un paquete es una carpeta que contiene uno o más módulos relacionados, y una biblioteca es un conjunto de módulos y/o paquetes que proporcionan funcionalidades específicas y están diseñados para ser reutilizados. Los módulos y paquetes se utilizan para organizar y reutilizar el código, mientras que las bibliotecas son conjuntos de módulos y paquetes que proporcionan funcionalidades adicionales y soluciones a problemas específicos."
   ]
  },
  {
   "cell_type": "markdown",
   "metadata": {},
   "source": [
    "# EJEMPLO\n",
    "\n",
    "Primero vamos a suponer que el paquete analisis_datos ya está correctamente configurado con los módulos carga_datos.py y estadisticas.py. A continuación, crearé un tercer archivo, llamado lista_compras.py, donde vamos a utilizar la librería random para seleccionar elementos aleatorios de una lista de posibles compras y almacenarlos en un archivo"
   ]
  },
  {
   "cell_type": "code",
   "execution_count": null,
   "metadata": {},
   "outputs": [],
   "source": [
    "#carga_datos.py\n",
    "import random\n",
    "\n",
    "def generar_lista_compras():\n",
    "    productos = {\n",
    "        \"manzanas\": 1000,\n",
    "        \"bananos\": 150,\n",
    "        \"cerezas\": 2000,\n",
    "        \"naranjas\": 900,\n",
    "        \"pan\": 2275,\n",
    "        \"leche\": 840,\n",
    "        \"huevos\": 3400,\n",
    "        \"queso\": 5000\n",
    "    }\n",
    "    seleccion = random.sample(list(productos.items()), k=5)  # Selecciona 5 productos aleatorios y los retorna como una lista\n",
    "    return seleccion\n",
    "\n",
    "def guardar_lista_compras(lista_compras, nombre_archivo=\"lista_compras.txt\"):\n",
    "    try:\n",
    "        # Operaciones con el archivo\n",
    "        with open(nombre_archivo, 'w') as archivo:\n",
    "            for producto, precio in lista_compras:\n",
    "                archivo.write(f\"{producto}:{precio}\\n\")\n",
    "        print(f\"Lista de compras guardada en '{nombre_archivo}'.\")\n",
    "    except Exception as e:  # Captura cualquier excepción\n",
    "        print(f\"Error al trabajar con el archivo: {e}\")\n",
    "    finally:\n",
    "        if archivo:\n",
    "            archivo.close()"
   ]
  },
  {
   "cell_type": "code",
   "execution_count": 5,
   "metadata": {},
   "outputs": [
    {
     "name": "stdout",
     "output_type": "stream",
     "text": [
      "Lista de compras guardada en 'lista_compras.txt'.\n",
      "Media de precios: ¢1778.00\n",
      "Mediana de precios: ¢900.00\n"
     ]
    }
   ],
   "source": [
    "\n",
    "# Archivo __main__\n",
    "from analisis_datos import calcular_media, calcular_mediana #Init Configurado\n",
    "from analisis_datos.carga_datos import generar_lista_compras,guardar_lista_compras # Import manual por función\n",
    "\n",
    "#Generar una lista de compras aleatoria y escribir esta lista en un archivo\n",
    "lista_compras = generar_lista_compras()\n",
    "guardar_lista_compras(lista_compras)\n",
    "precios = [precio for _, precio in lista_compras]\n",
    "media = calcular_media(precios)\n",
    "mediana = calcular_mediana(precios)\n",
    "print(f\"Media de precios: ¢{media:.2f}\")\n",
    "print(f\"Mediana de precios: ¢{mediana:.2f}\")"
   ]
  }
 ],
 "metadata": {
  "kernelspec": {
   "display_name": "Python 3",
   "language": "python",
   "name": "python3"
  },
  "language_info": {
   "codemirror_mode": {
    "name": "ipython",
    "version": 3
   },
   "file_extension": ".py",
   "mimetype": "text/x-python",
   "name": "python",
   "nbconvert_exporter": "python",
   "pygments_lexer": "ipython3",
   "version": "3.12.2"
  }
 },
 "nbformat": 4,
 "nbformat_minor": 2
}
