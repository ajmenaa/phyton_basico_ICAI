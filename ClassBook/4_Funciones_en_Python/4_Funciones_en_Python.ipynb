{
  "cells": [
    {
      "cell_type": "markdown",
      "metadata": {
        "id": "VtNWFSbTSUZr"
      },
      "source": [
        "# Funciones en Python: Definición, Ejemplos y Documentación"
      ]
    },
    {
      "cell_type": "markdown",
      "metadata": {
        "id": "rLYvd-iKU-mn"
      },
      "source": [
        "## Introducción\n",
        "Las funciones en Python son bloques de código reutilizables que permiten modularizar el programa, mejorar la legibilidad y evitar la duplicación de código. Se definen utilizando la palabra clave **def** seguida del nombre de la función, paréntesis, parámetros opcionales y dos puntos. A continuación, se escribe el bloque de código indentado que representa el cuerpo de la función."
      ]
    },
    {
      "cell_type": "markdown",
      "metadata": {
        "id": "OBVAp-TnVU7B"
      },
      "source": [
        "## Estructura de una función"
      ]
    },
    {
      "cell_type": "code",
      "execution_count": 1,
      "metadata": {
        "id": "583UKkJwVeAt"
      },
      "outputs": [],
      "source": [
        "def nombre_funcion(parametro1, parametro2):\n",
        "  \"\"\"\n",
        "  Documentación de la función\n",
        "\n",
        "  Esta función realiza ...\n",
        "\n",
        "  Parámetros:\n",
        "    parametro1: Descripción del primer parámetro.\n",
        "    parametro2: Descripción del segundo parámetro.\n",
        "    ...\n",
        "\n",
        "  Retorno:\n",
        "    Valor de retorno de la función (opcional).\n",
        "  \"\"\"\n",
        "  # Bloque de código de la función\n",
        "  ..."
      ]
    },
    {
      "cell_type": "markdown",
      "metadata": {
        "id": "r05M0uCdVqaa"
      },
      "source": [
        "### Características\n",
        "- **Reutilizables:** Las funciones se pueden llamar desde cualquier parte del programa.\n",
        "- **Modulares:** Permiten dividir el programa en secciones más pequeñas y manejables.\n",
        "- **Legibles:** Mejoran la comprensión del código al agru\n",
        "par funcionalidades relacionadas.\n",
        "- **Evitar duplicación:** Eliminan la necesidad de escribir el mismo código varias veces."
      ]
    },
    {
      "cell_type": "markdown",
      "metadata": {
        "id": "vzO_vd_IZlZ7"
      },
      "source": [
        "## Ejemplos"
      ]
    },
    {
      "cell_type": "markdown",
      "metadata": {
        "id": "9ONVsiXsIr1b"
      },
      "source": [
        "#### 1. Función para saludar:º"
      ]
    },
    {
      "cell_type": "code",
      "execution_count": null,
      "metadata": {
        "colab": {
          "base_uri": "https://localhost:8080/"
        },
        "id": "vlNcCmM-G_vT",
        "outputId": "64aac918-947b-4a5d-fe25-278008b4b7bc"
      },
      "outputs": [
        {
          "name": "stdout",
          "output_type": "stream",
          "text": [
            "Hola Andrés! ¿Cómo estás?\n"
          ]
        }
      ],
      "source": [
        "def saludar(nombre):\n",
        "  \"\"\"\n",
        "  Función que saluda a una persona por su nombre.\n",
        "\n",
        "  Parámetro:\n",
        "    nombre: El nombre de la persona a saludar.\n",
        "\n",
        "  Retorno:\n",
        "    Un mensaje de saludo personalizado.\n",
        "  \"\"\"\n",
        "  mensaje = \"Hola \" + nombre + \"! ¿Cómo estás?\"\n",
        "  return mensaje\n",
        "\n",
        "# Llamada a la función\n",
        "persona = \"Andrés\"\n",
        "saludo = saludar(persona)\n",
        "print(saludo)"
      ]
    },
    {
      "cell_type": "markdown",
      "metadata": {
        "id": "c7JoYIwyHGd6"
      },
      "source": [
        "#### 2. Función con parámetros por defecto y valores de retorno múltiples:"
      ]
    },
    {
      "cell_type": "code",
      "execution_count": null,
      "metadata": {
        "colab": {
          "base_uri": "https://localhost:8080/"
        },
        "id": "J1YUFshjHJZm",
        "outputId": "1a1c0307-94aa-481c-ec76-4f9a411d360a"
      },
      "outputs": [
        {
          "name": "stdout",
          "output_type": "stream",
          "text": [
            "Resultado: 100\n",
            "Suma: 10\n",
            "Resultado: 512\n",
            "Suma: 8\n"
          ]
        }
      ],
      "source": [
        "def calcular_area_y_perimetro_rectangulo(base, altura, unidad=\"cm\"):\n",
        "  \"\"\"\n",
        "  Función para calcular el área y perímetro de un rectángulo.\n",
        "\n",
        "  Parámetros:\n",
        "    base: La longitud de la base del rectángulo (obligatorio).\n",
        "    altura: La longitud de la altura del rectángulo (obligatorio).\n",
        "    unidad: La unidad de medida para el área y perímetro (opcional, por defecto \"cm\").\n",
        "\n",
        "  Retorno:\n",
        "    Una tupla con el área y perímetro del rectángulo, en la unidad especificada.\n",
        "  \"\"\"\n",
        "  area = base * altura\n",
        "  perimetro = 2 * (base + altura)\n",
        "  return area, perimetro, unidad\n",
        "\n",
        "# Llamada a la función con parámetros por defecto\n",
        "resultado = calcular_area_y_perimetro_rectangulo(5, 3)\n",
        "print(\"Área:\", resultado[0], resultado[2])  # Acceder al área y unidad\n",
        "print(\"Perímetro:\", resultado[1], resultado[2])  # Acceder al perímetro y unidad\n",
        "\n",
        "# Llamada a la función con todos los parámetros\n",
        "resultado = calcular_area_y_perimetro_rectangulo(10, 7, \"m\")\n",
        "print(\"Área (en metros):\", resultado[0], resultado[2])\n",
        "print(\"Perímetro (en metros):\", resultado[1], resultado[2])"
      ]
    },
    {
      "cell_type": "markdown",
      "metadata": {
        "id": "xSTEpJftH4QB"
      },
      "source": [
        "**Explicación:**\n",
        "\n",
        "1. La función calcular_area_y_perimetro_rectangulo toma dos parámetros obligatorios, base y altura, y un parámetro opcional unidad con valor por defecto \"cm\".\n",
        "2. La función calcula el área y perímetro del rectángulo utilizando las fórmulas:\n",
        "*área = base * altura y perímetro = 2 * (base + altura)*.\n",
        "3. La función retorna una tupla que contiene tres elementos: el área, el perímetro y la unidad de medida.\n",
        "4. Al llamar a la función, se pueden especificar los valores para todos los parámetros o solo para algunos. Si no se especifica un valor para un parámetro opcional, se utiliza el valor por defecto.\n",
        "5. En la tupla de retorno, cada elemento se puede acceder por su índice: resultado[0] para el área, resultado[1] para el perímetro y resultado[2] para la unidad."
      ]
    },
    {
      "cell_type": "markdown",
      "metadata": {
        "id": "dKRP1BOlHQAj"
      },
      "source": [
        "#### 3. Función para contar la cantidad de vocales en una cadena:"
      ]
    },
    {
      "cell_type": "code",
      "execution_count": null,
      "metadata": {
        "id": "CgPG4RzgHXl3"
      },
      "outputs": [],
      "source": [
        "#Programa contar vocales en 5 frases\n",
        "def contar_vocales(cadena,activa_mayus=False):\n",
        "  if activa_mayus:\n",
        "    vocales = 'aeiouAEIOU'\n",
        "  else:\n",
        "    vocales = 'aeiou'\n",
        "\n",
        "  contador_vocales = 0\n",
        "\n",
        "  for letra in cadena:\n",
        "    if letra in vocales:\n",
        "      contador_vocales += 1 # contador_vocales = contador_vocals + 1\n",
        "  return contador_vocales\n",
        "\n",
        "contador = 0\n",
        "while contador <=5:\n",
        "  frase = input('Ingrese la frase: ')\n",
        "  #contar_vocales\n",
        "  cantidad_vocales = contar_vocales(frase,True)\n",
        "  print(f'La frase {frase} contiene {cantidad_vocales} vocales')\n",
        "  contador += 1"
      ]
    },
    {
      "cell_type": "markdown",
      "metadata": {
        "id": "_X0WeRC3JEhG"
      },
      "source": [
        "### Calcular promedios de estudiantes\n",
        "**Descripción del problema:**\n",
        "\n",
        "Un profesor necesita calcular el promedio de calificaciones de sus estudiantes en un curso. Cada estudiante tiene una sola calificación. El profesor desea crear un programa que le permita:\n",
        "\n",
        "1. Ingresar las calificaciones de cada estudiante.\n",
        "2. Calcular el promedio general de la clase.\n",
        "3. Mostrar una tabla con los nombres de los estudiantes y sus calificaciones.\n",
        "\n",
        "\n",
        "**Solución utilizando ciclos y funciones:**"
      ]
    },
    {
      "cell_type": "code",
      "execution_count": null,
      "metadata": {
        "id": "ur1gxH-QJQ_1"
      },
      "outputs": [],
      "source": [
        "def calcular_promedio(calificaciones):\n",
        "  \"\"\"\n",
        "  Función para calcular el promedio de una lista de calificaciones.\n",
        "\n",
        "  Parámetro:\n",
        "    calificaciones: Una lista de calificaciones numéricas.\n",
        "\n",
        "  Retorno:\n",
        "    El promedio de las calificaciones.\n",
        "  \"\"\"\n",
        "  suma_calificaciones = 0\n",
        "  for calificacion in calificaciones:\n",
        "    suma_calificaciones += calificacion\n",
        "  promedio = suma_calificaciones / len(calificaciones)\n",
        "  return promedio\n",
        "\n",
        "def mostrar_tabla_resultados(estudiantes, calificaciones):\n",
        "  \"\"\"\n",
        "  Función para mostrar una tabla con los nombres y calificaciones de los estudiantes.\n",
        "\n",
        "  Parámetros:\n",
        "    estudiantes: Una lista con los nombres de los estudiantes.\n",
        "    calificaciones: Una lista con las calificaciones de los estudiantes.\n",
        "  \"\"\"\n",
        "  print(\"-\" * 30)\n",
        "  print(\"| Nombre          | Calificación |\")\n",
        "  print(\"-\" * 30)\n",
        "  for i in range(len(estudiantes)):\n",
        "    nombre = estudiantes[i]\n",
        "    calificacion = calificaciones[i]\n",
        "    print(f\"| {nombre:<15} | {calificacion:>10} |\")\n",
        "  print(\"-\" * 30)\n",
        "\n",
        "# Programa principal\n",
        "estudiantes = []  # Lista para almacenar nombres de estudiantes\n",
        "calificaciones = []  # Lista para almacenar calificaciones\n",
        "\n",
        "cantidad_estudiantes = int(input(\"¿Cuántos estudiantes hay en la clase? \"))\n",
        "\n",
        "# Ingresar datos de los estudiantes\n",
        "for i in range(cantidad_estudiantes):\n",
        "  nombre = input(f\"Ingrese el nombre del estudiante {i + 1}: \")\n",
        "  calificacion = float(input(f\"Ingrese la calificación de {nombre}: \"))\n",
        "\n",
        "  # Almacenar datos en las listas\n",
        "  estudiantes.append(nombre)\n",
        "  calificaciones.append(calificacion)\n",
        "\n",
        "# Calcular promedio general\n",
        "promedio_general = calcular_promedio(calificaciones)\n",
        "\n",
        "# Mostrar tabla de resultados\n",
        "mostrar_tabla_resultados(estudiantes, calificaciones)\n",
        "\n",
        "# Mostrar promedio general\n",
        "print(f\"Promedio general de la clase: {promedio_general:.2f}\")"
      ]
    }
  ],
  "metadata": {
    "colab": {
      "provenance": []
    },
    "kernelspec": {
      "display_name": "Python 3",
      "name": "python3"
    },
    "language_info": {
      "codemirror_mode": {
        "name": "ipython",
        "version": 3
      },
      "file_extension": ".py",
      "mimetype": "text/x-python",
      "name": "python",
      "nbconvert_exporter": "python",
      "pygments_lexer": "ipython3",
      "version": "3.12.2"
    }
  },
  "nbformat": 4,
  "nbformat_minor": 0
}
