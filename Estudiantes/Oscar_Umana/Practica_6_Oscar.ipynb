{
 "cells": [
  {
   "cell_type": "markdown",
   "id": "3127ae9d",
   "metadata": {},
   "source": [
    "# Creación de Arrays"
   ]
  },
  {
   "cell_type": "markdown",
   "id": "4075b2ab",
   "metadata": {},
   "source": [
    "### Crear un array a partir de una lista"
   ]
  },
  {
   "cell_type": "code",
   "execution_count": 3,
   "id": "98fafc10",
   "metadata": {},
   "outputs": [],
   "source": [
    "import numpy as np\n",
    "\n"
   ]
  },
  {
   "cell_type": "markdown",
   "id": "0e8e40b3",
   "metadata": {},
   "source": [
    "### Crear un array de ceros de tamaño 5x5"
   ]
  },
  {
   "cell_type": "code",
   "execution_count": 6,
   "id": "043e0131",
   "metadata": {},
   "outputs": [
    {
     "name": "stdout",
     "output_type": "stream",
     "text": [
      "[[0. 0. 0. 0. 0.]\n",
      " [0. 0. 0. 0. 0.]\n",
      " [0. 0. 0. 0. 0.]\n",
      " [0. 0. 0. 0. 0.]\n",
      " [0. 0. 0. 0. 0.]]\n"
     ]
    }
   ],
   "source": [
    "#Código crear un array de ceros de tamaño 5x5\n",
    "\n",
    "array_1 = np.zeros([5,5])\n",
    "print(array_1)"
   ]
  },
  {
   "cell_type": "markdown",
   "id": "a640f233",
   "metadata": {},
   "source": [
    "### Crear un array de unos de tamaño 3x3"
   ]
  },
  {
   "cell_type": "code",
   "execution_count": 7,
   "id": "ac2b7096",
   "metadata": {},
   "outputs": [
    {
     "name": "stdout",
     "output_type": "stream",
     "text": [
      "[[1. 1. 1.]\n",
      " [1. 1. 1.]\n",
      " [1. 1. 1.]]\n"
     ]
    }
   ],
   "source": [
    "#Código crear un array de unos de tamaño 3x3\n",
    "array_2 = np.ones([3,3])\n",
    "print(array_2)"
   ]
  },
  {
   "cell_type": "markdown",
   "id": "5ff1ca1e",
   "metadata": {},
   "source": [
    "### Crear un array con valores espaciados uniformemente de 0 a 9"
   ]
  },
  {
   "cell_type": "code",
   "execution_count": 10,
   "id": "60cefb4b",
   "metadata": {},
   "outputs": [
    {
     "name": "stdout",
     "output_type": "stream",
     "text": [
      "[0 1 2 3 4 5 6 7 8 9]\n"
     ]
    }
   ],
   "source": [
    "#Código rear un array con valores espaciados uniformemente de 0 a 9\n",
    "array_3 = np.arange(10)\n",
    "print(array_3)"
   ]
  },
  {
   "cell_type": "markdown",
   "id": "af014afb",
   "metadata": {},
   "source": [
    "### #Crear un array con 6 valores espaciados linealmente entre 0 y 1\n"
   ]
  },
  {
   "cell_type": "code",
   "execution_count": 11,
   "id": "5ba6f502",
   "metadata": {},
   "outputs": [
    {
     "name": "stdout",
     "output_type": "stream",
     "text": [
      "[0.  0.2 0.4 0.6 0.8]\n"
     ]
    }
   ],
   "source": [
    "#Código crear un array con 6 valores espaciados linealmente entre 0 y 1\n",
    "array_4 = np.arange(0,1, step = 0.2)\n",
    "print(array_4)\n"
   ]
  },
  {
   "cell_type": "markdown",
   "id": "90ed91a1",
   "metadata": {},
   "source": [
    "# Operaciones Básicas"
   ]
  },
  {
   "cell_type": "markdown",
   "id": "b000074f",
   "metadata": {},
   "source": [
    "### Realizar una suma, resta, multiplicación y división entre dos arrays"
   ]
  },
  {
   "cell_type": "code",
   "execution_count": 13,
   "id": "ff348071",
   "metadata": {},
   "outputs": [
    {
     "name": "stdout",
     "output_type": "stream",
     "text": [
      "[11  8 11]\n",
      "[30 16 18]\n",
      "[-1  0 -7]\n",
      "[0.83333333 1.         0.22222222]\n"
     ]
    },
    {
     "data": {
      "text/plain": [
       "'\\nprint(\"La suma es: \",suma)\\nprint(\"La resta es: \",resta)\\nprint(\"La multiplicacion es: \",multiplicacion)\\nprint(\"La division es: \",division)\\n'"
      ]
     },
     "execution_count": 13,
     "metadata": {},
     "output_type": "execute_result"
    }
   ],
   "source": [
    "array_1 = np.array([5,4,2])\n",
    "array_2 = np.array([6,4,9])\n",
    "\n",
    "#Código realizar una suma, resta, multiplicación y división entre dos arrays\n",
    "\n",
    "array_suma = array_1 + array_2\n",
    "print(\"El resultado de la suma es:\",array_suma)\n",
    "\n",
    "array_prod = array_1 * array_2\n",
    "print(\"El resultado del producto es:\", array_prod)\n",
    "\n",
    "array_resta = array_1 - array_2\n",
    "print(\"El resultado de la resta es:\", array_resta)\n",
    "\n",
    "array_div = array_1 / array_2\n",
    "print(\"El resultado de la división es:\", array_div)\n",
    "\n",
    "\n",
    "\n",
    "# Salida\n",
    "'''\n",
    "print(\"La suma es: \",suma)\n",
    "print(\"La resta es: \",resta)\n",
    "print(\"La multiplicacion es: \",multiplicacion)\n",
    "print(\"La division es: \",division)\n",
    "'''\n"
   ]
  },
  {
   "cell_type": "code",
   "execution_count": 14,
   "id": "a270ae97",
   "metadata": {},
   "outputs": [
    {
     "name": "stdout",
     "output_type": "stream",
     "text": [
      "100\n"
     ]
    }
   ],
   "source": [
    "#Calcular el producto punto de dos arrays\n",
    "array_1 =np.array([2,4,8])\n",
    "array_2 = np.array([-4,7,10 ])\n",
    "\n",
    "resultado = np.dot(array_1,array_2)\n",
    "print(resultado)"
   ]
  },
  {
   "cell_type": "code",
   "execution_count": 17,
   "id": "dddd8ba1",
   "metadata": {},
   "outputs": [
    {
     "name": "stdout",
     "output_type": "stream",
     "text": [
      "vamos a trasnponer este array\n",
      "[[14  5  9]\n",
      " [11 25 33]\n",
      " [10 -5  4]]\n",
      "[[14 11 10]\n",
      " [ 5 25 -5]\n",
      " [ 9 33  4]]\n"
     ]
    }
   ],
   "source": [
    "#Transponer un array\n",
    "\n",
    "print(\"vamos a trasnponer este array\")\n",
    "\n",
    "array_1 = np.array(([14,5,9], [11,25,33], [10,-5,4]))\n",
    "\n",
    "print(array_1)\n",
    "\n",
    "array_1transp = array_1.T\n",
    "print(array_1transp)\n",
    "\n",
    "\n",
    "\n"
   ]
  },
  {
   "cell_type": "markdown",
   "id": "5e44ba57",
   "metadata": {},
   "source": [
    "# Operaciones Estadísticas"
   ]
  },
  {
   "cell_type": "code",
   "execution_count": 22,
   "id": "7f3e6efd",
   "metadata": {},
   "outputs": [
    {
     "name": "stdout",
     "output_type": "stream",
     "text": [
      "3.0\n",
      "15\n",
      "1\n",
      "5\n"
     ]
    },
    {
     "data": {
      "text/plain": [
       "'\\n# Mostrar los resultados\\nprint(\"La media es:\", media)\\nprint(\"La suma es:\", suma)\\nprint(\"El valor mínimo es:\", valor_minimo)\\nprint(\"El valor máximo es:\", valor_maximo)\\n'"
      ]
     },
     "execution_count": 22,
     "metadata": {},
     "output_type": "execute_result"
    }
   ],
   "source": [
    "#Calcular la media, suma, valor mínimo y valor máximo de un array\n",
    "\n",
    "# Crear un array NumPy\n",
    "array_numeros = np.array([5, 2, 4, 1, 3])\n",
    "\n",
    "# Calcular la media\n",
    "\n",
    "array_media = array_numeros.mean()\n",
    "\n",
    "print(\"La media tiene un valor de\", array_media)\n",
    "\n",
    "# Calcular la suma\n",
    "\n",
    "array_suma = array_numeros.sum()\n",
    "print(\"El resultado de la suma de los elementos es:\",array_suma)\n",
    "\n",
    "# Calcular el valor mínimo\n",
    "\n",
    "min = array_numeros.min()\n",
    "print(\"El valor minimo de los elementos es:\", min)\n",
    "# Calcular el valor máximo\n",
    "\n",
    "max = array_numeros.max()\n",
    "\n",
    "print(\"El valor máximo de los elementos es:\",max)\n",
    "'''\n",
    "# Mostrar los resultados\n",
    "print(\"La media es:\", media)\n",
    "print(\"La suma es:\", suma)\n",
    "print(\"El valor mínimo es:\", valor_minimo)\n",
    "print(\"El valor máximo es:\", valor_maximo)\n",
    "'''\n"
   ]
  },
  {
   "cell_type": "code",
   "execution_count": 75,
   "id": "f6264d86",
   "metadata": {},
   "outputs": [
    {
     "name": "stdout",
     "output_type": "stream",
     "text": [
      "[[1 2 3]\n",
      " [4 5 6]]\n"
     ]
    },
    {
     "data": {
      "text/plain": [
       "'\\n# Imprimir el array original y el reshapeado\\nprint(\"Array original:\", array_original)\\nprint(\"Array reshapeado:\", array_reshapeado)\\n'"
      ]
     },
     "execution_count": 75,
     "metadata": {},
     "output_type": "execute_result"
    }
   ],
   "source": [
    "#Cambiar la forma de un array \"reshape\"\n",
    "\n",
    "\n",
    "# Crear un array original\n",
    "array_original = np.array([1, 2, 3, 4, 5, 6])\n",
    "\n",
    "# Nueva forma deseada (2 filas y 3 columnas)\n",
    "array_cambiado = array_original.reshape(2,3)\n",
    "\n",
    "print(array_cambiado)\n",
    "\n",
    "'''\n",
    "# Imprimir el array original y el reshapeado\n",
    "print(\"Array original:\", array_original)\n",
    "print(\"Array reshapeado:\", array_reshapeado)\n",
    "'''"
   ]
  },
  {
   "cell_type": "markdown",
   "id": "195c5f6d",
   "metadata": {},
   "source": [
    "# Álgebra Lineal"
   ]
  },
  {
   "cell_type": "markdown",
   "id": "b920534e",
   "metadata": {},
   "source": [
    "### Calcular el determinante de una matriz 2x2"
   ]
  },
  {
   "cell_type": "code",
   "execution_count": 25,
   "id": "d01ce9f8",
   "metadata": {},
   "outputs": [
    {
     "name": "stdout",
     "output_type": "stream",
     "text": [
      "vamos a calcular el valor del determinante de [[1 2]\n",
      " [2 5]]\n",
      "El determinante de [[1 2]\n",
      " [2 5]] es 1.0\n"
     ]
    }
   ],
   "source": [
    "nuevo_array = np.array([[1,2],[2,5]])\n",
    "\n",
    "#Código para calcular el determinante de una matriz 2x2\n",
    "\n",
    "print(\"vamos a calcular el valor del determinante de\", nuevo_array)\n",
    "\n",
    "determinante = np.linalg.det(nuevo_array)\n",
    "print(\"El determinante de\", nuevo_array, \"es\", determinante)\n",
    "\n",
    "#print(determinante)"
   ]
  },
  {
   "cell_type": "markdown",
   "id": "b1325b2b",
   "metadata": {},
   "source": [
    "### Calcular la matriz inversa de una matriz 3x3"
   ]
  },
  {
   "cell_type": "code",
   "execution_count": 27,
   "id": "9782d614",
   "metadata": {},
   "outputs": [
    {
     "name": "stdout",
     "output_type": "stream",
     "text": [
      "La matriz es [[ 4  7 22]\n",
      " [ 5  8 19]\n",
      " [11  7 20]]\n",
      "la matriz origina es [[ 4  7 22]\n",
      " [ 5  8 19]\n",
      " [11  7 20]] Su inversa es [[-0.09152542 -0.04745763  0.14576271]\n",
      " [-0.36949153  0.54915254 -0.11525424]\n",
      " [ 0.17966102 -0.16610169  0.01016949]]\n"
     ]
    }
   ],
   "source": [
    "# Definir la matriz 3x3\n",
    "nuevo_array = np.array(([4,7,22], [5,8,19], [11,7,20]))\n",
    "print(\"La matriz es\", nuevo_array)\n",
    "\n",
    "# Calcular la matriz inversa\n",
    "inversa = np.linalg.inv(nuevo_array)\n",
    "\n",
    "# Imprimir la matriz inversa\n",
    "print(\"la matriz origina es\", nuevo_array,\"Su inversa es\", inversa)\n"
   ]
  },
  {
   "cell_type": "markdown",
   "id": "98f0cfc8",
   "metadata": {},
   "source": [
    "### Calcular los valores propios y vectores propios de una matriz 4x4"
   ]
  },
  {
   "cell_type": "code",
   "execution_count": 29,
   "id": "07211323",
   "metadata": {},
   "outputs": [
    {
     "data": {
      "text/plain": [
       "'\\nprint(\"Valores propios:\", autovalores)\\nprint(\"Vectores propios:\")\\nfor i in range(len(autovectores)):\\n    print(f\"Vector propio {i+1}:\", autovectores[i])\\n'"
      ]
     },
     "execution_count": 29,
     "metadata": {},
     "output_type": "execute_result"
    }
   ],
   "source": [
    "\n",
    "# Definir la matriz 4x4\n",
    "matriz_4x4 = np.array([[1, 2, 3, 4], [5, 6, 7, 8], [9, 10, 11, 12], [13, 14, 15, 16]])\n",
    "\n",
    "# Calcular valores propios y vectores propios\n",
    "valores, vectores = np.linalg.eig(matriz_4x4)\n",
    "valores\n",
    "vectores\n",
    "\n",
    "\n",
    "# Separar valores propios y vectores propios\n",
    " # Parte real de los valores propios complejos\n",
    "  # Parte real de los vectores propios complejos\n",
    "\n",
    "# Imprimir resultados\n",
    "'''\n",
    "print(\"Valores propios:\", autovalores)\n",
    "print(\"Vectores propios:\")\n",
    "for i in range(len(autovectores)):\n",
    "    print(f\"Vector propio {i+1}:\", autovectores[i])\n",
    "'''"
   ]
  },
  {
   "cell_type": "markdown",
   "id": "efd4320a",
   "metadata": {},
   "source": [
    "# Funciones Universales"
   ]
  },
  {
   "cell_type": "code",
   "execution_count": 33,
   "id": "b6104243",
   "metadata": {},
   "outputs": [
    {
     "name": "stdout",
     "output_type": "stream",
     "text": [
      "los valores del sen de cada angulo son [0.0000000e+00 1.0000000e+00 1.2246468e-16]\n",
      "el valor del coseno de cada angulo es [ 1.000000e+00  6.123234e-17 -1.000000e+00]\n",
      "[ 1.          4.81047738 23.14069263]\n",
      "[0.         0.45158271 1.14472989]\n"
     ]
    }
   ],
   "source": [
    "# Crear un array con ángulos\n",
    "array_angulos = np.array([0, np.pi/2, np.pi])\n",
    "array_angulos2 = np.array([1, np.pi/2, np.pi])\n",
    "\n",
    "# Calcular el seno de los ángulos\n",
    "\n",
    "res_sen = np.sin(array_angulos)\n",
    "\n",
    "print(\"los valores del sen de cada angulo son\", res_sen)\n",
    "# Calcular el coseno de los ángulos\n",
    "\n",
    "res_cos = np.cos(array_angulos)\n",
    "\n",
    "print(\"el valor del coseno de cada angulo es\", res_cos)\n",
    "\n",
    "# Calcular la exponencial de los ángulos\n",
    "\n",
    "res_exp = np.exp(array_angulos)\n",
    "print(res_exp)\n",
    "\n",
    "# Calcular el logaritmo natural de los ángulos\n",
    "\n",
    "res_ln = np.log(array_angulos2)\n",
    "print (res_ln)\n"
   ]
  },
  {
   "cell_type": "code",
   "execution_count": 44,
   "id": "eadbf298",
   "metadata": {},
   "outputs": [
    {
     "name": "stdout",
     "output_type": "stream",
     "text": [
      "[[1 2 3]\n",
      " [4 5 6]\n",
      " [7 8 9]]\n",
      "[1 2 3]\n",
      "[7 8 9]\n",
      "[4 5 6]\n",
      "[[1 2 3]\n",
      " [4 5 6]]\n"
     ]
    }
   ],
   "source": [
    "#Realizar indexación y slicing en un array 2D\n",
    "array_2d = np.array([[1, 2, 3], [4, 5, 6], [7, 8, 9]])\n",
    "\n",
    "print(array_2d)\n",
    "\n",
    "\n",
    "# Obtener la primera fila del array\n",
    "\n",
    "fila_1 = array_2d[0][:]\n",
    "\n",
    "print(fila_1)\n",
    "\n",
    "# Obtener la última columna del array\n",
    "  # [3, 6, 9]\n",
    "columna_final = array_2d[:][2]\n",
    "  \n",
    "print(columna_final)\n",
    "\n",
    "# Obtener una submatriz que contiene la segunda fila y las dos primeras columnas\n",
    "  # [4, 5]\n",
    "\n",
    "sub_mat = array_2d[1][:]\n",
    "print(sub_mat)\n",
    "\n",
    "col = array_2d[:][0:2]\n",
    "\n",
    "print(col)\n",
    "# Imprimir los subconjuntos de datos extraídos\n"
   ]
  },
  {
   "cell_type": "markdown",
   "id": "38fb3e51",
   "metadata": {},
   "source": [
    "# Generación de Números Aleatorios"
   ]
  },
  {
   "cell_type": "code",
   "execution_count": 48,
   "id": "4c9439b1",
   "metadata": {},
   "outputs": [
    {
     "name": "stdout",
     "output_type": "stream",
     "text": [
      "[86 75 59 58 87 43 85 17 10 74]\n"
     ]
    }
   ],
   "source": [
    "#Generar un array de 10 números enteros aleatorios entre 1 y 100\n",
    "aleatorio = np.random.randint(1,100, size=10)\n",
    "print(aleatorio)"
   ]
  },
  {
   "cell_type": "code",
   "execution_count": 74,
   "id": "7b67e54f",
   "metadata": {},
   "outputs": [
    {
     "name": "stdout",
     "output_type": "stream",
     "text": [
      "[[0.08449622 0.47681125 0.809296  ]\n",
      " [0.88919187 0.69668039 0.96771117]]\n"
     ]
    }
   ],
   "source": [
    "#Generar una matriz 2x3 con números aleatorios uniformemente distribuidos entre 0 y 1\n",
    "matriz_ale = np.random.uniform(0,1, size = (2,3))\n",
    "print(matriz_ale)"
   ]
  },
  {
   "cell_type": "code",
   "execution_count": 71,
   "id": "bc4519a1",
   "metadata": {},
   "outputs": [
    {
     "name": "stdout",
     "output_type": "stream",
     "text": [
      "[-0.03258485  0.92775482  1.18872942 -1.96248195  0.63666896]\n"
     ]
    }
   ],
   "source": [
    "#Generar un array de 5 números aleatorios con distribución normal (media 0, desviación estándar 1)\n",
    "\n",
    "array = np.random.normal(size=5)\n",
    "print(array)"
   ]
  }
 ],
 "metadata": {
  "kernelspec": {
   "display_name": "Python 3 (ipykernel)",
   "language": "python",
   "name": "python3"
  },
  "language_info": {
   "codemirror_mode": {
    "name": "ipython",
    "version": 3
   },
   "file_extension": ".py",
   "mimetype": "text/x-python",
   "name": "python",
   "nbconvert_exporter": "python",
   "pygments_lexer": "ipython3",
   "version": "3.12.2"
  }
 },
 "nbformat": 4,
 "nbformat_minor": 5
}
