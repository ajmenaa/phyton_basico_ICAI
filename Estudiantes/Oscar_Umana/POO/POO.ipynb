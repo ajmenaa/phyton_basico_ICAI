{
 "cells": [
  {
   "cell_type": "code",
   "execution_count": null,
   "metadata": {},
   "outputs": [],
   "source": [
    "class animal():\n",
    "    pass\n",
    "perro = animal()\n",
    "\n",
    "gato = animal()\n",
    "\n",
    "#definir atributos\n",
    "perro.nombre = \"pancho\"\n",
    "perro.edad = 4\n",
    "\n",
    "print(perro.nombre)\n",
    "print(perro.edad)"
   ]
  },
  {
   "cell_type": "code",
   "execution_count": null,
   "metadata": {},
   "outputs": [],
   "source": [
    "class animal():\n",
    "    #es la clase animal plantilla\n",
    "    def comer():\n",
    "        return (\"el animal come\")\n",
    "\n"
   ]
  },
  {
   "cell_type": "code",
   "execution_count": null,
   "metadata": {},
   "outputs": [],
   "source": [
    "perico.animal()\n",
    "perico.nombre = \"lori\"\n",
    "perico.comer()"
   ]
  },
  {
   "cell_type": "code",
   "execution_count": 2,
   "metadata": {},
   "outputs": [],
   "source": [
    "class animal:\n",
    "    '''\n",
    "    Es la clase animal, plantilla\n",
    "    '''\n",
    "    def __init__(self,p_nombre,edad,especie):\n",
    "        '''\n",
    "        El contructor de la clase Animal\n",
    "        '''\n",
    "        self.nombre = p_nombre\n",
    "        self.edad = edad\n",
    "        self.especie = especie\n",
    "    def comer(self):\n",
    "        print(f\"El {self.nombre} está comiendo.\")\n",
    "    def dormir(self):\n",
    "        print(f\"El {self.nombre} está durmiendo.\")\n",
    "    "
   ]
  },
  {
   "cell_type": "code",
   "execution_count": 3,
   "metadata": {},
   "outputs": [
    {
     "name": "stdout",
     "output_type": "stream",
     "text": [
      "El Bobi está comiendo.\n",
      "El Bobi está durmiendo.\n",
      "Bobi\n"
     ]
    }
   ],
   "source": [
    "perro = animal(\"Bobi\",7,\"mamifero\")\n",
    "perro.comer()\n",
    "perro.dormir()\n",
    "print(perro.nombre)\n"
   ]
  },
  {
   "cell_type": "code",
   "execution_count": 8,
   "metadata": {},
   "outputs": [],
   "source": [
    "class Animal:\n",
    "    \"\"\"\n",
    "    Clase base para representar un animal.\n",
    "    \"\"\"\n",
    "    oxigeno = True\n",
    "\n",
    "\n",
    "    def __init__(self, nombre, especie, edad):\n",
    "        \"\"\"\n",
    "        El constructor de la clase Animal.\n",
    "        \"\"\"\n",
    "        self.nombre = nombre\n",
    "        self.especie = especie\n",
    "        self.edad = edad\n",
    "\n",
    "\n",
    "    def comer(self):\n",
    "        \"\"\"\n",
    "        Método que simula la acción de comer.\n",
    "        \"\"\"\n",
    "        print(f\"{self.nombre} está comiendo.\")\n",
    "\n",
    "\n",
    "    def dormir(self):\n",
    "        \"\"\"\n",
    "        Método que simula la acción de dormir.\n",
    "        \"\"\"\n",
    "        print(f\"{self.nombre} está durmiendo.\")\n",
    "        \n",
    "    def respirar(self):\n",
    "        if self.oxigeno:\n",
    "            print(f\"{self.nombre} está vivo.\")\n",
    "        else:\n",
    "            print(f\"{self.nombre} está muerto.\")\n",
    "        \n",
    "        \n",
    "        "
   ]
  },
  {
   "cell_type": "code",
   "execution_count": 14,
   "metadata": {},
   "outputs": [],
   "source": [
    "class ave(Animal):\n",
    "    def __init__(self, nombre, edad, especie, puede_volar):\n",
    "        super().__init__(nombre, especie, edad)\n",
    "        self.puede_volar = puede_volar\n",
    "    def volar(self):\n",
    "        if self.puede_volar:\n",
    "            print(f\"{self.nombre}esta volando\")\n",
    "        else: print(f\"{self.nombre}no puede volar\")\n",
    "        "
   ]
  },
  {
   "cell_type": "code",
   "execution_count": 15,
   "metadata": {},
   "outputs": [
    {
     "name": "stdout",
     "output_type": "stream",
     "text": [
      "loro está comiendo.\n",
      "loro está durmiendo.\n",
      "loroesta volando\n"
     ]
    }
   ],
   "source": [
    "loro = ave(\"loro\", \"guaca\", 5, True)\n",
    "loro.comer()\n",
    "loro.dormir()\n",
    "loro.volar()"
   ]
  },
  {
   "cell_type": "code",
   "execution_count": 17,
   "metadata": {},
   "outputs": [
    {
     "name": "stdout",
     "output_type": "stream",
     "text": [
      "pericono puede volar\n",
      "perico está vivo.\n"
     ]
    }
   ],
   "source": [
    "perico = ave(\"perico\",\"cotorra\", 1, False)\n",
    "perico.volar()\n",
    "perico.respirar()"
   ]
  },
  {
   "cell_type": "code",
   "execution_count": 18,
   "metadata": {},
   "outputs": [
    {
     "name": "stdout",
     "output_type": "stream",
     "text": [
      "periquito está muerto.\n",
      "loro está muerto.\n"
     ]
    }
   ],
   "source": [
    "perico.nombre = \"periquito\"\n",
    "Animal.oxigeno = False\n",
    "perico.respirar()\n",
    "loro.respirar()"
   ]
  },
  {
   "cell_type": "code",
   "execution_count": 19,
   "metadata": {},
   "outputs": [],
   "source": [
    "Animal.oxigeno = True"
   ]
  },
  {
   "cell_type": "code",
   "execution_count": null,
   "metadata": {},
   "outputs": [],
   "source": [
    "class Animal:\n",
    "    \"\"\"\n",
    "    Clase base para representar un animal.\n",
    "    \"\"\"\n",
    "    oxigeno = True\n",
    "\n",
    "\n",
    "    def __init__(self, nombre, especie, edad):\n",
    "        \"\"\"\n",
    "        El constructor de la clase Animal.\n",
    "        \"\"\"\n",
    "        self.nombre = nombre\n",
    "        self.especie = especie\n",
    "        self.edad = edad\n",
    "\n",
    "\n",
    "    def comer(self):\n",
    "        \"\"\"\n",
    "        Método que simula la acción de comer.\n",
    "        \"\"\"\n",
    "        print(f\"{self.nombre} está comiendo.\")\n",
    "\n",
    "\n",
    "    def dormir(self):\n",
    "        \"\"\"\n",
    "        Método que simula la acción de dormir.\n",
    "        \"\"\"\n",
    "        print(f\"{self.nombre} está durmiendo.\")\n",
    "        \n",
    "    def respirar(self):\n",
    "        if self.oxigeno:\n",
    "            print(f\"{self.nombre} está vivo.\")\n",
    "        else:\n",
    "            print(f\"{self.nombre} está muerto.\")\n",
    "        \n",
    "    def hacer_ruido(self):\n",
    "        raise NotImplementedError(\"Este metodo debe ser implementado por la clase hija\")\n",
    "        "
   ]
  },
  {
   "cell_type": "code",
   "execution_count": 20,
   "metadata": {},
   "outputs": [],
   "source": [
    "class perro(Animal):\n",
    "    def __init__(self, nombre, especie, edad):\n",
    "        super().__init__(nombre, especie, edad)\n",
    "    def hacer_ruido(self):\n",
    "        print(f\"{self.nombre} hace guau guau\")\n",
    "\n",
    "class gato(Animal):\n",
    "    def __init__(self, nombre, especie, edad):\n",
    "        super().__init__(nombre, especie, edad)\n",
    "    def hacer_ruido(self):\n",
    "        print(f\"{self.nombre} hace miau miau\")"
   ]
  },
  {
   "cell_type": "code",
   "execution_count": 21,
   "metadata": {},
   "outputs": [],
   "source": [
    "mi_perro = perro(\"rex\", \"canino\", 5)\n",
    "mi_gato =gato(\"michi\",\"felino\", 2)\n",
    "mi_animal = Animal(\"generico\",\"no tiene\", 10)"
   ]
  },
  {
   "cell_type": "code",
   "execution_count": 22,
   "metadata": {},
   "outputs": [
    {
     "name": "stdout",
     "output_type": "stream",
     "text": [
      "michi hace miau miau\n"
     ]
    }
   ],
   "source": [
    "mi_gato.hacer_ruido()"
   ]
  },
  {
   "cell_type": "code",
   "execution_count": 23,
   "metadata": {},
   "outputs": [
    {
     "name": "stdout",
     "output_type": "stream",
     "text": [
      "rex hace guau guau\n"
     ]
    }
   ],
   "source": [
    "mi_perro.hacer_ruido()"
   ]
  },
  {
   "cell_type": "code",
   "execution_count": null,
   "metadata": {},
   "outputs": [],
   "source": [
    "class Animal:\n",
    "    \"\"\"\n",
    "    Clase base para representar un animal.\n",
    "    \"\"\"\n",
    "    oxigeno = True\n",
    "\n",
    "\n",
    "    def __init__(self, nombre, especie, edad):\n",
    "        \"\"\"\n",
    "        El constructor de la clase Animal.\n",
    "        \"\"\"\n",
    "        self.nombre = nombre\n",
    "        self.especie = especie\n",
    "        self.edad = edad\n",
    "\n",
    "\n",
    "    def comer(self):\n",
    "        \"\"\"\n",
    "        Método que simula la acción de comer.\n",
    "        \"\"\"\n",
    "        print(f\"{self.nombre} está comiendo.\")\n",
    "\n",
    "\n",
    "    def dormir(self):\n",
    "        \"\"\"\n",
    "        Método que simula la acción de dormir.\n",
    "        \"\"\"\n",
    "        print(f\"{self.nombre} está durmiendo.\")\n",
    "        \n",
    "    def respirar(self):\n",
    "        if self.oxigeno:\n",
    "            print(f\"{self.nombre} está vivo.\")\n",
    "        else:\n",
    "            print(f\"{self.nombre} está muerto.\")"
   ]
  }
 ],
 "metadata": {
  "kernelspec": {
   "display_name": "Python 3",
   "language": "python",
   "name": "python3"
  },
  "language_info": {
   "codemirror_mode": {
    "name": "ipython",
    "version": 3
   },
   "file_extension": ".py",
   "mimetype": "text/x-python",
   "name": "python",
   "nbconvert_exporter": "python",
   "pygments_lexer": "ipython3",
   "version": "3.12.2"
  }
 },
 "nbformat": 4,
 "nbformat_minor": 2
}
