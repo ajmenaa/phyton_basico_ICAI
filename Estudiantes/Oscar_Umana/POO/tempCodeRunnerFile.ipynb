class animal:
    '''
    Es la clase animal, plantilla
    '''
    def __init__(self,p_nombre,edad,especie):
        '''
        El contructor de la clase Animal
        '''
        self.nombre = p_nombre
        self.edad = edad
        self.especie = especie
    def comer(self):
        print(f"El {self.nombre} está comiendo.")
    def dormir(self):
        print(f"El {self.nombre} está durmiendo.")