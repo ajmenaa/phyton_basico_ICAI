{
  "cells": [
    {
      "cell_type": "markdown",
      "id": "a62202dd",
      "metadata": {
        "id": "a62202dd"
      },
      "source": [
        "# Estudio de emisiones de Dioxido de Carbono"
      ]
    },
    {
      "cell_type": "markdown",
      "id": "8026dfad",
      "metadata": {},
      "source": [
        "## Estudiante: > Escriba su nombre completo"
      ]
    },
    {
      "cell_type": "markdown",
      "id": "98d6cc2c",
      "metadata": {
        "id": "98d6cc2c"
      },
      "source": [
        "## Objetivo"
      ]
    },
    {
      "cell_type": "markdown",
      "id": "f6e5f5ed",
      "metadata": {
        "id": "f6e5f5ed"
      },
      "source": [
        "Cargar un archivo 'Carbon_Dioxide_Emission_Estimates.csv' responder las siguientes preguntas"
      ]
    },
    {
      "cell_type": "markdown",
      "id": "e21e6b1c",
      "metadata": {
        "id": "e21e6b1c"
      },
      "source": [
        "## Contexto\n"
      ]
    },
    {
      "cell_type": "markdown",
      "id": "c4c7df65",
      "metadata": {
        "id": "c4c7df65"
      },
      "source": [
        "Se tiene un set de datos contenido en un archivo del tipo csv.\n",
        "\n",
        "El archivo es 'Carbon_Dioxide_Emission_Estimates.csv'.\n",
        "\n",
        "A continuación se presenta el paso cero para leer del archivo que contiene 2 tipos de filas según sea el valor en la columna 'Type':\n",
        "\n",
        "- Emissions_thousand__metric_tons_of_carbon_dioxide\n",
        "- Emissions_per_capita__metric_tons_of_carbon_dioxide\n",
        "\n",
        "El valor de las emisiones están en medidas de Toneladas métricas de Dióxido de Carbono"
      ]
    },
    {
      "cell_type": "markdown",
      "id": "352UFM-aEWCT",
      "metadata": {
        "id": "352UFM-aEWCT"
      },
      "source": [
        "# Pregunta 0\n",
        "\n",
        "1. Crear un dataframe con el nombre de variable 'df_emisions_co2' usando únicamente las filas cuya columna 'Type' tiene el valor 'Emissions (thousand metric tons of carbon dioxide)'\n",
        "\n",
        "2. Crear un dataframe con el nombre de variable 'df_emisions_co2_per_capita' usando únicamente las filas cuya columna 'Type' tiene el valor Emissions per capita (metric tons of carbon dioxide)"
      ]
    },
    {
      "cell_type": "code",
      "execution_count": 20,
      "id": "f4e522fd",
      "metadata": {},
      "outputs": [
        {
          "name": "stdout",
          "output_type": "stream",
          "text": [
            "       Country  Year                                               Type  \\\n",
            "0      Albania  1975  Emissions (thousand metric tons of carbon diox...   \n",
            "1      Albania  1985  Emissions (thousand metric tons of carbon diox...   \n",
            "2      Albania  1995  Emissions (thousand metric tons of carbon diox...   \n",
            "3      Albania  2005  Emissions (thousand metric tons of carbon diox...   \n",
            "4      Albania  2010  Emissions (thousand metric tons of carbon diox...   \n",
            "...        ...   ...                                                ...   \n",
            "2119  Zimbabwe  2005  Emissions (thousand metric tons of carbon diox...   \n",
            "2120  Zimbabwe  2010  Emissions (thousand metric tons of carbon diox...   \n",
            "2121  Zimbabwe  2015  Emissions (thousand metric tons of carbon diox...   \n",
            "2122  Zimbabwe  2016  Emissions (thousand metric tons of carbon diox...   \n",
            "2123  Zimbabwe  2017  Emissions (thousand metric tons of carbon diox...   \n",
            "\n",
            "          Value  \n",
            "0      4338.334  \n",
            "1      6929.926  \n",
            "2      1848.549  \n",
            "3      3825.184  \n",
            "4      3930.295  \n",
            "...         ...  \n",
            "2119  10272.774  \n",
            "2120   9464.714  \n",
            "2121  11822.362  \n",
            "2122  10368.900  \n",
            "2123   9714.938  \n",
            "\n",
            "[1066 rows x 4 columns]\n",
            "       Country  Year                                               Type  Value\n",
            "8      Albania  1975  Emissions per capita (metric tons of carbon di...  1.804\n",
            "9      Albania  1985  Emissions per capita (metric tons of carbon di...  2.337\n",
            "10     Albania  1995  Emissions per capita (metric tons of carbon di...  0.580\n",
            "11     Albania  2005  Emissions per capita (metric tons of carbon di...  1.270\n",
            "12     Albania  2010  Emissions per capita (metric tons of carbon di...  1.349\n",
            "...        ...   ...                                                ...    ...\n",
            "2127  Zimbabwe  2005  Emissions per capita (metric tons of carbon di...  0.794\n",
            "2128  Zimbabwe  2010  Emissions per capita (metric tons of carbon di...  0.672\n",
            "2129  Zimbabwe  2015  Emissions per capita (metric tons of carbon di...  0.749\n",
            "2130  Zimbabwe  2016  Emissions per capita (metric tons of carbon di...  0.642\n",
            "2131  Zimbabwe  2017  Emissions per capita (metric tons of carbon di...  0.588\n",
            "\n",
            "[1066 rows x 4 columns]\n"
          ]
        }
      ],
      "source": [
        "import pandas as pd\n",
        "import numpy as np\n",
        "\n",
        "df_1 = pd.read_csv(\"Carbon_Dioxide_Emission_Estimates.csv\", encoding =\"utf-8\", decimal=\".\")  \n",
        "#print(df_1) \n",
        "\n",
        "df_emisions_co2 = df_1[df_1[\"Type\"]==\"Emissions (thousand metric tons of carbon dioxide)\"]\n",
        "\n",
        "print(df_emisions_co2)\n"
      ]
    },
    {
      "cell_type": "code",
      "execution_count": 29,
      "id": "ea55c80a",
      "metadata": {},
      "outputs": [
        {
          "name": "stdout",
          "output_type": "stream",
          "text": [
            "       Country  Year                                               Type  Value\n",
            "8      Albania  1975  Emissions per capita (metric tons of carbon di...  1.804\n",
            "9      Albania  1985  Emissions per capita (metric tons of carbon di...  2.337\n",
            "10     Albania  1995  Emissions per capita (metric tons of carbon di...  0.580\n",
            "11     Albania  2005  Emissions per capita (metric tons of carbon di...  1.270\n",
            "12     Albania  2010  Emissions per capita (metric tons of carbon di...  1.349\n",
            "...        ...   ...                                                ...    ...\n",
            "2127  Zimbabwe  2005  Emissions per capita (metric tons of carbon di...  0.794\n",
            "2128  Zimbabwe  2010  Emissions per capita (metric tons of carbon di...  0.672\n",
            "2129  Zimbabwe  2015  Emissions per capita (metric tons of carbon di...  0.749\n",
            "2130  Zimbabwe  2016  Emissions per capita (metric tons of carbon di...  0.642\n",
            "2131  Zimbabwe  2017  Emissions per capita (metric tons of carbon di...  0.588\n",
            "\n",
            "[1066 rows x 4 columns]\n"
          ]
        }
      ],
      "source": [
        "import pandas as pd\n",
        "import numpy as np\n",
        "\n",
        "df_1 = pd.read_csv(\"Carbon_Dioxide_Emission_Estimates.csv\", encoding =\"utf-8\", decimal=\".\")\n",
        "\n",
        "df_emisions_co2_per_capita = df_1[df_1[\"Type\"]==\"Emissions per capita (metric tons of carbon dioxide)\"]\n",
        "print(df_emisions_co2_per_capita)"
      ]
    },
    {
      "cell_type": "markdown",
      "id": "d6bd6661",
      "metadata": {
        "id": "d6bd6661"
      },
      "source": [
        "# Pregunta 1"
      ]
    },
    {
      "cell_type": "markdown",
      "id": "3299b6b5",
      "metadata": {
        "id": "3299b6b5"
      },
      "source": [
        "Cuántas filas tiene el dataframe 'df_emisions_co2'?"
      ]
    },
    {
      "cell_type": "code",
      "execution_count": 28,
      "id": "f02d60cc",
      "metadata": {
        "id": "f02d60cc"
      },
      "outputs": [
        {
          "name": "stdout",
          "output_type": "stream",
          "text": [
            "la cantidad de filas del DataFrame emisions_co2 es de (1066, 4)\n",
            "la cantidad de filas del DataFrame emisions_co2 per capita es de (1066, 4)\n"
          ]
        }
      ],
      "source": [
        "# Coloque el código que responda a la pregunta aqui\n",
        "df_emisions_co2.shape\n",
        "\n",
        "print(\"la cantidad de filas del DataFrame emisions_co2 es de\", df_emisions_co2.shape)\n",
        "\n",
        "df_emisions_co2_per_capita.shape\n",
        "\n",
        "print(\"la cantidad de filas del DataFrame emisions_co2 per capita es de\", df_emisions_co2_per_capita.shape)"
      ]
    },
    {
      "cell_type": "markdown",
      "id": "880f891d",
      "metadata": {
        "id": "880f891d"
      },
      "source": [
        "# Pregunta 2"
      ]
    },
    {
      "cell_type": "markdown",
      "id": "34700c9d",
      "metadata": {
        "id": "34700c9d"
      },
      "source": [
        "Cuál en el valor más alto de emisiones (en general) usando el dataframe 'df_emisions_co2'?"
      ]
    },
    {
      "cell_type": "code",
      "execution_count": 34,
      "id": "24bdf93a",
      "metadata": {
        "id": "24bdf93a"
      },
      "outputs": [
        {
          "name": "stdout",
          "output_type": "stream",
          "text": [
            "El valor mas alto de la tabla de Co2 de emisiones totales es: 9257933.9 toneladas métricas de CO2\n"
          ]
        }
      ],
      "source": [
        "# Coloque el código que responda a la pregunta aqui exactamente lo que se pregunta\n",
        "df_emisions_co2[\"Value\"].max()\n",
        "\n",
        "mayor = df_emisions_co2[\"Value\"].max()\n",
        "\n",
        "print(\"El valor mas alto de la tabla de Co2 de emisiones totales es:\", mayor, \"toneladas métricas de CO2\")"
      ]
    },
    {
      "cell_type": "markdown",
      "id": "7ebd3621",
      "metadata": {
        "id": "7ebd3621"
      },
      "source": [
        "# Pregunta 3"
      ]
    },
    {
      "cell_type": "markdown",
      "id": "eb81f1c8",
      "metadata": {
        "id": "eb81f1c8"
      },
      "source": [
        "Cuántos países (Countries) hay en el dataframe 'df_emisions_co2'?"
      ]
    },
    {
      "cell_type": "code",
      "execution_count": 39,
      "id": "4f60454b",
      "metadata": {
        "id": "4f60454b"
      },
      "outputs": [
        {
          "name": "stdout",
          "output_type": "stream",
          "text": [
            "La cantidad de paises es de:  142\n"
          ]
        }
      ],
      "source": [
        "# Coloque el código que responda a la pregunta aqui exactamente lo que se pregunta\n",
        "paises = df_emisions_co2[\"Country\"].nunique()\n",
        "\n",
        "print(\"La cantidad de paises es de: \", paises)"
      ]
    },
    {
      "cell_type": "code",
      "execution_count": 43,
      "id": "2f46faa0",
      "metadata": {
        "id": "2f46faa0"
      },
      "outputs": [
        {
          "name": "stdout",
          "output_type": "stream",
          "text": [
            "los paises son Albania\n",
            "los paises son Algeria\n",
            "los paises son Angola\n",
            "los paises son Argentina\n",
            "los paises son Armenia\n",
            "los paises son Australia\n",
            "los paises son Austria\n",
            "los paises son Azerbaijan\n",
            "los paises son Bahrain\n",
            "los paises son Bangladesh\n",
            "los paises son Belarus\n",
            "los paises son Belgium\n",
            "los paises son Benin\n",
            "los paises son Bolivia (Plurin. State of)\n",
            "los paises son Bosnia and Herzegovina\n",
            "los paises son Botswana\n",
            "los paises son Brazil\n",
            "los paises son Brunei Darussalam\n",
            "los paises son Bulgaria\n",
            "los paises son Cambodia\n",
            "los paises son Cameroon\n",
            "los paises son Canada\n",
            "los paises son Chile\n",
            "los paises son China\n",
            "los paises son China, Hong Kong SAR\n",
            "los paises son Colombia\n",
            "los paises son Congo\n",
            "los paises son Costa Rica\n",
            "los paises son Côte d’Ivoire\n",
            "los paises son Croatia\n",
            "los paises son Cuba\n",
            "los paises son Curaçao\n",
            "los paises son Cyprus\n",
            "los paises son Czechia\n",
            "los paises son Dem. People's Rep. Korea\n",
            "los paises son Dem. Rep. of the Congo\n",
            "los paises son Denmark\n",
            "los paises son Dominican Republic\n",
            "los paises son Ecuador\n",
            "los paises son Egypt\n",
            "los paises son El Salvador\n",
            "los paises son Eritrea\n",
            "los paises son Estonia\n",
            "los paises son Ethiopia\n",
            "los paises son Finland\n",
            "los paises son France\n",
            "los paises son Gabon\n",
            "los paises son Georgia\n",
            "los paises son Germany\n",
            "los paises son Ghana\n",
            "los paises son Gibraltar\n",
            "los paises son Greece\n",
            "los paises son Guatemala\n",
            "los paises son Haiti\n",
            "los paises son Honduras\n",
            "los paises son Hungary\n",
            "los paises son Iceland\n",
            "los paises son India\n",
            "los paises son Indonesia\n",
            "los paises son Iran (Islamic Republic of)\n",
            "los paises son Iraq\n",
            "los paises son Ireland\n",
            "los paises son Israel\n",
            "los paises son Italy\n",
            "los paises son Jamaica\n",
            "los paises son Japan\n",
            "los paises son Jordan\n",
            "los paises son Kazakhstan\n",
            "los paises son Kenya\n",
            "los paises son Kosovo\n",
            "los paises son Kuwait\n",
            "los paises son Kyrgyzstan\n",
            "los paises son Latvia\n",
            "los paises son Lebanon\n",
            "los paises son Libya\n",
            "los paises son Lithuania\n",
            "los paises son Luxembourg\n",
            "los paises son Malaysia\n",
            "los paises son Malta\n",
            "los paises son Mauritius\n",
            "los paises son Mexico\n",
            "los paises son Mongolia\n",
            "los paises son Montenegro\n",
            "los paises son Morocco\n",
            "los paises son Mozambique\n",
            "los paises son Myanmar\n",
            "los paises son Namibia\n",
            "los paises son Nepal\n",
            "los paises son Netherlands\n",
            "los paises son New Zealand\n",
            "los paises son Nicaragua\n",
            "los paises son Niger\n",
            "los paises son Nigeria\n",
            "los paises son Norway\n",
            "los paises son Oman\n",
            "los paises son Pakistan\n",
            "los paises son Panama\n",
            "los paises son Paraguay\n",
            "los paises son Peru\n",
            "los paises son Philippines\n",
            "los paises son Poland\n",
            "los paises son Portugal\n",
            "los paises son Qatar\n",
            "los paises son Republic of Korea\n",
            "los paises son Republic of Moldova\n",
            "los paises son Romania\n",
            "los paises son Russian Federation\n",
            "los paises son Saudi Arabia\n",
            "los paises son Senegal\n",
            "los paises son Serbia\n",
            "los paises son Singapore\n",
            "los paises son Slovakia\n",
            "los paises son Slovenia\n",
            "los paises son South Africa\n",
            "los paises son South Sudan\n",
            "los paises son Spain\n",
            "los paises son Sri Lanka\n",
            "los paises son Sudan\n",
            "los paises son Suriname\n",
            "los paises son Sweden\n",
            "los paises son Switzerland\n",
            "los paises son Syrian Arab Republic\n",
            "los paises son Tajikistan\n",
            "los paises son Thailand\n",
            "los paises son North Macedonia\n",
            "los paises son Togo\n",
            "los paises son Trinidad and Tobago\n",
            "los paises son Tunisia\n",
            "los paises son Turkey\n",
            "los paises son Turkmenistan\n",
            "los paises son Ukraine\n",
            "los paises son United Arab Emirates\n",
            "los paises son United Kingdom\n",
            "los paises son United Rep. of Tanzania\n",
            "los paises son United States of America\n",
            "los paises son Uruguay\n",
            "los paises son Uzbekistan\n",
            "los paises son Venezuela (Boliv. Rep. of)\n",
            "los paises son Viet Nam\n",
            "los paises son Yemen\n",
            "los paises son Zambia\n",
            "los paises son Zimbabwe\n"
          ]
        }
      ],
      "source": [
        "#Imprima un lista con todos los paises\n",
        "paises = df_emisions_co2[\"Country\"].unique()\n",
        "\n",
        "for valor in paises:\n",
        "    print(\"los paises son\", valor)"
      ]
    },
    {
      "cell_type": "markdown",
      "id": "1e40352a",
      "metadata": {
        "id": "1e40352a"
      },
      "source": [
        "# Pregunta 4"
      ]
    },
    {
      "cell_type": "markdown",
      "id": "80c46908",
      "metadata": {
        "id": "80c46908"
      },
      "source": [
        "Cuál es el país que tiene mayor emisiones usando el dataframe 'df_emisions_co2'?"
      ]
    },
    {
      "cell_type": "code",
      "execution_count": 46,
      "id": "e6df7d42",
      "metadata": {
        "id": "e6df7d42"
      },
      "outputs": [
        {
          "name": "stdout",
          "output_type": "stream",
          "text": [
            "El país con valor mas alto de la tabla de Co2 de emisiones totales es: Zimbabwe\n"
          ]
        }
      ],
      "source": [
        "# Coloque el código que responda a la pregunta aqui exactamente lo que se pregunta\n",
        "\n",
        "df_emisions_co2[\"Country\"].max()\n",
        "\n",
        "pais = df_emisions_co2[\"Country\"].max()\n",
        "\n",
        "print(\"El país con valor mas alto de la tabla de Co2 de emisiones totales es:\", pais)\n",
        "\n"
      ]
    },
    {
      "cell_type": "markdown",
      "id": "26c97fde",
      "metadata": {
        "id": "26c97fde"
      },
      "source": [
        "# Pregunta 5"
      ]
    },
    {
      "cell_type": "markdown",
      "id": "541f44ca",
      "metadata": {
        "id": "541f44ca"
      },
      "source": [
        "Cuál es el año que tiene mayor emisiones para el país de Spain usando el dataframe 'df_emisions_co2'?"
      ]
    },
    {
      "cell_type": "code",
      "execution_count": 79,
      "id": "c32f62d1",
      "metadata": {
        "id": "c32f62d1"
      },
      "outputs": [
        {
          "name": "stdout",
          "output_type": "stream",
          "text": [
            "El año con valor mas alto para España de emisiones totales es: 2017\n"
          ]
        }
      ],
      "source": [
        "# Coloque el código que responda a la pregunta aqui exactamente lo que se pregunta\n",
        "\n",
        "df_spain = df_emisions_co2[df_emisions_co2[\"Country\"]==\"Spain\"]\n",
        "\n",
        "anio = df_spain[\"Year\"].max()\n",
        "\n",
        "#\"anio = df_emisions_co2[df_emisions_co2[[\"Country\"]==\"Spain\",\"Value\"]].max()\n",
        "\n",
        "print(\"El año con valor mas alto para España de emisiones totales es:\", anio)"
      ]
    },
    {
      "cell_type": "markdown",
      "id": "55ce4564",
      "metadata": {
        "id": "55ce4564"
      },
      "source": [
        "# Pregunta 6"
      ]
    },
    {
      "cell_type": "markdown",
      "id": "3473e4f2",
      "metadata": {
        "id": "3473e4f2"
      },
      "source": [
        "Cuáles son los años que se tiene registros para el dataframe 'df_emisions_co2_per_capita'?\n",
        "\n",
        "Entrege una lista con los años sin repetirse"
      ]
    },
    {
      "cell_type": "code",
      "execution_count": 59,
      "id": "5ad50924",
      "metadata": {
        "id": "5ad50924"
      },
      "outputs": [
        {
          "name": "stdout",
          "output_type": "stream",
          "text": [
            "los años registrados son 1975\n",
            "los años registrados son 1985\n",
            "los años registrados son 1995\n",
            "los años registrados son 2005\n",
            "los años registrados son 2010\n",
            "los años registrados son 2015\n",
            "los años registrados son 2016\n",
            "los años registrados son 2017\n"
          ]
        }
      ],
      "source": [
        "# Coloque el código que responda a la pregunta aqui exactamente lo que se pregunta\n",
        "\n",
        "anios = df_emisions_co2_per_capita[\"Year\"].unique()\n",
        "\n",
        "for valor in anios:\n",
        "    print(\"los años registrados son\", valor)"
      ]
    },
    {
      "cell_type": "markdown",
      "id": "18fa522e",
      "metadata": {
        "id": "18fa522e"
      },
      "source": [
        "# Pregunta 7"
      ]
    },
    {
      "cell_type": "markdown",
      "id": "2747ce42",
      "metadata": {
        "id": "2747ce42"
      },
      "source": [
        "Cuántas son las emisiones en 'toneladas métricas' en total usando todos los países para usando el dataframe 'df_emisions_co2'?\n"
      ]
    },
    {
      "cell_type": "code",
      "execution_count": 62,
      "id": "e8cbd117",
      "metadata": {
        "id": "e8cbd117"
      },
      "outputs": [
        {
          "name": "stdout",
          "output_type": "stream",
          "text": [
            "La cantidad total de emisiones para todos los registros 195028250.41599998 tonelas métricas\n"
          ]
        }
      ],
      "source": [
        "# Coloque el código que responda a la pregunta aqui exactamente lo que se pregunta\n",
        "cantidad = df_emisions_co2[\"Value\"].sum()\n",
        "print(\"La cantidad total de emisiones para todos los registros\", cantidad, \"tonelas métricas\")"
      ]
    },
    {
      "cell_type": "markdown",
      "id": "42aa86db",
      "metadata": {
        "id": "42aa86db"
      },
      "source": [
        "# Pregunta 8"
      ]
    },
    {
      "cell_type": "markdown",
      "id": "a303974d",
      "metadata": {
        "id": "a303974d"
      },
      "source": [
        "Cuántas son las emisiones en 'toneladas métricas' sólo para Albania usando el dataframe 'df_emisions_co2'?\n"
      ]
    },
    {
      "cell_type": "code",
      "execution_count": 80,
      "id": "181ab815",
      "metadata": {
        "id": "181ab815"
      },
      "outputs": [
        {
          "name": "stdout",
          "output_type": "stream",
          "text": [
            "La cantidad de toneladas de Albania fue de 32713.283000000003\n"
          ]
        }
      ],
      "source": [
        "# Coloque el código que responda a la pregunta aqui exactamente lo que se pregunta\n",
        "df_albania = df_emisions_co2[df_emisions_co2[\"Country\"]==\"Albania\"]\n",
        "\n",
        "cantidad_Albania = df_albania[\"Value\"].sum()\n",
        "print(\"La cantidad de toneladas de Albania fue de\", cantidad_Albania)"
      ]
    },
    {
      "cell_type": "markdown",
      "id": "d084c9f3",
      "metadata": {
        "id": "d084c9f3"
      },
      "source": [
        "# Pregunta 9"
      ]
    },
    {
      "cell_type": "markdown",
      "id": "ae9cebff",
      "metadata": {
        "id": "ae9cebff"
      },
      "source": [
        "Cuántas son las emisiones en 'libras' sólo para Costa Rica usando el dataframe 'df_emisions_co2'?\n"
      ]
    },
    {
      "cell_type": "code",
      "execution_count": 84,
      "id": "ee97d492",
      "metadata": {
        "id": "ee97d492"
      },
      "outputs": [
        {
          "name": "stdout",
          "output_type": "stream",
          "text": [
            "La cantidad de libras de Costa Rica fue de 93085906.15434\n"
          ]
        }
      ],
      "source": [
        "# Coloque el código que responda a la pregunta aqui exactamente lo que se pregunta\n",
        "df_Costa_Rica = df_emisions_co2[df_emisions_co2[\"Country\"]==\"Costa Rica\"]\n",
        "\n",
        "cantidad_Costa_Rica = df_Costa_Rica[\"Value\"].sum()*2204.62\n",
        "print(\"La cantidad de libras de Costa Rica fue de\", cantidad_Costa_Rica)"
      ]
    },
    {
      "cell_type": "markdown",
      "id": "120961f0",
      "metadata": {},
      "source": []
    },
    {
      "cell_type": "markdown",
      "id": "eb6dfc54",
      "metadata": {
        "id": "eb6dfc54"
      },
      "source": [
        "# Pregunta 10"
      ]
    },
    {
      "cell_type": "markdown",
      "id": "5862817e",
      "metadata": {
        "id": "5862817e"
      },
      "source": [
        "Para sólo 'Costa Rica' y suponiendo que las emisiones se estancan a partir del último año reportado. Cuántas son las emisiones en 'Kg' sólo para Costa Rica en el año 2022 usando el dataframe 'df_emisions_co2'?\n"
      ]
    },
    {
      "cell_type": "code",
      "execution_count": 90,
      "id": "76ed009c",
      "metadata": {
        "id": "76ed009c"
      },
      "outputs": [
        {
          "name": "stdout",
          "output_type": "stream",
          "text": [
            "La cantidad de kilogramos de Costa Rica fue de 417    37922055.0\n",
            "Name: Value, dtype: float64\n"
          ]
        }
      ],
      "source": [
        "# Coloque el código que responda a la pregunta aqui exactamente lo que se pregunta\n",
        "df_Costa_Rica = df_emisions_co2[df_emisions_co2[\"Country\"]==\"Costa Rica\"]\n",
        "ultimo_anio = df_Costa_Rica[\"Year\"].max()\n",
        "emisiones_ultimo = df_Costa_Rica[df_Costa_Rica[\"Year\"]==ultimo_anio]\n",
        "emisiones_ultimo = (1000*emisiones_ultimo[\"Value\"])*(2022-ultimo_anio)\n",
        "print(\"La cantidad de kilogramos de Costa Rica fue de\", emisiones_ultimo)"
      ]
    },
    {
      "cell_type": "markdown",
      "id": "1c18874b",
      "metadata": {
        "id": "1c18874b"
      },
      "source": [
        "# Pregunta 12"
      ]
    },
    {
      "cell_type": "markdown",
      "id": "6a487c43",
      "metadata": {
        "id": "6a487c43"
      },
      "source": [
        "Para sólo los países de Centroamérica ['El Salvador', 'Honduras', 'Guatemala', 'Costa Rica', 'Nicaragua'] obtener un reporte por año de las emisiones totales en Centroamérica usando el dataframe 'df_emisions_co2'?\n",
        "Se espera un dataframe de 2 columnas: 'Year' y 'total_por_año'"
      ]
    },
    {
      "cell_type": "code",
      "execution_count": 111,
      "id": "1d0426bf",
      "metadata": {
        "id": "1d0426bf"
      },
      "outputs": [
        {
          "ename": "ValueError",
          "evalue": "The truth value of a DataFrame is ambiguous. Use a.empty, a.bool(), a.item(), a.any() or a.all().",
          "output_type": "error",
          "traceback": [
            "\u001b[1;31m---------------------------------------------------------------------------\u001b[0m",
            "\u001b[1;31mValueError\u001b[0m                                Traceback (most recent call last)",
            "\u001b[1;32m~\\AppData\\Local\\Temp\\ipykernel_688\\3358662707.py\u001b[0m in \u001b[0;36m?\u001b[1;34m()\u001b[0m\n\u001b[0;32m      4\u001b[0m \u001b[0mdf_Gua\u001b[0m \u001b[1;33m=\u001b[0m \u001b[0mdf_emisions_co2\u001b[0m\u001b[1;33m[\u001b[0m\u001b[0mdf_emisions_co2\u001b[0m\u001b[1;33m[\u001b[0m\u001b[1;34m\"Country\"\u001b[0m\u001b[1;33m]\u001b[0m\u001b[1;33m==\u001b[0m\u001b[1;34m\"Guatemala\"\u001b[0m\u001b[1;33m]\u001b[0m\u001b[1;33m\u001b[0m\u001b[1;33m\u001b[0m\u001b[0m\n\u001b[0;32m      5\u001b[0m \u001b[0mdf_Cos\u001b[0m \u001b[1;33m=\u001b[0m \u001b[0mdf_emisions_co2\u001b[0m\u001b[1;33m[\u001b[0m\u001b[0mdf_emisions_co2\u001b[0m\u001b[1;33m[\u001b[0m\u001b[1;34m\"Country\"\u001b[0m\u001b[1;33m]\u001b[0m\u001b[1;33m==\u001b[0m\u001b[1;34m\"Costa Rica\"\u001b[0m\u001b[1;33m]\u001b[0m\u001b[1;33m\u001b[0m\u001b[1;33m\u001b[0m\u001b[0m\n\u001b[0;32m      6\u001b[0m \u001b[0mdf_Nic\u001b[0m \u001b[1;33m=\u001b[0m \u001b[0mdf_emisions_co2\u001b[0m\u001b[1;33m[\u001b[0m\u001b[0mdf_emisions_co2\u001b[0m\u001b[1;33m[\u001b[0m\u001b[1;34m\"Country\"\u001b[0m\u001b[1;33m]\u001b[0m\u001b[1;33m==\u001b[0m\u001b[1;34m\"Nicaragua\"\u001b[0m\u001b[1;33m]\u001b[0m\u001b[1;33m\u001b[0m\u001b[1;33m\u001b[0m\u001b[0m\n\u001b[0;32m      7\u001b[0m \u001b[1;33m\u001b[0m\u001b[0m\n\u001b[1;32m----> 8\u001b[1;33m \u001b[0mdf_CA\u001b[0m \u001b[1;33m=\u001b[0m \u001b[0mpd\u001b[0m\u001b[1;33m.\u001b[0m\u001b[0mmerge\u001b[0m\u001b[1;33m(\u001b[0m\u001b[0mdf_Hon\u001b[0m\u001b[1;33m,\u001b[0m \u001b[0mdf_Nic\u001b[0m\u001b[1;33m,\u001b[0m \u001b[0mdf_Gua\u001b[0m\u001b[1;33m,\u001b[0m \u001b[0mdf_Cos\u001b[0m\u001b[1;33m,\u001b[0m \u001b[0mdf_Sal\u001b[0m\u001b[1;33m)\u001b[0m\u001b[1;33m\u001b[0m\u001b[1;33m\u001b[0m\u001b[0m\n\u001b[0m\u001b[0;32m      9\u001b[0m \u001b[1;33m\u001b[0m\u001b[0m\n\u001b[0;32m     10\u001b[0m \u001b[0mprint\u001b[0m\u001b[1;33m(\u001b[0m\u001b[0mdf_CA\u001b[0m\u001b[1;33m)\u001b[0m\u001b[1;33m\u001b[0m\u001b[1;33m\u001b[0m\u001b[0m\n",
            "\u001b[1;32mc:\\Users\\Usuario\\AppData\\Local\\Programs\\Python\\Python312\\Lib\\site-packages\\pandas\\core\\reshape\\merge.py\u001b[0m in \u001b[0;36m?\u001b[1;34m(left, right, how, on, left_on, right_on, left_index, right_index, sort, suffixes, copy, indicator, validate)\u001b[0m\n\u001b[0;32m    150\u001b[0m     \u001b[0mvalidate\u001b[0m\u001b[1;33m:\u001b[0m \u001b[0mstr\u001b[0m \u001b[1;33m|\u001b[0m \u001b[1;32mNone\u001b[0m \u001b[1;33m=\u001b[0m \u001b[1;32mNone\u001b[0m\u001b[1;33m,\u001b[0m\u001b[1;33m\u001b[0m\u001b[1;33m\u001b[0m\u001b[0m\n\u001b[0;32m    151\u001b[0m \u001b[1;33m)\u001b[0m \u001b[1;33m->\u001b[0m \u001b[0mDataFrame\u001b[0m\u001b[1;33m:\u001b[0m\u001b[1;33m\u001b[0m\u001b[1;33m\u001b[0m\u001b[0m\n\u001b[0;32m    152\u001b[0m     \u001b[0mleft_df\u001b[0m \u001b[1;33m=\u001b[0m \u001b[0m_validate_operand\u001b[0m\u001b[1;33m(\u001b[0m\u001b[0mleft\u001b[0m\u001b[1;33m)\u001b[0m\u001b[1;33m\u001b[0m\u001b[1;33m\u001b[0m\u001b[0m\n\u001b[0;32m    153\u001b[0m     \u001b[0mright_df\u001b[0m \u001b[1;33m=\u001b[0m \u001b[0m_validate_operand\u001b[0m\u001b[1;33m(\u001b[0m\u001b[0mright\u001b[0m\u001b[1;33m)\u001b[0m\u001b[1;33m\u001b[0m\u001b[1;33m\u001b[0m\u001b[0m\n\u001b[1;32m--> 154\u001b[1;33m     \u001b[1;32mif\u001b[0m \u001b[0mhow\u001b[0m \u001b[1;33m==\u001b[0m \u001b[1;34m\"cross\"\u001b[0m\u001b[1;33m:\u001b[0m\u001b[1;33m\u001b[0m\u001b[1;33m\u001b[0m\u001b[0m\n\u001b[0m\u001b[0;32m    155\u001b[0m         return _cross_merge(\n\u001b[0;32m    156\u001b[0m             \u001b[0mleft_df\u001b[0m\u001b[1;33m,\u001b[0m\u001b[1;33m\u001b[0m\u001b[1;33m\u001b[0m\u001b[0m\n\u001b[0;32m    157\u001b[0m             \u001b[0mright_df\u001b[0m\u001b[1;33m,\u001b[0m\u001b[1;33m\u001b[0m\u001b[1;33m\u001b[0m\u001b[0m\n",
            "\u001b[1;32mc:\\Users\\Usuario\\AppData\\Local\\Programs\\Python\\Python312\\Lib\\site-packages\\pandas\\core\\generic.py\u001b[0m in \u001b[0;36m?\u001b[1;34m(self)\u001b[0m\n\u001b[0;32m   1575\u001b[0m     \u001b[1;33m@\u001b[0m\u001b[0mfinal\u001b[0m\u001b[1;33m\u001b[0m\u001b[1;33m\u001b[0m\u001b[0m\n\u001b[0;32m   1576\u001b[0m     \u001b[1;32mdef\u001b[0m \u001b[0m__nonzero__\u001b[0m\u001b[1;33m(\u001b[0m\u001b[0mself\u001b[0m\u001b[1;33m)\u001b[0m \u001b[1;33m->\u001b[0m \u001b[0mNoReturn\u001b[0m\u001b[1;33m:\u001b[0m\u001b[1;33m\u001b[0m\u001b[1;33m\u001b[0m\u001b[0m\n\u001b[1;32m-> 1577\u001b[1;33m         raise ValueError(\n\u001b[0m\u001b[0;32m   1578\u001b[0m             \u001b[1;33mf\"\u001b[0m\u001b[1;33mThe truth value of a \u001b[0m\u001b[1;33m{\u001b[0m\u001b[0mtype\u001b[0m\u001b[1;33m(\u001b[0m\u001b[0mself\u001b[0m\u001b[1;33m)\u001b[0m\u001b[1;33m.\u001b[0m\u001b[0m__name__\u001b[0m\u001b[1;33m}\u001b[0m\u001b[1;33m is ambiguous. \u001b[0m\u001b[1;33m\"\u001b[0m\u001b[1;33m\u001b[0m\u001b[1;33m\u001b[0m\u001b[0m\n\u001b[0;32m   1579\u001b[0m             \u001b[1;34m\"Use a.empty, a.bool(), a.item(), a.any() or a.all().\"\u001b[0m\u001b[1;33m\u001b[0m\u001b[1;33m\u001b[0m\u001b[0m\n\u001b[0;32m   1580\u001b[0m         \u001b[1;33m)\u001b[0m\u001b[1;33m\u001b[0m\u001b[1;33m\u001b[0m\u001b[0m\n",
            "\u001b[1;31mValueError\u001b[0m: The truth value of a DataFrame is ambiguous. Use a.empty, a.bool(), a.item(), a.any() or a.all()."
          ]
        }
      ],
      "source": [
        "# Coloque el código que responda a la pregunta aqui exactamente lo que se pregunta\n",
        "df_Sal = df_emisions_co2[df_emisions_co2[\"Country\"]==\"El Salvador\"]\n",
        "df_Hon = df_emisions_co2[df_emisions_co2[\"Country\"]==\"Honduras\"]\n",
        "df_Gua = df_emisions_co2[df_emisions_co2[\"Country\"]==\"Guatemala\"]\n",
        "df_Cos = df_emisions_co2[df_emisions_co2[\"Country\"]==\"Costa Rica\"] \n",
        "df_Nic = df_emisions_co2[df_emisions_co2[\"Country\"]==\"Nicaragua\"]\n",
        "\n",
        "df_CA = pd.merge(df_Hon, df_Nic, df_Gua, df_Cos, df_Sal)\n",
        "\n",
        "print(df_CA)"
      ]
    },
    {
      "cell_type": "markdown",
      "id": "8fdaae3d",
      "metadata": {
        "id": "8fdaae3d"
      },
      "source": [
        "# Pregunta 13"
      ]
    },
    {
      "cell_type": "markdown",
      "id": "8a7e17ff",
      "metadata": {
        "id": "8a7e17ff"
      },
      "source": [
        "Para sólo los países de Centroamérica ['El Salvador', 'Honduras', 'Guatemala', 'Costa Rica', 'Nicaragua'] obtener un reporte por año de las emisiones en promedio en Centroamérica usando el dataframe 'df_emisions_co2_per_capita'?\n",
        "Se espera un dataframe de 2 columnas: 'Year' y 'promedio_por_año'"
      ]
    },
    {
      "cell_type": "code",
      "execution_count": null,
      "id": "4ec787f4",
      "metadata": {
        "id": "4ec787f4"
      },
      "outputs": [],
      "source": [
        "# Coloque el código que responda a la pregunta aqui exactamente lo que se pregunta\n"
      ]
    },
    {
      "cell_type": "markdown",
      "id": "944ac865",
      "metadata": {
        "id": "944ac865"
      },
      "source": [
        "# Pregunta 14"
      ]
    },
    {
      "cell_type": "markdown",
      "id": "b961da55",
      "metadata": {
        "id": "b961da55"
      },
      "source": [
        "Cuál es el promedio de las emisiones per capita para el año 2005 usando el dataframe 'df_emisions_co2_per_capita'?\n"
      ]
    },
    {
      "cell_type": "code",
      "execution_count": null,
      "id": "e2f0a786",
      "metadata": {
        "id": "e2f0a786"
      },
      "outputs": [],
      "source": [
        "# Coloque el código que responda a la pregunta aqui exactamente lo que se pregunta"
      ]
    }
  ],
  "metadata": {
    "colab": {
      "provenance": []
    },
    "kernelspec": {
      "display_name": "Python 3 (ipykernel)",
      "language": "python",
      "name": "python3"
    },
    "language_info": {
      "codemirror_mode": {
        "name": "ipython",
        "version": 3
      },
      "file_extension": ".py",
      "mimetype": "text/x-python",
      "name": "python",
      "nbconvert_exporter": "python",
      "pygments_lexer": "ipython3",
      "version": "3.12.2"
    }
  },
  "nbformat": 4,
  "nbformat_minor": 5
}
