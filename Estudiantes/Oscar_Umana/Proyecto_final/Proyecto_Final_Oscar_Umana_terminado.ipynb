{
  "cells": [
    {
      "cell_type": "markdown",
      "id": "a62202dd",
      "metadata": {
        "id": "a62202dd"
      },
      "source": [
        "# Estudio de emisiones de Dioxido de Carbono"
      ]
    },
    {
      "cell_type": "markdown",
      "id": "8026dfad",
      "metadata": {},
      "source": [
        "## Estudiante: > Escriba su nombre completo"
      ]
    },
    {
      "cell_type": "markdown",
      "id": "98d6cc2c",
      "metadata": {
        "id": "98d6cc2c"
      },
      "source": [
        "## Objetivo"
      ]
    },
    {
      "cell_type": "markdown",
      "id": "f6e5f5ed",
      "metadata": {
        "id": "f6e5f5ed"
      },
      "source": [
        "Cargar un archivo 'Carbon_Dioxide_Emission_Estimates.csv' responder las siguientes preguntas"
      ]
    },
    {
      "cell_type": "markdown",
      "id": "e21e6b1c",
      "metadata": {
        "id": "e21e6b1c"
      },
      "source": [
        "## Contexto\n"
      ]
    },
    {
      "cell_type": "markdown",
      "id": "c4c7df65",
      "metadata": {
        "id": "c4c7df65"
      },
      "source": [
        "Se tiene un set de datos contenido en un archivo del tipo csv.\n",
        "\n",
        "El archivo es 'Carbon_Dioxide_Emission_Estimates.csv'.\n",
        "\n",
        "A continuación se presenta el paso cero para leer del archivo que contiene 2 tipos de filas según sea el valor en la columna 'Type':\n",
        "\n",
        "- Emissions_thousand__metric_tons_of_carbon_dioxide\n",
        "- Emissions_per_capita__metric_tons_of_carbon_dioxide\n",
        "\n",
        "El valor de las emisiones están en medidas de Toneladas métricas de Dióxido de Carbono"
      ]
    },
    {
      "cell_type": "markdown",
      "id": "352UFM-aEWCT",
      "metadata": {
        "id": "352UFM-aEWCT"
      },
      "source": [
        "# Pregunta 0\n",
        "\n",
        "1. Crear un dataframe con el nombre de variable 'df_emisions_co2' usando únicamente las filas cuya columna 'Type' tiene el valor 'Emissions (thousand metric tons of carbon dioxide)'\n",
        "\n",
        "2. Crear un dataframe con el nombre de variable 'df_emisions_co2_per_capita' usando únicamente las filas cuya columna 'Type' tiene el valor Emissions per capita (metric tons of carbon dioxide)"
      ]
    },
    {
      "cell_type": "code",
      "execution_count": 53,
      "id": "f4e522fd",
      "metadata": {},
      "outputs": [
        {
          "name": "stdout",
          "output_type": "stream",
          "text": [
            "       Country  Year                                               Type  \\\n",
            "0      Albania  1975  Emissions (thousand metric tons of carbon diox...   \n",
            "1      Albania  1985  Emissions (thousand metric tons of carbon diox...   \n",
            "2      Albania  1995  Emissions (thousand metric tons of carbon diox...   \n",
            "3      Albania  2005  Emissions (thousand metric tons of carbon diox...   \n",
            "4      Albania  2010  Emissions (thousand metric tons of carbon diox...   \n",
            "...        ...   ...                                                ...   \n",
            "2119  Zimbabwe  2005  Emissions (thousand metric tons of carbon diox...   \n",
            "2120  Zimbabwe  2010  Emissions (thousand metric tons of carbon diox...   \n",
            "2121  Zimbabwe  2015  Emissions (thousand metric tons of carbon diox...   \n",
            "2122  Zimbabwe  2016  Emissions (thousand metric tons of carbon diox...   \n",
            "2123  Zimbabwe  2017  Emissions (thousand metric tons of carbon diox...   \n",
            "\n",
            "          Value  \n",
            "0      4338.334  \n",
            "1      6929.926  \n",
            "2      1848.549  \n",
            "3      3825.184  \n",
            "4      3930.295  \n",
            "...         ...  \n",
            "2119  10272.774  \n",
            "2120   9464.714  \n",
            "2121  11822.362  \n",
            "2122  10368.900  \n",
            "2123   9714.938  \n",
            "\n",
            "[1066 rows x 4 columns]\n"
          ]
        }
      ],
      "source": [
        "import pandas as pd\n",
        "import numpy as np\n",
        "\n",
        "df_1 = pd.read_csv(\"Carbon_Dioxide_Emission_Estimates.csv\", encoding =\"utf-8\", decimal=\".\")  \n",
        "#print(df_1) \n",
        "\n",
        "df_emisions_co2 = df_1[df_1[\"Type\"]==\"Emissions (thousand metric tons of carbon dioxide)\"]\n",
        "\n",
        "print(df_emisions_co2)\n"
      ]
    },
    {
      "cell_type": "code",
      "execution_count": 54,
      "id": "ea55c80a",
      "metadata": {},
      "outputs": [
        {
          "name": "stdout",
          "output_type": "stream",
          "text": [
            "       Country  Year                                               Type  Value\n",
            "8      Albania  1975  Emissions per capita (metric tons of carbon di...  1.804\n",
            "9      Albania  1985  Emissions per capita (metric tons of carbon di...  2.337\n",
            "10     Albania  1995  Emissions per capita (metric tons of carbon di...  0.580\n",
            "11     Albania  2005  Emissions per capita (metric tons of carbon di...  1.270\n",
            "12     Albania  2010  Emissions per capita (metric tons of carbon di...  1.349\n",
            "...        ...   ...                                                ...    ...\n",
            "2127  Zimbabwe  2005  Emissions per capita (metric tons of carbon di...  0.794\n",
            "2128  Zimbabwe  2010  Emissions per capita (metric tons of carbon di...  0.672\n",
            "2129  Zimbabwe  2015  Emissions per capita (metric tons of carbon di...  0.749\n",
            "2130  Zimbabwe  2016  Emissions per capita (metric tons of carbon di...  0.642\n",
            "2131  Zimbabwe  2017  Emissions per capita (metric tons of carbon di...  0.588\n",
            "\n",
            "[1066 rows x 4 columns]\n"
          ]
        }
      ],
      "source": [
        "import pandas as pd\n",
        "import numpy as np\n",
        "\n",
        "df_1 = pd.read_csv(\"Carbon_Dioxide_Emission_Estimates.csv\", encoding =\"utf-8\", decimal=\".\")\n",
        "\n",
        "df_emisions_co2_per_capita = df_1[df_1[\"Type\"]==\"Emissions per capita (metric tons of carbon dioxide)\"]\n",
        "print(df_emisions_co2_per_capita)"
      ]
    },
    {
      "cell_type": "markdown",
      "id": "d6bd6661",
      "metadata": {
        "id": "d6bd6661"
      },
      "source": [
        "# Pregunta 1"
      ]
    },
    {
      "cell_type": "markdown",
      "id": "3299b6b5",
      "metadata": {
        "id": "3299b6b5"
      },
      "source": [
        "Cuántas filas tiene el dataframe 'df_emisions_co2'?"
      ]
    },
    {
      "cell_type": "code",
      "execution_count": 3,
      "id": "f02d60cc",
      "metadata": {
        "id": "f02d60cc"
      },
      "outputs": [
        {
          "name": "stdout",
          "output_type": "stream",
          "text": [
            "la cantidad de filas del DataFrame emisions_co2 es de (1066, 4)\n",
            "la cantidad de filas del DataFrame emisions_co2 per capita es de (1066, 4)\n"
          ]
        }
      ],
      "source": [
        "# Coloque el código que responda a la pregunta aqui\n",
        "df_emisions_co2.shape\n",
        "\n",
        "print(\"la cantidad de filas del DataFrame emisions_co2 es de\", df_emisions_co2.shape)\n",
        "\n",
        "df_emisions_co2_per_capita.shape\n",
        "\n",
        "print(\"la cantidad de filas del DataFrame emisions_co2 per capita es de\", df_emisions_co2_per_capita.shape)"
      ]
    },
    {
      "cell_type": "markdown",
      "id": "880f891d",
      "metadata": {
        "id": "880f891d"
      },
      "source": [
        "# Pregunta 2"
      ]
    },
    {
      "cell_type": "markdown",
      "id": "34700c9d",
      "metadata": {
        "id": "34700c9d"
      },
      "source": [
        "Cuál en el valor más alto de emisiones (en general) usando el dataframe 'df_emisions_co2'?"
      ]
    },
    {
      "cell_type": "code",
      "execution_count": 4,
      "id": "24bdf93a",
      "metadata": {
        "id": "24bdf93a"
      },
      "outputs": [
        {
          "name": "stdout",
          "output_type": "stream",
          "text": [
            "El valor mas alto de la tabla de Co2 de emisiones totales es: 9257933.9 toneladas métricas de CO2\n"
          ]
        }
      ],
      "source": [
        "# Coloque el código que responda a la pregunta aqui exactamente lo que se pregunta\n",
        "df_emisions_co2[\"Value\"].max()\n",
        "\n",
        "mayor = df_emisions_co2[\"Value\"].max()\n",
        "\n",
        "print(\"El valor mas alto de la tabla de Co2 de emisiones totales es:\", mayor, \"toneladas métricas de CO2\")"
      ]
    },
    {
      "cell_type": "markdown",
      "id": "7ebd3621",
      "metadata": {
        "id": "7ebd3621"
      },
      "source": [
        "# Pregunta 3"
      ]
    },
    {
      "cell_type": "markdown",
      "id": "eb81f1c8",
      "metadata": {
        "id": "eb81f1c8"
      },
      "source": [
        "Cuántos países (Countries) hay en el dataframe 'df_emisions_co2'?"
      ]
    },
    {
      "cell_type": "code",
      "execution_count": 5,
      "id": "4f60454b",
      "metadata": {
        "id": "4f60454b"
      },
      "outputs": [
        {
          "name": "stdout",
          "output_type": "stream",
          "text": [
            "La cantidad de paises es de:  142\n"
          ]
        }
      ],
      "source": [
        "# Coloque el código que responda a la pregunta aqui exactamente lo que se pregunta\n",
        "paises = df_emisions_co2[\"Country\"].nunique()\n",
        "\n",
        "print(\"La cantidad de paises es de: \", paises)"
      ]
    },
    {
      "cell_type": "code",
      "execution_count": 6,
      "id": "2f46faa0",
      "metadata": {
        "id": "2f46faa0"
      },
      "outputs": [
        {
          "name": "stdout",
          "output_type": "stream",
          "text": [
            "los paises son Albania\n",
            "los paises son Algeria\n",
            "los paises son Angola\n",
            "los paises son Argentina\n",
            "los paises son Armenia\n",
            "los paises son Australia\n",
            "los paises son Austria\n",
            "los paises son Azerbaijan\n",
            "los paises son Bahrain\n",
            "los paises son Bangladesh\n",
            "los paises son Belarus\n",
            "los paises son Belgium\n",
            "los paises son Benin\n",
            "los paises son Bolivia (Plurin. State of)\n",
            "los paises son Bosnia and Herzegovina\n",
            "los paises son Botswana\n",
            "los paises son Brazil\n",
            "los paises son Brunei Darussalam\n",
            "los paises son Bulgaria\n",
            "los paises son Cambodia\n",
            "los paises son Cameroon\n",
            "los paises son Canada\n",
            "los paises son Chile\n",
            "los paises son China\n",
            "los paises son China, Hong Kong SAR\n",
            "los paises son Colombia\n",
            "los paises son Congo\n",
            "los paises son Costa Rica\n",
            "los paises son Côte d’Ivoire\n",
            "los paises son Croatia\n",
            "los paises son Cuba\n",
            "los paises son Curaçao\n",
            "los paises son Cyprus\n",
            "los paises son Czechia\n",
            "los paises son Dem. People's Rep. Korea\n",
            "los paises son Dem. Rep. of the Congo\n",
            "los paises son Denmark\n",
            "los paises son Dominican Republic\n",
            "los paises son Ecuador\n",
            "los paises son Egypt\n",
            "los paises son El Salvador\n",
            "los paises son Eritrea\n",
            "los paises son Estonia\n",
            "los paises son Ethiopia\n",
            "los paises son Finland\n",
            "los paises son France\n",
            "los paises son Gabon\n",
            "los paises son Georgia\n",
            "los paises son Germany\n",
            "los paises son Ghana\n",
            "los paises son Gibraltar\n",
            "los paises son Greece\n",
            "los paises son Guatemala\n",
            "los paises son Haiti\n",
            "los paises son Honduras\n",
            "los paises son Hungary\n",
            "los paises son Iceland\n",
            "los paises son India\n",
            "los paises son Indonesia\n",
            "los paises son Iran (Islamic Republic of)\n",
            "los paises son Iraq\n",
            "los paises son Ireland\n",
            "los paises son Israel\n",
            "los paises son Italy\n",
            "los paises son Jamaica\n",
            "los paises son Japan\n",
            "los paises son Jordan\n",
            "los paises son Kazakhstan\n",
            "los paises son Kenya\n",
            "los paises son Kosovo\n",
            "los paises son Kuwait\n",
            "los paises son Kyrgyzstan\n",
            "los paises son Latvia\n",
            "los paises son Lebanon\n",
            "los paises son Libya\n",
            "los paises son Lithuania\n",
            "los paises son Luxembourg\n",
            "los paises son Malaysia\n",
            "los paises son Malta\n",
            "los paises son Mauritius\n",
            "los paises son Mexico\n",
            "los paises son Mongolia\n",
            "los paises son Montenegro\n",
            "los paises son Morocco\n",
            "los paises son Mozambique\n",
            "los paises son Myanmar\n",
            "los paises son Namibia\n",
            "los paises son Nepal\n",
            "los paises son Netherlands\n",
            "los paises son New Zealand\n",
            "los paises son Nicaragua\n",
            "los paises son Niger\n",
            "los paises son Nigeria\n",
            "los paises son Norway\n",
            "los paises son Oman\n",
            "los paises son Pakistan\n",
            "los paises son Panama\n",
            "los paises son Paraguay\n",
            "los paises son Peru\n",
            "los paises son Philippines\n",
            "los paises son Poland\n",
            "los paises son Portugal\n",
            "los paises son Qatar\n",
            "los paises son Republic of Korea\n",
            "los paises son Republic of Moldova\n",
            "los paises son Romania\n",
            "los paises son Russian Federation\n",
            "los paises son Saudi Arabia\n",
            "los paises son Senegal\n",
            "los paises son Serbia\n",
            "los paises son Singapore\n",
            "los paises son Slovakia\n",
            "los paises son Slovenia\n",
            "los paises son South Africa\n",
            "los paises son South Sudan\n",
            "los paises son Spain\n",
            "los paises son Sri Lanka\n",
            "los paises son Sudan\n",
            "los paises son Suriname\n",
            "los paises son Sweden\n",
            "los paises son Switzerland\n",
            "los paises son Syrian Arab Republic\n",
            "los paises son Tajikistan\n",
            "los paises son Thailand\n",
            "los paises son North Macedonia\n",
            "los paises son Togo\n",
            "los paises son Trinidad and Tobago\n",
            "los paises son Tunisia\n",
            "los paises son Turkey\n",
            "los paises son Turkmenistan\n",
            "los paises son Ukraine\n",
            "los paises son United Arab Emirates\n",
            "los paises son United Kingdom\n",
            "los paises son United Rep. of Tanzania\n",
            "los paises son United States of America\n",
            "los paises son Uruguay\n",
            "los paises son Uzbekistan\n",
            "los paises son Venezuela (Boliv. Rep. of)\n",
            "los paises son Viet Nam\n",
            "los paises son Yemen\n",
            "los paises son Zambia\n",
            "los paises son Zimbabwe\n"
          ]
        }
      ],
      "source": [
        "#Imprima un lista con todos los paises\n",
        "paises = df_emisions_co2[\"Country\"].unique()\n",
        "\n",
        "for valor in paises:\n",
        "    print(\"los paises son\", valor)"
      ]
    },
    {
      "cell_type": "markdown",
      "id": "1e40352a",
      "metadata": {
        "id": "1e40352a"
      },
      "source": [
        "# Pregunta 4"
      ]
    },
    {
      "cell_type": "markdown",
      "id": "80c46908",
      "metadata": {
        "id": "80c46908"
      },
      "source": [
        "Cuál es el país que tiene mayor emisiones usando el dataframe 'df_emisions_co2'?"
      ]
    },
    {
      "cell_type": "code",
      "execution_count": 7,
      "id": "e6df7d42",
      "metadata": {
        "id": "e6df7d42"
      },
      "outputs": [
        {
          "name": "stdout",
          "output_type": "stream",
          "text": [
            "El país con valor mas alto de la tabla de Co2 de emisiones totales es: Zimbabwe\n"
          ]
        }
      ],
      "source": [
        "# Coloque el código que responda a la pregunta aqui exactamente lo que se pregunta\n",
        "\n",
        "df_emisions_co2[\"Country\"].max()\n",
        "\n",
        "pais = df_emisions_co2[\"Country\"].max()\n",
        "\n",
        "print(\"El país con valor mas alto de la tabla de Co2 de emisiones totales es:\", pais)\n",
        "\n"
      ]
    },
    {
      "cell_type": "markdown",
      "id": "26c97fde",
      "metadata": {
        "id": "26c97fde"
      },
      "source": [
        "# Pregunta 5"
      ]
    },
    {
      "cell_type": "markdown",
      "id": "541f44ca",
      "metadata": {
        "id": "541f44ca"
      },
      "source": [
        "Cuál es el año que tiene mayor emisiones para el país de Spain usando el dataframe 'df_emisions_co2'?"
      ]
    },
    {
      "cell_type": "code",
      "execution_count": 8,
      "id": "c32f62d1",
      "metadata": {
        "id": "c32f62d1"
      },
      "outputs": [
        {
          "name": "stdout",
          "output_type": "stream",
          "text": [
            "El año con valor mas alto para España de emisiones totales es: 2017\n"
          ]
        }
      ],
      "source": [
        "# Coloque el código que responda a la pregunta aqui exactamente lo que se pregunta\n",
        "\n",
        "df_spain = df_emisions_co2[df_emisions_co2[\"Country\"]==\"Spain\"]\n",
        "\n",
        "anio = df_spain[\"Year\"].max()\n",
        "\n",
        "#\"anio = df_emisions_co2[df_emisions_co2[[\"Country\"]==\"Spain\",\"Value\"]].max()\n",
        "\n",
        "print(\"El año con valor mas alto para España de emisiones totales es:\", anio)"
      ]
    },
    {
      "cell_type": "markdown",
      "id": "55ce4564",
      "metadata": {
        "id": "55ce4564"
      },
      "source": [
        "# Pregunta 6"
      ]
    },
    {
      "cell_type": "markdown",
      "id": "3473e4f2",
      "metadata": {
        "id": "3473e4f2"
      },
      "source": [
        "Cuáles son los años que se tiene registros para el dataframe 'df_emisions_co2_per_capita'?\n",
        "\n",
        "Entrege una lista con los años sin repetirse"
      ]
    },
    {
      "cell_type": "code",
      "execution_count": 9,
      "id": "5ad50924",
      "metadata": {
        "id": "5ad50924"
      },
      "outputs": [
        {
          "name": "stdout",
          "output_type": "stream",
          "text": [
            "los años registrados son 1975\n",
            "los años registrados son 1985\n",
            "los años registrados son 1995\n",
            "los años registrados son 2005\n",
            "los años registrados son 2010\n",
            "los años registrados son 2015\n",
            "los años registrados son 2016\n",
            "los años registrados son 2017\n"
          ]
        }
      ],
      "source": [
        "# Coloque el código que responda a la pregunta aqui exactamente lo que se pregunta\n",
        "\n",
        "anios = df_emisions_co2_per_capita[\"Year\"].unique()\n",
        "\n",
        "for valor in anios:\n",
        "    print(\"los años registrados son\", valor)"
      ]
    },
    {
      "cell_type": "markdown",
      "id": "18fa522e",
      "metadata": {
        "id": "18fa522e"
      },
      "source": [
        "# Pregunta 7"
      ]
    },
    {
      "cell_type": "markdown",
      "id": "2747ce42",
      "metadata": {
        "id": "2747ce42"
      },
      "source": [
        "Cuántas son las emisiones en 'toneladas métricas' en total usando todos los países para usando el dataframe 'df_emisions_co2'?\n"
      ]
    },
    {
      "cell_type": "code",
      "execution_count": 10,
      "id": "e8cbd117",
      "metadata": {
        "id": "e8cbd117"
      },
      "outputs": [
        {
          "name": "stdout",
          "output_type": "stream",
          "text": [
            "La cantidad total de emisiones para todos los registros 195028250.41599998 tonelas métricas\n"
          ]
        }
      ],
      "source": [
        "# Coloque el código que responda a la pregunta aqui exactamente lo que se pregunta\n",
        "cantidad = df_emisions_co2[\"Value\"].sum()\n",
        "print(\"La cantidad total de emisiones para todos los registros\", cantidad, \"tonelas métricas\")"
      ]
    },
    {
      "cell_type": "markdown",
      "id": "42aa86db",
      "metadata": {
        "id": "42aa86db"
      },
      "source": [
        "# Pregunta 8"
      ]
    },
    {
      "cell_type": "markdown",
      "id": "a303974d",
      "metadata": {
        "id": "a303974d"
      },
      "source": [
        "Cuántas son las emisiones en 'toneladas métricas' sólo para Albania usando el dataframe 'df_emisions_co2'?\n"
      ]
    },
    {
      "cell_type": "code",
      "execution_count": 11,
      "id": "181ab815",
      "metadata": {
        "id": "181ab815"
      },
      "outputs": [
        {
          "name": "stdout",
          "output_type": "stream",
          "text": [
            "La cantidad de toneladas de Albania fue de 32713.283000000003\n"
          ]
        }
      ],
      "source": [
        "# Coloque el código que responda a la pregunta aqui exactamente lo que se pregunta\n",
        "df_albania = df_emisions_co2[df_emisions_co2[\"Country\"]==\"Albania\"]\n",
        "\n",
        "cantidad_Albania = df_albania[\"Value\"].sum()\n",
        "print(\"La cantidad de toneladas de Albania fue de\", cantidad_Albania)"
      ]
    },
    {
      "cell_type": "markdown",
      "id": "d084c9f3",
      "metadata": {
        "id": "d084c9f3"
      },
      "source": [
        "# Pregunta 9"
      ]
    },
    {
      "cell_type": "markdown",
      "id": "ae9cebff",
      "metadata": {
        "id": "ae9cebff"
      },
      "source": [
        "Cuántas son las emisiones en 'libras' sólo para Costa Rica usando el dataframe 'df_emisions_co2'?\n"
      ]
    },
    {
      "cell_type": "code",
      "execution_count": 12,
      "id": "ee97d492",
      "metadata": {
        "id": "ee97d492"
      },
      "outputs": [
        {
          "name": "stdout",
          "output_type": "stream",
          "text": [
            "La cantidad de libras de Costa Rica fue de 93085906.15434\n"
          ]
        }
      ],
      "source": [
        "# Coloque el código que responda a la pregunta aqui exactamente lo que se pregunta\n",
        "df_Costa_Rica = df_emisions_co2[df_emisions_co2[\"Country\"]==\"Costa Rica\"]\n",
        "\n",
        "cantidad_Costa_Rica = df_Costa_Rica[\"Value\"].sum()*2204.62\n",
        "print(\"La cantidad de libras de Costa Rica fue de\", cantidad_Costa_Rica)"
      ]
    },
    {
      "cell_type": "markdown",
      "id": "120961f0",
      "metadata": {},
      "source": []
    },
    {
      "cell_type": "markdown",
      "id": "eb6dfc54",
      "metadata": {
        "id": "eb6dfc54"
      },
      "source": [
        "# Pregunta 10"
      ]
    },
    {
      "cell_type": "markdown",
      "id": "5862817e",
      "metadata": {
        "id": "5862817e"
      },
      "source": [
        "Para sólo 'Costa Rica' y suponiendo que las emisiones se estancan a partir del último año reportado. Cuántas son las emisiones en 'Kg' sólo para Costa Rica en el año 2022 usando el dataframe 'df_emisions_co2'?\n"
      ]
    },
    {
      "cell_type": "code",
      "execution_count": 13,
      "id": "76ed009c",
      "metadata": {
        "id": "76ed009c"
      },
      "outputs": [
        {
          "name": "stdout",
          "output_type": "stream",
          "text": [
            "La cantidad de kilogramos de Costa Rica fue de 417    37922055.0\n",
            "Name: Value, dtype: float64\n"
          ]
        }
      ],
      "source": [
        "# Coloque el código que responda a la pregunta aqui exactamente lo que se pregunta\n",
        "df_Costa_Rica = df_emisions_co2[df_emisions_co2[\"Country\"]==\"Costa Rica\"]\n",
        "ultimo_anio = df_Costa_Rica[\"Year\"].max()\n",
        "emisiones_ultimo = df_Costa_Rica[df_Costa_Rica[\"Year\"]==ultimo_anio]\n",
        "emisiones_ultimo = (1000*emisiones_ultimo[\"Value\"])*(2022-ultimo_anio)\n",
        "print(\"La cantidad de kilogramos de Costa Rica fue de\", emisiones_ultimo)"
      ]
    },
    {
      "cell_type": "markdown",
      "id": "1c18874b",
      "metadata": {
        "id": "1c18874b"
      },
      "source": [
        "# Pregunta 12"
      ]
    },
    {
      "cell_type": "markdown",
      "id": "6a487c43",
      "metadata": {
        "id": "6a487c43"
      },
      "source": [
        "Para sólo los países de Centroamérica ['El Salvador', 'Honduras', 'Guatemala', 'Costa Rica', 'Nicaragua'] obtener un reporte por año de las emisiones totales en Centroamérica usando el dataframe 'df_emisions_co2'?\n",
        "Se espera un dataframe de 2 columnas: 'Year' y 'total_por_año'"
      ]
    },
    {
      "cell_type": "code",
      "execution_count": 38,
      "id": "1d0426bf",
      "metadata": {
        "id": "1d0426bf"
      },
      "outputs": [
        {
          "name": "stdout",
          "output_type": "stream",
          "text": [
            "          Country      Value\n",
            "604   El Salvador   1929.707\n",
            "605   El Salvador   1640.679\n",
            "606   El Salvador   4573.345\n",
            "607   El Salvador   6252.815\n",
            "608   El Salvador   5826.204\n",
            "609   El Salvador   6389.271\n",
            "610   El Salvador   6372.143\n",
            "611   El Salvador   5735.668\n",
            "816      Honduras   1327.971\n",
            "817      Honduras   1671.582\n",
            "818      Honduras   3575.392\n",
            "819      Honduras   7192.737\n",
            "820      Honduras   7535.444\n",
            "821      Honduras   9558.552\n",
            "822      Honduras   9132.171\n",
            "823      Honduras   9426.740\n",
            "784     Guatemala   3015.686\n",
            "785     Guatemala   3183.813\n",
            "786     Guatemala   5858.990\n",
            "787     Guatemala  10621.597\n",
            "788     Guatemala  10272.703\n",
            "789     Guatemala  15164.376\n",
            "790     Guatemala  16261.135\n",
            "791     Guatemala  15703.161\n",
            "410    Costa Rica   1738.003\n",
            "411    Costa Rica   1948.536\n",
            "412    Costa Rica   4438.795\n",
            "413    Costa Rica   5463.059\n",
            "414    Costa Rica   6622.054\n",
            "415    Costa Rica   6940.230\n",
            "416    Costa Rica   7488.019\n",
            "417    Costa Rica   7584.411\n",
            "1358    Nicaragua   1849.605\n",
            "1359    Nicaragua   1805.723\n",
            "1360    Nicaragua   2513.712\n",
            "1361    Nicaragua   4032.083\n",
            "1362    Nicaragua   4277.150\n",
            "1363    Nicaragua   5054.947\n",
            "1364    Nicaragua   5112.604\n",
            "1365    Nicaragua   5106.281\n"
          ]
        }
      ],
      "source": [
        "# Coloque el código que responda a la pregunta aqui exactamente lo que se pregunta\n",
        "df_Sal = df_emisions_co2[df_emisions_co2[\"Country\"]==\"El Salvador\"]\n",
        "df_Hon = df_emisions_co2[df_emisions_co2[\"Country\"]==\"Honduras\"]\n",
        "df_Gua = df_emisions_co2[df_emisions_co2[\"Country\"]==\"Guatemala\"]\n",
        "df_Cos = df_emisions_co2[df_emisions_co2[\"Country\"]==\"Costa Rica\"] \n",
        "df_Nic = df_emisions_co2[df_emisions_co2[\"Country\"]==\"Nicaragua\"]\n",
        "\n",
        "df_CA = pd.concat([df_Sal,df_Hon,df_Gua,df_Cos,df_Nic])\n",
        "\n",
        "#print(df_CA)\n",
        "\n",
        "df_cantidad_CA = df_CA[[\"Country\",\"Value\"]]\n",
        "\n",
        "print(df_cantidad_CA)\n",
        "\n"
      ]
    },
    {
      "cell_type": "markdown",
      "id": "8fdaae3d",
      "metadata": {
        "id": "8fdaae3d"
      },
      "source": [
        "# Pregunta 13"
      ]
    },
    {
      "cell_type": "markdown",
      "id": "8a7e17ff",
      "metadata": {
        "id": "8a7e17ff"
      },
      "source": [
        "Para sólo los países de Centroamérica ['El Salvador', 'Honduras', 'Guatemala', 'Costa Rica', 'Nicaragua'] obtener un reporte por año de las emisiones en promedio en Centroamérica usando el dataframe 'df_emisions_co2_per_capita'?\n",
        "Se espera un dataframe de 2 columnas: 'Year' y 'promedio_por_año'"
      ]
    },
    {
      "cell_type": "code",
      "execution_count": 39,
      "id": "4ec787f4",
      "metadata": {
        "id": "4ec787f4"
      },
      "outputs": [
        {
          "name": "stdout",
          "output_type": "stream",
          "text": [
            "          Country      Value\n",
            "604   El Salvador   1929.707\n",
            "605   El Salvador   1640.679\n",
            "606   El Salvador   4573.345\n",
            "607   El Salvador   6252.815\n",
            "608   El Salvador   5826.204\n",
            "609   El Salvador   6389.271\n",
            "610   El Salvador   6372.143\n",
            "611   El Salvador   5735.668\n",
            "816      Honduras   1327.971\n",
            "817      Honduras   1671.582\n",
            "818      Honduras   3575.392\n",
            "819      Honduras   7192.737\n",
            "820      Honduras   7535.444\n",
            "821      Honduras   9558.552\n",
            "822      Honduras   9132.171\n",
            "823      Honduras   9426.740\n",
            "784     Guatemala   3015.686\n",
            "785     Guatemala   3183.813\n",
            "786     Guatemala   5858.990\n",
            "787     Guatemala  10621.597\n",
            "788     Guatemala  10272.703\n",
            "789     Guatemala  15164.376\n",
            "790     Guatemala  16261.135\n",
            "791     Guatemala  15703.161\n",
            "410    Costa Rica   1738.003\n",
            "411    Costa Rica   1948.536\n",
            "412    Costa Rica   4438.795\n",
            "413    Costa Rica   5463.059\n",
            "414    Costa Rica   6622.054\n",
            "415    Costa Rica   6940.230\n",
            "416    Costa Rica   7488.019\n",
            "417    Costa Rica   7584.411\n",
            "1358    Nicaragua   1849.605\n",
            "1359    Nicaragua   1805.723\n",
            "1360    Nicaragua   2513.712\n",
            "1361    Nicaragua   4032.083\n",
            "1362    Nicaragua   4277.150\n",
            "1363    Nicaragua   5054.947\n",
            "1364    Nicaragua   5112.604\n",
            "1365    Nicaragua   5106.281\n"
          ]
        }
      ],
      "source": [
        "# Coloque el código que responda a la pregunta aqui exactamente lo que se pregunta\n",
        "\n",
        "df_Sal = df_emisions_co2_per_capita[df_emisions_co2_per_capita[\"Country\"]==\"El Salvador\"]\n",
        "df_Hon = df_emisions_co2_per_capita[df_emisions_co2_per_capita[\"Country\"]==\"Honduras\"]\n",
        "df_Gua = df_emisions_co2_per_capita[df_emisions_co2_per_capita[\"Country\"]==\"Guatemala\"]\n",
        "df_Cos = df_emisions_co2_per_capita[df_emisions_co2_per_capita[\"Country\"]==\"Costa Rica\"] \n",
        "df_Nic = df_emisions_co2_per_capita[df_emisions_co2_per_capita[\"Country\"]==\"Nicaragua\"]\n",
        "\n",
        "df_CA_per_capita = pd.concat([df_Sal,df_Hon,df_Gua,df_Cos,df_Nic])\n",
        "\n",
        "#print(df_CA)\n",
        "\n",
        "df_cantidad_CA_per_capita = df_CA[[\"Country\",\"Value\"]]\n",
        "\n",
        "print(df_cantidad_CA)"
      ]
    },
    {
      "cell_type": "markdown",
      "id": "944ac865",
      "metadata": {
        "id": "944ac865"
      },
      "source": [
        "# Pregunta 14"
      ]
    },
    {
      "cell_type": "markdown",
      "id": "b961da55",
      "metadata": {
        "id": "b961da55"
      },
      "source": [
        "Cuál es el promedio de las emisiones per capita para el año 2005 usando el dataframe 'df_emisions_co2_per_capita'?\n"
      ]
    },
    {
      "cell_type": "code",
      "execution_count": 62,
      "id": "e2f0a786",
      "metadata": {
        "id": "e2f0a786"
      },
      "outputs": [
        {
          "name": "stdout",
          "output_type": "stream",
          "text": [
            "                         Country  Year  \\\n",
            "11                       Albania  2005   \n",
            "27                       Algeria  2005   \n",
            "43                        Angola  2005   \n",
            "59                     Argentina  2005   \n",
            "71                       Armenia  2005   \n",
            "...                          ...   ...   \n",
            "2063  Venezuela (Boliv. Rep. of)  2005   \n",
            "2079                    Viet Nam  2005   \n",
            "2095                       Yemen  2005   \n",
            "2111                      Zambia  2005   \n",
            "2127                    Zimbabwe  2005   \n",
            "\n",
            "                                                   Type  Value  \n",
            "11    Emissions per capita (metric tons of carbon di...  1.270  \n",
            "27    Emissions per capita (metric tons of carbon di...  2.327  \n",
            "43    Emissions per capita (metric tons of carbon di...  0.314  \n",
            "59    Emissions per capita (metric tons of carbon di...  3.819  \n",
            "71    Emissions per capita (metric tons of carbon di...  1.385  \n",
            "...                                                 ...    ...  \n",
            "2063  Emissions per capita (metric tons of carbon di...  5.141  \n",
            "2079  Emissions per capita (metric tons of carbon di...  0.940  \n",
            "2095  Emissions per capita (metric tons of carbon di...  0.915  \n",
            "2111  Emissions per capita (metric tons of carbon di...  0.176  \n",
            "2127  Emissions per capita (metric tons of carbon di...  0.794  \n",
            "\n",
            "[140 rows x 4 columns]\n",
            "El promedio para el año 2005 fue de, 5.29775\n"
          ]
        }
      ],
      "source": [
        "# Coloque el código que responda a la pregunta aqui exactamente lo que se pregunta\n",
        "import pandas as pd\n",
        "import numpy as np\n",
        "\n",
        "df_1 = pd.read_csv(\"Carbon_Dioxide_Emission_Estimates.csv\", encoding =\"utf-8\", decimal=\".\")\n",
        "\n",
        "df_emisions_co2_per_capita = df_1[df_1[\"Type\"]==\"Emissions per capita (metric tons of carbon dioxide)\"]\n",
        "# print(df_emisions_co2_per_capita)\n",
        "\n",
        "df_anio_2005 = df_emisions_co2_per_capita[df_emisions_co2_per_capita[\"Year\"]==2005]\n",
        "print(df_anio_2005)\n",
        "df_anio_2005_prom = df_anio_2005[\"Value\"].mean()\n",
        "print(\"El promedio para el año 2005 fue de,\", df_anio_2005_prom)"
      ]
    }
  ],
  "metadata": {
    "colab": {
      "provenance": []
    },
    "kernelspec": {
      "display_name": "Python 3 (ipykernel)",
      "language": "python",
      "name": "python3"
    },
    "language_info": {
      "codemirror_mode": {
        "name": "ipython",
        "version": 3
      },
      "file_extension": ".py",
      "mimetype": "text/x-python",
      "name": "python",
      "nbconvert_exporter": "python",
      "pygments_lexer": "ipython3",
      "version": "3.12.2"
    }
  },
  "nbformat": 4,
  "nbformat_minor": 5
}
