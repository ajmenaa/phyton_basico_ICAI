{
 "cells": [
  {
   "cell_type": "code",
   "execution_count": 1,
   "metadata": {},
   "outputs": [
    {
     "data": {
      "text/plain": [
       "int"
      ]
     },
     "execution_count": 1,
     "metadata": {},
     "output_type": "execute_result"
    }
   ],
   "source": [
    "x = 25\n",
    "type(x)\n"
   ]
  },
  {
   "cell_type": "code",
   "execution_count": 2,
   "metadata": {},
   "outputs": [
    {
     "name": "stdout",
     "output_type": "stream",
     "text": [
      "<class 'int'>\n"
     ]
    }
   ],
   "source": [
    "print(type(x))"
   ]
  },
  {
   "cell_type": "code",
   "execution_count": 3,
   "metadata": {},
   "outputs": [
    {
     "name": "stdout",
     "output_type": "stream",
     "text": [
      "<class 'list'>\n"
     ]
    }
   ],
   "source": [
    "lista = ['a','b','c', 'd','e']\n",
    "print(type(lista))"
   ]
  },
  {
   "cell_type": "code",
   "execution_count": 11,
   "metadata": {},
   "outputs": [
    {
     "name": "stdout",
     "output_type": "stream",
     "text": [
      "1713573114.838896\n",
      "<class 'float'>\n"
     ]
    }
   ],
   "source": [
    "import time\n",
    "\n",
    "clock = time.time()\n",
    "print(clock)\n",
    "print(type(clock))"
   ]
  },
  {
   "cell_type": "code",
   "execution_count": 8,
   "metadata": {},
   "outputs": [
    {
     "name": "stdout",
     "output_type": "stream",
     "text": [
      "['a', 'b', 'c', 'd', 'e']\n"
     ]
    },
    {
     "data": {
      "text/plain": [
       "'e'"
      ]
     },
     "execution_count": 8,
     "metadata": {},
     "output_type": "execute_result"
    }
   ],
   "source": [
    "print(lista)\n",
    "lista.pop()"
   ]
  },
  {
   "cell_type": "code",
   "execution_count": 10,
   "metadata": {},
   "outputs": [
    {
     "name": "stdout",
     "output_type": "stream",
     "text": [
      "['a', 'b', 'c', 'd']\n"
     ]
    }
   ],
   "source": [
    "print(lista)"
   ]
  },
  {
   "cell_type": "code",
   "execution_count": 12,
   "metadata": {},
   "outputs": [],
   "source": [
    "class animal: #Mi primera clase, es la mas simple de todas\n",
    "    pass\n",
    "\n",
    "perro = animal()"
   ]
  },
  {
   "cell_type": "code",
   "execution_count": 13,
   "metadata": {},
   "outputs": [
    {
     "name": "stdout",
     "output_type": "stream",
     "text": [
      "<class '__main__.animal'>\n"
     ]
    }
   ],
   "source": [
    "print(type(perro)) #Objeto de tipo animal"
   ]
  },
  {
   "cell_type": "code",
   "execution_count": 19,
   "metadata": {},
   "outputs": [
    {
     "name": "stdout",
     "output_type": "stream",
     "text": [
      "False\n",
      "True\n"
     ]
    }
   ],
   "source": [
    "# 2 instancia\n",
    "gato = animal() #Otro objeto de tipo animal\n",
    "mascota = perro #Referencia\n",
    "\n",
    "print(perro == gato)\n",
    "print(perro == mascota)"
   ]
  },
  {
   "cell_type": "code",
   "execution_count": 21,
   "metadata": {},
   "outputs": [
    {
     "name": "stdout",
     "output_type": "stream",
     "text": [
      "1866799711728\n",
      "1866799044496\n",
      "1866799711728\n"
     ]
    }
   ],
   "source": [
    "print(id(perro))\n",
    "print(id(gato))\n",
    "print(id(mascota))"
   ]
  },
  {
   "cell_type": "markdown",
   "metadata": {},
   "source": [
    "### Atributos"
   ]
  },
  {
   "cell_type": "code",
   "execution_count": 22,
   "metadata": {},
   "outputs": [
    {
     "name": "stdout",
     "output_type": "stream",
     "text": [
      "Pancho\n",
      "4\n"
     ]
    }
   ],
   "source": [
    "#Definir atributos en caliente\n",
    "perro.nombre = 'Pancho'\n",
    "perro.edad = 4\n",
    "\n",
    "print(perro.nombre)\n",
    "print(perro.edad)"
   ]
  },
  {
   "cell_type": "code",
   "execution_count": 24,
   "metadata": {},
   "outputs": [
    {
     "name": "stdout",
     "output_type": "stream",
     "text": [
      "Pancho\n",
      "4\n",
      "Pancho V2\n"
     ]
    }
   ],
   "source": [
    "print(mascota.nombre)\n",
    "print(mascota.edad)\n",
    "\n",
    "mascota.nombre = 'Pancho V2'\n",
    "\n",
    "print(perro.nombre)"
   ]
  },
  {
   "cell_type": "code",
   "execution_count": 25,
   "metadata": {},
   "outputs": [
    {
     "ename": "AttributeError",
     "evalue": "'animal' object has no attribute 'nombre'",
     "output_type": "error",
     "traceback": [
      "\u001b[1;31m---------------------------------------------------------------------------\u001b[0m",
      "\u001b[1;31mAttributeError\u001b[0m                            Traceback (most recent call last)",
      "Cell \u001b[1;32mIn[25], line 1\u001b[0m\n\u001b[1;32m----> 1\u001b[0m \u001b[38;5;28mprint\u001b[39m(\u001b[43mgato\u001b[49m\u001b[38;5;241;43m.\u001b[39;49m\u001b[43mnombre\u001b[49m)\n",
      "\u001b[1;31mAttributeError\u001b[0m: 'animal' object has no attribute 'nombre'"
     ]
    }
   ],
   "source": [
    "print(gato.nombre)"
   ]
  },
  {
   "cell_type": "code",
   "execution_count": 27,
   "metadata": {},
   "outputs": [
    {
     "data": {
      "text/plain": [
       "{}"
      ]
     },
     "execution_count": 27,
     "metadata": {},
     "output_type": "execute_result"
    }
   ],
   "source": [
    "perro.__dict__\n",
    "gato.__dict__"
   ]
  },
  {
   "cell_type": "markdown",
   "metadata": {},
   "source": [
    "### 3. Definición de clases"
   ]
  },
  {
   "cell_type": "code",
   "execution_count": 28,
   "metadata": {},
   "outputs": [],
   "source": [
    "class animal: #Es la clase animal, plantilla\n",
    "    \n",
    "\n",
    "    def comer(self):\n",
    "        return 'El animal come'"
   ]
  },
  {
   "cell_type": "code",
   "execution_count": 29,
   "metadata": {},
   "outputs": [
    {
     "data": {
      "text/plain": [
       "'El animal come'"
      ]
     },
     "execution_count": 29,
     "metadata": {},
     "output_type": "execute_result"
    }
   ],
   "source": [
    "perico = animal()\n",
    "perico.nombre = 'Lorito'\n",
    "perico.comer()"
   ]
  },
  {
   "cell_type": "markdown",
   "metadata": {},
   "source": [
    "### 3.1 El constructor: _init_"
   ]
  },
  {
   "cell_type": "code",
   "execution_count": 36,
   "metadata": {},
   "outputs": [],
   "source": [
    "class animal: #Es la clase animal, plantilla\n",
    "\n",
    "    def __init__(self,p_nombre,edad,especie): #El constructor de la clase animal\n",
    "        self.nombre = p_nombre\n",
    "        self.edad = edad\n",
    "        self.especie = especie\n",
    "    \n",
    "    def comer(self):\n",
    "        print(f\"El {self.nombre} esta comiendo\")\n",
    "\n",
    "    def dormir(self):\n",
    "        print(f\"El {self.nombre} esta durmiendo\")"
   ]
  },
  {
   "cell_type": "code",
   "execution_count": 37,
   "metadata": {},
   "outputs": [
    {
     "name": "stdout",
     "output_type": "stream",
     "text": [
      "<__main__.animal object at 0x000001B2A5F71A60>\n",
      "El BOBI esta comiendo\n",
      "El BOBI esta durmiendo\n",
      "BOBI\n"
     ]
    }
   ],
   "source": [
    "perro = animal('BOBI',7,'mamifero')\n",
    "print(perro)\n",
    "perro.comer()\n",
    "perro.dormir()\n",
    "print(perro.nombre)\n"
   ]
  },
  {
   "cell_type": "code",
   "execution_count": 38,
   "metadata": {},
   "outputs": [
    {
     "name": "stdout",
     "output_type": "stream",
     "text": [
      "El Michi esta durmiendo\n"
     ]
    }
   ],
   "source": [
    "gato = animal('Michi',12,'mamifero')\n",
    "gato.dormir()\n"
   ]
  },
  {
   "cell_type": "code",
   "execution_count": null,
   "metadata": {},
   "outputs": [],
   "source": [
    "### 4. Herencia\n"
   ]
  },
  {
   "cell_type": "code",
   "execution_count": 40,
   "metadata": {},
   "outputs": [],
   "source": [
    "class Animal:\n",
    "    \"\"\"\n",
    "    Clase base para representar un animal.\n",
    "    \"\"\"\n",
    "    oxigeno = True\n",
    "\n",
    "    def __init__(self, nombre, especie, edad):\n",
    "        \"\"\"\n",
    "        El constructor de la clase Animal.\n",
    "        \"\"\"\n",
    "        self.nombre = nombre\n",
    "        self.especie = especie\n",
    "        self.edad = edad\n",
    "\n",
    "\n",
    "    def comer(self):\n",
    "        \"\"\"\n",
    "        Método que simula la acción de comer.\n",
    "        \"\"\"\n",
    "        print(f\"{self.nombre} está comiendo.\")\n",
    "\n",
    "\n",
    "    def dormir(self):\n",
    "        \"\"\"\n",
    "        Método que simula la acción de dormir.\n",
    "        \"\"\"\n",
    "        print(f\"{self.nombre} está durmiendo.\")\n",
    "\n",
    "    def respirar(self):\n",
    "        if self.oxigeno:\n",
    "           print(f\"{self.nombre} está vivo.\") \n",
    "        else:\n",
    "            print(f\"{self.nombre} está muerto.\")"
   ]
  },
  {
   "cell_type": "code",
   "execution_count": 47,
   "metadata": {},
   "outputs": [],
   "source": [
    "class Ave(Animal):\n",
    "    '''\n",
    "    Clase que hereda de animal para representar un ave\n",
    "    '''\n",
    "    def __init__(self, nombre, especie, edad, puede_volar):\n",
    "        '''\n",
    "        El constructor de la clase Ave\n",
    "        '''\n",
    "        super().__init__(nombre, especie, edad)\n",
    "        self.puede_volar = puede_volar\n",
    "\n",
    "    def volar(self):\n",
    "        if self.puede_volar:\n",
    "            print(f'{self.nombre} está volando.')\n",
    "        else:\n",
    "            print(f'{self.nombre} no puede volar.')\n"
   ]
  },
  {
   "cell_type": "code",
   "execution_count": 49,
   "metadata": {},
   "outputs": [
    {
     "name": "stdout",
     "output_type": "stream",
     "text": [
      "Loro está volando.\n",
      "Loro está vivo.\n",
      "Perico no puede volar.\n",
      "Perico está vivo.\n"
     ]
    }
   ],
   "source": [
    "loro = Ave('Loro','Guacamayo',5,True)\n",
    "loro.volar()\n",
    "loro.respirar()\n",
    "\n",
    "\n",
    "perico = Ave('Perico','Cotorra',1,False)\n",
    "perico.volar()\n",
    "perico.respirar()"
   ]
  },
  {
   "cell_type": "code",
   "execution_count": 52,
   "metadata": {},
   "outputs": [
    {
     "name": "stdout",
     "output_type": "stream",
     "text": [
      "Periquito está muerto.\n",
      "Loro está muerto.\n",
      "Periquito está vivo.\n",
      "Loro está vivo.\n"
     ]
    }
   ],
   "source": [
    "perico.nombre = 'Periquito' #Editando atributo del objeto\n",
    "\n",
    "Animal.oxigeno = False #Editando atributo de la clase\n",
    "\n",
    "perico.respirar()\n",
    "loro.respirar()\n",
    "\n",
    "Animal.oxigeno = True   \n",
    "perico.respirar()\n",
    "loro.respirar()"
   ]
  },
  {
   "cell_type": "markdown",
   "metadata": {},
   "source": [
    "### Ejemplo Poliformismo"
   ]
  },
  {
   "cell_type": "code",
   "execution_count": null,
   "metadata": {},
   "outputs": [],
   "source": [
    "class Animal:\n",
    "    \"\"\"\n",
    "    Clase base para representar un animal.\n",
    "    \"\"\"\n",
    "   \n",
    "    def __init__(self, nombre, especie, edad):\n",
    "        \"\"\"\n",
    "        El constructor de la clase Animal.\n",
    "        \"\"\"\n",
    "        self.nombre = nombre\n",
    "        self.especie = especie\n",
    "        self.edad = edad\n",
    "\n",
    "\n",
    "    def comer(self):\n",
    "        \"\"\"\n",
    "        Método que simula la acción de comer.\n",
    "        \"\"\"\n",
    "        print(f\"{self.nombre} está comiendo.\")\n",
    "\n",
    "\n",
    "    def dormir(self):\n",
    "        \"\"\"\n",
    "        Método que simula la acción de dormir.\n",
    "        \"\"\"\n",
    "        print(f\"{self.nombre} está durmiendo.\")\n",
    "\n",
    "    def respirar(self):\n",
    "        if self.oxigeno:\n",
    "           print(f\"{self.nombre} está vivo.\") \n",
    "        else:\n",
    "            print(f\"{self.nombre} está muerto.\")\n",
    "\n",
    "    def hacer_ruido(self):\n",
    "        raise NotImplementedError('Este método debe ser implementado por las clases hijas')"
   ]
  },
  {
   "cell_type": "code",
   "execution_count": 53,
   "metadata": {},
   "outputs": [],
   "source": [
    "class perro(Animal):\n",
    "    def __init__(self, nombre:str, especie:str, edad:int):\n",
    "        super().__init(nombre, especie, edad)\n",
    "    def hacer_ruido(self):\n",
    "        print(f'{self.nombre} hace guauguau')\n",
    "\n",
    "class gato(Animal):\n",
    "    def __init__(self, nombre:str, especie:str, edad:int):\n",
    "        super().__init(nombre, especie, edad)\n",
    "    def hacer_ruido(self):\n",
    "        print(f'{self.nombre} hace miauuuu')"
   ]
  },
  {
   "cell_type": "markdown",
   "metadata": {},
   "source": [
    "terminar ejemplo"
   ]
  },
  {
   "cell_type": "markdown",
   "metadata": {},
   "source": [
    "### Encapsulamiento"
   ]
  },
  {
   "cell_type": "code",
   "execution_count": null,
   "metadata": {},
   "outputs": [],
   "source": [
    "class miclase():\n",
    "    def __init__(self):\n",
    "        self.pub = 'pub = atributo público'\n",
    "        self.pro = 'pro = atributo protegido'\n",
    "        self.__pri"
   ]
  },
  {
   "cell_type": "code",
   "execution_count": null,
   "metadata": {},
   "outputs": [],
   "source": [
    "class Animal:\n",
    "    \"\"\"\n",
    "    Clase base para representar un animal.\n",
    "    \"\"\"\n",
    "\n",
    "\n",
    "    def __init__(self, nombre: str, especie: str, edad :int):\n",
    "        \"\"\"\n",
    "        El constructor de la clase Animal.\n",
    "        \"\"\"\n",
    "        self.nombre = nombre\n",
    "        self.especie = especie\n",
    "        self.edad = edad\n",
    "\n",
    "\n",
    "    def comer(self):\n",
    "        \"\"\"\n",
    "        Método que simula la acción de comer.\n",
    "        \"\"\"\n",
    "        print(f\"{self.nombre} está comiendo.\")\n",
    "\n",
    "\n",
    "    def dormir(self):\n",
    "        \"\"\"\n",
    "        Método que simula la acción de dormir.\n",
    "        \"\"\"\n",
    "        print(f\"{self.nombre} está durmiendo.\")\n",
    "        "
   ]
  }
 ],
 "metadata": {
  "kernelspec": {
   "display_name": "Python 3",
   "language": "python",
   "name": "python3"
  },
  "language_info": {
   "codemirror_mode": {
    "name": "ipython",
    "version": 3
   },
   "file_extension": ".py",
   "mimetype": "text/x-python",
   "name": "python",
   "nbconvert_exporter": "python",
   "pygments_lexer": "ipython3",
   "version": "3.12.2"
  }
 },
 "nbformat": 4,
 "nbformat_minor": 2
}
