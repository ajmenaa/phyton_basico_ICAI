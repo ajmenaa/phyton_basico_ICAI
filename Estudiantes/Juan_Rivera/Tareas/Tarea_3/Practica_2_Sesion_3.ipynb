{
  "cells": [
    {
      "cell_type": "markdown",
      "metadata": {},
      "source": [
        "# Práctica 2 Sesión 3 \n",
        "## Lista Números <Escritura - Lectura> "
      ]
    },
    {
      "cell_type": "markdown",
      "metadata": {},
      "source": [
        "\n",
        "\n",
        "### NOMBRE: **[INSERTE SU NOMBRE COMPLETO]**"
      ]
    },
    {
      "cell_type": "markdown",
      "metadata": {},
      "source": [
        "### Explicación detallada del código para escribir y leer datos en un archivo:\n",
        "**Introducción:**\n",
        "\n",
        "Este código te permite escribir y leer datos en un archivo de texto plano (.txt) utilizando Python. Antes de comenzar, es importante que tengas conocimientos básicos sobre cómo escribir datos en un archivo.\n",
        "\n",
        "#### Escribir datos en un archivo:\n",
        "\n",
        "1. Modo Append (Agregar):\n",
        "\n",
        "El modo 'a' se utiliza para agregar contenido al final del archivo sin borrar el contenido existente."
      ]
    },
    {
      "cell_type": "code",
      "execution_count": 2,
      "metadata": {},
      "outputs": [],
      "source": [
        "with open('datos.txt', 'a') as archivo:\n",
        "  archivo.write('Nueva Línea\\n')"
      ]
    },
    {
      "cell_type": "markdown",
      "metadata": {},
      "source": [
        "> En este caso, se abre el archivo **datos.txt** en modo **'a'** y se escribe la cadena **'Nueva Línea\\n'** al final del archivo."
      ]
    },
    {
      "cell_type": "markdown",
      "metadata": {},
      "source": [
        "2. Modo Write (Escritura):\n",
        "\n",
        "El modo 'w' se utiliza para sobreescribir el contenido del archivo."
      ]
    },
    {
      "cell_type": "code",
      "execution_count": 3,
      "metadata": {},
      "outputs": [],
      "source": [
        "f = open(\"datos.txt\", \"w\")\n",
        "f.write(\"Le caí encima a la información\")\n",
        "f.close()"
      ]
    },
    {
      "cell_type": "markdown",
      "metadata": {},
      "source": [
        "> En este caso, se abre el archivo **datos.txt** en modo **'w'** y se escribe la cadena **'Le caí encima a la información'**. Esto sobrescribe cualquier contenido que ya existiera en el archivo."
      ]
    },
    {
      "cell_type": "markdown",
      "metadata": {},
      "source": [
        "3. Consideraciones:\n",
        "\n",
        "**Directorios:** Los directorios no pueden tener espacios, tildes ni estar en OneDrive o iCloud.\n",
        "\n",
        "Modos de apertura:\n",
        "- **'a':** Agregar al final del archivo.\n",
        "- **'w':** Sobrescribir el contenido del archivo.\n",
        "- **'r':** Leer el contenido del archivo.\n",
        "\n",
        "\n",
        "#### Leer datos de un archivo:"
      ]
    },
    {
      "cell_type": "code",
      "execution_count": 4,
      "metadata": {},
      "outputs": [
        {
          "name": "stdout",
          "output_type": "stream",
          "text": [
            "Le caí encima a la información\n"
          ]
        }
      ],
      "source": [
        "archivo = open(\"datos.txt\", \"r\")\n",
        "contenido = archivo.read()\n",
        "archivo.close()\n",
        "print(contenido)"
      ]
    },
    {
      "cell_type": "markdown",
      "metadata": {},
      "source": [
        "> En este caso, se abre el archivo **datos.txt** en modo **'r'** y se lee su contenido en la variable contenido. Finalmente, se imprime el contenido en la pantalla."
      ]
    },
    {
      "cell_type": "markdown",
      "metadata": {},
      "source": [
        "# Instrucciones detalladas para la actividad Lista Números – Escritura - Lectura:"
      ]
    },
    {
      "cell_type": "markdown",
      "metadata": {},
      "source": [
        "1.  Crea una lista llamada numeros que contenga los números del `1 al 10`."
      ]
    },
    {
      "cell_type": "code",
      "execution_count": 34,
      "metadata": {},
      "outputs": [
        {
          "name": "stdout",
          "output_type": "stream",
          "text": [
            "[1, 2, 3, 4, 5, 6, 7, 8, 9, 10]\n"
          ]
        }
      ],
      "source": [
        "# Creamos la lista\n",
        "\n",
        "Lista = [1, 2, 3, 4, 5, 6, 7, 8, 9, 10]\n",
        "print(Lista)\n"
      ]
    },
    {
      "cell_type": "markdown",
      "metadata": {},
      "source": [
        "2. Agrega los números del 11 al 15 a la lista utilizando el método **extend()**.\n",
        "\n",
        "> Imprime la lista en la pantalla para verificar que contiene todos los números."
      ]
    },
    {
      "cell_type": "code",
      "execution_count": 35,
      "metadata": {},
      "outputs": [
        {
          "name": "stdout",
          "output_type": "stream",
          "text": [
            "[1, 2, 3, 4, 5, 6, 7, 8, 9, 10]\n",
            "[11, 12, 13, 14, 15]\n",
            "[1, 2, 3, 4, 5, 6, 7, 8, 9, 10, 11, 12, 13, 14, 15]\n"
          ]
        }
      ],
      "source": [
        "# Agregamos los elementos a la lista\n",
        "\n",
        "print(Lista)\n",
        "\n",
        "Otra_Lista = [11, 12, 13, 14, 15]\n",
        "print(Otra_Lista)\n",
        "\n",
        "Lista.extend(Otra_Lista)\n",
        "print(Lista)"
      ]
    },
    {
      "cell_type": "markdown",
      "metadata": {},
      "source": [
        "3.\tUtiliza el método **append()** para agregar el número 16 al final de la lista.\n",
        "\n",
        "> Imprime la lista en la pantalla para verificar que contiene todos los números."
      ]
    },
    {
      "cell_type": "code",
      "execution_count": 36,
      "metadata": {},
      "outputs": [
        {
          "name": "stdout",
          "output_type": "stream",
          "text": [
            "[1, 2, 3, 4, 5, 6, 7, 8, 9, 10, 11, 12, 13, 14, 15]\n",
            "[1, 2, 3, 4, 5, 6, 7, 8, 9, 10, 11, 12, 13, 14, 15, 16]\n"
          ]
        }
      ],
      "source": [
        "#append()\n",
        "\n",
        "print(Lista)\n",
        "\n",
        "Lista.append(16)\n",
        "print(Lista)"
      ]
    },
    {
      "cell_type": "markdown",
      "metadata": {},
      "source": [
        "4.\tUtiliza el método **insert()** para agregar el número 0 al principio de la lista.\n",
        "> Imprime la lista en la pantalla de nuevo para verificar que contiene el número 0 al principio y el número 16 al final."
      ]
    },
    {
      "cell_type": "code",
      "execution_count": 37,
      "metadata": {},
      "outputs": [
        {
          "name": "stdout",
          "output_type": "stream",
          "text": [
            "[1, 2, 3, 4, 5, 6, 7, 8, 9, 10, 11, 12, 13, 14, 15, 16]\n",
            "[0, 1, 2, 3, 4, 5, 6, 7, 8, 9, 10, 11, 12, 13, 14, 15, 16]\n"
          ]
        }
      ],
      "source": [
        "#insert()\n",
        "\n",
        "print(Lista)\n",
        "\n",
        "Lista.insert(0, 0)\n",
        "print(Lista)"
      ]
    },
    {
      "cell_type": "markdown",
      "metadata": {},
      "source": [
        "5.\tUtiliza el método remove() para eliminar el número 5 de la lista."
      ]
    },
    {
      "cell_type": "code",
      "execution_count": 38,
      "metadata": {},
      "outputs": [
        {
          "name": "stdout",
          "output_type": "stream",
          "text": [
            "[0, 1, 2, 3, 4, 5, 6, 7, 8, 9, 10, 11, 12, 13, 14, 15, 16]\n",
            "[0, 1, 2, 3, 4, 6, 7, 8, 9, 10, 11, 12, 13, 14, 15, 16]\n"
          ]
        }
      ],
      "source": [
        "# remove()\n",
        "\n",
        "print(Lista)\n",
        "\n",
        "Lista.remove(5)\n",
        "print(Lista)"
      ]
    },
    {
      "cell_type": "markdown",
      "metadata": {},
      "source": [
        "6.\tUtiliza el método pop() para eliminar el último número de la lista y almacenarlo en una variable llamada ultimo_numero."
      ]
    },
    {
      "cell_type": "code",
      "execution_count": 39,
      "metadata": {},
      "outputs": [
        {
          "name": "stdout",
          "output_type": "stream",
          "text": [
            "[0, 1, 2, 3, 4, 6, 7, 8, 9, 10, 11, 12, 13, 14, 15, 16]\n",
            "[0, 1, 2, 3, 4, 6, 7, 8, 9, 10, 11, 12, 13, 14, 15]\n",
            "16\n"
          ]
        }
      ],
      "source": [
        "# pop()\n",
        "\n",
        "print(Lista)\n",
        "\n",
        "Ultimo_Numero = Lista.pop(-1)\n",
        "print(Lista)\n",
        "print(Ultimo_Numero)"
      ]
    },
    {
      "cell_type": "markdown",
      "metadata": {},
      "source": [
        "7.\tCrea un archivo llamado numeros.txt en modo escritura utilizando la función open()."
      ]
    },
    {
      "cell_type": "code",
      "execution_count": 29,
      "metadata": {},
      "outputs": [],
      "source": [
        "Nums = open('Numeros.txt', 'w')"
      ]
    },
    {
      "cell_type": "markdown",
      "metadata": {},
      "source": [
        "8.\tUtiliza un bucle for para escribir cada número de la lista en una línea separada en el archivo utilizando el método write()."
      ]
    },
    {
      "cell_type": "code",
      "execution_count": 30,
      "metadata": {},
      "outputs": [],
      "source": [
        "for i in Lista:\n",
        "    Nums.write(str(i) + '\\n')"
      ]
    },
    {
      "cell_type": "markdown",
      "metadata": {},
      "source": [
        "9.\tCierra el archivo utilizando el método close()."
      ]
    },
    {
      "cell_type": "code",
      "execution_count": 31,
      "metadata": {},
      "outputs": [],
      "source": [
        "Nums.close()"
      ]
    },
    {
      "cell_type": "markdown",
      "metadata": {},
      "source": [
        "10.\tAbre el archivo en modo lectura utilizando la función open() y lee el contenido utilizando el método read()."
      ]
    },
    {
      "cell_type": "code",
      "execution_count": 32,
      "metadata": {},
      "outputs": [],
      "source": [
        "Nums = open('Numeros.txt', 'r')\n",
        "Contenido = Nums.read()"
      ]
    },
    {
      "cell_type": "markdown",
      "metadata": {},
      "source": [
        "11.\tImprime el contenido del archivo en la pantalla utilizando la función print()."
      ]
    },
    {
      "cell_type": "code",
      "execution_count": 33,
      "metadata": {},
      "outputs": [
        {
          "name": "stdout",
          "output_type": "stream",
          "text": [
            "0\n",
            "1\n",
            "2\n",
            "3\n",
            "4\n",
            "6\n",
            "7\n",
            "8\n",
            "9\n",
            "10\n",
            "11\n",
            "12\n",
            "13\n",
            "14\n",
            "15\n",
            "\n"
          ]
        }
      ],
      "source": [
        "print(Contenido)"
      ]
    },
    {
      "cell_type": "markdown",
      "metadata": {},
      "source": [
        "## Pasos Finales\n",
        "1. Sube tu código a GitHub o a cualquier otra plataforma de alojamiento de código.\n",
        "2. Toma capturas de pantalla de la ejecución del código, mostrando los resultados de cada paso y adjuntelos al informe."
      ]
    }
  ],
  "metadata": {
    "interpreter": {
      "hash": "b8bdd4e700647ba2b08c59e5df8b7da1dcf50a218bcd4c1bcd9b3dc92e8788e5"
    },
    "kernelspec": {
      "display_name": "Python 3.9.1 64-bit",
      "name": "python3"
    },
    "language_info": {
      "codemirror_mode": {
        "name": "ipython",
        "version": 3
      },
      "file_extension": ".py",
      "mimetype": "text/x-python",
      "name": "python",
      "nbconvert_exporter": "python",
      "pygments_lexer": "ipython3",
      "version": "3.12.2"
    },
    "nteract": {
      "version": "nteract-front-end@1.0.0"
    }
  },
  "nbformat": 4,
  "nbformat_minor": 4
}
