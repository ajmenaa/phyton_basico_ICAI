{
 "cells": [
  {
   "cell_type": "code",
   "execution_count": 1,
   "metadata": {},
   "outputs": [],
   "source": [
    "#1\n",
    "with open('lista_compras.txt', 'r') as f: \n",
    "    lista = f.readlines()"
   ]
  },
  {
   "cell_type": "code",
   "execution_count": 2,
   "metadata": {},
   "outputs": [],
   "source": [
    "#2\n",
    "quita_fin_de_linea = [elemento.rstrip() for elemento in lista]"
   ]
  },
  {
   "cell_type": "code",
   "execution_count": 3,
   "metadata": {},
   "outputs": [
    {
     "name": "stdout",
     "output_type": "stream",
     "text": [
      "[['apple', '400'], ['pear', '500'], ['grapes', '300'], ['limon', '30']]\n"
     ]
    }
   ],
   "source": [
    "#3\n",
    "lista_fruta_precio = [elemento.split(',') for elemento in quita_fin_de_linea]\n",
    "\n",
    "print(lista_fruta_precio)"
   ]
  },
  {
   "cell_type": "code",
   "execution_count": 4,
   "metadata": {},
   "outputs": [],
   "source": [
    "#4\n",
    "impuesto = 1.13"
   ]
  },
  {
   "cell_type": "code",
   "execution_count": 5,
   "metadata": {},
   "outputs": [
    {
     "name": "stdout",
     "output_type": "stream",
     "text": [
      "[['apple', '452'], ['pear', '565'], ['grapes', '339'], ['limon', '34']]\n"
     ]
    }
   ],
   "source": [
    "#5\n",
    "lista_fruta_precio_impuesto = [] \n",
    "\n",
    "for fruta, precio in lista_fruta_precio:\n",
    "   lista_fruta_precio_impuesto.append([fruta,str(round(int(precio) * impuesto))])\n",
    "\n",
    "print(lista_fruta_precio_impuesto)"
   ]
  },
  {
   "cell_type": "code",
   "execution_count": 7,
   "metadata": {},
   "outputs": [],
   "source": [
    "#6\n",
    "list_reglon = [','.join(elemento) for elemento in lista_fruta_precio_impuesto]"
   ]
  },
  {
   "cell_type": "code",
   "execution_count": 8,
   "metadata": {},
   "outputs": [],
   "source": [
    "#7\n",
    "pone_fin_de_linea = [f'{elemento}\\n' for elemento in list_reglon]"
   ]
  },
  {
   "cell_type": "code",
   "execution_count": 9,
   "metadata": {},
   "outputs": [],
   "source": [
    "#8\n",
    "with open('lista_compras_procesada.txt', 'w') as f: \n",
    "    f.writelines(pone_fin_de_linea)"
   ]
  }
 ],
 "metadata": {
  "kernelspec": {
   "display_name": "Python 3",
   "language": "python",
   "name": "python3"
  },
  "language_info": {
   "codemirror_mode": {
    "name": "ipython",
    "version": 3
   },
   "file_extension": ".py",
   "mimetype": "text/x-python",
   "name": "python",
   "nbconvert_exporter": "python",
   "pygments_lexer": "ipython3",
   "version": "3.12.2"
  }
 },
 "nbformat": 4,
 "nbformat_minor": 2
}
