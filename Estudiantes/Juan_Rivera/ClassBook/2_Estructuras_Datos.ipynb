{
 "cells": [
  {
   "cell_type": "markdown",
   "metadata": {},
   "source": [
    "# Estructuras de datos\n",
    "## Listas\n",
    "\n",
    "Las listas son uno de los tipos de datos más importantes y versátiles de python.\n",
    "\n",
    "**Creación de listas:**\n",
    "\n",
    "- **Usando corchetes [] y separando los elementos por comas:**"
   ]
  },
  {
   "cell_type": "code",
   "execution_count": 20,
   "metadata": {},
   "outputs": [
    {
     "name": "stdout",
     "output_type": "stream",
     "text": [
      "['Conejo', 'Gato', 'Perro', 10, True, 10.65, [2022, 2023, 2024]]\n"
     ]
    }
   ],
   "source": [
    "lista = ['Conejo', 'Gato', 'Perro', 10, True, 10.65, [2022, 2023, 2024]] \n",
    "print(lista)"
   ]
  },
  {
   "cell_type": "markdown",
   "metadata": {},
   "source": [
    "### Trabajando con listas"
   ]
  },
  {
   "cell_type": "code",
   "execution_count": 13,
   "metadata": {},
   "outputs": [
    {
     "name": "stdout",
     "output_type": "stream",
     "text": [
      "[1, 2, 3, 4, 5]\n",
      "1\n",
      "5\n"
     ]
    }
   ],
   "source": [
    "mi_lista = [1, 2, 3, 4, 5]\n",
    "print(mi_lista)\n",
    "print(mi_lista[0])\n",
    "print(mi_lista[-1])"
   ]
  },
  {
   "cell_type": "markdown",
   "metadata": {},
   "source": [
    "### Imprimir elementos de una lista"
   ]
  },
  {
   "cell_type": "code",
   "execution_count": 18,
   "metadata": {},
   "outputs": [
    {
     "name": "stdout",
     "output_type": "stream",
     "text": [
      "[1, 2, 3, 4, 5]\n",
      "[2, 3, 4]\n",
      "[1, 2, 3, 4]\n",
      "[4, 5]\n"
     ]
    }
   ],
   "source": [
    "#Imprimir con \"slicing\"\n",
    "print(mi_lista)\n",
    "print(mi_lista[1:4])\n",
    "print(mi_lista[:4])\n",
    "print(mi_lista[3:])\n"
   ]
  },
  {
   "cell_type": "code",
   "execution_count": 19,
   "metadata": {},
   "outputs": [
    {
     "name": "stdout",
     "output_type": "stream",
     "text": [
      "1 2 3 4 5\n"
     ]
    }
   ],
   "source": [
    "print(*mi_lista)"
   ]
  },
  {
   "cell_type": "code",
   "execution_count": 23,
   "metadata": {},
   "outputs": [
    {
     "name": "stdout",
     "output_type": "stream",
     "text": [
      "Conejo\n",
      "Gato\n",
      "Perro\n",
      "10\n",
      "True\n",
      "10.65\n",
      "[2022, 2023, 2024]\n"
     ]
    }
   ],
   "source": [
    "#Usando el bucle \"for\" para imprimir todos los elementos de la lista\n",
    "for elemento in lista:\n",
    "    print(elemento)"
   ]
  },
  {
   "cell_type": "markdown",
   "metadata": {},
   "source": [
    "# Métodos básicos y útiles en listas\n",
    "\n",
    "1. append()\n",
    "2. insert()"
   ]
  },
  {
   "cell_type": "code",
   "execution_count": 24,
   "metadata": {},
   "outputs": [
    {
     "name": "stdout",
     "output_type": "stream",
     "text": [
      "['Outlook', 'Hotmail', 'Gmail']\n",
      "['Outlook', 'Hotmail', 'Gmail', 'Yahoo']\n"
     ]
    }
   ],
   "source": [
    "#append()\n",
    "correos = ['Outlook', 'Hotmail', 'Gmail']\n",
    "print(correos)\n",
    "correos.append('Yahoo')\n",
    "print(correos)\n"
   ]
  },
  {
   "cell_type": "code",
   "execution_count": 25,
   "metadata": {},
   "outputs": [
    {
     "name": "stdout",
     "output_type": "stream",
     "text": [
      "['Outlook', 'ProtonMail', 'Hotmail', 'Gmail', 'Yahoo']\n"
     ]
    }
   ],
   "source": [
    "#insert()\n",
    "correos.insert(1, 'ProtonMail')\n",
    "print(correos)\n"
   ]
  },
  {
   "cell_type": "markdown",
   "metadata": {},
   "source": [
    "### Agregar múltiples elementos a una lista"
   ]
  },
  {
   "cell_type": "code",
   "execution_count": 26,
   "metadata": {},
   "outputs": [
    {
     "name": "stdout",
     "output_type": "stream",
     "text": [
      "['Word', 'Excel', 'Power Point']\n",
      "['Access', 'Visio', 'Skype']\n",
      "['Word', 'Excel', 'Power Point', 'Access', 'Visio', 'Skype']\n"
     ]
    }
   ],
   "source": [
    "#extend\n",
    "paquete = ['Word', 'Excel', 'Power Point']\n",
    "print(paquete)\n",
    "adicional = ['Access', 'Visio', 'Skype']\n",
    "print(adicional)\n",
    "\n",
    "paquete.extend(adicional)\n",
    "print(paquete)\n"
   ]
  },
  {
   "cell_type": "code",
   "execution_count": 27,
   "metadata": {},
   "outputs": [
    {
     "name": "stdout",
     "output_type": "stream",
     "text": [
      "['Word', 'Excel', 'Power Point']\n",
      "['Access', 'Visio', 'Skype']\n",
      "['Word', 'Excel', 'Power Point', 'Access', 'Visio', 'Skype']\n"
     ]
    }
   ],
   "source": [
    "#Concatenar\n",
    "paquete = ['Word', 'Excel', 'Power Point']\n",
    "print(paquete)\n",
    "adicional = ['Access', 'Visio', 'Skype']\n",
    "print(adicional)\n",
    "\n",
    "paquete_pro = paquete + adicional\n",
    "print(paquete_pro)\n"
   ]
  },
  {
   "cell_type": "markdown",
   "metadata": {},
   "source": [
    "## Métodos para eliminar elementos de una lista"
   ]
  },
  {
   "cell_type": "code",
   "execution_count": 30,
   "metadata": {},
   "outputs": [
    {
     "name": "stdout",
     "output_type": "stream",
     "text": [
      "['Outlook', 'ProtonMail', 'Hotmail', 'Gmail', 'Yahoo', 'Gmail']\n",
      "['Outlook', 'ProtonMail', 'Hotmail', 'Gmail', 'Yahoo', 'Gmail', 'Gmail']\n",
      "['Outlook', 'ProtonMail', 'Hotmail', 'Yahoo', 'Gmail', 'Gmail']\n"
     ]
    }
   ],
   "source": [
    "#remove()\n",
    "print(correos)\n",
    "correos.append('Gmail')\n",
    "print(correos)\n",
    "correos.remove('Gmail')\n",
    "print(correos)\n"
   ]
  },
  {
   "cell_type": "code",
   "execution_count": 31,
   "metadata": {},
   "outputs": [
    {
     "name": "stdout",
     "output_type": "stream",
     "text": [
      "ProtonMail\n",
      "['Outlook', 'Hotmail', 'Yahoo', 'Gmail', 'Gmail']\n"
     ]
    }
   ],
   "source": [
    "#pop()\n",
    "eliminado = correos.pop(1)\n",
    "print(eliminado)\n",
    "print(correos)\n"
   ]
  },
  {
   "cell_type": "code",
   "execution_count": 32,
   "metadata": {},
   "outputs": [
    {
     "name": "stdout",
     "output_type": "stream",
     "text": [
      "['Outlook', 'Hotmail', 'Yahoo', 'Gmail']\n"
     ]
    }
   ],
   "source": [
    "#del\n",
    "del correos[4]\n",
    "print(correos)"
   ]
  },
  {
   "cell_type": "code",
   "execution_count": 35,
   "metadata": {},
   "outputs": [
    {
     "name": "stdout",
     "output_type": "stream",
     "text": [
      "[]\n"
     ]
    }
   ],
   "source": [
    "#clear\n",
    "correos.clear()\n",
    "print(correos)"
   ]
  },
  {
   "cell_type": "code",
   "execution_count": 39,
   "metadata": {},
   "outputs": [
    {
     "name": "stdout",
     "output_type": "stream",
     "text": [
      "[5, 1, 8, 2, 3, 0]\n",
      "[0, 1, 2, 3, 5, 8]\n",
      "[8, 5, 3, 2, 1, 0]\n",
      "1\n",
      "3\n"
     ]
    }
   ],
   "source": [
    "numeros = [5, 1, 8, 2, 3, 0]\n",
    "print(numeros)\n",
    "numeros.sort()\n",
    "print(numeros)\n",
    "numeros.sort(reverse=True)\n",
    "print(numeros)\n",
    "\n",
    "numDos = numeros.count(2)\n",
    "print(numDos)\n",
    "\n",
    "indice_Dos = numeros.index(2)\n",
    "print(indice_Dos)\n"
   ]
  }
 ],
 "metadata": {
  "kernelspec": {
   "display_name": "Python 3",
   "language": "python",
   "name": "python3"
  },
  "language_info": {
   "codemirror_mode": {
    "name": "ipython",
    "version": 3
   },
   "file_extension": ".py",
   "mimetype": "text/x-python",
   "name": "python",
   "nbconvert_exporter": "python",
   "pygments_lexer": "ipython3",
   "version": "3.12.2"
  }
 },
 "nbformat": 4,
 "nbformat_minor": 2
}
