{
 "cells": [
  {
   "cell_type": "markdown",
   "metadata": {},
   "source": [
    "# Python 3: Programación Orientada a Objetos\n",
    "# 1. <font color=blue> Introducción </font>\n",
    "\n",
    "- En Python todo lo que se declara es un objeto.\n",
    "- El lenguaje tiene definidos objetos en su bibloteca estándar.\n",
    "- Los mayoría de las bibliotecas que componen el ecosistema de Python también definen objetos.\n",
    "\n",
    "#### Algunos ejemplos:"
   ]
  },
  {
   "cell_type": "code",
   "execution_count": 1,
   "metadata": {},
   "outputs": [
    {
     "data": {
      "text/plain": [
       "int"
      ]
     },
     "execution_count": 1,
     "metadata": {},
     "output_type": "execute_result"
    }
   ],
   "source": [
    "x = 25\n",
    "type(x)"
   ]
  },
  {
   "cell_type": "code",
   "execution_count": 2,
   "metadata": {},
   "outputs": [
    {
     "name": "stdout",
     "output_type": "stream",
     "text": [
      "<class 'int'>\n"
     ]
    }
   ],
   "source": [
    "print(type(x))"
   ]
  },
  {
   "cell_type": "code",
   "execution_count": 3,
   "metadata": {},
   "outputs": [
    {
     "name": "stdout",
     "output_type": "stream",
     "text": [
      "<class 'list'>\n"
     ]
    }
   ],
   "source": [
    "lista = ['a','b','c','d','e']\n",
    "print(type(lista))"
   ]
  },
  {
   "cell_type": "code",
   "execution_count": 4,
   "metadata": {},
   "outputs": [
    {
     "name": "stdout",
     "output_type": "stream",
     "text": [
      "1713579720.1458802\n",
      "<class 'float'>\n"
     ]
    }
   ],
   "source": [
    "import time\n",
    "\n",
    "clock = time.time()\n",
    "print(clock)\n",
    "print(type(clock))"
   ]
  },
  {
   "cell_type": "code",
   "execution_count": 5,
   "metadata": {},
   "outputs": [
    {
     "name": "stdout",
     "output_type": "stream",
     "text": [
      "['a', 'b', 'c', 'd', 'e']\n"
     ]
    },
    {
     "data": {
      "text/plain": [
       "'e'"
      ]
     },
     "execution_count": 5,
     "metadata": {},
     "output_type": "execute_result"
    }
   ],
   "source": [
    "print(lista)\n",
    "\n",
    "lista.pop()# método"
   ]
  },
  {
   "cell_type": "code",
   "execution_count": 6,
   "metadata": {},
   "outputs": [
    {
     "name": "stdout",
     "output_type": "stream",
     "text": [
      "['a', 'b', 'c', 'd']\n"
     ]
    }
   ],
   "source": [
    "print(lista)"
   ]
  },
  {
   "cell_type": "code",
   "execution_count": 7,
   "metadata": {},
   "outputs": [
    {
     "name": "stdout",
     "output_type": "stream",
     "text": [
      "1713579720.1980348\n",
      "time.struct_time(tm_year=2024, tm_mon=4, tm_mday=19, tm_hour=20, tm_min=22, tm_sec=0, tm_wday=4, tm_yday=110, tm_isdst=0)\n",
      "Año: 2024\n",
      "Mes: 4\n",
      "Día: 19\n",
      "Hora: 20\n"
     ]
    }
   ],
   "source": [
    "tiempo_actual = time.time()\n",
    "tiempo_local = time.localtime(tiempo_actual)\n",
    "\n",
    "print(tiempo_actual)\n",
    "print(tiempo_local)\n",
    "\n",
    "print(f'Año: {tiempo_local.tm_year}' )\n",
    "print(f'Mes: {tiempo_local.tm_mon}' )\n",
    "print(f'Día: {tiempo_local.tm_mday}' )\n",
    "print(f'Hora: {tiempo_local.tm_hour}' )"
   ]
  },
  {
   "cell_type": "markdown",
   "metadata": {},
   "source": [
    "### Conceptos Básicos:\n",
    "1. **Objetos**: Son instancias de clases. Los objetos tienen atributos (variables) y métodos (funciones).\n",
    "\n",
    "2. **Clases**: Son plantillas para crear objetos. Definen atributos y métodos comunes para los objetos que se crean a partir de ellas.\n",
    "\n",
    "3. **Atributos**: Son variables que están asociadas a un objeto. Pueden ser datos o referencias a otros objetos.\n",
    "\n",
    "4. **Métodos**: Son funciones definidas dentro de una clase que pueden acceder y modificar los atributos de un objeto.\n",
    "\n"
   ]
  },
  {
   "cell_type": "code",
   "execution_count": 8,
   "metadata": {},
   "outputs": [],
   "source": [
    "class animal: #Mi primera clase, es la mas simple de todas\n",
    "    pass\n",
    "\n",
    "perro = animal() #Instancia 1"
   ]
  },
  {
   "cell_type": "code",
   "execution_count": 9,
   "metadata": {},
   "outputs": [
    {
     "name": "stdout",
     "output_type": "stream",
     "text": [
      "<class '__main__.animal'>\n"
     ]
    }
   ],
   "source": [
    "print(type(perro)) #Objeto de tipo animal "
   ]
  },
  {
   "cell_type": "code",
   "execution_count": 10,
   "metadata": {},
   "outputs": [
    {
     "name": "stdout",
     "output_type": "stream",
     "text": [
      "False\n",
      "True\n"
     ]
    }
   ],
   "source": [
    "#Instancia 2\n",
    "gato = animal() #Otro objeto de tipo Animal\n",
    "\n",
    "mascota = perro #Referencia\n",
    "\n",
    "print(perro == gato)\n",
    "print(perro == mascota)"
   ]
  },
  {
   "cell_type": "code",
   "execution_count": 11,
   "metadata": {},
   "outputs": [
    {
     "name": "stdout",
     "output_type": "stream",
     "text": [
      "2484237023664\n",
      "2484237018432\n",
      "2484237023664\n"
     ]
    }
   ],
   "source": [
    "print(id(perro))\n",
    "print(id(gato))\n",
    "print(id(mascota))"
   ]
  },
  {
   "cell_type": "markdown",
   "metadata": {},
   "source": [
    "## 2.2 <font color=orange> Atributos </font>"
   ]
  },
  {
   "cell_type": "code",
   "execution_count": 12,
   "metadata": {},
   "outputs": [
    {
     "name": "stdout",
     "output_type": "stream",
     "text": [
      "Pancho\n",
      "4\n"
     ]
    }
   ],
   "source": [
    "#Definir atributos en Caliente\n",
    "perro.nombre = 'Pancho'\n",
    "perro.edad = 4\n",
    "\n",
    "print(perro.nombre)\n",
    "print(perro.edad)"
   ]
  },
  {
   "cell_type": "code",
   "execution_count": 13,
   "metadata": {},
   "outputs": [
    {
     "name": "stdout",
     "output_type": "stream",
     "text": [
      "Pancho\n",
      "4\n",
      "Pancho V2\n"
     ]
    }
   ],
   "source": [
    "print(mascota.nombre)\n",
    "print(mascota.edad)\n",
    "\n",
    "mascota.nombre = 'Pancho V2'\n",
    "\n",
    "print(perro.nombre)"
   ]
  },
  {
   "cell_type": "code",
   "execution_count": 14,
   "metadata": {},
   "outputs": [
    {
     "ename": "AttributeError",
     "evalue": "'animal' object has no attribute 'nombre'",
     "output_type": "error",
     "traceback": [
      "\u001b[1;31m---------------------------------------------------------------------------\u001b[0m",
      "\u001b[1;31mAttributeError\u001b[0m                            Traceback (most recent call last)",
      "Cell \u001b[1;32mIn[14], line 1\u001b[0m\n\u001b[1;32m----> 1\u001b[0m \u001b[38;5;28mprint\u001b[39m(\u001b[43mgato\u001b[49m\u001b[38;5;241;43m.\u001b[39;49m\u001b[43mnombre\u001b[49m)\n",
      "\u001b[1;31mAttributeError\u001b[0m: 'animal' object has no attribute 'nombre'"
     ]
    }
   ],
   "source": [
    "print(gato.nombre)"
   ]
  },
  {
   "cell_type": "code",
   "execution_count": null,
   "metadata": {},
   "outputs": [],
   "source": [
    "perro.__dict__\n",
    "gato.__dict__"
   ]
  },
  {
   "cell_type": "markdown",
   "metadata": {},
   "source": [
    "# 3. <font color=blue> Definición de clases </font>"
   ]
  },
  {
   "cell_type": "code",
   "execution_count": null,
   "metadata": {},
   "outputs": [],
   "source": [
    "class animal:\n",
    "    '''\n",
    "    Es la clase animal, plantilla\n",
    "    '''\n",
    "    def comer(self):\n",
    "        return 'El animal come'"
   ]
  },
  {
   "cell_type": "code",
   "execution_count": null,
   "metadata": {},
   "outputs": [],
   "source": [
    "perico = animal()\n",
    "perico.nombre = 'Lorito'\n",
    "print(perico.comer())"
   ]
  },
  {
   "cell_type": "markdown",
   "metadata": {},
   "source": [
    "## 3.1 <font color=orange> El constructor: \\_\\_init\\_\\_ </font>"
   ]
  },
  {
   "cell_type": "code",
   "execution_count": null,
   "metadata": {},
   "outputs": [],
   "source": [
    "class animal:\n",
    "    '''\n",
    "    Es la clase animal, plantilla\n",
    "    '''\n",
    "    def __init__(self,p_nombre,edad,especie):\n",
    "        '''\n",
    "        El contructor de la clase Animal\n",
    "        '''\n",
    "        self.nombre = p_nombre\n",
    "        self.edad = edad\n",
    "        self.especie = especie\n",
    "    def comer(self):\n",
    "        print(f\"El {self.nombre} está comiendo.\")\n",
    "    def dormir(self):\n",
    "        print(f\"El {self.nombre} está durmiendo.\")"
   ]
  },
  {
   "cell_type": "code",
   "execution_count": null,
   "metadata": {},
   "outputs": [],
   "source": [
    "perro = animal('BOBI',7,'mamifero')\n",
    "print(perro)\n",
    "perro.comer()\n",
    "perro.dormir()\n",
    "print(perro.nombre)"
   ]
  },
  {
   "cell_type": "code",
   "execution_count": null,
   "metadata": {},
   "outputs": [],
   "source": [
    "gato = animal('Michi',12,'Mamifero')\n",
    "gato.dormir()"
   ]
  },
  {
   "cell_type": "markdown",
   "metadata": {},
   "source": [
    "# 4. <font color=blue> Herencia y polimorfismo </font>\n",
    "\n",
    "## 4.1 <font color=orange> Herencia </font>\n",
    "\n",
    "- Las clases pueden heredar de otras clases."
   ]
  },
  {
   "cell_type": "code",
   "execution_count": 15,
   "metadata": {},
   "outputs": [],
   "source": [
    "class Animal:\n",
    "    \"\"\"\n",
    "    Clase base para representar un animal.\n",
    "    \"\"\"\n",
    "    oxigeno = True\n",
    "\n",
    "    def __init__(self, nombre: str, especie: str, edad :int):\n",
    "        \"\"\"\n",
    "        El constructor de la clase Animal.\n",
    "        \"\"\"\n",
    "        self.nombre = nombre\n",
    "        self.especie = especie\n",
    "        self.edad = edad\n",
    "\n",
    "    def comer(self):\n",
    "        \"\"\"\n",
    "        Método que simula la acción de comer.\n",
    "        \"\"\"\n",
    "        print(f\"{self.nombre} está comiendo.\")\n",
    "\n",
    "    def dormir(self):\n",
    "        \"\"\"\n",
    "        Método que simula la acción de dormir.\n",
    "        \"\"\"\n",
    "        print(f\"{self.nombre} está durmiendo.\")\n",
    "        \n",
    "    def respirar(self):\n",
    "        if self.oxigeno:\n",
    "            print(f\"{self.nombre} está vivo.\")\n",
    "        else:\n",
    "            print(f\"{self.nombre} está muerto.\")"
   ]
  },
  {
   "cell_type": "code",
   "execution_count": 16,
   "metadata": {},
   "outputs": [],
   "source": [
    "class Ave(Animal):\n",
    "    '''\n",
    "    Clase que hereda de Animal para representar una ave\n",
    "    '''\n",
    "    def __init__(self, nombre, especie, edad, puede_volar):\n",
    "        '''\n",
    "        El constructor de la clase Ave\n",
    "        '''\n",
    "        super().__init__(nombre,especie,edad)\n",
    "        self.puede_volar = puede_volar\n",
    "    def volar(self):\n",
    "        if self.puede_volar:\n",
    "            print(f'{self.nombre} está volando.')\n",
    "        else:\n",
    "            print(f'{self.nombre} no puede volar.')"
   ]
  },
  {
   "cell_type": "code",
   "execution_count": 18,
   "metadata": {},
   "outputs": [
    {
     "name": "stdout",
     "output_type": "stream",
     "text": [
      "Loro está volando.\n",
      "Loro está vivo.\n",
      "Perico no puede volar.\n",
      "Perico está vivo.\n"
     ]
    }
   ],
   "source": [
    "loro = Ave('Loro','Guacamayo',4, True)\n",
    "loro.volar()\n",
    "loro.respirar()\n",
    "\n",
    "perico = Ave('Perico','Cotorra',1, False)\n",
    "perico.volar()\n",
    "perico.respirar()\n"
   ]
  },
  {
   "cell_type": "code",
   "execution_count": null,
   "metadata": {},
   "outputs": [
    {
     "name": "stdout",
     "output_type": "stream",
     "text": [
      "Periquito está muerto.\n",
      "Loro está muerto.\n",
      "Periquito está vivo.\n",
      "Loro está vivo.\n"
     ]
    }
   ],
   "source": [
    "perico.nombre = 'Periquito' # Editando atributo del Objeto\n",
    "Animal.oxigeno = False      #Editando atributo de la Clase\n",
    "\n",
    "perico.respirar()\n",
    "loro.respirar()\n",
    "\n",
    "\n",
    "Animal.oxigeno = True\n",
    "perico.respirar()\n",
    "loro.respirar()\n",
    "\n"
   ]
  },
  {
   "cell_type": "markdown",
   "metadata": {},
   "source": [
    "## Ejemplo Polimorfismo"
   ]
  },
  {
   "cell_type": "code",
   "execution_count": 33,
   "metadata": {},
   "outputs": [],
   "source": [
    "class Animal:\n",
    "    \"\"\"\n",
    "    Clase base para representar un animal.\n",
    "    \"\"\"\n",
    "\n",
    "    def __init__(self, nombre: str, especie: str, edad :int):\n",
    "        \"\"\"\n",
    "        El constructor de la clase Animal.\n",
    "        \"\"\"\n",
    "        self.nombre = nombre\n",
    "        self.especie = especie\n",
    "        self.edad = edad\n",
    "\n",
    "    def comer(self):\n",
    "        \"\"\"\n",
    "        Método que simula la acción de comer.\n",
    "        \"\"\"\n",
    "        print(f\"{self.nombre} está comiendo.\")\n",
    "\n",
    "    def dormir(self):\n",
    "        \"\"\"\n",
    "        Método que simula la acción de dormir.\n",
    "        \"\"\"\n",
    "        print(f\"{self.nombre} está durmiendo.\")\n",
    "        \n",
    "    def hacer_ruido(self):\n",
    "        raise NotImplementedError('Este método debeser implementado por las clases hijas') "
   ]
  },
  {
   "cell_type": "code",
   "execution_count": 36,
   "metadata": {},
   "outputs": [],
   "source": [
    "class perro(Animal):\n",
    "    def __init__(self, nombre: str, especie: str, edad: int):\n",
    "        super().__init__(nombre, especie, edad)\n",
    "    def hacer_ruido(self,sonido):\n",
    "        print (f'{self.nombre} hace {sonido}')\n",
    "\n",
    "    \n",
    "class gato(Animal):\n",
    "    def __init__(self, nombre: str, especie: str, edad: int):\n",
    "        super().__init__(nombre, especie, edad)\n",
    "    def hacer_ruido(self):\n",
    "        print (f'{self.nombre} hace miauuuuuu')"
   ]
  },
  {
   "cell_type": "code",
   "execution_count": 37,
   "metadata": {},
   "outputs": [],
   "source": [
    "mi_perro = perro('Rex','Canino',5)\n",
    "\n",
    "mi_gato = gato('Michi','Gatuna',6)\n",
    "\n",
    "mi_animal = Animal('Animal Generico','No tiene especie','10')\n"
   ]
  },
  {
   "cell_type": "code",
   "execution_count": 38,
   "metadata": {},
   "outputs": [
    {
     "name": "stdout",
     "output_type": "stream",
     "text": [
      "Rex hace GRRRRR\n"
     ]
    }
   ],
   "source": [
    "mi_perro.hacer_ruido('GRRRRR')"
   ]
  },
  {
   "cell_type": "markdown",
   "metadata": {},
   "source": [
    "# Encapsulamiento"
   ]
  },
  {
   "cell_type": "code",
   "execution_count": 39,
   "metadata": {},
   "outputs": [],
   "source": [
    "class miClase():\n",
    "    def __init__(self):\n",
    "        self.pub = 'pub = atributo público'\n",
    "        self._pro = 'pro = atributo protejido'\n",
    "        self.__pri = 'pri = atributo privado'"
   ]
  },
  {
   "cell_type": "code",
   "execution_count": 40,
   "metadata": {},
   "outputs": [
    {
     "name": "stdout",
     "output_type": "stream",
     "text": [
      "pub = atributo público\n"
     ]
    }
   ],
   "source": [
    "m = miClase()\n",
    "print(m.pub)"
   ]
  },
  {
   "cell_type": "code",
   "execution_count": 41,
   "metadata": {},
   "outputs": [
    {
     "name": "stdout",
     "output_type": "stream",
     "text": [
      "pro = atributo protejido\n"
     ]
    }
   ],
   "source": [
    "print(m._pro)"
   ]
  },
  {
   "cell_type": "code",
   "execution_count": 42,
   "metadata": {},
   "outputs": [
    {
     "ename": "AttributeError",
     "evalue": "'miClase' object has no attribute '__pri'",
     "output_type": "error",
     "traceback": [
      "\u001b[1;31m---------------------------------------------------------------------------\u001b[0m",
      "\u001b[1;31mAttributeError\u001b[0m                            Traceback (most recent call last)",
      "Cell \u001b[1;32mIn[42], line 1\u001b[0m\n\u001b[1;32m----> 1\u001b[0m \u001b[38;5;28mprint\u001b[39m(\u001b[43mm\u001b[49m\u001b[38;5;241;43m.\u001b[39;49m\u001b[43m__pri\u001b[49m)\n",
      "\u001b[1;31mAttributeError\u001b[0m: 'miClase' object has no attribute '__pri'"
     ]
    }
   ],
   "source": [
    "print(m.__pri)"
   ]
  },
  {
   "cell_type": "code",
   "execution_count": 43,
   "metadata": {},
   "outputs": [
    {
     "name": "stdout",
     "output_type": "stream",
     "text": [
      "Este atributo publico se puede editar\n"
     ]
    }
   ],
   "source": [
    "m.pub = 'Este atributo publico se puede editar'\n",
    "print(m.pub)"
   ]
  },
  {
   "cell_type": "code",
   "execution_count": 44,
   "metadata": {},
   "outputs": [
    {
     "name": "stdout",
     "output_type": "stream",
     "text": [
      "Este atributo protejido se puede editar\n"
     ]
    }
   ],
   "source": [
    "m.pro = 'Este atributo protejido se puede editar'\n",
    "print(m.pro)"
   ]
  },
  {
   "cell_type": "code",
   "execution_count": 66,
   "metadata": {},
   "outputs": [],
   "source": [
    "class Animal:\n",
    "    \"\"\"\n",
    "    Clase base para representar un animal.\n",
    "    \"\"\"\n",
    "\n",
    "    def __init__(self, nombre: str, especie: str, edad :int):\n",
    "        \"\"\"\n",
    "        El constructor de la clase Animal.\n",
    "        \"\"\"\n",
    "        self._nombre = nombre #Protegido\n",
    "        self.__especie = especie #Privado\n",
    "        self.edad = edad #Publico\n",
    "\n",
    "    def getNombre(self):\n",
    "        return self._nombre\n",
    "    \n",
    "    def getEspecie(self):\n",
    "        return self.__especie\n",
    "\n",
    "    def setNombre(self,nombre):\n",
    "        self._nombre = nombre\n",
    "        \n",
    "    def setEspecie(self,especie):\n",
    "        self.__especie = especie\n",
    "\n",
    "    def comer(self):\n",
    "        \"\"\"\n",
    "        Método que simula la acción de comer.\n",
    "        \"\"\"\n",
    "        print(f\"{self.nombre} está comiendo.\")\n",
    "\n",
    "    def dormir(self):\n",
    "        \"\"\"\n",
    "        Método que simula la acción de dormir.\n",
    "        \"\"\"\n",
    "        print(f\"{self.nombre} está durmiendo.\")\n",
    "        "
   ]
  },
  {
   "cell_type": "code",
   "execution_count": 76,
   "metadata": {},
   "outputs": [],
   "source": [
    "conejo = Animal('Bugs Bunny','Mamifero',70)"
   ]
  },
  {
   "cell_type": "code",
   "execution_count": 77,
   "metadata": {},
   "outputs": [],
   "source": [
    "conejo._nombre = 'No Genera ERROR'"
   ]
  },
  {
   "cell_type": "code",
   "execution_count": 78,
   "metadata": {},
   "outputs": [],
   "source": [
    "conejo.__especie = 'CAMBIO ESPECIE'"
   ]
  },
  {
   "cell_type": "code",
   "execution_count": 79,
   "metadata": {},
   "outputs": [
    {
     "name": "stdout",
     "output_type": "stream",
     "text": [
      "No Genera ERROR Mamifero\n",
      "Bad Bunny Reguetonero\n"
     ]
    }
   ],
   "source": [
    "\n",
    "\n",
    "print(conejo.getNombre(), conejo.getEspecie())\n",
    "\n",
    "conejo.setNombre('Bad Bunny')\n",
    "conejo.setEspecie('Reguetonero')\n",
    "\n",
    "\n",
    "print(conejo.getNombre(), conejo.getEspecie())"
   ]
  }
 ],
 "metadata": {
  "kernelspec": {
   "display_name": "Python 3",
   "language": "python",
   "name": "python3"
  },
  "language_info": {
   "codemirror_mode": {
    "name": "ipython",
    "version": 3
   },
   "file_extension": ".py",
   "mimetype": "text/x-python",
   "name": "python",
   "nbconvert_exporter": "python",
   "pygments_lexer": "ipython3",
   "version": "3.12.2"
  }
 },
 "nbformat": 4,
 "nbformat_minor": 2
}
