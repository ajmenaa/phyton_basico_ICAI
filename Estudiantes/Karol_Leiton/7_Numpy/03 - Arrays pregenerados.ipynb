{
 "cells": [
  {
   "cell_type": "markdown",
   "id": "704c76b5",
   "metadata": {},
   "source": [
    "# Arrays pregenerados\n",
    "\n",
    "Crear arrays a partir de listas puede ser muy tedioso, por eso `numpy` integra varias funciones muy útiles para generar arrays de uso común en el álgebra de matrices.\n",
    "\n",
    "## Array de ceros\n",
    "\n",
    "Un array de ceros es cuando todos sus elementos son ceros. Podemos generarlos con el método `zeros`:"
   ]
  },
  {
   "cell_type": "code",
   "execution_count": 3,
   "id": "50059f89",
   "metadata": {},
   "outputs": [
    {
     "data": {
      "text/plain": [
       "array([0., 0., 0.])"
      ]
     },
     "execution_count": 3,
     "metadata": {},
     "output_type": "execute_result"
    }
   ],
   "source": [
    "import numpy as np\n",
    "np.zeros(3)"
   ]
  },
  {
   "cell_type": "markdown",
   "id": "9d525dd5",
   "metadata": {},
   "source": [
    "\n",
    "Evidentemente podemos generar arrays multidimensionales, pero para ello tenemos que pasarle al método una lista o tupla con la longitud de sus dimensiones:"
   ]
  },
  {
   "cell_type": "code",
   "execution_count": 4,
   "id": "fadb2e4d",
   "metadata": {},
   "outputs": [
    {
     "data": {
      "text/plain": [
       "array([[1., 1., 1.],\n",
       "       [1., 1., 1.],\n",
       "       [1., 1., 1.]])"
      ]
     },
     "execution_count": 4,
     "metadata": {},
     "output_type": "execute_result"
    }
   ],
   "source": [
    "#Escriba el código\n",
    "np.ones([3,3])"
   ]
  },
  {
   "cell_type": "markdown",
   "id": "40ddf419",
   "metadata": {},
   "source": [
    "## Array de unos\n",
    "\n",
    "Lo mismo podemos hacer pero utilizando el método `ones`:"
   ]
  },
  {
   "cell_type": "code",
   "execution_count": 5,
   "id": "7635e937",
   "metadata": {},
   "outputs": [
    {
     "data": {
      "text/plain": [
       "dtype('float64')"
      ]
     },
     "execution_count": 5,
     "metadata": {},
     "output_type": "execute_result"
    }
   ],
   "source": [
    "np.ones([3,3])\n",
    "type(np.ones([3,3]))\n",
    "np.ones([3,3]).dtype"
   ]
  },
  {
   "cell_type": "markdown",
   "id": "e402866e",
   "metadata": {},
   "source": [
    "## Array de identidad\n",
    "\n",
    "Los arrays de identidad son matrices cuadradas (con el mismo número de filas que de columnas) donde todos los valores son ceros a excepción de la diagonal donde son unos. Podemos generarlos con el método `eye`:"
   ]
  },
  {
   "cell_type": "code",
   "execution_count": 11,
   "id": "db8746d6",
   "metadata": {},
   "outputs": [
    {
     "ename": "TypeError",
     "evalue": "argument for arange() given by name ('start') and position (position 0)",
     "output_type": "error",
     "traceback": [
      "\u001b[1;31m---------------------------------------------------------------------------\u001b[0m",
      "\u001b[1;31mTypeError\u001b[0m                                 Traceback (most recent call last)",
      "Cell \u001b[1;32mIn[11], line 1\u001b[0m\n\u001b[1;32m----> 1\u001b[0m \u001b[43mnp\u001b[49m\u001b[38;5;241;43m.\u001b[39;49m\u001b[43marange\u001b[49m\u001b[43m(\u001b[49m\u001b[38;5;241;43m0\u001b[39;49m\u001b[43m,\u001b[49m\u001b[38;5;241;43m20\u001b[39;49m\u001b[43m,\u001b[49m\u001b[43mstart\u001b[49m\u001b[43m \u001b[49m\u001b[38;5;241;43m=\u001b[39;49m\u001b[43m \u001b[49m\u001b[38;5;241;43m5\u001b[39;49m\u001b[43m,\u001b[49m\u001b[43m \u001b[49m\u001b[43mstop\u001b[49m\u001b[38;5;241;43m=\u001b[39;49m\u001b[38;5;241;43m20\u001b[39;49m\u001b[43m)\u001b[49m\n",
      "\u001b[1;31mTypeError\u001b[0m: argument for arange() given by name ('start') and position (position 0)"
     ]
    },
    {
     "ename": "",
     "evalue": "",
     "output_type": "error",
     "traceback": [
      "\u001b[1;31mThe Kernel crashed while executing code in the current cell or a previous cell. \n",
      "\u001b[1;31mPlease review the code in the cell(s) to identify a possible cause of the failure. \n",
      "\u001b[1;31mClick <a href='https://aka.ms/vscodeJupyterKernelCrash'>here</a> for more info. \n",
      "\u001b[1;31mView Jupyter <a href='command:jupyter.viewOutput'>log</a> for further details."
     ]
    }
   ],
   "source": [
    "np.arange(0,20,5)\n"
   ]
  },
  {
   "cell_type": "markdown",
   "id": "5563d342",
   "metadata": {},
   "source": [
    "De forma similar a como multiplicar un número por 1 da como resulta el mismo número, multiplicar una matriz por su matriz de identidad da como resultado la matriz original. Eso tiene muchas aplicaciones en el álgrebra de matrices, especialmente en el renderizado de gráficos.\n",
    "\n",
    "## Array de rangos\n",
    "\n",
    "Por último pero no por ello menos importante también es posible generar arrays a partir de un rango de valores. Para hacerlo utilizaríamos el método `arange`:\n"
   ]
  },
  {
   "cell_type": "code",
   "execution_count": 6,
   "id": "459ba61d",
   "metadata": {},
   "outputs": [
    {
     "data": {
      "text/plain": [
       "array([0, 1, 2, 3])"
      ]
     },
     "execution_count": 6,
     "metadata": {},
     "output_type": "execute_result"
    }
   ],
   "source": [
    "# Rango de 0 a 4\n",
    "np.arange(4)"
   ]
  },
  {
   "cell_type": "code",
   "execution_count": 7,
   "id": "49cfa0a0",
   "metadata": {},
   "outputs": [
    {
     "data": {
      "text/plain": [
       "array([0., 1., 2., 3.])"
      ]
     },
     "execution_count": 7,
     "metadata": {},
     "output_type": "execute_result"
    }
   ],
   "source": [
    "# Rango 0 a 4 decimal\n",
    "np.arange(4.)"
   ]
  },
  {
   "cell_type": "markdown",
   "id": "138474cd",
   "metadata": {},
   "source": [
    "### Practica"
   ]
  },
  {
   "cell_type": "code",
   "execution_count": 8,
   "id": "bcd3746e",
   "metadata": {},
   "outputs": [
    {
     "data": {
      "text/plain": [
       "array([-3, -2, -1,  0,  1,  2,  3,  4])"
      ]
     },
     "execution_count": 8,
     "metadata": {},
     "output_type": "execute_result"
    }
   ],
   "source": [
    "# Rango de -3 a 4  - Escriba el código\n",
    "np.arange(-3,5)"
   ]
  },
  {
   "cell_type": "code",
   "execution_count": null,
   "id": "7d69e0e3",
   "metadata": {},
   "outputs": [],
   "source": [
    "# Rango de 20 números a partir de 0 cada 5 números - Escriba el código\n",
    "np.arange(0,19)"
   ]
  },
  {
   "cell_type": "code",
   "execution_count": null,
   "id": "9a9525f5",
   "metadata": {},
   "outputs": [],
   "source": []
  }
 ],
 "metadata": {
  "kernelspec": {
   "display_name": "Python 3 (ipykernel)",
   "language": "python",
   "name": "python3"
  },
  "language_info": {
   "codemirror_mode": {
    "name": "ipython",
    "version": 3
   },
   "file_extension": ".py",
   "mimetype": "text/x-python",
   "name": "python",
   "nbconvert_exporter": "python",
   "pygments_lexer": "ipython3",
   "version": "3.12.2"
  }
 },
 "nbformat": 4,
 "nbformat_minor": 5
}
