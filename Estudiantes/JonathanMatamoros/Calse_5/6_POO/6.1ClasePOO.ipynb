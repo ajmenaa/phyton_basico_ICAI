{
 "cells": [
  {
   "cell_type": "code",
   "execution_count": null,
   "metadata": {},
   "outputs": [],
   "source": []
  },
  {
   "cell_type": "code",
   "execution_count": 6,
   "metadata": {},
   "outputs": [],
   "source": [
    "class Animal:\n",
    "    \"\"\"\n",
    "    Clase base para representar un animal.\n",
    "    \"\"\"\n",
    "    oxigeno = True\n",
    "\n",
    "\n",
    "    def __init__(self, nombre, especie, edad):\n",
    "        \"\"\"\n",
    "        El constructor de la clase Animal.\n",
    "        \"\"\"\n",
    "        self.nombre = nombre\n",
    "        self.especie = especie\n",
    "        self.edad = edad\n",
    "\n",
    "\n",
    "    def comer(self):\n",
    "        \"\"\"\n",
    "        Método que simula la acción de comer.\n",
    "        \"\"\"\n",
    "        print(f\"{self.nombre} está comiendo.\")\n",
    "\n",
    "\n",
    "    def dormir(self):\n",
    "        \"\"\"\n",
    "        Método que simula la acción de dormir.\n",
    "        \"\"\"\n",
    "        print(f\"{self.nombre} está durmiendo.\")\n",
    "        \n",
    "    def respirar(self):\n",
    "        if self.oxigeno:\n",
    "            print(f\"{self.nombre} está vivo.\")\n",
    "        else:\n",
    "            print(f\"{self.nombre} está muerto.\")\n",
    "        \n",
    "        "
   ]
  },
  {
   "cell_type": "code",
   "execution_count": 7,
   "metadata": {},
   "outputs": [],
   "source": [
    "class Ave(Animal):\n",
    "    '''\n",
    "    Clase que hereda de ANimal para represnetar un ave\n",
    "    '''\n",
    "    def __init__(self, nombre, especie, edad, puede_volar):\n",
    "        ''''\n",
    "        El constructor de la calse AVE\n",
    "        '''\n",
    "        super().__init__(nombre, especie, edad)\n",
    "        self.puede_volar = puede_volar\n",
    "    \n",
    "    def volar(self):\n",
    "        if self.puede_volar:\n",
    "            print(f'{self.nombre} esta volando.')\n",
    "        else:\n",
    "            print(f'{self.nombre} no puede volando.')\n",
    "            \n",
    "            \n",
    "    "
   ]
  },
  {
   "cell_type": "code",
   "execution_count": 8,
   "metadata": {},
   "outputs": [
    {
     "name": "stdout",
     "output_type": "stream",
     "text": [
      "loro está comiendo.\n",
      "loro está durmiendo.\n",
      "loro esta volando.\n"
     ]
    }
   ],
   "source": [
    "loro = Ave('loro','Guacamayo',5,True)\n",
    "\n",
    "loro.comer()\n",
    "loro.dormir()\n",
    "\n",
    "\n",
    "\n"
   ]
  }
 ],
 "metadata": {
  "kernelspec": {
   "display_name": "Python 3",
   "language": "python",
   "name": "python3"
  },
  "language_info": {
   "codemirror_mode": {
    "name": "ipython",
    "version": 3
   },
   "file_extension": ".py",
   "mimetype": "text/x-python",
   "name": "python",
   "nbconvert_exporter": "python",
   "pygments_lexer": "ipython3",
   "version": "3.12.2"
  }
 },
 "nbformat": 4,
 "nbformat_minor": 2
}
