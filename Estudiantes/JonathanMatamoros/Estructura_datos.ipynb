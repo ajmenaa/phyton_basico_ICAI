{
 "cells": [
  {
   "cell_type": "code",
   "execution_count": null,
   "metadata": {},
   "outputs": [
    {
     "name": "stdout",
     "output_type": "stream",
     "text": [
      "['conejo', 'perro', 'gato']\n"
     ]
    }
   ],
   "source": [
    "listas = ['conejo', 'perro','gato']\n",
    "print(listas)\n",
    "listas = ['conejo', 'perro','gato',10, True]"
   ]
  },
  {
   "cell_type": "markdown",
   "metadata": {},
   "source": [
    "# Trabajndo con listas"
   ]
  },
  {
   "cell_type": "code",
   "execution_count": null,
   "metadata": {},
   "outputs": [
    {
     "name": "stdout",
     "output_type": "stream",
     "text": [
      "3\n"
     ]
    }
   ],
   "source": [
    "#trabajo con listas\n",
    "#           0 1 2 3 4 \n",
    "mi_lista = [1,2,3,4,5]\n",
    "print(mi_lista [2])\n"
   ]
  },
  {
   "cell_type": "markdown",
   "metadata": {},
   "source": [
    "# Imprimir elementos de una lista "
   ]
  },
  {
   "cell_type": "code",
   "execution_count": null,
   "metadata": {},
   "outputs": [
    {
     "name": "stdout",
     "output_type": "stream",
     "text": [
      "[1, 2, 3, 4, 5]\n",
      "[2, 3, 4, 5]\n"
     ]
    }
   ],
   "source": [
    "# imprimir con \"slicing\" \n",
    "print(mi_lista) \n",
    "print(mi_lista[1:5]) "
   ]
  },
  {
   "cell_type": "code",
   "execution_count": null,
   "metadata": {},
   "outputs": [
    {
     "name": "stdout",
     "output_type": "stream",
     "text": [
      "1 2 3 4 5\n"
     ]
    }
   ],
   "source": [
    "print(*mi_lista)"
   ]
  },
  {
   "cell_type": "code",
   "execution_count": 15,
   "metadata": {},
   "outputs": [
    {
     "name": "stdout",
     "output_type": "stream",
     "text": [
      "conejo\n",
      "perro\n",
      "gato\n",
      "10\n",
      "True\n"
     ]
    }
   ],
   "source": [
    "for elemento in listas:\n",
    "    print(elemento)"
   ]
  },
  {
   "cell_type": "markdown",
   "metadata": {},
   "source": [
    "# Agregar elementos a una lista en Python"
   ]
  },
  {
   "cell_type": "code",
   "execution_count": 16,
   "metadata": {},
   "outputs": [
    {
     "name": "stdout",
     "output_type": "stream",
     "text": [
      "['Outlok', 'Hotmail', 'gmail', 'Yahoo']\n"
     ]
    }
   ],
   "source": [
    "#append()\n",
    "\n",
    "correos = ['Outlok','Hotmail', 'gmail']\n",
    "correos.append('Yahoo')\n",
    "\n",
    "print (correos)"
   ]
  },
  {
   "cell_type": "code",
   "execution_count": 17,
   "metadata": {},
   "outputs": [
    {
     "name": "stdout",
     "output_type": "stream",
     "text": [
      "['Outlok', 'protonmail', 'Hotmail', 'gmail', 'Yahoo']\n"
     ]
    }
   ],
   "source": [
    "#insert\n",
    "\n",
    "correos.insert(1,'protonmail')\n",
    "print(correos)"
   ]
  },
  {
   "cell_type": "markdown",
   "metadata": {},
   "source": [
    "## agregar multiples eelemntos a una lista"
   ]
  },
  {
   "cell_type": "code",
   "execution_count": 18,
   "metadata": {},
   "outputs": [
    {
     "name": "stdout",
     "output_type": "stream",
     "text": [
      "['Word', 'Excel', 'Power', 'Acces', 'Vision', 'Skype']\n"
     ]
    }
   ],
   "source": [
    "paquete = ['Word', 'Excel', 'Power']\n",
    "adicional = ['Acces', 'Vision', 'Skype']\n",
    "\n",
    "paquete.extend(adicional)\n",
    "print(paquete)"
   ]
  },
  {
   "cell_type": "code",
   "execution_count": 19,
   "metadata": {},
   "outputs": [
    {
     "name": "stdout",
     "output_type": "stream",
     "text": [
      "['Word', 'Excel', 'Power', 'Acces', 'Vision', 'Skype']\n"
     ]
    }
   ],
   "source": [
    "#concatenar\n",
    "\n",
    "paquete = ['Word', 'Excel', 'Power']\n",
    "adicional = ['Acces', 'Vision', 'Skype']\n",
    "\n",
    "paquete_pro = paquete + adicional\n",
    "print(paquete_pro)\n"
   ]
  },
  {
   "cell_type": "markdown",
   "metadata": {},
   "source": [
    "## metodos para eliminar elementos de una lista"
   ]
  },
  {
   "cell_type": "code",
   "execution_count": 21,
   "metadata": {},
   "outputs": [
    {
     "name": "stdout",
     "output_type": "stream",
     "text": [
      "['Outlok', 'protonmail', 'Hotmail', 'Yahoo', 'gmail']\n"
     ]
    }
   ],
   "source": [
    "#remove\n",
    "correos = ['Outlok', 'protonmail', 'Hotmail', 'gmail', 'Yahoo', 'gmail']\n",
    "\n",
    "correos.remove('gmail')\n",
    "print(correos)\n"
   ]
  },
  {
   "cell_type": "code",
   "execution_count": null,
   "metadata": {},
   "outputs": [],
   "source": [
    "numeros = "
   ]
  }
 ],
 "metadata": {
  "kernelspec": {
   "display_name": "Python 3",
   "language": "python",
   "name": "python3"
  },
  "language_info": {
   "codemirror_mode": {
    "name": "ipython",
    "version": 3
   },
   "file_extension": ".py",
   "mimetype": "text/x-python",
   "name": "python",
   "nbconvert_exporter": "python",
   "pygments_lexer": "ipython3",
   "version": "3.12.2"
  }
 },
 "nbformat": 4,
 "nbformat_minor": 2
}
