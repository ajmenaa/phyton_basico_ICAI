{
 "cells": [
  {
   "cell_type": "code",
   "execution_count": null,
   "metadata": {},
   "outputs": [],
   "source": []
  },
  {
   "cell_type": "code",
   "execution_count": 25,
   "metadata": {},
   "outputs": [
    {
     "data": {
      "text/plain": [
       "int"
      ]
     },
     "execution_count": 25,
     "metadata": {},
     "output_type": "execute_result"
    }
   ],
   "source": [
    "x = 25\n",
    "type(x)"
   ]
  },
  {
   "cell_type": "code",
   "execution_count": 26,
   "metadata": {},
   "outputs": [
    {
     "name": "stdout",
     "output_type": "stream",
     "text": [
      "<class 'int'>\n"
     ]
    }
   ],
   "source": [
    "print(type(x))\n"
   ]
  },
  {
   "cell_type": "code",
   "execution_count": 27,
   "metadata": {},
   "outputs": [
    {
     "name": "stdout",
     "output_type": "stream",
     "text": [
      "<class 'list'>\n"
     ]
    }
   ],
   "source": [
    "lista = ['a', 'b', 'c','d','e']\n",
    "print(type(lista))"
   ]
  },
  {
   "cell_type": "code",
   "execution_count": 28,
   "metadata": {},
   "outputs": [
    {
     "name": "stdout",
     "output_type": "stream",
     "text": [
      "1713575868.7390585\n",
      "<class 'float'>\n"
     ]
    }
   ],
   "source": [
    "import time\n",
    "\n",
    "clock = time.time()\n",
    "print(clock)\n",
    "print(type(clock))\n",
    "\n"
   ]
  },
  {
   "cell_type": "code",
   "execution_count": 29,
   "metadata": {},
   "outputs": [
    {
     "ename": "TypeError",
     "evalue": "'builtin_function_or_method' object cannot be interpreted as an integer",
     "output_type": "error",
     "traceback": [
      "\u001b[1;31m---------------------------------------------------------------------------\u001b[0m",
      "\u001b[1;31mTypeError\u001b[0m                                 Traceback (most recent call last)",
      "Cell \u001b[1;32mIn[29], line 2\u001b[0m\n\u001b[0;32m      1\u001b[0m tiempo_actual \u001b[38;5;241m=\u001b[39m time\u001b[38;5;241m.\u001b[39mtime\n\u001b[1;32m----> 2\u001b[0m tiempo_local \u001b[38;5;241m=\u001b[39m \u001b[43mtime\u001b[49m\u001b[38;5;241;43m.\u001b[39;49m\u001b[43mlocaltime\u001b[49m\u001b[43m(\u001b[49m\u001b[43mtiempo_actual\u001b[49m\u001b[43m)\u001b[49m\n\u001b[0;32m      4\u001b[0m \u001b[38;5;28mprint\u001b[39m(\u001b[38;5;124mf\u001b[39m\u001b[38;5;124m'\u001b[39m\u001b[38;5;124mAño: \u001b[39m\u001b[38;5;132;01m{\u001b[39;00mtiempo_local\u001b[38;5;241m.\u001b[39mtm_year\u001b[38;5;132;01m}\u001b[39;00m\u001b[38;5;124m'\u001b[39m)\n\u001b[0;32m      5\u001b[0m \u001b[38;5;28mprint\u001b[39m(\u001b[38;5;124mf\u001b[39m\u001b[38;5;124m'\u001b[39m\u001b[38;5;124mMes: \u001b[39m\u001b[38;5;132;01m{\u001b[39;00mtiempo_local\u001b[38;5;241m.\u001b[39mtm_mon\u001b[38;5;132;01m}\u001b[39;00m\u001b[38;5;124m'\u001b[39m)\n",
      "\u001b[1;31mTypeError\u001b[0m: 'builtin_function_or_method' object cannot be interpreted as an integer"
     ]
    }
   ],
   "source": [
    "tiempo_actual = time.time\n",
    "tiempo_local = time.localtime(tiempo_actual)\n",
    "\n",
    "print(f'Año: {tiempo_local.tm_year}')\n",
    "print(f'Mes: {tiempo_local.tm_mon}')\n",
    "print(f'Dia: {tiempo_local.tm_mday}')\n",
    "print(f'Hora: {tiempo_local.tm_hour}')"
   ]
  },
  {
   "cell_type": "markdown",
   "metadata": {},
   "source": [
    "# Conceptos básicos\n",
    "1.Objetos: Son instancias de clases. Los objetos tienen atributos\n",
    "2.Clases: Son plantillas para crear objetos"
   ]
  },
  {
   "cell_type": "code",
   "execution_count": null,
   "metadata": {},
   "outputs": [
    {
     "name": "stdout",
     "output_type": "stream",
     "text": [
      "False\n",
      "True\n"
     ]
    }
   ],
   "source": [
    "class animal: #mi primera clase, es la más simple de todas\n",
    "    pass\n",
    "\n",
    "perro = animal() #objeto de tipo animal\n",
    "gato = animal() #objeto de tipo animal\n",
    "mascota = perro #referencia\n",
    "print(perro == gato)\n",
    "print( perro == mascota)"
   ]
  },
  {
   "cell_type": "code",
   "execution_count": null,
   "metadata": {},
   "outputs": [
    {
     "name": "stdout",
     "output_type": "stream",
     "text": [
      "2797004829472\n",
      "2797004826112\n",
      "2797004829472\n"
     ]
    }
   ],
   "source": [
    "print(id(perro))\n",
    "print(id(gato))\n",
    "print(id(mascota))"
   ]
  },
  {
   "cell_type": "markdown",
   "metadata": {},
   "source": [
    "#2.2 Atributos"
   ]
  },
  {
   "cell_type": "code",
   "execution_count": null,
   "metadata": {},
   "outputs": [],
   "source": []
  },
  {
   "cell_type": "markdown",
   "metadata": {},
   "source": [
    "#Definir atributos en caliente, al vuelo o dinámicos\n"
   ]
  },
  {
   "cell_type": "code",
   "execution_count": null,
   "metadata": {},
   "outputs": [
    {
     "name": "stdout",
     "output_type": "stream",
     "text": [
      "Pancho\n",
      "4\n",
      "Pancho V2\n",
      "Pancho V2\n"
     ]
    }
   ],
   "source": [
    "perro.nombre = 'Pancho'\n",
    "perro.edad = 4\n",
    "\n",
    "print(perro.nombre)\n",
    "print(perro.edad)\n",
    "\n",
    "mascota.nombre = 'Pancho V2'\n",
    "\n",
    "print(perro.nombre)\n",
    "print(mascota.nombre)"
   ]
  },
  {
   "cell_type": "code",
   "execution_count": null,
   "metadata": {},
   "outputs": [
    {
     "ename": "AttributeError",
     "evalue": "'animal' object has no attribute 'nombre'",
     "output_type": "error",
     "traceback": [
      "\u001b[1;31m---------------------------------------------------------------------------\u001b[0m",
      "\u001b[1;31mAttributeError\u001b[0m                            Traceback (most recent call last)",
      "Cell \u001b[1;32mIn[14], line 1\u001b[0m\n\u001b[1;32m----> 1\u001b[0m \u001b[38;5;28mprint\u001b[39m(\u001b[43mgato\u001b[49m\u001b[38;5;241;43m.\u001b[39;49m\u001b[43mnombre\u001b[49m)\n",
      "\u001b[1;31mAttributeError\u001b[0m: 'animal' object has no attribute 'nombre'"
     ]
    }
   ],
   "source": [
    "print(gato.nombre)"
   ]
  },
  {
   "cell_type": "markdown",
   "metadata": {},
   "source": [
    "#3. Definición de clases"
   ]
  },
  {
   "cell_type": "code",
   "execution_count": null,
   "metadata": {},
   "outputs": [],
   "source": [
    "class animal: \n",
    "    '''\n",
    "    Es la clase animal, plantilla\n",
    "    '''\n",
    "    \n",
    "    def comer(self):\n",
    "        return 'El animal come'"
   ]
  },
  {
   "cell_type": "code",
   "execution_count": null,
   "metadata": {},
   "outputs": [
    {
     "data": {
      "text/plain": [
       "'El animal come'"
      ]
     },
     "execution_count": 16,
     "metadata": {},
     "output_type": "execute_result"
    }
   ],
   "source": [
    "perico = animal()\n",
    "perico.nombre = 'Lorito'\n",
    "perico.comer()"
   ]
  },
  {
   "cell_type": "markdown",
   "metadata": {},
   "source": [
    "#3.1 El constructor"
   ]
  },
  {
   "cell_type": "code",
   "execution_count": null,
   "metadata": {},
   "outputs": [],
   "source": [
    "class animal:\n",
    "    def __init__(self,nombre,edad,especie):\n",
    "        self.nombre = nombre\n",
    "        self.edad = edad\n",
    "        self.especie = especie\n",
    "    def comer(self):\n",
    "        print(f\"El {self.nombre} está comiendo.\")\n",
    "    def dormir(self):\n",
    "        print(f\"El {self.nombre} está durmiendo\")\n"
   ]
  },
  {
   "cell_type": "code",
   "execution_count": 31,
   "metadata": {},
   "outputs": [
    {
     "name": "stdout",
     "output_type": "stream",
     "text": [
      "<__main__.animal object at 0x0000028B3A7FB9B0>\n",
      "Boby\n",
      "El Boby está comiendo.\n",
      "El Boby está durmiendo\n"
     ]
    }
   ],
   "source": [
    "perro = animal('Boby',7,\"mamifero\")\n",
    "print(perro)\n",
    "print(perro.nombre)\n",
    "perro.comer()\n",
    "perro.dormir()"
   ]
  },
  {
   "cell_type": "markdown",
   "metadata": {},
   "source": [
    "#4 Herencia y polimorfismo\n",
    "4.1 Herencia"
   ]
  },
  {
   "cell_type": "code",
   "execution_count": 34,
   "metadata": {},
   "outputs": [],
   "source": [
    "class Animal:\n",
    "    \"\"\"\n",
    "    Clase base para representar un animal.\n",
    "    \"\"\"\n",
    "    oxigeno = True #atributo estático, afecta todos los objetos de la clase\n",
    "\n",
    "    def __init__(self, nombre, especie, edad):\n",
    "        \"\"\"\n",
    "        El constructor de la clase Animal.\n",
    "        \"\"\"\n",
    "        self.nombre = nombre\n",
    "        self.especie = especie\n",
    "        self.edad = edad\n",
    "\n",
    "\n",
    "    def comer(self):\n",
    "        \"\"\"\n",
    "        Método que simula la acción de comer.\n",
    "        \"\"\"\n",
    "        print(f\"{self.nombre} está comiendo.\")\n",
    "\n",
    "\n",
    "    def dormir(self):\n",
    "        \"\"\"\n",
    "        Método que simula la acción de dormir.\n",
    "        \"\"\"\n",
    "        print(f\"{self.nombre} está durmiendo.\")\n",
    "        \n",
    "    def respirar(self):\n",
    "        if self.oxigeno:\n",
    "            print(f\"{self.nombre} está vivo.\")\n",
    "        else:\n",
    "            print(f\"{self.nombre} está muerto.\")"
   ]
  },
  {
   "cell_type": "code",
   "execution_count": 35,
   "metadata": {},
   "outputs": [],
   "source": [
    "class Ave(Animal):\n",
    "    def __init__(self, nombre, especie, edad, puede_volar):\n",
    "        super().__init__(nombre, especie, edad)\n",
    "        self.puede_volar = puede_volar\n",
    "    def volar(self):\n",
    "        if self.puede_volar:\n",
    "            print(f'{self.nombre} está volando.')\n",
    "        else:\n",
    "            print(f'{self.nombre} no puede volar.')"
   ]
  },
  {
   "cell_type": "code",
   "execution_count": 37,
   "metadata": {},
   "outputs": [
    {
     "name": "stdout",
     "output_type": "stream",
     "text": [
      "Loro está comiendo.\n",
      "Loro está durmiendo.\n",
      "Loro está volando.\n",
      "Loro está vivo.\n",
      "Perico no puede volar.\n",
      "Perico está vivo.\n"
     ]
    }
   ],
   "source": [
    "loro = Ave('Loro', \"Guacamayo\",5,True )\n",
    "loro.comer()\n",
    "loro.dormir()\n",
    "loro.volar()\n",
    "loro.respirar()\n",
    "\n",
    "perico = Ave('Perico', 'Cotorra', 1, False)\n",
    "perico.volar()\n",
    "perico.respirar()"
   ]
  },
  {
   "cell_type": "code",
   "execution_count": 39,
   "metadata": {},
   "outputs": [
    {
     "name": "stdout",
     "output_type": "stream",
     "text": [
      "Periquito no puede volar.\n",
      "Loro está muerto.\n",
      "Periquito está muerto.\n",
      "Periquito no puede volar.\n",
      "Loro está vivo.\n",
      "Periquito está vivo.\n"
     ]
    }
   ],
   "source": [
    "perico.nombre = 'Periquito' # Editando atributo del objeto\n",
    "\n",
    "Animal.oxigeno = False # Editando atributo de la clase\n",
    "\n",
    "perico.volar()\n",
    "loro.respirar()\n",
    "perico.respirar()\n",
    "\n",
    "Animal.oxigeno = True # Editando atributo de la clase\n",
    "\n",
    "perico.volar()\n",
    "loro.respirar()\n",
    "perico.respirar()"
   ]
  },
  {
   "cell_type": "markdown",
   "metadata": {},
   "source": [
    "4.2 Polimorfismo"
   ]
  },
  {
   "cell_type": "code",
   "execution_count": 44,
   "metadata": {},
   "outputs": [],
   "source": [
    "class Animal:\n",
    "    \"\"\"\n",
    "    Clase base para representar un animal.\n",
    "    \"\"\"\n",
    "    \n",
    "    def __init__(self, nombre, especie, edad):\n",
    "        \"\"\"\n",
    "        El constructor de la clase Animal.\n",
    "        \"\"\"\n",
    "        self.nombre = nombre\n",
    "        self.especie = especie\n",
    "        self.edad = edad\n",
    "\n",
    "\n",
    "    def comer(self):\n",
    "        \"\"\"\n",
    "        Método que simula la acción de comer.\n",
    "        \"\"\"\n",
    "        print(f\"{self.nombre} está comiendo.\")\n",
    "\n",
    "\n",
    "    def dormir(self):\n",
    "        \"\"\"\n",
    "        Método que simula la acción de dormir.\n",
    "        \"\"\"\n",
    "        print(f\"{self.nombre} está durmiendo.\")\n",
    "        \n",
    "    def respirar(self):\n",
    "        if self.oxigeno:\n",
    "            print(f\"{self.nombre} está vivo.\")\n",
    "        else:\n",
    "            print(f\"{self.nombre} está muerto.\")\n",
    "    \n",
    "    def hacer_ruido(self):\n",
    "        raise NotImplementedError('Este método debe ser implementado por las clases hijas')"
   ]
  },
  {
   "cell_type": "code",
   "execution_count": 45,
   "metadata": {},
   "outputs": [],
   "source": [
    "class perro(Animal):\n",
    "    def __init__(self, nombre, especie, edad):\n",
    "        super().__init__(nombre, especie, edad)\n",
    "        \n",
    "    def hacer_ruido(self):\n",
    "        print(f'{self.nombre} hace Guau Guau')\n",
    "        \n",
    "class gato(Animal):\n",
    "    def __init__(self, nombre, especie, edad):\n",
    "        super().__init__(nombre, especie, edad)\n",
    "        \n",
    "    def hacer_ruido(self):\n",
    "        print(f'{self.nombre} hace miau miau')"
   ]
  },
  {
   "cell_type": "code",
   "execution_count": 47,
   "metadata": {},
   "outputs": [],
   "source": [
    "mi_perro = perro('Rex', 'Canino', 5)\n",
    "mi_gato = gato('Michi', 'Felino',6)\n",
    "mi_animal = Animal ('Animal Genérico', 'No tiene especie','10')"
   ]
  },
  {
   "cell_type": "code",
   "execution_count": 48,
   "metadata": {},
   "outputs": [
    {
     "name": "stdout",
     "output_type": "stream",
     "text": [
      "Rex hace Guau Guau\n",
      "Michi hace miau miau\n"
     ]
    },
    {
     "ename": "NotImplementedError",
     "evalue": "Este método debe ser implementado por las clases hijas",
     "output_type": "error",
     "traceback": [
      "\u001b[1;31m---------------------------------------------------------------------------\u001b[0m",
      "\u001b[1;31mNotImplementedError\u001b[0m                       Traceback (most recent call last)",
      "Cell \u001b[1;32mIn[48], line 3\u001b[0m\n\u001b[0;32m      1\u001b[0m mi_perro\u001b[38;5;241m.\u001b[39mhacer_ruido()\n\u001b[0;32m      2\u001b[0m mi_gato\u001b[38;5;241m.\u001b[39mhacer_ruido()\n\u001b[1;32m----> 3\u001b[0m \u001b[43mmi_animal\u001b[49m\u001b[38;5;241;43m.\u001b[39;49m\u001b[43mhacer_ruido\u001b[49m\u001b[43m(\u001b[49m\u001b[43m)\u001b[49m\n",
      "Cell \u001b[1;32mIn[44], line 35\u001b[0m, in \u001b[0;36mAnimal.hacer_ruido\u001b[1;34m(self)\u001b[0m\n\u001b[0;32m     34\u001b[0m \u001b[38;5;28;01mdef\u001b[39;00m \u001b[38;5;21mhacer_ruido\u001b[39m(\u001b[38;5;28mself\u001b[39m):\n\u001b[1;32m---> 35\u001b[0m     \u001b[38;5;28;01mraise\u001b[39;00m \u001b[38;5;167;01mNotImplementedError\u001b[39;00m(\u001b[38;5;124m'\u001b[39m\u001b[38;5;124mEste método debe ser implementado por las clases hijas\u001b[39m\u001b[38;5;124m'\u001b[39m)\n",
      "\u001b[1;31mNotImplementedError\u001b[0m: Este método debe ser implementado por las clases hijas"
     ]
    }
   ],
   "source": [
    "mi_perro.hacer_ruido()\n",
    "mi_gato.hacer_ruido()\n",
    "mi_animal.hacer_ruido()"
   ]
  },
  {
   "cell_type": "markdown",
   "metadata": {},
   "source": [
    "#Encapsulamiento"
   ]
  },
  {
   "cell_type": "code",
   "execution_count": 61,
   "metadata": {},
   "outputs": [],
   "source": [
    "class Animal:\n",
    "    \"\"\"\n",
    "    Clase base para representar un animal.\n",
    "    \"\"\"\n",
    "    \n",
    "    def __init__(self, nombre, especie, edad):\n",
    "        \"\"\"\n",
    "        El constructor de la clase Animal.\n",
    "        \"\"\"\n",
    "        self._nombre = nombre #Protegido\n",
    "        self.__especie = especie #Privado\n",
    "        self.edad = edad #Público\n",
    "\n",
    "    def getNombre(self):\n",
    "        return self._nombre\n",
    "    \n",
    "    def getEspecie(self):\n",
    "        return self.__especie\n",
    "    \n",
    "    def setNombre(self, nombre):\n",
    "        self._nombre = nombre\n",
    "        \n",
    "    def setEspecie(self, especie):\n",
    "        self.__especie = especie\n",
    "\n",
    "    def comer(self):\n",
    "        \"\"\"\n",
    "        Método que simula la acción de comer.\n",
    "        \"\"\"\n",
    "        print(f\"{self.nombre} está comiendo.\")\n",
    "\n",
    "\n",
    "    def dormir(self):\n",
    "        \"\"\"\n",
    "        Método que simula la acción de dormir.\n",
    "        \"\"\"\n",
    "        print(f\"{self.nombre} está durmiendo.\")\n",
    "        \n",
    "    def respirar(self):\n",
    "        if self.oxigeno:\n",
    "            print(f\"{self.nombre} está vivo.\")\n",
    "        else:\n",
    "            print(f\"{self.nombre} está muerto.\")"
   ]
  },
  {
   "cell_type": "code",
   "execution_count": 60,
   "metadata": {},
   "outputs": [
    {
     "name": "stdout",
     "output_type": "stream",
     "text": [
      "Bugs Bunny Mamifero\n"
     ]
    }
   ],
   "source": [
    "conejo = Animal (\"Bugs Bunny\",\"Mamifero\",70)\n",
    "\n",
    "print(conejo.getNombre(), conejo.getEspecie())"
   ]
  },
  {
   "cell_type": "code",
   "execution_count": 63,
   "metadata": {},
   "outputs": [],
   "source": [
    "class miClase():\n",
    "    def __init__(self):\n",
    "        self.pub = 'pub = atributo público'\n",
    "        self._pro = 'pro = atributo protejido'\n",
    "        self.__pri = 'pri = atributo privado'"
   ]
  },
  {
   "cell_type": "code",
   "execution_count": 62,
   "metadata": {},
   "outputs": [
    {
     "name": "stdout",
     "output_type": "stream",
     "text": [
      "pub = atributo público\n",
      "pro = atributo protejido\n"
     ]
    },
    {
     "ename": "AttributeError",
     "evalue": "'miClase' object has no attribute '__pri'",
     "output_type": "error",
     "traceback": [
      "\u001b[1;31m---------------------------------------------------------------------------\u001b[0m",
      "\u001b[1;31mAttributeError\u001b[0m                            Traceback (most recent call last)",
      "Cell \u001b[1;32mIn[62], line 4\u001b[0m\n\u001b[0;32m      2\u001b[0m \u001b[38;5;28mprint\u001b[39m(m\u001b[38;5;241m.\u001b[39mpub)\n\u001b[0;32m      3\u001b[0m \u001b[38;5;28mprint\u001b[39m(m\u001b[38;5;241m.\u001b[39m_pro)\n\u001b[1;32m----> 4\u001b[0m \u001b[38;5;28mprint\u001b[39m(\u001b[43mm\u001b[49m\u001b[38;5;241;43m.\u001b[39;49m\u001b[43m__pri\u001b[49m)\n",
      "\u001b[1;31mAttributeError\u001b[0m: 'miClase' object has no attribute '__pri'"
     ]
    }
   ],
   "source": [
    "m = miClase()\n",
    "print(m.pub)\n",
    "print(m._pro)\n",
    "print(m.__pri)"
   ]
  },
  {
   "cell_type": "code",
   "execution_count": 52,
   "metadata": {},
   "outputs": [
    {
     "name": "stdout",
     "output_type": "stream",
     "text": [
      "Este atributo público se puede editar\n"
     ]
    }
   ],
   "source": [
    "m.pub = 'Este atributo público se puede editar'\n",
    "print(m.pub)\n",
    "m.pro = 'Ese atributo protejido solo se edita desde la misma clase'"
   ]
  }
 ],
 "metadata": {
  "kernelspec": {
   "display_name": "Python 3",
   "language": "python",
   "name": "python3"
  },
  "language_info": {
   "codemirror_mode": {
    "name": "ipython",
    "version": 3
   },
   "file_extension": ".py",
   "mimetype": "text/x-python",
   "name": "python",
   "nbconvert_exporter": "python",
   "pygments_lexer": "ipython3",
   "version": "3.12.2"
  }
 },
 "nbformat": 4,
 "nbformat_minor": 2
}
