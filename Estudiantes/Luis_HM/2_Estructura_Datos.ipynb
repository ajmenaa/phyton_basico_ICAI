{
 "cells": [
  {
   "cell_type": "markdown",
   "metadata": {},
   "source": [
    "# Estructuras de datos\n",
    "\n",
    "## Listas\n",
    "\n",
    "Las listas son uno de los tipos de datos más importantes y versátiles de Python\n",
    "\n",
    "**Creación de listas**\n",
    "\n",
    "- **Usando corchetes (**[]**) y separando los elementos por comas:**"
   ]
  },
  {
   "cell_type": "code",
   "execution_count": 1,
   "metadata": {},
   "outputs": [
    {
     "name": "stdout",
     "output_type": "stream",
     "text": [
      "['Conejo', 'Gato', 'Perro']\n"
     ]
    }
   ],
   "source": [
    "lista = ['Conejo', 'Gato', 'Perro']\n",
    "print(lista)"
   ]
  },
  {
   "cell_type": "markdown",
   "metadata": {},
   "source": [
    "### Trabajando con listas "
   ]
  },
  {
   "cell_type": "code",
   "execution_count": 2,
   "metadata": {},
   "outputs": [
    {
     "name": "stdout",
     "output_type": "stream",
     "text": [
      "3\n",
      "1\n"
     ]
    }
   ],
   "source": [
    "mi_lista = [1,2,3,4,5]\n",
    "\n",
    "print(mi_lista[2])\n",
    "print(mi_lista[-5])"
   ]
  },
  {
   "cell_type": "markdown",
   "metadata": {},
   "source": [
    "### Imprimir elemento de una lista"
   ]
  },
  {
   "cell_type": "code",
   "execution_count": 4,
   "metadata": {},
   "outputs": [
    {
     "name": "stdout",
     "output_type": "stream",
     "text": [
      "[1, 2, 3, 4, 5]\n",
      "[2, 3, 4]\n"
     ]
    }
   ],
   "source": [
    "# Imprimir con Slicing\n",
    "print(mi_lista)\n",
    "print(mi_lista[1:4])"
   ]
  },
  {
   "cell_type": "code",
   "execution_count": 5,
   "metadata": {},
   "outputs": [
    {
     "name": "stdout",
     "output_type": "stream",
     "text": [
      "1 2 3 4 5\n"
     ]
    }
   ],
   "source": [
    "#Para desempaquetar se usa *\n",
    "\n",
    "print(*mi_lista)"
   ]
  },
  {
   "cell_type": "code",
   "execution_count": 6,
   "metadata": {},
   "outputs": [
    {
     "name": "stdout",
     "output_type": "stream",
     "text": [
      "Conejo\n",
      "Gato\n",
      "Perro\n"
     ]
    }
   ],
   "source": [
    "#usando for se crea un bucle\n",
    "for elemento in lista:\n",
    "    print(elemento)"
   ]
  },
  {
   "cell_type": "markdown",
   "metadata": {},
   "source": [
    "### Metodos para agregar elementos\n",
    "\n",
    "## append e insert"
   ]
  },
  {
   "cell_type": "code",
   "execution_count": 7,
   "metadata": {},
   "outputs": [
    {
     "name": "stdout",
     "output_type": "stream",
     "text": [
      "['Outlook', 'hotmail', 'Gmail', 'Yahoo']\n"
     ]
    }
   ],
   "source": [
    "correos = ['Outlook', 'hotmail','Gmail']\n",
    "correos.append('Yahoo')\n",
    "print(correos)"
   ]
  },
  {
   "cell_type": "code",
   "execution_count": 9,
   "metadata": {},
   "outputs": [
    {
     "name": "stdout",
     "output_type": "stream",
     "text": [
      "['Outlook', 'ProtonMail', 'hotmail', 'Gmail', 'Yahoo']\n"
     ]
    }
   ],
   "source": [
    "correos.insert(1,'ProtonMail')\n",
    "print(correos)"
   ]
  },
  {
   "cell_type": "markdown",
   "metadata": {},
   "source": [
    "### Agregar múltiples elementos a una lista"
   ]
  },
  {
   "cell_type": "code",
   "execution_count": 10,
   "metadata": {},
   "outputs": [
    {
     "name": "stdout",
     "output_type": "stream",
     "text": [
      "['Word', 'Excel', 'Power Point', 'Access', 'Visio', 'Skype']\n"
     ]
    }
   ],
   "source": [
    "#extend() para agregar elementos a una lista que pertenecen a otras\n",
    "paquete = ['Word', 'Excel','Power Point']\n",
    "adicional = ['Access', 'Visio','Skype']\n",
    "\n",
    "paquete.extend(adicional)\n",
    "print(paquete)\n"
   ]
  },
  {
   "cell_type": "code",
   "execution_count": 11,
   "metadata": {},
   "outputs": [
    {
     "name": "stdout",
     "output_type": "stream",
     "text": [
      "['Word', 'Excel', 'Power Point', 'Access', 'Visio', 'Skype']\n"
     ]
    }
   ],
   "source": [
    "paquete = ['Word', 'Excel','Power Point']\n",
    "adicional = ['Access', 'Visio','Skype']\n",
    "\n",
    "paquete_pro = paquete + adicional\n",
    "print(paquete_pro)"
   ]
  },
  {
   "cell_type": "markdown",
   "metadata": {},
   "source": [
    "## Métodos para eliminar elementos de una lista"
   ]
  },
  {
   "cell_type": "code",
   "execution_count": 12,
   "metadata": {},
   "outputs": [
    {
     "name": "stdout",
     "output_type": "stream",
     "text": [
      "['Outlook', 'ProtonMail', 'Hotmail', 'Yahoo', 'Gmail']\n"
     ]
    }
   ],
   "source": [
    "#remove\n",
    "correos =  ['Outlook', 'ProtonMail', 'Hotmail', 'Gmail', 'Yahoo','Gmail']\n",
    "\n",
    "\n",
    "correos.remove('Gmail')\n",
    "print(correos)"
   ]
  },
  {
   "cell_type": "code",
   "execution_count": 13,
   "metadata": {},
   "outputs": [
    {
     "name": "stdout",
     "output_type": "stream",
     "text": [
      "ProtonMail\n",
      "['Outlook', 'Hotmail', 'Yahoo', 'Gmail']\n"
     ]
    }
   ],
   "source": [
    "#pop()\n",
    "eliminado = correos.pop(1)\n",
    "print(eliminado)\n",
    "print(correos)"
   ]
  },
  {
   "cell_type": "code",
   "execution_count": 14,
   "metadata": {},
   "outputs": [
    {
     "name": "stdout",
     "output_type": "stream",
     "text": [
      "['Outlook', 'Yahoo', 'Gmail']\n"
     ]
    }
   ],
   "source": [
    "del correos[1]\n",
    "print(correos)"
   ]
  },
  {
   "cell_type": "code",
   "execution_count": 15,
   "metadata": {},
   "outputs": [
    {
     "name": "stdout",
     "output_type": "stream",
     "text": [
      "[]\n"
     ]
    }
   ],
   "source": [
    "correos.clear()\n",
    "print(correos)"
   ]
  },
  {
   "cell_type": "code",
   "execution_count": 18,
   "metadata": {},
   "outputs": [
    {
     "name": "stdout",
     "output_type": "stream",
     "text": [
      "[0, 1, 2, 3, 5, 8]\n",
      "[8, 5, 3, 2, 1, 0]\n",
      "1\n"
     ]
    }
   ],
   "source": [
    "numeros= [5,1,8,2,3,0]\n",
    "numeros.sort()\n",
    "print(numeros)\n",
    "numeros.sort(reverse=True)\n",
    "print(numeros)\n",
    "\n",
    "numDos = numeros.count(2)\n",
    "print(numDos)"
   ]
  }
 ],
 "metadata": {
  "kernelspec": {
   "display_name": "Python 3",
   "language": "python",
   "name": "python3"
  },
  "language_info": {
   "codemirror_mode": {
    "name": "ipython",
    "version": 3
   },
   "file_extension": ".py",
   "mimetype": "text/x-python",
   "name": "python",
   "nbconvert_exporter": "python",
   "pygments_lexer": "ipython3",
   "version": "3.12.2"
  }
 },
 "nbformat": 4,
 "nbformat_minor": 2
}
