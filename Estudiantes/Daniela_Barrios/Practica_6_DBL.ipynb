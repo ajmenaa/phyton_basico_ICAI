{
 "cells": [
  {
   "cell_type": "markdown",
   "id": "3127ae9d",
   "metadata": {},
   "source": [
    "# Creación de Arrays"
   ]
  },
  {
   "cell_type": "markdown",
   "id": "4075b2ab",
   "metadata": {},
   "source": [
    "### Crear un array a partir de una lista"
   ]
  },
  {
   "cell_type": "code",
   "execution_count": 5,
   "id": "98fafc10",
   "metadata": {},
   "outputs": [],
   "source": [
    "import numpy as np\n",
    "\n"
   ]
  },
  {
   "cell_type": "markdown",
   "id": "0e8e40b3",
   "metadata": {},
   "source": [
    "### Crear un array de ceros de tamaño 5x5"
   ]
  },
  {
   "cell_type": "code",
   "execution_count": 6,
   "id": "043e0131",
   "metadata": {},
   "outputs": [
    {
     "data": {
      "text/plain": [
       "array([[0., 0., 0., 0., 0.],\n",
       "       [0., 0., 0., 0., 0.],\n",
       "       [0., 0., 0., 0., 0.],\n",
       "       [0., 0., 0., 0., 0.],\n",
       "       [0., 0., 0., 0., 0.]])"
      ]
     },
     "execution_count": 6,
     "metadata": {},
     "output_type": "execute_result"
    }
   ],
   "source": [
    "#Código crear un array de ceros de tamaño 5x5\n",
    "\n",
    "array = np.zeros ((5, 5))\n",
    "array\n",
    "\n"
   ]
  },
  {
   "cell_type": "markdown",
   "id": "a640f233",
   "metadata": {},
   "source": [
    "### Crear un array de unos de tamaño 3x3"
   ]
  },
  {
   "cell_type": "code",
   "execution_count": 7,
   "id": "ac2b7096",
   "metadata": {},
   "outputs": [
    {
     "data": {
      "text/plain": [
       "array([[1., 1., 1.],\n",
       "       [1., 1., 1.],\n",
       "       [1., 1., 1.]])"
      ]
     },
     "execution_count": 7,
     "metadata": {},
     "output_type": "execute_result"
    }
   ],
   "source": [
    "#Código crear un array de unos de tamaño 3x3\n",
    "\n",
    "array1 = np.ones ((3, 3))\n",
    "array1\n"
   ]
  },
  {
   "cell_type": "markdown",
   "id": "5ff1ca1e",
   "metadata": {},
   "source": [
    "### Crear un array con valores espaciados uniformemente de 0 a 9"
   ]
  },
  {
   "cell_type": "code",
   "execution_count": 11,
   "id": "60cefb4b",
   "metadata": {},
   "outputs": [
    {
     "name": "stdout",
     "output_type": "stream",
     "text": [
      "[0.  0.5 1.  1.5 2.  2.5 3.  3.5 4.  4.5 5.  5.5 6.  6.5 7.  7.5 8.  8.5]\n"
     ]
    }
   ],
   "source": [
    "#Código rear un array con valores espaciados uniformemente de 0 a 9\n",
    "array2 = np.arange(0, 9., 0.5)\n",
    "print(array2)\n"
   ]
  },
  {
   "cell_type": "markdown",
   "id": "af014afb",
   "metadata": {},
   "source": [
    "### #Crear un array con 6 valores espaciados linealmente entre 0 y 1\n"
   ]
  },
  {
   "cell_type": "code",
   "execution_count": 12,
   "id": "5ba6f502",
   "metadata": {},
   "outputs": [
    {
     "name": "stdout",
     "output_type": "stream",
     "text": [
      "[0.   0.15 0.3  0.45 0.6  0.75 0.9 ]\n"
     ]
    }
   ],
   "source": [
    "#Código crear un array con 6 valores espaciados linealmente entre 0 y 1\n",
    "array3 = np.arange(0, 1., 0.15)\n",
    "print(array3)"
   ]
  },
  {
   "cell_type": "markdown",
   "id": "90ed91a1",
   "metadata": {},
   "source": [
    "# Operaciones Básicas"
   ]
  },
  {
   "cell_type": "markdown",
   "id": "b000074f",
   "metadata": {},
   "source": [
    "### Realizar una suma, resta, multiplicación y división entre dos arrays"
   ]
  },
  {
   "cell_type": "code",
   "execution_count": 13,
   "id": "ff348071",
   "metadata": {},
   "outputs": [
    {
     "name": "stdout",
     "output_type": "stream",
     "text": [
      "La suma es:  [11  8 11]\n",
      "La resta es:  [-1  0 -7]\n",
      "La multiplicacion es:  [30 16 18]\n",
      "La division es:  [0.83333333 1.         0.22222222]\n"
     ]
    },
    {
     "data": {
      "text/plain": [
       "'\\nprint(\"La suma es: \",suma)\\nprint(\"La resta es: \",resta)\\nprint(\"La multiplicacion es: \",multiplicacion)\\nprint(\"La division es: \",division)\\n'"
      ]
     },
     "execution_count": 13,
     "metadata": {},
     "output_type": "execute_result"
    }
   ],
   "source": [
    "array_1 = np.array([5,4,2])\n",
    "array_2 = np.array([6,4,9])\n",
    "\n",
    "\n",
    "#Código realizar una suma, resta, multiplicación y división entre dos arrays\n",
    "suma = array_1 + array_2\n",
    "resta = array_1 - array_2\n",
    "multiplicacion = array_1 * array_2\n",
    "division = array_1 / array_2\n",
    "\n",
    "#Salida\n",
    "print('La suma es: ' ,suma)\n",
    "print(\"La resta es: \" ,resta)\n",
    "print(\"La multiplicacion es: \" ,multiplicacion)\n",
    "print(\"La division es: \" ,division)\n",
    "\n",
    "\n",
    "\n",
    "\n",
    "# Salida\n",
    "'''\n",
    "print(\"La suma es: \",suma)\n",
    "print(\"La resta es: \",resta)\n",
    "print(\"La multiplicacion es: \",multiplicacion)\n",
    "print(\"La division es: \",division)\n",
    "'''"
   ]
  },
  {
   "cell_type": "code",
   "execution_count": 14,
   "id": "a270ae97",
   "metadata": {},
   "outputs": [
    {
     "name": "stdout",
     "output_type": "stream",
     "text": [
      "64\n"
     ]
    }
   ],
   "source": [
    "#Calcular el producto punto de dos arrays\n",
    "\n",
    "pdpto = np.dot(array_1, array_2)\n",
    "print(pdpto)"
   ]
  },
  {
   "cell_type": "code",
   "execution_count": 33,
   "id": "dddd8ba1",
   "metadata": {},
   "outputs": [
    {
     "data": {
      "text/plain": [
       "array([[5, 4, 2],\n",
       "       [6, 4, 9]])"
      ]
     },
     "execution_count": 33,
     "metadata": {},
     "output_type": "execute_result"
    }
   ],
   "source": [
    "#Transponer un array\n",
    "arr = np.array([array_1,array_2])\n",
    "arr"
   ]
  },
  {
   "cell_type": "markdown",
   "id": "5e44ba57",
   "metadata": {},
   "source": [
    "# Operaciones Estadísticas"
   ]
  },
  {
   "cell_type": "code",
   "execution_count": 15,
   "id": "7f3e6efd",
   "metadata": {},
   "outputs": [
    {
     "name": "stdout",
     "output_type": "stream",
     "text": [
      "La media es: 3.0\n",
      "La suma es: 15\n",
      "El valor mínimo es: 1\n",
      "El valor máximo es: 5\n"
     ]
    },
    {
     "data": {
      "text/plain": [
       "'\\n# Mostrar los resultados\\nprint(\"La media es:\", media)\\nprint(\"La suma es:\", suma)\\nprint(\"El valor mínimo es:\", valor_minimo)\\nprint(\"El valor máximo es:\", valor_maximo)\\n'"
      ]
     },
     "execution_count": 15,
     "metadata": {},
     "output_type": "execute_result"
    }
   ],
   "source": [
    "#Calcular la media, suma, valor mínimo y valor máximo de un array\n",
    "\n",
    "\n",
    "# Crear un array NumPy\n",
    "array_numeros = np.array([5, 2, 4, 1, 3])\n",
    "\n",
    "# Calcular la media\n",
    "media = array_numeros.mean()\n",
    "\n",
    "# Calcular la suma\n",
    "suma = array_numeros.sum()\n",
    "           \n",
    "#Calcular el valor mínimo\n",
    "valor_minimo = array_numeros.min()\n",
    "\n",
    "# Calcular el valor máximo\n",
    "valor_maximo = array_numeros.max()\n",
    "\n",
    "print(\"La media es:\", media)\n",
    "print(\"La suma es:\", suma)\n",
    "print(\"El valor mínimo es:\", valor_minimo)\n",
    "print(\"El valor máximo es:\", valor_maximo)\n",
    "\n",
    "'''\n",
    "# Mostrar los resultados\n",
    "print(\"La media es:\", media)\n",
    "print(\"La suma es:\", suma)\n",
    "print(\"El valor mínimo es:\", valor_minimo)\n",
    "print(\"El valor máximo es:\", valor_maximo)\n",
    "'''\n"
   ]
  },
  {
   "cell_type": "code",
   "execution_count": 16,
   "id": "f6264d86",
   "metadata": {},
   "outputs": [
    {
     "name": "stdout",
     "output_type": "stream",
     "text": [
      "Array original: [1 2 3 4 5 6]\n",
      "Array reshapeado: [[1 2 3]\n",
      " [4 5 6]]\n"
     ]
    },
    {
     "data": {
      "text/plain": [
       "'\\n# Imprimir el array original y el reshapeado\\nprint(\"Array original:\", array_original)\\nprint(\"Array reshapeado:\", array_reshapeado)\\n'"
      ]
     },
     "execution_count": 16,
     "metadata": {},
     "output_type": "execute_result"
    }
   ],
   "source": [
    "#Cambiar la forma de un array \"reshape\"\n",
    "\n",
    "\n",
    "# Crear un array original\n",
    "array_original = np.array([1, 2, 3, 4, 5, 6])\n",
    "\n",
    "# Nueva forma deseada (2 filas y 3 columnas)\n",
    "array_reshapeado = array_original.reshape(2, 3)\n",
    "print(\"Array original:\", array_original)\n",
    "print(\"Array reshapeado:\", array_reshapeado)\n",
    "\n",
    "'''\n",
    "# Imprimir el array original y el reshapeado\n",
    "print(\"Array original:\", array_original)\n",
    "print(\"Array reshapeado:\", array_reshapeado)\n",
    "'''"
   ]
  },
  {
   "cell_type": "markdown",
   "id": "195c5f6d",
   "metadata": {},
   "source": [
    "# Álgebra Lineal"
   ]
  },
  {
   "cell_type": "markdown",
   "id": "b920534e",
   "metadata": {},
   "source": [
    "### Calcular el determinante de una matriz 2x2"
   ]
  },
  {
   "cell_type": "code",
   "execution_count": 17,
   "id": "d01ce9f8",
   "metadata": {},
   "outputs": [
    {
     "name": "stdout",
     "output_type": "stream",
     "text": [
      "1.0\n"
     ]
    }
   ],
   "source": [
    "nuevo_array = np.array([[1,2],[2,5]])\n",
    "\n",
    "#Código para calcular el determinante de una matriz 2x2\n",
    "determinante =np.linalg.det(nuevo_array)\n",
    "print(determinante)"
   ]
  },
  {
   "cell_type": "markdown",
   "id": "b1325b2b",
   "metadata": {},
   "source": [
    "### Calcular la matriz inversa de una matriz 3x3"
   ]
  },
  {
   "cell_type": "code",
   "execution_count": 18,
   "id": "9782d614",
   "metadata": {},
   "outputs": [
    {
     "name": "stdout",
     "output_type": "stream",
     "text": [
      "[[ 5 10 15]\n",
      " [20 25 30]\n",
      " [35 40 45]]\n",
      "[[ 1.40737488e+14 -2.81474977e+14  1.40737488e+14]\n",
      " [-2.81474977e+14  5.62949953e+14 -2.81474977e+14]\n",
      " [ 1.40737488e+14 -2.81474977e+14  1.40737488e+14]]\n"
     ]
    }
   ],
   "source": [
    "# Definir la matriz 3x3\n",
    "matriz = np.array(([5, 10, 15], [20, 25, 30], [35, 40, 45]))\n",
    "print(matriz)\n",
    "\n",
    "# Calcular la matriz inversa\n",
    "matriz_inversa = np.linalg.inv(matriz)\n",
    "\n",
    "# Imprimir la matriz inversa\n",
    "print(matriz_inversa)\n"
   ]
  },
  {
   "cell_type": "markdown",
   "id": "98f0cfc8",
   "metadata": {},
   "source": [
    "### Calcular los valores propios y vectores propios de una matriz 4x4"
   ]
  },
  {
   "cell_type": "code",
   "execution_count": 19,
   "id": "07211323",
   "metadata": {},
   "outputs": [
    {
     "name": "stdout",
     "output_type": "stream",
     "text": [
      "[[ 1  2  3  4]\n",
      " [ 5  6  7  8]\n",
      " [ 9 10 11 12]\n",
      " [13 14 15 16]]\n",
      "Valores propios: [ 3.62093727e+01 -2.20937271e+00 -5.14138333e-16 -2.08943529e-15]\n",
      "Vectores propios:\n",
      "Vector propio 1: [-0.15115432 -0.72704996  0.01790738 -0.26832672]\n",
      "Vector propio 2: [-0.34923733 -0.28320876  0.38415354  0.71367217]\n",
      "Vector propio 3: [-0.54732033  0.16063243 -0.82202921 -0.62236419]\n",
      "Vector propio 4: [-0.74540333  0.60447363  0.41996829  0.17701873]\n"
     ]
    }
   ],
   "source": [
    "\n",
    "# Definir la matriz 4x4\n",
    "matriz_4x4 = np.array([[1, 2, 3, 4], [5, 6, 7, 8], [9, 10, 11, 12], [13, 14, 15, 16]])\n",
    "print (matriz_4x4)\n",
    "\n",
    "# Calcular valores propios y vectores propios\n",
    "autovalores, autovectores = np.linalg.eig(matriz_4x4)\n",
    "\n",
    "# Separar valores propios y vectores propios\n",
    " # Parte real de los valores propios complejos\n",
    "  # Parte real de los vectores propios complejos\n",
    "\n",
    "# Imprimir resultados\n",
    "print(\"Valores propios:\", autovalores)\n",
    "print(\"Vectores propios:\")\n",
    "for i in range(len(autovectores)):\n",
    "    print(f\"Vector propio {i+1}:\", autovectores[i])"
   ]
  },
  {
   "cell_type": "markdown",
   "id": "efd4320a",
   "metadata": {},
   "source": [
    "# Funciones Universales"
   ]
  },
  {
   "cell_type": "code",
   "execution_count": 21,
   "id": "b6104243",
   "metadata": {},
   "outputs": [
    {
     "name": "stdout",
     "output_type": "stream",
     "text": [
      "[8.41470985e-01 1.00000000e+00 1.22464680e-16]\n",
      "[ 5.40302306e-01  6.12323400e-17 -1.00000000e+00]\n",
      "[ 2.71828183  4.81047738 23.14069263]\n",
      "[0.         0.45158271 1.14472989]\n"
     ]
    }
   ],
   "source": [
    "# Crear un array con ángulos\n",
    "array_angulos = np.array([1, np.pi/2, np.pi])\n",
    "\n",
    "# Calcular el seno de los ángulos\n",
    "print(np.sin(array_angulos))\n",
    "\n",
    "# Calcular el coseno de los ángulos\n",
    "print(np.cos(array_angulos))\n",
    "\n",
    "# Calcular la exponencial de los ángulos\n",
    "\n",
    "print(np.exp(array_angulos))\n",
    "\n",
    "# Calcular el logaritmo natural de los ángulos\n",
    "\n",
    "print(np.log(array_angulos))\n"
   ]
  },
  {
   "cell_type": "code",
   "execution_count": 22,
   "id": "eadbf298",
   "metadata": {},
   "outputs": [
    {
     "name": "stdout",
     "output_type": "stream",
     "text": [
      "[[1 2 3]\n",
      " [4 5 6]\n",
      " [7 8 9]]\n",
      "primera fila =  [1 2 3]\n",
      "columna =  [7 8 9]\n",
      "submatriz =  [4 5]\n"
     ]
    }
   ],
   "source": [
    "#Realizar indexación y slicing en un array 2D\n",
    "array_2d = np.array([[1, 2, 3], [4, 5, 6], [7, 8, 9]])\n",
    "print(array_2d)\n",
    "\n",
    "# Obtener la primera fila del array\n",
    "fila1 = array_2d[0]\n",
    "\n",
    "# Obtener la última columna del array\n",
    "  # [3, 6, 9]\n",
    "columna = array_2d[-1]\n",
    "\n",
    "# Obtener una submatriz que contiene la segunda fila y las dos primeras columnas\n",
    "  # [4, 5]\n",
    "submatriz = array_2d[1, :2]\n",
    "\n",
    "# Imprimir los subconjuntos de datos extraídos\n",
    "print('primera fila = ', fila1)\n",
    "print('columna = ', columna)\n",
    "print('submatriz = ', submatriz)\n"
   ]
  },
  {
   "cell_type": "markdown",
   "id": "38fb3e51",
   "metadata": {},
   "source": [
    "# Generación de Números Aleatorios"
   ]
  },
  {
   "cell_type": "code",
   "execution_count": 25,
   "id": "4c9439b1",
   "metadata": {},
   "outputs": [
    {
     "name": "stdout",
     "output_type": "stream",
     "text": [
      "[92 60 86 96 48 98 68 40 99 95]\n"
     ]
    }
   ],
   "source": [
    "#Generar un array de 10 números enteros aleatorios entre 1 y 100\n",
    "\n",
    "aleatorio = np.random.randint(1, 100, 10)\n",
    "print(aleatorio)\n"
   ]
  },
  {
   "cell_type": "code",
   "execution_count": 26,
   "id": "7b67e54f",
   "metadata": {},
   "outputs": [
    {
     "name": "stdout",
     "output_type": "stream",
     "text": [
      "[[0.59849472 0.16430528 0.42407337]\n",
      " [0.13569743 0.09125976 0.7253847 ]]\n"
     ]
    }
   ],
   "source": [
    "#Generar una matriz 2x3 con números aleatorios uniformemente distribuidos entre 0 y 1\n",
    "al_unif = np.random.rand(2, 3)\n",
    "print(al_unif)"
   ]
  },
  {
   "cell_type": "code",
   "execution_count": 27,
   "id": "bc4519a1",
   "metadata": {},
   "outputs": [
    {
     "name": "stdout",
     "output_type": "stream",
     "text": [
      "[-1.50378051 -0.99601672  0.01850888 -0.52707642 -2.1423117 ]\n"
     ]
    }
   ],
   "source": [
    "#Generar un array de 5 números aleatorios con distribución normal (media 0, desviación estándar 1)\n",
    "\n",
    "al_normal = np.random.normal(0, 1, 5)\n",
    "print(al_normal)"
   ]
  }
 ],
 "metadata": {
  "kernelspec": {
   "display_name": "Python 3 (ipykernel)",
   "language": "python",
   "name": "python3"
  },
  "language_info": {
   "codemirror_mode": {
    "name": "ipython",
    "version": 3
   },
   "file_extension": ".py",
   "mimetype": "text/x-python",
   "name": "python",
   "nbconvert_exporter": "python",
   "pygments_lexer": "ipython3",
   "version": "3.12.2"
  }
 },
 "nbformat": 4,
 "nbformat_minor": 5
}
