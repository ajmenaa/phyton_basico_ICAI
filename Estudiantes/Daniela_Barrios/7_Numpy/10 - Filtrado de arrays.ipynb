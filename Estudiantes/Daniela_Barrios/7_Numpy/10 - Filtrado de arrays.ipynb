{
 "cells": [
  {
   "cell_type": "markdown",
   "id": "9c010793",
   "metadata": {},
   "source": [
    "# Filtrado de arrays\n",
    "\n",
    "En esta lección vamos a repasar algunas funciones para filtrar arrays. Para más información sobre las funciones disponibles [la documentación oficial](https://numpy.org/doc/stable/reference/index.html).\n",
    "\n",
    "Devuelve un array de una dimensión borrando todos los elementos duplicados:"
   ]
  },
  {
   "cell_type": "code",
   "execution_count": 3,
   "id": "6e563e51",
   "metadata": {},
   "outputs": [],
   "source": [
    "import numpy as np"
   ]
  },
  {
   "cell_type": "markdown",
   "id": "20b2f9d6",
   "metadata": {},
   "source": [
    "### Filtrar un array con valores específicos:\n",
    "\n",
    "Supongamos que tenemos un array temperaturas que contiene las temperaturas registradas en diferentes días:"
   ]
  },
  {
   "cell_type": "code",
   "execution_count": 4,
   "id": "14ee58f3",
   "metadata": {},
   "outputs": [],
   "source": [
    "temperaturas = np.array([28, 23, 28, 27, 23, 31, 18])"
   ]
  },
  {
   "cell_type": "markdown",
   "id": "ef512969",
   "metadata": {},
   "source": [
    "Para obtener un nuevo array que solo incluya los días con temperaturas superiores a 27°C, podemos usar la siguiente sintaxis:"
   ]
  },
  {
   "cell_type": "code",
   "execution_count": 5,
   "id": "2ca513be",
   "metadata": {},
   "outputs": [],
   "source": [
    "dias_calurosos = temperaturas > 25 # crea un array booleano donde True representa los valores superiores a 20°C \n",
    "temperaturas_calurosas = temperaturas[dias_calurosos] # utiliza el array booleano como máscara para seleccionar solo los elementos de temperaturas correspondientes a las posiciones donde dias_calurosos es True."
   ]
  },
  {
   "cell_type": "code",
   "execution_count": 6,
   "id": "5cd9f538",
   "metadata": {},
   "outputs": [
    {
     "data": {
      "text/plain": [
       "array([28, 28, 27, 31])"
      ]
     },
     "execution_count": 6,
     "metadata": {},
     "output_type": "execute_result"
    }
   ],
   "source": [
    "# Resultado\n",
    "temperaturas_calurosas"
   ]
  },
  {
   "cell_type": "markdown",
   "id": "dba1c5c0",
   "metadata": {},
   "source": [
    "## Elementos unicos"
   ]
  },
  {
   "cell_type": "code",
   "execution_count": 10,
   "id": "5747e126",
   "metadata": {},
   "outputs": [
    {
     "data": {
      "text/plain": [
       "array([27, 28, 31])"
      ]
     },
     "execution_count": 10,
     "metadata": {},
     "output_type": "execute_result"
    }
   ],
   "source": [
    "# aplicamos el filtro unique\n",
    "np.unique(temperaturas_calurosas)"
   ]
  },
  {
   "cell_type": "markdown",
   "id": "30f4d980",
   "metadata": {},
   "source": [
    "## Filtro in1d\n",
    "\n",
    "Devuelve un array de una dimensión indicando si los elementos de una lista se encuentran en otro array:"
   ]
  },
  {
   "cell_type": "code",
   "execution_count": 34,
   "id": "55108e3d",
   "metadata": {},
   "outputs": [
    {
     "data": {
      "text/plain": [
       "array([ True, False,  True,  True])"
      ]
     },
     "execution_count": 34,
     "metadata": {},
     "output_type": "execute_result"
    }
   ],
   "source": [
    "np.in1d([30, 20, 23, 31], temperaturas)"
   ]
  },
  {
   "cell_type": "markdown",
   "id": "d363e832",
   "metadata": {},
   "source": [
    "### Filtrar un array con base en otro array:\n",
    "\n",
    "Imagina que tenemos un array nombres con los nombres de los estudiantes y otro array calificaciones con sus calificaciones correspondientes:"
   ]
  },
  {
   "cell_type": "code",
   "execution_count": 17,
   "id": "dc8fecc6",
   "metadata": {},
   "outputs": [],
   "source": [
    "nombres = np.array([\"Juan\", \"María\", \"Pedro\", \"Ana\"])\n",
    "calificaciones = np.array([8, 9.5, 7, 10])"
   ]
  },
  {
   "cell_type": "markdown",
   "id": "2202e309",
   "metadata": {},
   "source": [
    "Para obtener un nuevo array que contenga solo los nombres y calificaciones de los estudiantes que aprobaron (calificación mayor o igual a 7), podemos usar:"
   ]
  },
  {
   "cell_type": "code",
   "execution_count": 18,
   "id": "a5328afa",
   "metadata": {},
   "outputs": [
    {
     "data": {
      "text/plain": [
       "array([ 8. ,  9.5,  7. , 10. ])"
      ]
     },
     "execution_count": 18,
     "metadata": {},
     "output_type": "execute_result"
    }
   ],
   "source": [
    "# Escribe el código"
   ]
  },
  {
   "cell_type": "markdown",
   "id": "2e870fee",
   "metadata": {},
   "source": [
    "## Filtro where\n",
    "\n",
    "Sirve para generar un array filtrado a partir de una condición y un valor por defecto:"
   ]
  },
  {
   "cell_type": "code",
   "execution_count": 9,
   "id": "26ae8b4b",
   "metadata": {},
   "outputs": [
    {
     "data": {
      "text/plain": [
       "array([[ 2,  1],\n",
       "       [ 0, -2],\n",
       "       [ 0,  4]])"
      ]
     },
     "execution_count": 9,
     "metadata": {},
     "output_type": "execute_result"
    }
   ],
   "source": [
    "# generamos un array con números aleatorios\n",
    "arr_1 = np.random.randint(-5, 5, size=[3,2])\n",
    "\n",
    "arr_1"
   ]
  },
  {
   "cell_type": "code",
   "execution_count": 10,
   "id": "26feffc3",
   "metadata": {},
   "outputs": [
    {
     "data": {
      "text/plain": [
       "(array([1], dtype=int64), array([1], dtype=int64))"
      ]
     },
     "execution_count": 10,
     "metadata": {},
     "output_type": "execute_result"
    }
   ],
   "source": [
    "# creamos un filtro que establece los negativos a 0 - Escribe el código"
   ]
  },
  {
   "cell_type": "markdown",
   "id": "c342cca9",
   "metadata": {},
   "source": [
    "## Filtros booleanos"
   ]
  },
  {
   "cell_type": "markdown",
   "id": "c52de20a",
   "metadata": {},
   "source": [
    "Permiten hacer comprobaciones lógicas en los arrays de booleanos:"
   ]
  },
  {
   "cell_type": "code",
   "execution_count": 19,
   "id": "e5fcb54d",
   "metadata": {},
   "outputs": [],
   "source": [
    "# definimos un array de booleanos\n",
    "arr_bool = np.array([True,True,True,False])"
   ]
  },
  {
   "cell_type": "code",
   "execution_count": 20,
   "id": "89bcd0c9",
   "metadata": {},
   "outputs": [
    {
     "data": {
      "text/plain": [
       "False"
      ]
     },
     "execution_count": 20,
     "metadata": {},
     "output_type": "execute_result"
    }
   ],
   "source": [
    "# comprobar si todos los elementos del array son True\n",
    "arr_bool.all()"
   ]
  },
  {
   "cell_type": "code",
   "execution_count": 21,
   "id": "e3b9c430",
   "metadata": {},
   "outputs": [
    {
     "data": {
      "text/plain": [
       "True"
      ]
     },
     "execution_count": 21,
     "metadata": {},
     "output_type": "execute_result"
    }
   ],
   "source": [
    "# comprobar si al menos un elementos del array es True\n",
    "arr_bool.any()"
   ]
  },
  {
   "cell_type": "markdown",
   "id": "457dfed1",
   "metadata": {},
   "source": [
    "También funciona con múltiples dimensiones pasando el eje:"
   ]
  },
  {
   "cell_type": "code",
   "execution_count": 22,
   "id": "10517f40",
   "metadata": {},
   "outputs": [
    {
     "data": {
      "text/plain": [
       "array([[False,  True],\n",
       "       [False,  True],\n",
       "       [False,  True]])"
      ]
     },
     "execution_count": 22,
     "metadata": {},
     "output_type": "execute_result"
    }
   ],
   "source": [
    "# definimos un array de booleanos 2d\n",
    "arr_bool_2d = np.array(\n",
    "    [\n",
    "        [False, True],\n",
    "        [False, True],\n",
    "        [False, True]\n",
    "    ]\n",
    ")\n",
    "\n",
    "arr_bool_2d"
   ]
  },
  {
   "cell_type": "code",
   "execution_count": 23,
   "id": "80507829",
   "metadata": {},
   "outputs": [
    {
     "data": {
      "text/plain": [
       "array([False,  True])"
      ]
     },
     "execution_count": 23,
     "metadata": {},
     "output_type": "execute_result"
    }
   ],
   "source": [
    "# comprobar si alguna de las columnas es todo True\n",
    "arr_bool_2d.all(0)"
   ]
  },
  {
   "cell_type": "code",
   "execution_count": 24,
   "id": "fddb3699",
   "metadata": {},
   "outputs": [
    {
     "data": {
      "text/plain": [
       "array([ True,  True,  True])"
      ]
     },
     "execution_count": 24,
     "metadata": {},
     "output_type": "execute_result"
    }
   ],
   "source": [
    "# comprobar si alguna de las filas tiene algún True\n",
    "arr_bool_2d.any(1)"
   ]
  }
 ],
 "metadata": {
  "kernelspec": {
   "display_name": "Python 3 (ipykernel)",
   "language": "python",
   "name": "python3"
  },
  "language_info": {
   "codemirror_mode": {
    "name": "ipython",
    "version": 3
   },
   "file_extension": ".py",
   "mimetype": "text/x-python",
   "name": "python",
   "nbconvert_exporter": "python",
   "pygments_lexer": "ipython3",
   "version": "3.12.2"
  }
 },
 "nbformat": 4,
 "nbformat_minor": 5
}
