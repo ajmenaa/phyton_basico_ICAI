{
 "cells": [
  {
   "cell_type": "markdown",
   "metadata": {},
   "source": [
    "**LA CALCULADORA**\n",
    "Autor: Daniela Barrios\n",
    "Práctica curso básico Python\n"
   ]
  },
  {
   "cell_type": "code",
   "execution_count": 22,
   "metadata": {},
   "outputs": [],
   "source": [
    "class calculadorabasica:\n",
    "    '''\n",
    "    Es la clase calculadorabasica, plantilla\n",
    "    '''\n",
    "    def __init__(self, numero_1, numero_2):\n",
    "        self.numero_1 =float(numero_1)\n",
    "        self.numero_2 =float(numero_2)\n",
    "    \n",
    "    def suma(self):\n",
    "        suma = self.numero_1 + self.numero_2\n",
    "        print (f'El resultado de la suma ', self.numero_1, '+', self.numero_2, ' es: ', suma)\n",
    "        \n",
    "    def resta(self):\n",
    "        resta = self.numero_1 - self.numero_2\n",
    "        print (f'El resultado de la resta ', self.numero_1, '-', self.numero_2, ' es: ', resta)\n",
    "        \n",
    "    def division(self):\n",
    "        division = self.numero_1 / self.numero_2\n",
    "        print (f'El resultado de la división  ', self.numero_1, '/', self.numero_2, ' es: ', division)\n",
    "        \n",
    "    def multiplicacion(self):\n",
    "        multiplicacion = self.numero_1 * self.numero_2\n",
    "        print (f'El resultado de la multiplicación  ', self.numero_1, '*', self.numero_2, ' es: ', multiplicacion)"
   ]
  },
  {
   "cell_type": "code",
   "execution_count": 23,
   "metadata": {},
   "outputs": [
    {
     "name": "stdout",
     "output_type": "stream",
     "text": [
      "El resultado de la suma  7.0 + 2.0  es:  9.0\n",
      "El resultado de la resta  7.0 - 2.0  es:  5.0\n",
      "El resultado de la división   7.0 / 2.0  es:  3.5\n",
      "El resultado de la multiplicación   7.0 * 2.0  es:  14.0\n"
     ]
    }
   ],
   "source": [
    "numero_1 = input(\"Por favor, ingrese un numero: \")\n",
    "numero_2 = input(\"Por favor, ingrese otro numero: \")\n",
    "\n",
    "calculadorabasica = calculadorabasica(numero_1, numero_2)\n",
    "calculadorabasica.suma()\n",
    "calculadorabasica.resta()\n",
    "calculadorabasica.division()\n",
    "calculadorabasica.multiplicacion()"
   ]
  },
  {
   "cell_type": "code",
   "execution_count": 1,
   "metadata": {},
   "outputs": [],
   "source": [
    "\n",
    "\n",
    "\n"
   ]
  },
  {
   "cell_type": "code",
   "execution_count": null,
   "metadata": {},
   "outputs": [],
   "source": []
  },
  {
   "cell_type": "code",
   "execution_count": null,
   "metadata": {},
   "outputs": [],
   "source": []
  }
 ],
 "metadata": {
  "kernelspec": {
   "display_name": "Python 3",
   "language": "python",
   "name": "python3"
  },
  "language_info": {
   "codemirror_mode": {
    "name": "ipython",
    "version": 3
   },
   "file_extension": ".py",
   "mimetype": "text/x-python",
   "name": "python",
   "nbconvert_exporter": "python",
   "pygments_lexer": "ipython3",
   "version": "3.12.2"
  }
 },
 "nbformat": 4,
 "nbformat_minor": 2
}
