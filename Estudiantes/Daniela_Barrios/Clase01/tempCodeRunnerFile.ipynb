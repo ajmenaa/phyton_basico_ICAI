correos.remove('Gmail')
print(correos)