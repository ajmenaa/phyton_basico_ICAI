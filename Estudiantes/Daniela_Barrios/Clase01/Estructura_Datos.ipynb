{
 "cells": [
  {
   "cell_type": "markdown",
   "metadata": {},
   "source": [
    "# Estructuras de datos\n",
    "\n",
    "## Listas\n",
    "\n",
    "Las listas son uno de los tipos de datos más importantes y versátiles de Python.\n",
    "\n",
    "**Creación de listas:**\n",
    "\n",
    "- ** Usando corchetes [] y separando los elementos por comas:**"
   ]
  },
  {
   "cell_type": "code",
   "execution_count": 1,
   "metadata": {},
   "outputs": [
    {
     "name": "stdout",
     "output_type": "stream",
     "text": [
      "mi primer libro\n",
      "['Conejo', 'Gato', 'Perro', 10, True, 10.65, [2022, 2023, 2024]]\n"
     ]
    }
   ],
   "source": [
    "print('mi primer libro')\n",
    "\n",
    "lista = ['Conejo', 'Gato', 'Perro', 10, True, 10.65, [2022, 2023, 2024]]\n",
    "print(lista)"
   ]
  },
  {
   "cell_type": "markdown",
   "metadata": {},
   "source": [
    "### Trabajando con listas"
   ]
  },
  {
   "cell_type": "code",
   "execution_count": null,
   "metadata": {},
   "outputs": [],
   "source": [
    "#Trabajando con listas\n",
    "#trabaja con índices eso es la posición, empieza a contar desde el 0.\n",
    "#sirven para acceder al elemento de la lista\n",
    "\n",
    "mi_lista =[1,2,3,4,5]\n",
    "print(mi_lista)\n",
    "\n",
    "print(mi_lista[2]) # para acceder a elementos, se utiliza el índice. En corchetes. Los índices comienzan en 0\n",
    "\n",
    "print(mi_lista[-1]) #indice inverso empieza con -1"
   ]
  },
  {
   "cell_type": "markdown",
   "metadata": {},
   "source": [
    "### Imprimir elemento de una lista"
   ]
  },
  {
   "cell_type": "code",
   "execution_count": null,
   "metadata": {},
   "outputs": [],
   "source": [
    "#imprimir con \"slicing\"\n",
    "print(mi_lista)\n",
    "print(mi_lista[1:4])"
   ]
  },
  {
   "cell_type": "code",
   "execution_count": null,
   "metadata": {},
   "outputs": [],
   "source": [
    "print(*mi_lista)\n",
    "\n",
    "#Usando un bucle\n",
    "for elemento in lista:\n",
    "    print(elemento)\n",
    "    "
   ]
  },
  {
   "cell_type": "code",
   "execution_count": 2,
   "metadata": {},
   "outputs": [
    {
     "name": "stdout",
     "output_type": "stream",
     "text": [
      "['Outlook', 'Hotmail', 'Gmail', 'Yahoo']\n"
     ]
    }
   ],
   "source": [
    "    #append () agrega el elemento al final de la lista\n",
    "    correos = ['Outlook', 'Hotmail', 'Gmail']\n",
    "    correos.append('Yahoo')\n",
    "    print(correos)"
   ]
  },
  {
   "cell_type": "code",
   "execution_count": 4,
   "metadata": {},
   "outputs": [
    {
     "name": "stdout",
     "output_type": "stream",
     "text": [
      "['Outlook', 'ProtonMail', 'ProtonMail', 'Hotmail', 'Gmail', 'Yahoo']\n"
     ]
    }
   ],
   "source": [
    "#insert ()\n",
    "correos.insert(1,'ProtonMail')\n",
    "print(correos)"
   ]
  },
  {
   "cell_type": "code",
   "execution_count": 6,
   "metadata": {},
   "outputs": [
    {
     "name": "stdout",
     "output_type": "stream",
     "text": [
      "['word', 'excel', 'power point', 'acces', 'visio', 'skype']\n"
     ]
    }
   ],
   "source": [
    "#extend ()\n",
    "paquete = ['word', 'excel', 'power point']\n",
    "adicional = ['acces', 'visio', 'skype']\n",
    "paquete.extend(adicional)\n",
    "print(paquete)"
   ]
  },
  {
   "cell_type": "code",
   "execution_count": null,
   "metadata": {},
   "outputs": [],
   "source": [
    "#concatenar\n",
    "paquete = ['word', 'excel', 'power point']\n",
    "adicional = ['acces', 'visio', 'skype']\n",
    "\n",
    "paquete_pro =paquete + adicional\n",
    "print(paquete_pro)"
   ]
  },
  {
   "cell_type": "markdown",
   "metadata": {},
   "source": [
    "## Metodos para eliminar elementos de una lista"
   ]
  },
  {
   "cell_type": "code",
   "execution_count": 9,
   "metadata": {},
   "outputs": [
    {
     "name": "stdout",
     "output_type": "stream",
     "text": [
      "['Outlook', 'ProtonMail', 'Hotmail', 'Yahoo', 'Gmail']\n"
     ]
    }
   ],
   "source": [
    "#remove ()\n",
    "correos = ['Outlook', 'ProtonMail', 'Hotmail', 'Gmail', 'Yahoo', 'Gmail']\n",
    "\n",
    "correos.remove('Gmail')\n",
    "print(correos)"
   ]
  },
  {
   "cell_type": "code",
   "execution_count": null,
   "metadata": {},
   "outputs": [],
   "source": [
    "# pop()\n",
    "eliminado =correos.pop(1)\n",
    "print(eliminado)\n",
    "print(correos)"
   ]
  },
  {
   "cell_type": "code",
   "execution_count": null,
   "metadata": {},
   "outputs": [],
   "source": [
    "#del ()\n",
    "del correos[1]\n",
    "print(correos)"
   ]
  },
  {
   "cell_type": "code",
   "execution_count": null,
   "metadata": {},
   "outputs": [],
   "source": [
    "#elimina una lista\n",
    "correos.clear()\n",
    "print(correos)"
   ]
  },
  {
   "cell_type": "code",
   "execution_count": 12,
   "metadata": {},
   "outputs": [
    {
     "name": "stdout",
     "output_type": "stream",
     "text": [
      "[0, 1, 2, 2, 2, 3, 5, 8]\n",
      "[8, 5, 3, 2, 2, 2, 1, 0]\n",
      "3\n"
     ]
    }
   ],
   "source": [
    "numeros=[5,8,1,2,3,0,2,2]\n",
    "numeros.sort()\n",
    "print(numeros)\n",
    "\n",
    "numeros.sort(reverse=True)\n",
    "print(numeros)\n",
    "\n",
    "numDos = numeros.count(2)\n",
    "print (numDos)\n",
    "\n",
    "indice_8= numeros.index(8)\n",
    "print(indice_8)"
   ]
  }
 ],
 "metadata": {
  "kernelspec": {
   "display_name": "Python 3",
   "language": "python",
   "name": "python3"
  },
  "language_info": {
   "codemirror_mode": {
    "name": "ipython",
    "version": 3
   },
   "file_extension": ".py",
   "mimetype": "text/x-python",
   "name": "python",
   "nbconvert_exporter": "python",
   "pygments_lexer": "ipython3",
   "version": "3.12.2"
  }
 },
 "nbformat": 4,
 "nbformat_minor": 2
}
