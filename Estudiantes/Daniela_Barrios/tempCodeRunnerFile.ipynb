array_numeros = np.array([5, 2, 4, 1, 3])

# Calcular la media
mean = array_numeros.mean()
print(mean)