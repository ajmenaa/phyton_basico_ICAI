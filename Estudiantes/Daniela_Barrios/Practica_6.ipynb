{
  "cells": [
    {
      "cell_type": "markdown",
      "id": "3127ae9d",
      "metadata": {
        "id": "3127ae9d"
      },
      "source": [
        "# Creación de Arrays"
      ]
    },
    {
      "cell_type": "markdown",
      "id": "4075b2ab",
      "metadata": {
        "id": "4075b2ab"
      },
      "source": [
        "### Crear un array a partir de una lista"
      ]
    },
    {
      "cell_type": "code",
      "execution_count": 2,
      "id": "98fafc10",
      "metadata": {
        "id": "98fafc10"
      },
      "outputs": [],
      "source": [
        "import numpy as np\n"
      ]
    },
    {
      "cell_type": "markdown",
      "id": "0e8e40b3",
      "metadata": {
        "id": "0e8e40b3"
      },
      "source": [
        "### Crear un array de ceros de tamaño 5x5"
      ]
    },
    {
      "cell_type": "code",
      "execution_count": null,
      "id": "043e0131",
      "metadata": {
        "id": "043e0131",
        "outputId": "ed484d3e-fb62-4047-891a-94584485fb35"
      },
      "outputs": [
        {
          "name": "stdout",
          "output_type": "stream",
          "text": [
            "[[0. 0. 0. 0. 0.]\n",
            " [0. 0. 0. 0. 0.]\n",
            " [0. 0. 0. 0. 0.]\n",
            " [0. 0. 0. 0. 0.]\n",
            " [0. 0. 0. 0. 0.]]\n"
          ]
        }
      ],
      "source": [
        "#Código crear un array de ceros de tamaño 5x5\n",
        "\n",
        "a = np.zeros([5, 5])\n",
        "print(a)"
      ]
    },
    {
      "cell_type": "markdown",
      "id": "a640f233",
      "metadata": {
        "id": "a640f233"
      },
      "source": [
        "### Crear un array de unos de tamaño 3x3"
      ]
    },
    {
      "cell_type": "code",
      "execution_count": null,
      "id": "ac2b7096",
      "metadata": {
        "id": "ac2b7096",
        "outputId": "657c44a1-8b92-42b2-ddb5-63bfce665b27"
      },
      "outputs": [
        {
          "name": "stdout",
          "output_type": "stream",
          "text": [
            "[[1. 1. 1.]\n",
            " [1. 1. 1.]\n",
            " [1. 1. 1.]]\n"
          ]
        }
      ],
      "source": [
        "#Código crear un array de unos de tamaño 3x3\n",
        "a = np.ones([3, 3])\n",
        "print(a)"
      ]
    },
    {
      "cell_type": "markdown",
      "id": "5ff1ca1e",
      "metadata": {
        "id": "5ff1ca1e"
      },
      "source": [
        "### Crear un array con valores espaciados uniformemente de 0 a 9"
      ]
    },
    {
      "cell_type": "code",
      "execution_count": null,
      "id": "60cefb4b",
      "metadata": {
        "id": "60cefb4b",
        "outputId": "578f3108-3dd0-4a20-ccc0-51578ab3bb21"
      },
      "outputs": [
        {
          "name": "stdout",
          "output_type": "stream",
          "text": [
            "[0.  0.5 1.  1.5 2.  2.5 3.  3.5 4.  4.5 5.  5.5 6.  6.5 7.  7.5 8.  8.5\n",
            " 9. ]\n"
          ]
        }
      ],
      "source": [
        "#Código rear un array con valores espaciados uniformemente de 0 a 9\n",
        "a = np.arange(0, 9.5, 0.5)\n",
        "print(a)"
      ]
    },
    {
      "cell_type": "markdown",
      "id": "af014afb",
      "metadata": {
        "id": "af014afb"
      },
      "source": [
        "### #Crear un array con 6 valores espaciados linealmente entre 0 y 1\n"
      ]
    },
    {
      "cell_type": "code",
      "execution_count": null,
      "id": "5ba6f502",
      "metadata": {
        "id": "5ba6f502",
        "outputId": "8b2f83ef-8a53-4c41-c7ce-8fa05920e8cf"
      },
      "outputs": [
        {
          "name": "stdout",
          "output_type": "stream",
          "text": [
            "[0.  0.2 0.4 0.6 0.8 1. ]\n"
          ]
        }
      ],
      "source": [
        "#Código crear un array con 6 valores espaciados linealmente entre 0 y 1\n",
        "a = np.arange(0, 1.2, 0.2)\n",
        "print(a)"
      ]
    },
    {
      "cell_type": "markdown",
      "id": "90ed91a1",
      "metadata": {
        "id": "90ed91a1"
      },
      "source": [
        "# Operaciones Básicas"
      ]
    },
    {
      "cell_type": "markdown",
      "id": "b000074f",
      "metadata": {
        "id": "b000074f"
      },
      "source": [
        "### Realizar una suma, resta, multiplicación y división entre dos arrays"
      ]
    },
    {
      "cell_type": "code",
      "execution_count": null,
      "id": "ff348071",
      "metadata": {
        "id": "ff348071",
        "outputId": "4d39d5d9-79b5-4ff2-d61a-83fdd70412fd"
      },
      "outputs": [
        {
          "name": "stdout",
          "output_type": "stream",
          "text": [
            "La suma es:  [11  8 11]\n",
            "La resta es:  [-1  0 -7]\n",
            "La multiplicacion es:  [30 16 18]\n",
            "La division es:  [0.83333333 1.         0.22222222]\n"
          ]
        }
      ],
      "source": [
        "array_1 = np.array([5,4,2])\n",
        "array_2 = np.array([6,4,9])\n",
        "\n",
        "#Código realizar una suma, resta, multiplicación y división entre dos arrays\n",
        "\n",
        "suma = array_1 + array_2\n",
        "resta = array_1 - array_2\n",
        "multiplicacion = array_1 * array_2\n",
        "division = array_1 / array_2\n",
        "\n",
        "# Salida\n",
        "\n",
        "print(\"La suma es: \",suma)\n",
        "print(\"La resta es: \",resta)\n",
        "print(\"La multiplicacion es: \",multiplicacion)\n",
        "print(\"La division es: \",division)\n"
      ]
    },
    {
      "cell_type": "code",
      "execution_count": null,
      "id": "a270ae97",
      "metadata": {
        "id": "a270ae97",
        "outputId": "e11fbf8d-cc76-438a-fbda-3de70e82c552"
      },
      "outputs": [
        {
          "name": "stdout",
          "output_type": "stream",
          "text": [
            "64\n"
          ]
        }
      ],
      "source": [
        "#Calcular el producto punto de dos arrays\n",
        "pp = np.dot(array_1, array_2)\n",
        "print(pp)"
      ]
    },
    {
      "cell_type": "code",
      "execution_count": null,
      "id": "dddd8ba1",
      "metadata": {
        "id": "dddd8ba1",
        "outputId": "702c8b0a-a4ce-4b2e-a275-9f7f389d7f1d"
      },
      "outputs": [
        {
          "name": "stdout",
          "output_type": "stream",
          "text": [
            "[[1 2 3]]\n",
            "[[1]\n",
            " [2]\n",
            " [3]]\n"
          ]
        }
      ],
      "source": [
        "#Transponer un array\n",
        "\n",
        "a = np.array([[1, 2, 3]])\n",
        "print(a)\n",
        "t = a.transpose()\n",
        "print(t)\n"
      ]
    },
    {
      "cell_type": "markdown",
      "id": "5e44ba57",
      "metadata": {
        "id": "5e44ba57"
      },
      "source": [
        "# Operaciones Estadísticas"
      ]
    },
    {
      "cell_type": "code",
      "execution_count": null,
      "id": "7f3e6efd",
      "metadata": {
        "id": "7f3e6efd",
        "outputId": "dcab4d23-376d-451d-9e62-33b51cf17afd"
      },
      "outputs": [
        {
          "name": "stdout",
          "output_type": "stream",
          "text": [
            "La media es: 3.0\n",
            "La suma es: 15\n",
            "El valor mínimo es: 1\n",
            "El valor máximo es: 5\n"
          ]
        }
      ],
      "source": [
        "#Calcular la media, suma, valor mínimo y valor máximo de un array\n",
        "\n",
        "\n",
        "# Crear un array NumPy\n",
        "array_numeros = np.array([5, 2, 4, 1, 3])\n",
        "\n",
        "# Calcular la media\n",
        "media = array_numeros.mean()\n",
        "\n",
        "# Calcular la suma\n",
        "suma = array_numeros.sum()\n",
        "\n",
        "# Calcular el valor mínimo\n",
        "valor_minimo = array_numeros.min()\n",
        "\n",
        "# Calcular el valor máximo\n",
        "valor_maximo = array_numeros.max()\n",
        "\n",
        "\n",
        "# Mostrar los resultados\n",
        "print(\"La media es:\", media)\n",
        "print(\"La suma es:\", suma)\n",
        "print(\"El valor mínimo es:\", valor_minimo)\n",
        "print(\"El valor máximo es:\", valor_maximo)\n",
        "\n"
      ]
    },
    {
      "cell_type": "code",
      "execution_count": null,
      "id": "f6264d86",
      "metadata": {
        "id": "f6264d86",
        "outputId": "1b8b533c-03fd-4e85-c6a8-289b161ad026"
      },
      "outputs": [
        {
          "name": "stdout",
          "output_type": "stream",
          "text": [
            "Array original: [1 2 3 4 5 6]\n",
            "Array reshapeado: [[1 2 3]\n",
            " [4 5 6]]\n"
          ]
        }
      ],
      "source": [
        "#Cambiar la forma de un array \"reshape\"\n",
        "\n",
        "\n",
        "# Crear un array original\n",
        "array_original = np.array([1, 2, 3, 4, 5, 6])\n",
        "\n",
        "# Nueva forma deseada (2 filas y 3 columnas)\n",
        "array_reshapeado = array_original.reshape(2, 3)\n",
        "\n",
        "\n",
        "# Imprimir el array original y el reshapeado\n",
        "print(\"Array original:\", array_original)\n",
        "print(\"Array reshapeado:\", array_reshapeado)\n"
      ]
    },
    {
      "cell_type": "markdown",
      "id": "195c5f6d",
      "metadata": {
        "id": "195c5f6d"
      },
      "source": [
        "# Álgebra Lineal"
      ]
    },
    {
      "cell_type": "markdown",
      "id": "b920534e",
      "metadata": {
        "id": "b920534e"
      },
      "source": [
        "### Calcular el determinante de una matriz 2x2"
      ]
    },
    {
      "cell_type": "code",
      "execution_count": null,
      "id": "d01ce9f8",
      "metadata": {
        "id": "d01ce9f8",
        "outputId": "12445f76-3cb8-4b4f-d948-1c3bd62a13e7"
      },
      "outputs": [
        {
          "name": "stdout",
          "output_type": "stream",
          "text": [
            "[[1 2]\n",
            " [2 5]]\n",
            "1.0\n"
          ]
        }
      ],
      "source": [
        "nuevo_array = np.array([[1,2],[2,5]])\n",
        "print(nuevo_array)\n",
        "#Código para calcular el determinante de una matriz 2x2\n",
        "determinante = np.linalg.det(nuevo_array)\n",
        "print(determinante)"
      ]
    },
    {
      "cell_type": "markdown",
      "id": "b1325b2b",
      "metadata": {
        "id": "b1325b2b"
      },
      "source": [
        "### Calcular la matriz inversa de una matriz 3x3"
      ]
    },
    {
      "cell_type": "code",
      "execution_count": null,
      "id": "9782d614",
      "metadata": {
        "id": "9782d614",
        "outputId": "e460503d-06d9-4187-90a6-a8cb837274b4"
      },
      "outputs": [
        {
          "name": "stdout",
          "output_type": "stream",
          "text": [
            "[[ 70  80  90]\n",
            " [  4   5   6]\n",
            " [ 15  25 100]]\n",
            "[[ 0.17948718 -2.94871795  0.01538462]\n",
            " [-0.15897436  2.8974359  -0.03076923]\n",
            " [ 0.01282051 -0.28205128  0.01538462]]\n"
          ]
        }
      ],
      "source": [
        "# Definir la matriz 3x3\n",
        "a = np.array([[70, 80, 90], [4, 5, 6], [15, 25, 100]])\n",
        "print(a)\n",
        "\n",
        "# Calcular la matriz inversa\n",
        "i = np.linalg.inv(a)\n",
        "\n",
        "# Imprimir la matriz inversa\n",
        "print(i)\n"
      ]
    },
    {
      "cell_type": "markdown",
      "id": "98f0cfc8",
      "metadata": {
        "id": "98f0cfc8"
      },
      "source": [
        "### Calcular los valores propios y vectores propios de una matriz 4x4"
      ]
    },
    {
      "cell_type": "code",
      "execution_count": 7,
      "id": "07211323",
      "metadata": {
        "id": "07211323",
        "colab": {
          "base_uri": "https://localhost:8080/"
        },
        "outputId": "1ed51363-02c5-433b-9e97-85b4b1729676"
      },
      "outputs": [
        {
          "output_type": "stream",
          "name": "stdout",
          "text": [
            "[[ 1  2  3  4]\n",
            " [ 5  6  7  8]\n",
            " [ 9 10 11 12]\n",
            " [13 14 15 16]]\n",
            "Valores propios: [ 3.62093727e+01 -2.20937271e+00 -2.62410379e-15 -9.51420961e-17]\n",
            "Vectores propios:\n",
            "Vector propio 1: [-0.15115432 -0.72704996 -0.47688035 -0.07702174]\n",
            "Vector propio 2: [-0.34923733 -0.28320876  0.83665151 -0.30149603]\n",
            "Vector propio 3: [-0.54732033  0.16063243 -0.24266197  0.83405728]\n",
            "Vector propio 4: [-0.74540333  0.60447363 -0.11710919 -0.45553951]\n"
          ]
        }
      ],
      "source": [
        "# Definir la matriz 4x4\n",
        "matriz_4x4 = np.array([[1, 2, 3, 4], [5, 6, 7, 8], [9, 10, 11, 12], [13, 14, 15, 16]])\n",
        "print (matriz_4x4)\n",
        "\n",
        "# Calcular valores propios y vectores propios\n",
        "autovalores, autovectores = np.linalg.eig(matriz_4x4)\n",
        "\n",
        "# Separar valores propios y vectores propios\n",
        " # Parte real de los valores propios complejos\n",
        "  # Parte real de los vectores propios complejos\n",
        "\n",
        "# Imprimir resultados\n",
        "print(\"Valores propios:\", autovalores)\n",
        "print(\"Vectores propios:\")\n",
        "for i in range(len(autovectores)):\n",
        "    print(f\"Vector propio {i+1}:\", autovectores[i])\n"
      ]
    },
    {
      "cell_type": "markdown",
      "id": "efd4320a",
      "metadata": {
        "id": "efd4320a"
      },
      "source": [
        "# Funciones Universales"
      ]
    },
    {
      "cell_type": "code",
      "execution_count": 12,
      "id": "b6104243",
      "metadata": {
        "id": "b6104243",
        "colab": {
          "base_uri": "https://localhost:8080/"
        },
        "outputId": "a8a883de-1782-47c9-9838-bacd3ef47999"
      },
      "outputs": [
        {
          "output_type": "stream",
          "name": "stdout",
          "text": [
            "[9.99999833e-04 1.00000000e+00 1.22464680e-16]\n",
            "[ 9.999995e-01  6.123234e-17 -1.000000e+00]\n",
            "[ 1.0010005   4.81047738 23.14069263]\n",
            "[-6.90775528  0.45158271  1.14472989]\n"
          ]
        }
      ],
      "source": [
        "# Crear un array con ángulos\n",
        "array_angulos = np.array([0.001, np.pi/2, np.pi])\n",
        "\n",
        "# Calcular el seno de los ángulos\n",
        "print(np.sin(array_angulos))\n",
        "\n",
        "# Calcular el coseno de los ángulos\n",
        "print(np.cos(array_angulos))\n",
        "\n",
        "# Calcular la exponencial de los ángulos\n",
        "print(np.exp(array_angulos))\n",
        "\n",
        "# Calcular el logaritmo natural de los ángulos\n",
        "print(np.log(array_angulos))\n"
      ]
    },
    {
      "cell_type": "code",
      "execution_count": 45,
      "id": "eadbf298",
      "metadata": {
        "id": "eadbf298",
        "colab": {
          "base_uri": "https://localhost:8080/"
        },
        "outputId": "96f0c04c-57e4-4097-96f7-8b2a8b2ef26b"
      },
      "outputs": [
        {
          "output_type": "stream",
          "name": "stdout",
          "text": [
            "array_2d = \n",
            "[[1 2 3]\n",
            " [4 5 6]\n",
            " [7 8 9]]\n",
            "a =  [1 2 3]\n",
            "b =  [3 6 9]\n",
            "c =  [4 5]\n"
          ]
        }
      ],
      "source": [
        "#Realizar indexación y slicing en un array 2D\n",
        "array_2d = np.array([[1, 2, 3], [4, 5, 6], [7, 8, 9]])\n",
        "print('array_2d = ')\n",
        "print(array_2d)\n",
        "\n",
        "# Obtener la primera fila del array\n",
        "a = array_2d[0]\n",
        "\n",
        "# Obtener la última columna del array\n",
        "  # [3, 6, 9]\n",
        "b = array_2d[:3, 2]\n",
        "\n",
        "# Obtener una submatriz que contiene la segunda fila y las dos primeras columnas\n",
        "  # [4, 5]\n",
        "c = array_2d[1, :2]\n",
        "\n",
        "# Imprimir los subconjuntos de datos extraídos\n",
        "print('a = ', a)\n",
        "print('b = ', b)\n",
        "print('c = ', c)"
      ]
    },
    {
      "cell_type": "markdown",
      "id": "38fb3e51",
      "metadata": {
        "id": "38fb3e51"
      },
      "source": [
        "# Generación de Números Aleatorios"
      ]
    },
    {
      "cell_type": "code",
      "execution_count": 62,
      "id": "4c9439b1",
      "metadata": {
        "id": "4c9439b1",
        "colab": {
          "base_uri": "https://localhost:8080/"
        },
        "outputId": "ebc1b5cb-299b-46ba-b1e5-5ad6d4abfbb6"
      },
      "outputs": [
        {
          "output_type": "stream",
          "name": "stdout",
          "text": [
            "[45  6 21 52 66 67 58 75 12 12]\n"
          ]
        }
      ],
      "source": [
        "#Generar un array de 10 números enteros aleatorios entre 1 y 100\n",
        "a = np.random.randint(1, 100, 10)\n",
        "print(a)\n"
      ]
    },
    {
      "cell_type": "code",
      "execution_count": 63,
      "id": "7b67e54f",
      "metadata": {
        "id": "7b67e54f",
        "colab": {
          "base_uri": "https://localhost:8080/"
        },
        "outputId": "bea9d3fa-8964-4d36-fcbf-2a25c06869bf"
      },
      "outputs": [
        {
          "output_type": "stream",
          "name": "stdout",
          "text": [
            "[[0.46728771 0.28171636 0.11250772]\n",
            " [0.96921427 0.60322588 0.2625489 ]]\n"
          ]
        }
      ],
      "source": [
        "#Generar una matriz 2x3 con números aleatorios uniformemente distribuidos entre 0 y 1\n",
        "a = np.random.rand(2, 3)\n",
        "print(a)"
      ]
    },
    {
      "cell_type": "code",
      "execution_count": 65,
      "id": "bc4519a1",
      "metadata": {
        "id": "bc4519a1",
        "colab": {
          "base_uri": "https://localhost:8080/"
        },
        "outputId": "9f755e3c-e4bc-427f-8872-1d7786184e08"
      },
      "outputs": [
        {
          "output_type": "stream",
          "name": "stdout",
          "text": [
            "[ 0.7352472  -0.23177268  0.90730821 -0.23269236 -0.59490186]\n"
          ]
        }
      ],
      "source": [
        "#Generar un array de 5 números aleatorios con distribución normal (media 0, desviación estándar 1)\n",
        "\n",
        "a = np.random.normal(0, 1, 5)\n",
        "print(a)"
      ]
    }
  ],
  "metadata": {
    "kernelspec": {
      "display_name": "Python 3 (ipykernel)",
      "language": "python",
      "name": "python3"
    },
    "language_info": {
      "codemirror_mode": {
        "name": "ipython",
        "version": 3
      },
      "file_extension": ".py",
      "mimetype": "text/x-python",
      "name": "python",
      "nbconvert_exporter": "python",
      "pygments_lexer": "ipython3",
      "version": "3.12.2"
    },
    "colab": {
      "provenance": []
    }
  },
  "nbformat": 4,
  "nbformat_minor": 5
}