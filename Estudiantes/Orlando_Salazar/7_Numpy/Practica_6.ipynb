{
 "cells": [
  {
   "cell_type": "markdown",
   "id": "3127ae9d",
   "metadata": {},
   "source": [
    "# Creación de Arrays"
   ]
  },
  {
   "cell_type": "markdown",
   "id": "4075b2ab",
   "metadata": {},
   "source": [
    "### Crear un array a partir de una lista"
   ]
  },
  {
   "cell_type": "code",
   "execution_count": 2,
   "id": "98fafc10",
   "metadata": {},
   "outputs": [
    {
     "data": {
      "text/plain": [
       "[1, 2, 3, 4, 5]"
      ]
     },
     "execution_count": 2,
     "metadata": {},
     "output_type": "execute_result"
    }
   ],
   "source": [
    "import numpy as np\n",
    "\n",
    "lista = [1, 2, 3, 4, 5]\n",
    "\n",
    "#Respuesta\n",
    "lista"
   ]
  },
  {
   "cell_type": "markdown",
   "id": "0e8e40b3",
   "metadata": {},
   "source": [
    "### Crear un array de ceros de tamaño 5x5"
   ]
  },
  {
   "cell_type": "code",
   "execution_count": 4,
   "id": "043e0131",
   "metadata": {},
   "outputs": [
    {
     "data": {
      "text/plain": [
       "array([[0., 0., 0., 0., 0.],\n",
       "       [0., 0., 0., 0., 0.],\n",
       "       [0., 0., 0., 0., 0.],\n",
       "       [0., 0., 0., 0., 0.],\n",
       "       [0., 0., 0., 0., 0.]])"
      ]
     },
     "execution_count": 4,
     "metadata": {},
     "output_type": "execute_result"
    }
   ],
   "source": [
    "#Código crear un array de ceros de tamaño 5x5\n",
    "arr_ceros = np.zeros((5,5)) #Crea arreglo 5x5 de ceros\n",
    "arr_ceros"
   ]
  },
  {
   "cell_type": "markdown",
   "id": "a640f233",
   "metadata": {},
   "source": [
    "### Crear un array de unos de tamaño 3x3"
   ]
  },
  {
   "cell_type": "code",
   "execution_count": 6,
   "id": "ac2b7096",
   "metadata": {},
   "outputs": [
    {
     "data": {
      "text/plain": [
       "array([[1., 1., 1.],\n",
       "       [1., 1., 1.],\n",
       "       [1., 1., 1.]])"
      ]
     },
     "execution_count": 6,
     "metadata": {},
     "output_type": "execute_result"
    }
   ],
   "source": [
    "#Código crear un array de unos de tamaño 3x3\n",
    "arr_unos = np.ones((3,3)) #Crea arreglo 3x3 de unos\n",
    "arr_unos"
   ]
  },
  {
   "cell_type": "markdown",
   "id": "5ff1ca1e",
   "metadata": {},
   "source": [
    "### Crear un array con valores espaciados uniformemente de 0 a 9"
   ]
  },
  {
   "cell_type": "code",
   "execution_count": 22,
   "id": "60cefb4b",
   "metadata": {},
   "outputs": [
    {
     "data": {
      "text/plain": [
       "array([1.77592844, 3.98588993, 3.01817258, 6.22820258, 8.81730004])"
      ]
     },
     "execution_count": 22,
     "metadata": {},
     "output_type": "execute_result"
    }
   ],
   "source": [
    "#Código rear un array con valores espaciados uniformemente de 0 a 9\n",
    "arr = np.random.uniform(10, size=5) \n",
    "arr"
   ]
  },
  {
   "cell_type": "markdown",
   "id": "af014afb",
   "metadata": {},
   "source": [
    "### #Crear un array con 6 valores espaciados linealmente entre 0 y 1\n"
   ]
  },
  {
   "cell_type": "code",
   "execution_count": 16,
   "id": "5ba6f502",
   "metadata": {},
   "outputs": [
    {
     "data": {
      "text/plain": [
       "array([0.6719481 , 0.68500229, 0.36329162, 0.85094984, 0.39627677,\n",
       "       0.45024012])"
      ]
     },
     "execution_count": 16,
     "metadata": {},
     "output_type": "execute_result"
    }
   ],
   "source": [
    "#Código crear un array con 6 valores espaciados linealmente entre 0 y 1\n",
    "arr = np.random.rand(6)\n",
    "arr"
   ]
  },
  {
   "cell_type": "markdown",
   "id": "90ed91a1",
   "metadata": {},
   "source": [
    "# Operaciones Básicas"
   ]
  },
  {
   "cell_type": "markdown",
   "id": "b000074f",
   "metadata": {},
   "source": [
    "### Realizar una suma, resta, multiplicación y división entre dos arrays"
   ]
  },
  {
   "cell_type": "code",
   "execution_count": 10,
   "id": "ff348071",
   "metadata": {},
   "outputs": [
    {
     "name": "stdout",
     "output_type": "stream",
     "text": [
      "La suma es:  [11  8 11]\n",
      "La resta es:  [-1  0 -7]\n",
      "La multiplicacion es:  [30 16 18]\n",
      "La division es:  [0.83333333 1.         0.22222222]\n"
     ]
    }
   ],
   "source": [
    "array_1 = np.array([5,4,2])\n",
    "array_2 = np.array([6,4,9])\n",
    "\n",
    "#Código realizar una suma, resta, multiplicación y división entre dos arrays\n",
    "suma = np.add(array_1,array_2) #Suma de arreglos\n",
    "resta = np.subtract(array_1,array_2) #Resta de arreglos\n",
    "multiplicacion = array_1 * array_2 #Multiplicacion de arreglos\n",
    "division = array_1 / array_2 #Division de arreglos\n",
    "\n",
    "# Salida\n",
    "\n",
    "print(\"La suma es: \",suma)\n",
    "print(\"La resta es: \",resta)\n",
    "print(\"La multiplicacion es: \",multiplicacion)\n",
    "print(\"La division es: \",division)\n"
   ]
  },
  {
   "cell_type": "code",
   "execution_count": 47,
   "id": "a270ae97",
   "metadata": {},
   "outputs": [
    {
     "name": "stdout",
     "output_type": "stream",
     "text": [
      "-50\n"
     ]
    }
   ],
   "source": [
    "#Calcular el producto punto de dos arrays\n",
    "a = [5, 10]\n",
    "b = [4, -7]\n",
    "dot_product = np.dot(a, b) #producto punto de arrays a y b\n",
    "\n",
    "print(dot_product)"
   ]
  },
  {
   "cell_type": "code",
   "execution_count": 23,
   "id": "dddd8ba1",
   "metadata": {},
   "outputs": [
    {
     "data": {
      "text/plain": [
       "array([[7, 4],\n",
       "       [8, 5],\n",
       "       [9, 6]])"
      ]
     },
     "execution_count": 23,
     "metadata": {},
     "output_type": "execute_result"
    }
   ],
   "source": [
    "#Transponer un array\n",
    "arr = np.array([[7,8,9],[4,5,6]])\n",
    "arr.T #transpone arreglos"
   ]
  },
  {
   "cell_type": "markdown",
   "id": "5e44ba57",
   "metadata": {},
   "source": [
    "# Operaciones Estadísticas"
   ]
  },
  {
   "cell_type": "code",
   "execution_count": 42,
   "id": "7f3e6efd",
   "metadata": {},
   "outputs": [
    {
     "name": "stdout",
     "output_type": "stream",
     "text": [
      "50.5\n",
      "5050\n",
      "1\n",
      "100\n"
     ]
    }
   ],
   "source": [
    "#Calcular la media, suma, valor mínimo y valor máximo de un array\n",
    "\n",
    "arr = np.arange(1,101) #Crea arreglo\n",
    "media = arr.mean() #Calcula media de arreglo\n",
    "suma = arr.sum() #Suma arreglo\n",
    "minimo = arr.min() #Calcula minumo del arreglo\n",
    "maximo = arr.max() #calcula maximo del arreglo\n",
    "\n",
    "print(media)\n",
    "print(suma)\n",
    "print(minimo)\n",
    "print(maximo)"
   ]
  },
  {
   "cell_type": "code",
   "execution_count": 43,
   "id": "f6264d86",
   "metadata": {},
   "outputs": [
    {
     "data": {
      "text/plain": [
       "array([[  1,   2,   3,   4,   5,   6,   7,   8,   9,  10,  11,  12,  13,\n",
       "         14,  15,  16,  17,  18,  19,  20],\n",
       "       [ 21,  22,  23,  24,  25,  26,  27,  28,  29,  30,  31,  32,  33,\n",
       "         34,  35,  36,  37,  38,  39,  40],\n",
       "       [ 41,  42,  43,  44,  45,  46,  47,  48,  49,  50,  51,  52,  53,\n",
       "         54,  55,  56,  57,  58,  59,  60],\n",
       "       [ 61,  62,  63,  64,  65,  66,  67,  68,  69,  70,  71,  72,  73,\n",
       "         74,  75,  76,  77,  78,  79,  80],\n",
       "       [ 81,  82,  83,  84,  85,  86,  87,  88,  89,  90,  91,  92,  93,\n",
       "         94,  95,  96,  97,  98,  99, 100]])"
      ]
     },
     "execution_count": 43,
     "metadata": {},
     "output_type": "execute_result"
    }
   ],
   "source": [
    "#Cambiar la forma de un array \"reshape\"\n",
    "arr = np.arange(1,101).reshape(5,20)\n",
    "arr"
   ]
  },
  {
   "cell_type": "markdown",
   "id": "195c5f6d",
   "metadata": {},
   "source": [
    "# Álgebra Lineal"
   ]
  },
  {
   "cell_type": "markdown",
   "id": "b920534e",
   "metadata": {},
   "source": [
    "### Calcular el determinante de una matriz 2x2"
   ]
  },
  {
   "cell_type": "code",
   "execution_count": 44,
   "id": "d01ce9f8",
   "metadata": {},
   "outputs": [
    {
     "name": "stdout",
     "output_type": "stream",
     "text": [
      "1.0\n"
     ]
    }
   ],
   "source": [
    "nuevo_array = np.array([[1,2],[2,5]])\n",
    "\n",
    "#Código para calcular el determinante de una matriz 2x2\n",
    "determinante = np.linalg.det(nuevo_array)\n",
    "#print(determinante)\n",
    "print(determinante)"
   ]
  },
  {
   "cell_type": "markdown",
   "id": "b1325b2b",
   "metadata": {},
   "source": [
    "### Calcular la matriz inversa de una matriz 3x3"
   ]
  },
  {
   "cell_type": "code",
   "execution_count": 45,
   "id": "9782d614",
   "metadata": {},
   "outputs": [
    {
     "name": "stdout",
     "output_type": "stream",
     "text": [
      "[[-0.6  1.   0.8]\n",
      " [ 1.  -1.  -1. ]\n",
      " [ 1.2 -1.  -1.6]]\n"
     ]
    }
   ],
   "source": [
    "# Definir la matriz 3x3\n",
    "matriz = np.array([[3, 4, -1], [2, 0, 1], [1, 3, -2]])\n",
    "\n",
    "# Calcular la matriz inversa\n",
    "matriz_inversa = np.linalg.inv(matriz)\n",
    "\n",
    "# Imprimir la matriz inversa\n",
    "print(matriz_inversa)\n"
   ]
  },
  {
   "cell_type": "markdown",
   "id": "98f0cfc8",
   "metadata": {},
   "source": [
    "### Calcular los valores propios y vectores propios de una matriz 4x4"
   ]
  },
  {
   "cell_type": "code",
   "execution_count": 15,
   "id": "07211323",
   "metadata": {},
   "outputs": [
    {
     "name": "stdout",
     "output_type": "stream",
     "text": [
      "Valores propios: [ 3.62093727e+01 -2.20937271e+00 -2.62410379e-15 -9.51420961e-17]\n",
      "Vectores propios:\n",
      "Vector propio 1: [-0.15115432 -0.72704996 -0.47688035 -0.07702174]\n",
      "Vector propio 2: [-0.34923733 -0.28320876  0.83665151 -0.30149603]\n",
      "Vector propio 3: [-0.54732033  0.16063243 -0.24266197  0.83405728]\n",
      "Vector propio 4: [-0.74540333  0.60447363 -0.11710919 -0.45553951]\n"
     ]
    }
   ],
   "source": [
    "\n",
    "# Definir la matriz 4x4\n",
    "matriz_4x4 = np.array([[1, 2, 3, 4], [5, 6, 7, 8], [9, 10, 11, 12], [13, 14, 15, 16]])\n",
    "\n",
    "# Calcular valores propios y vectores propios\n",
    "\n",
    "autovalores, autovectores = np.linalg.eig(matriz_4x4)\n",
    "\n",
    "\n",
    "# Separar valores propios y vectores propios\n",
    " # Parte real de los valores propios complejos\n",
    "  # Parte real de los vectores propios complejos\n",
    "\n",
    "# Imprimir resultados\n",
    "\n",
    "print(\"Valores propios:\", autovalores)\n",
    "print(\"Vectores propios:\")\n",
    "for i in range(len(autovectores)):\n",
    "    print(f\"Vector propio {i+1}:\", autovectores[i])\n"
   ]
  },
  {
   "cell_type": "markdown",
   "id": "efd4320a",
   "metadata": {},
   "source": [
    "# Funciones Universales"
   ]
  },
  {
   "cell_type": "code",
   "execution_count": 16,
   "id": "b6104243",
   "metadata": {},
   "outputs": [
    {
     "name": "stdout",
     "output_type": "stream",
     "text": [
      "[0.0000000e+00 1.0000000e+00 1.2246468e-16]\n",
      "[ 1.000000e+00  6.123234e-17 -1.000000e+00]\n",
      "[ 1.          4.81047738 23.14069263]\n",
      "[      -inf 0.45158271 1.14472989]\n"
     ]
    },
    {
     "name": "stderr",
     "output_type": "stream",
     "text": [
      "C:\\Users\\salazaor\\AppData\\Local\\Temp\\ipykernel_19992\\2224688277.py:14: RuntimeWarning: divide by zero encountered in log\n",
      "  log_nat = np.log(array_angulos)\n"
     ]
    }
   ],
   "source": [
    "# Crear un array con ángulos\n",
    "array_angulos = np.array([0, np.pi/2, np.pi])\n",
    "\n",
    "# Calcular el seno de los ángulos\n",
    "seno = np.sin(array_angulos)\n",
    "\n",
    "# Calcular el coseno de los ángulos\n",
    "coseno = np.cos(array_angulos)\n",
    "\n",
    "# Calcular la exponencial de los ángulos\n",
    "exponencial = np.exp(array_angulos)\n",
    "\n",
    "# Calcular el logaritmo natural de los ángulos\n",
    "log_nat = np.log(array_angulos)\n",
    "\n",
    "print(seno)\n",
    "print(coseno)\n",
    "print(exponencial)\n",
    "print(log_nat)\n"
   ]
  },
  {
   "cell_type": "code",
   "execution_count": 8,
   "id": "eadbf298",
   "metadata": {},
   "outputs": [
    {
     "name": "stdout",
     "output_type": "stream",
     "text": [
      "[1 2 3]\n",
      "[3 6 9]\n",
      "[4 5]\n"
     ]
    }
   ],
   "source": [
    "#Realizar indexación y slicing en un array 2D\n",
    "\n",
    "# Crear un array NumPy bidimensional\n",
    "array_2d = np.array([[1, 2, 3], [4, 5, 6], [7, 8, 9]])\n",
    "\n",
    "# Obtener la primera fila del array\n",
    "primera_fila = array_2d[0] \n",
    "\n",
    "# Obtener la última columna del array\n",
    "  # [3, 6, 9]\n",
    "ultima_columna = array_2d[:, -1]\n",
    "\n",
    "# Obtener una submatriz que contiene la segunda fila y las dos primeras columnas\n",
    "  # [4, 5]\n",
    "submatriz = array_2d[1, :2]\n",
    "\n",
    "# Imprimir los subconjuntos de datos extraídos\n",
    "print(primera_fila)\n",
    "print(ultima_columna)\n",
    "print(submatriz)"
   ]
  },
  {
   "cell_type": "markdown",
   "id": "38fb3e51",
   "metadata": {},
   "source": [
    "# Generación de Números Aleatorios"
   ]
  },
  {
   "cell_type": "code",
   "execution_count": 10,
   "id": "4c9439b1",
   "metadata": {},
   "outputs": [
    {
     "name": "stdout",
     "output_type": "stream",
     "text": [
      "[34 38 25 21 24 55 93 62 78 12]\n"
     ]
    }
   ],
   "source": [
    "#Generar un array de 10 números enteros aleatorios entre 1 y 100\n",
    "array_10 = np.random.randint(1, 101, size=10)\n",
    "\n",
    "print(array_10)"
   ]
  },
  {
   "cell_type": "code",
   "execution_count": 11,
   "id": "7b67e54f",
   "metadata": {},
   "outputs": [
    {
     "name": "stdout",
     "output_type": "stream",
     "text": [
      "[[0.97936982 0.28558443 0.80102015]\n",
      " [0.3720089  0.27862063 0.57592006]]\n"
     ]
    }
   ],
   "source": [
    "#Generar una matriz 2x3 con números aleatorios uniformemente distribuidos entre 0 y 1\n",
    "matriz_uniforme = np.random.uniform(low=0, high=1, size=(2, 3))\n",
    "\n",
    "print(matriz_uniforme)"
   ]
  },
  {
   "cell_type": "code",
   "execution_count": 12,
   "id": "bc4519a1",
   "metadata": {},
   "outputs": [
    {
     "name": "stdout",
     "output_type": "stream",
     "text": [
      "[ 0.26185378  0.3827334  -0.80571547  0.5235022   0.07578002]\n"
     ]
    }
   ],
   "source": [
    "#Generar un array de 5 números aleatorios con distribución normal (media 0, desviación estándar 1)\n",
    "datos_normal = np.random.normal(0, 1, 5)\n",
    "\n",
    "print(datos_normal)\n"
   ]
  }
 ],
 "metadata": {
  "kernelspec": {
   "display_name": "Python 3 (ipykernel)",
   "language": "python",
   "name": "python3"
  },
  "language_info": {
   "codemirror_mode": {
    "name": "ipython",
    "version": 3
   },
   "file_extension": ".py",
   "mimetype": "text/x-python",
   "name": "python",
   "nbconvert_exporter": "python",
   "pygments_lexer": "ipython3",
   "version": "3.12.2"
  }
 },
 "nbformat": 4,
 "nbformat_minor": 5
}
