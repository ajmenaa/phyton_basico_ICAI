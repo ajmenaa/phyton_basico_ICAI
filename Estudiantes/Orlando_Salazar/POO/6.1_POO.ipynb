{
 "cells": [
  {
   "cell_type": "code",
   "execution_count": 1,
   "metadata": {},
   "outputs": [
    {
     "data": {
      "text/plain": [
       "int"
      ]
     },
     "execution_count": 1,
     "metadata": {},
     "output_type": "execute_result"
    }
   ],
   "source": [
    "x = 25\n",
    "type (x)"
   ]
  },
  {
   "cell_type": "code",
   "execution_count": 2,
   "metadata": {},
   "outputs": [
    {
     "name": "stdout",
     "output_type": "stream",
     "text": [
      "<class 'int'>\n"
     ]
    }
   ],
   "source": [
    "print(type(x))\n"
   ]
  },
  {
   "cell_type": "code",
   "execution_count": 3,
   "metadata": {},
   "outputs": [
    {
     "name": "stdout",
     "output_type": "stream",
     "text": [
      "<class 'list'>\n"
     ]
    }
   ],
   "source": [
    "lista = ['a','b','c','d','e']\n",
    "print(type(lista))\n",
    "\n",
    "lista"
   ]
  },
  {
   "cell_type": "code",
   "execution_count": 5,
   "metadata": {},
   "outputs": [
    {
     "name": "stdout",
     "output_type": "stream",
     "text": [
      "1713572692.7563863\n",
      "<class 'float'>\n"
     ]
    }
   ],
   "source": [
    "import time\n",
    "\n",
    "clock = time.time()\n",
    "print(clock)\n",
    "print(type(clock))"
   ]
  },
  {
   "cell_type": "code",
   "execution_count": 7,
   "metadata": {},
   "outputs": [
    {
     "name": "stdout",
     "output_type": "stream",
     "text": [
      "['a', 'b', 'c', 'd', 'e']\n"
     ]
    },
    {
     "data": {
      "text/plain": [
       "'e'"
      ]
     },
     "execution_count": 7,
     "metadata": {},
     "output_type": "execute_result"
    }
   ],
   "source": [
    "print(lista)\n",
    "\n",
    "lista.pop()"
   ]
  },
  {
   "cell_type": "code",
   "execution_count": 9,
   "metadata": {},
   "outputs": [],
   "source": [
    "class animal: #Mi primera clase\n",
    "    pass\n",
    "\n",
    "perro = animal()\n",
    "\n"
   ]
  },
  {
   "cell_type": "code",
   "execution_count": 10,
   "metadata": {},
   "outputs": [
    {
     "name": "stdout",
     "output_type": "stream",
     "text": [
      "<class '__main__.animal'>\n"
     ]
    }
   ],
   "source": [
    "print(type(perro)) #Objeto de tipo animal"
   ]
  },
  {
   "cell_type": "code",
   "execution_count": 12,
   "metadata": {},
   "outputs": [
    {
     "name": "stdout",
     "output_type": "stream",
     "text": [
      "False\n",
      "True\n"
     ]
    }
   ],
   "source": [
    "gato = animal() # otro objeto de tipo animal\n",
    "mascota = perro\n",
    "\n",
    "print(perro == gato)\n",
    "print(perro == mascota)\n"
   ]
  },
  {
   "cell_type": "code",
   "execution_count": 13,
   "metadata": {},
   "outputs": [
    {
     "name": "stdout",
     "output_type": "stream",
     "text": [
      "2119719777344\n",
      "2119719776240\n",
      "2119719777344\n"
     ]
    }
   ],
   "source": [
    "print(id(perro))\n",
    "print(id(gato))\n",
    "print(id(mascota))"
   ]
  },
  {
   "cell_type": "code",
   "execution_count": 21,
   "metadata": {},
   "outputs": [],
   "source": [
    "class animal:\n",
    "    \"\"\"\n",
    "    Es la clase animal, plantilla\n",
    "    \"\"\"\n",
    "    def __init__(self, p_nombre, edad, especie):\n",
    "        \"\"\"\n",
    "        El constructor de la clase animal\n",
    "        \"\"\"\n",
    "        self.nombre = p_nombre\n",
    "        self.edad =  edad\n",
    "        self.especie = especie\n",
    "    def comer(self):\n",
    "        print(f\"El {self.nombre} esta comiendo\")\n",
    "    "
   ]
  },
  {
   "cell_type": "code",
   "execution_count": 20,
   "metadata": {},
   "outputs": [
    {
     "name": "stdout",
     "output_type": "stream",
     "text": [
      "<__main__.animal object at 0x000001ED89425250>\n",
      "El Bobi esta comiendo\n",
      "Bobi\n"
     ]
    }
   ],
   "source": [
    "perro = animal('Bobi',7,'Daschhund')\n",
    "print(perro)\n",
    "perro.comer()\n",
    "print(perro.nombre)"
   ]
  },
  {
   "cell_type": "code",
   "execution_count": 24,
   "metadata": {},
   "outputs": [],
   "source": [
    "class Ave(animal):\n",
    "    \"\"\"\n",
    "    Clase se hereda de animal para representar un ave\n",
    "    \"\"\"\n",
    "    def __init__(self, nombre, especie, edad, puede_volar):\n",
    "        \"\"\"\n",
    "        El constructor de la clase ave\n",
    "        \"\"\"\n",
    "        super().__init__(nombre,especie,edad)\n",
    "        self.puede_volar = puede_volar\n",
    "    def volar(self):\n",
    "        if self.puede_volar:\n",
    "            print(f'{self.nombre} esta volando')\n",
    "        else:\n",
    "            print(f'{self.nombre} no puede volar')"
   ]
  },
  {
   "cell_type": "code",
   "execution_count": 25,
   "metadata": {},
   "outputs": [
    {
     "name": "stdout",
     "output_type": "stream",
     "text": [
      "El loro esta comiendo\n",
      "loro esta volando\n"
     ]
    }
   ],
   "source": [
    "loro = Ave('loro','Guacamayo',5,True)\n",
    "\n",
    "loro.comer()\n",
    "loro.volar()\n"
   ]
  }
 ],
 "metadata": {
  "kernelspec": {
   "display_name": "Python 3",
   "language": "python",
   "name": "python3"
  },
  "language_info": {
   "codemirror_mode": {
    "name": "ipython",
    "version": 3
   },
   "file_extension": ".py",
   "mimetype": "text/x-python",
   "name": "python",
   "nbconvert_exporter": "python",
   "pygments_lexer": "ipython3",
   "version": "3.12.2"
  }
 },
 "nbformat": 4,
 "nbformat_minor": 2
}
