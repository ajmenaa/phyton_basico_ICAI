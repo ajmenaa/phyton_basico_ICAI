{
  "cells": [
    {
      "cell_type": "markdown",
      "metadata": {
        "id": "view-in-github",
        "colab_type": "text"
      },
      "source": [
        "<a href=\"https://colab.research.google.com/github/ajmenaa/phyton_basico_ICAI/blob/Daniela_Barrios/Practica_2_Sesion_3.ipynb\" target=\"_parent\"><img src=\"https://colab.research.google.com/assets/colab-badge.svg\" alt=\"Open In Colab\"/></a>"
      ]
    },
    {
      "cell_type": "markdown",
      "metadata": {
        "id": "Qd1yKVjFLjZF"
      },
      "source": [
        "# Práctica 2 Sesión 3\n",
        "## Lista Números <Escritura - Lectura>"
      ]
    },
    {
      "cell_type": "markdown",
      "metadata": {
        "id": "-kKrvLQJLjZO"
      },
      "source": [
        "\n",
        "\n",
        "### NOMBRE: **DANIELA BARRIOS LEITON**"
      ]
    },
    {
      "cell_type": "markdown",
      "metadata": {
        "id": "X89365gALjZO"
      },
      "source": [
        "### Explicación detallada del código para escribir y leer datos en un archivo:\n",
        "**Introducción:**\n",
        "\n",
        "Este código te permite escribir y leer datos en un archivo de texto plano (.txt) utilizando Python. Antes de comenzar, es importante que tengas conocimientos básicos sobre cómo escribir datos en un archivo.\n",
        "\n",
        "#### Escribir datos en un archivo:\n",
        "\n",
        "1. Modo Append (Agregar):\n",
        "\n",
        "El modo 'a' se utiliza para agregar contenido al final del archivo sin borrar el contenido existente."
      ]
    },
    {
      "cell_type": "code",
      "execution_count": null,
      "metadata": {
        "id": "izJHKoZPLjZP"
      },
      "outputs": [],
      "source": [
        "with open('datos.txt', 'a') as archivo:\n",
        "  archivo.write('Nueva Línea\\n')"
      ]
    },
    {
      "cell_type": "markdown",
      "metadata": {
        "id": "lqtgsXCPLjZP"
      },
      "source": [
        "> En este caso, se abre el archivo **datos.txt** en modo **'a'** y se escribe la cadena **'Nueva Línea\\n'** al final del archivo."
      ]
    },
    {
      "cell_type": "markdown",
      "metadata": {
        "id": "QZRcrQBZLjZP"
      },
      "source": [
        "2. Modo Write (Escritura):\n",
        "\n",
        "El modo 'w' se utiliza para sobreescribir el contenido del archivo."
      ]
    },
    {
      "cell_type": "code",
      "execution_count": null,
      "metadata": {
        "id": "fppBtLPdLjZQ"
      },
      "outputs": [],
      "source": [
        "f = open(\"datos.txt\", \"w\")\n",
        "f.write(\"Le caí encima a la información\")\n",
        "f.close()"
      ]
    },
    {
      "cell_type": "markdown",
      "metadata": {
        "id": "dZnotNTGLjZQ"
      },
      "source": [
        "> En este caso, se abre el archivo **datos.txt** en modo **'w'** y se escribe la cadena **'Le caí encima a la información'**. Esto sobrescribe cualquier contenido que ya existiera en el archivo."
      ]
    },
    {
      "cell_type": "markdown",
      "metadata": {
        "id": "TiR00XV8LjZQ"
      },
      "source": [
        "3. Consideraciones:\n",
        "\n",
        "**Directorios:** Los directorios no pueden tener espacios, tildes ni estar en OneDrive o iCloud.\n",
        "\n",
        "Modos de apertura:\n",
        "- **'a':** Agregar al final del archivo.\n",
        "- **'w':** Sobrescribir el contenido del archivo.\n",
        "- **'r':** Leer el contenido del archivo.\n",
        "\n",
        "\n",
        "#### Leer datos de un archivo:"
      ]
    },
    {
      "cell_type": "code",
      "execution_count": null,
      "metadata": {
        "id": "3mXWfFg1LjZQ",
        "outputId": "c0e4897b-9fc7-406c-e1cb-8a72fe77bde6"
      },
      "outputs": [
        {
          "name": "stdout",
          "output_type": "stream",
          "text": [
            "Le caí encima a la información\n"
          ]
        }
      ],
      "source": [
        "archivo = open(\"datos.txt\", \"r\")\n",
        "contenido = archivo.read()\n",
        "archivo.close()\n",
        "print(contenido)"
      ]
    },
    {
      "cell_type": "markdown",
      "metadata": {
        "id": "Ys32zKAjLjZQ"
      },
      "source": [
        "> En este caso, se abre el archivo **datos.txt** en modo **'r'** y se lee su contenido en la variable contenido. Finalmente, se imprime el contenido en la pantalla."
      ]
    },
    {
      "cell_type": "markdown",
      "metadata": {
        "id": "dQF0VVsWLjZQ"
      },
      "source": [
        "# Instrucciones detalladas para la actividad Lista Números – Escritura - Lectura:"
      ]
    },
    {
      "cell_type": "markdown",
      "metadata": {
        "id": "J_Fk1Y_WLjZR"
      },
      "source": [
        "1.  Crea una lista llamada numeros que contenga los números del `1 al 10`."
      ]
    },
    {
      "cell_type": "code",
      "execution_count": null,
      "metadata": {
        "id": "HpUhyu3nLjZR",
        "outputId": "822069e3-ef09-428b-ed4a-b386f29507c5"
      },
      "outputs": [
        {
          "name": "stdout",
          "output_type": "stream",
          "text": [
            "[1, 2, 3, 4, 5, 6, 7, 8, 9, 10]\n"
          ]
        }
      ],
      "source": [
        "# Creamos la lista\n",
        "numeros=[1, 2, 3, 4, 5, 6, 7, 8, 9, 10]\n",
        "print(numeros)"
      ]
    },
    {
      "cell_type": "markdown",
      "metadata": {
        "id": "LlreX475LjZR"
      },
      "source": [
        "2. Agrega los números del 11 al 15 a la lista utilizando el método **extend()**.\n",
        "\n",
        "> Imprime la lista en la pantalla para verificar que contiene todos los números."
      ]
    },
    {
      "cell_type": "code",
      "execution_count": null,
      "metadata": {
        "id": "uBQhFCIRLjZR",
        "outputId": "39b61672-2a7d-47c5-e6b6-72ded82e092e"
      },
      "outputs": [
        {
          "name": "stdout",
          "output_type": "stream",
          "text": [
            "[1, 2, 3, 4, 5, 6, 7, 8, 9, 10, 11, 12, 13, 14, 15]\n"
          ]
        }
      ],
      "source": [
        "# Agregamos los elementos a la lista\n",
        "numeros=[1, 2, 3, 4, 5, 6, 7, 8, 9, 10]\n",
        "numeros1=[11, 12, 13, 14, 15]\n",
        "numeros.extend(numeros1)\n",
        "print(numeros)"
      ]
    },
    {
      "cell_type": "markdown",
      "metadata": {
        "id": "JWgp0NMQLjZR"
      },
      "source": [
        "3.\tUtiliza el método **append()** para agregar el número 16 al final de la lista.\n",
        "\n",
        "> Imprime la lista en la pantalla para verificar que contiene todos los números."
      ]
    },
    {
      "cell_type": "code",
      "execution_count": null,
      "metadata": {
        "id": "3v76ZWi1LjZR",
        "outputId": "14cc245c-4b61-4725-df0c-0209523893a9"
      },
      "outputs": [
        {
          "name": "stdout",
          "output_type": "stream",
          "text": [
            "[1, 2, 3, 4, 5, 6, 7, 8, 9, 10, 11, 12, 13, 14, 15, 16]\n"
          ]
        }
      ],
      "source": [
        "#append()\n",
        "numeros.append(16)\n",
        "print(numeros)"
      ]
    },
    {
      "cell_type": "markdown",
      "metadata": {
        "id": "yCQMj7ubLjZR"
      },
      "source": [
        "4.\tUtiliza el método **insert()** para agregar el número 0 al principio de la lista.\n",
        "> Imprime la lista en la pantalla de nuevo para verificar que contiene el número 0 al principio y el número 16 al final."
      ]
    },
    {
      "cell_type": "code",
      "execution_count": null,
      "metadata": {
        "id": "F1jJ6rHMLjZS",
        "outputId": "0230b414-993b-4e75-db44-0dcbbc165789"
      },
      "outputs": [
        {
          "name": "stdout",
          "output_type": "stream",
          "text": [
            "[0, 1, 2, 3, 4, 5, 6, 7, 8, 9, 10, 11, 12, 13, 14, 15, 16]\n"
          ]
        }
      ],
      "source": [
        "#insert()\n",
        "numeros.insert(0, 0)\n",
        "print(numeros)"
      ]
    },
    {
      "cell_type": "markdown",
      "metadata": {
        "id": "iRVC76WQLjZS"
      },
      "source": [
        "5.\tUtiliza el método remove() para eliminar el número 5 de la lista."
      ]
    },
    {
      "cell_type": "code",
      "execution_count": null,
      "metadata": {
        "id": "SF9_miq3LjZS",
        "outputId": "13f416d9-86d1-4696-dbc3-9847d91d4f59"
      },
      "outputs": [
        {
          "name": "stdout",
          "output_type": "stream",
          "text": [
            "[0, 1, 2, 3, 4, 6, 7, 8, 9, 10, 11, 12, 13, 14, 15, 16]\n"
          ]
        }
      ],
      "source": [
        "# remove()\n",
        "numeros.remove(5)\n",
        "print(numeros)"
      ]
    },
    {
      "cell_type": "markdown",
      "metadata": {
        "id": "fTGKSr_-LjZS"
      },
      "source": [
        "6.\tUtiliza el método pop() para eliminar el último número de la lista y almacenarlo en una variable llamada ultimo_numero."
      ]
    },
    {
      "cell_type": "code",
      "execution_count": null,
      "metadata": {
        "id": "YohurxWHLjZS",
        "outputId": "27642823-1784-42c8-e2e7-3e3e472ddb13"
      },
      "outputs": [
        {
          "name": "stdout",
          "output_type": "stream",
          "text": [
            "[0, 1, 2, 3, 4, 6, 7, 8, 9, 10, 11, 12, 13, 14, 15]\n",
            "16\n"
          ]
        }
      ],
      "source": [
        "# pop()\n",
        "ultimo_numero=numeros.pop(-1)\n",
        "print(numeros)\n",
        "print(ultimo_numero)"
      ]
    },
    {
      "cell_type": "markdown",
      "metadata": {
        "id": "fNfvVasGLjZS"
      },
      "source": [
        "7.\tCrea un archivo llamado numeros.txt en modo escritura utilizando la función open()."
      ]
    },
    {
      "cell_type": "code",
      "execution_count": null,
      "metadata": {
        "id": "QOJXspO4LjZS"
      },
      "outputs": [],
      "source": [
        "f= open(\"numeros.txt\", \"x\")"
      ]
    },
    {
      "cell_type": "markdown",
      "metadata": {
        "id": "ykAqJub_LjZS"
      },
      "source": [
        "8.\tUtiliza un bucle for para escribir cada número de la lista en una línea separada en el archivo utilizando el método write()."
      ]
    },
    {
      "cell_type": "code",
      "execution_count": null,
      "metadata": {
        "id": "iEx78JSHLjZS",
        "outputId": "425af28a-59a1-4e47-96c4-da179b43cc69"
      },
      "outputs": [
        {
          "name": "stdout",
          "output_type": "stream",
          "text": [
            "0\n",
            "1\n",
            "2\n",
            "3\n",
            "4\n",
            "6\n",
            "7\n",
            "8\n",
            "9\n",
            "10\n",
            "11\n",
            "12\n",
            "13\n",
            "14\n",
            "15\n"
          ]
        }
      ],
      "source": [
        "for caracter in numeros:\n",
        "    print(caracter)"
      ]
    },
    {
      "cell_type": "markdown",
      "metadata": {
        "id": "Jdenri0oLjZS"
      },
      "source": [
        "9.\tCierra el archivo utilizando el método close()."
      ]
    },
    {
      "cell_type": "code",
      "execution_count": null,
      "metadata": {
        "id": "m_auVuMZLjZT"
      },
      "outputs": [],
      "source": [
        "f.close()"
      ]
    },
    {
      "cell_type": "markdown",
      "metadata": {
        "id": "z8Thwm1RLjZT"
      },
      "source": [
        "10.\tAbre el archivo en modo lectura utilizando la función open() y lee el contenido utilizando el método read()."
      ]
    },
    {
      "cell_type": "code",
      "execution_count": null,
      "metadata": {
        "id": "iLMDwLRpLjZT"
      },
      "outputs": [],
      "source": [
        "archivo = open(\"numeros.txt\",'r')"
      ]
    },
    {
      "cell_type": "markdown",
      "metadata": {
        "id": "Ax_DuHXPLjZT"
      },
      "source": [
        "11.\tImprime el contenido del archivo en la pantalla utilizando la función print()."
      ]
    },
    {
      "cell_type": "code",
      "execution_count": null,
      "metadata": {
        "id": "lyC_EL2BLjZT",
        "outputId": "a91980a2-5f28-46b8-a26c-dfa440f1e308"
      },
      "outputs": [
        {
          "name": "stdout",
          "output_type": "stream",
          "text": [
            "\n"
          ]
        }
      ],
      "source": [
        "print(archivo.read())"
      ]
    },
    {
      "cell_type": "markdown",
      "metadata": {
        "id": "XH8pC2XZLjZT"
      },
      "source": [
        "## Pasos Finales\n",
        "1. Sube tu código a GitHub o a cualquier otra plataforma de alojamiento de código.\n",
        "2. Toma capturas de pantalla de la ejecución del código, mostrando los resultados de cada paso y adjuntelos al informe."
      ]
    }
  ],
  "metadata": {
    "interpreter": {
      "hash": "b8bdd4e700647ba2b08c59e5df8b7da1dcf50a218bcd4c1bcd9b3dc92e8788e5"
    },
    "kernelspec": {
      "display_name": "Python 3.9.1 64-bit",
      "name": "python3"
    },
    "language_info": {
      "codemirror_mode": {
        "name": "ipython",
        "version": 3
      },
      "file_extension": ".py",
      "mimetype": "text/x-python",
      "name": "python",
      "nbconvert_exporter": "python",
      "pygments_lexer": "ipython3",
      "version": "3.12.2"
    },
    "nteract": {
      "version": "nteract-front-end@1.0.0"
    },
    "colab": {
      "provenance": [],
      "include_colab_link": true
    }
  },
  "nbformat": 4,
  "nbformat_minor": 0
}